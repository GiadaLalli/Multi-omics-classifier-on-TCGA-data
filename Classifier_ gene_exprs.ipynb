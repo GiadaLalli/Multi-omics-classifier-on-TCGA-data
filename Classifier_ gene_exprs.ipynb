{
 "cells": [
  {
   "cell_type": "code",
   "execution_count": 1,
   "metadata": {},
   "outputs": [],
   "source": [
    "#Import Libraries\n",
    "import subprocess\n",
    "import re\n",
    "import pandas as pd\n",
    "import os\n",
    "import collections\n",
    "import scipy.stats\n",
    "import numpy as np\n",
    "import scipy\n",
    "import csv\n",
    "import math\n",
    "import seaborn as sns\n",
    "\n",
    "from functools import reduce\n",
    "from tqdm import tqdm\n",
    "from matplotlib import pyplot as plt\n",
    "%matplotlib inline\n",
    "from pandas.tools.plotting import table\n",
    "from scipy import interp\n",
    "from sklearn import svm\n",
    "from sklearn.svm import SVC\n",
    "from sklearn.datasets import make_blobs, make_classification\n",
    "\n",
    "\n",
    "from sklearn.feature_selection import SelectKBest, chi2, VarianceThreshold\n",
    "from sklearn.model_selection import RepeatedStratifiedKFold, StratifiedKFold, GridSearchCV, LeaveOneOut, train_test_split, StratifiedShuffleSplit\n",
    "from sklearn.metrics import accuracy_score, precision_score, recall_score, confusion_matrix, auc, roc_curve, precision_recall_curve, f1_score, classification_report\n",
    "from sklearn.preprocessing import StandardScaler, MinMaxScaler\n",
    "from sklearn.ensemble import RandomForestClassifier, AdaBoostClassifier, ExtraTreesClassifier\n",
    "from sklearn.linear_model import LogisticRegression\n",
    "from sklearn.neighbors import KNeighborsClassifier  \n",
    "from sklearn.tree import DecisionTreeClassifier\n",
    "from sklearn.utils.multiclass import unique_labels\n",
    "from sklearn.decomposition import PCA\n",
    "from sklearn.manifold import TSNE\n",
    "from mpl_toolkits.mplot3d import Axes3D"
   ]
  },
  {
   "cell_type": "markdown",
   "metadata": {},
   "source": [
    "## Gene_Exprs, in particular PC"
   ]
  },
  {
   "cell_type": "code",
   "execution_count": 2,
   "metadata": {},
   "outputs": [],
   "source": [
    "dset=pd.read_csv (\"clintab_GMQL/gencode.gene.info.v22.tsv\", delimiter='\\t')\n",
    "gruppo=dset.groupby(['gene_type'])\n",
    "proteingroup=gruppo.get_group('protein_coding')\n",
    "lista1=set(proteingroup['gene_id'])\n",
    "#len(proteingroup)"
   ]
  },
  {
   "cell_type": "code",
   "execution_count": 3,
   "metadata": {},
   "outputs": [],
   "source": [
    "dset_rna_res=pd.read_csv(\"clintab_GMQL/gene_exprs/res/res_new.csv\", delimiter='\\t')\n",
    "dset_rna_senl=pd.read_csv(\"clintab_GMQL/gene_exprs/sl_32/sl_new.csv\", delimiter='\\t')\n",
    "dset_rna_sens=pd.read_csv(\"clintab_GMQL/gene_exprs/ss_32/ss_new.csv\", delimiter='\\t')"
   ]
  },
  {
   "cell_type": "raw",
   "metadata": {},
   "source": [
    "dset_rna_res[dset_rna_res['patient'] == 'R_00000']"
   ]
  },
  {
   "cell_type": "code",
   "execution_count": 8,
   "metadata": {},
   "outputs": [
    {
     "data": {
      "text/plain": [
       "list"
      ]
     },
     "execution_count": 8,
     "metadata": {},
     "output_type": "execute_result"
    }
   ],
   "source": [
    "lista=['ADAM12','BCCIP','BID','BLM','BMPR1B','CA9','CTBP2','CUZD1','DLL1','ELAVL1','FGFR2','FURIN',\n",
    "       'GHSR','HTRA1','IQGAP1','PARK2','RECK','RNASET2','STOML2','TNFSF10','TPM2','UNC45A','UNC93A','URI1']\n",
    "type(lista)"
   ]
  },
  {
   "cell_type": "code",
   "execution_count": 12,
   "metadata": {},
   "outputs": [
    {
     "data": {
      "text/html": [
       "<div>\n",
       "<style scoped>\n",
       "    .dataframe tbody tr th:only-of-type {\n",
       "        vertical-align: middle;\n",
       "    }\n",
       "\n",
       "    .dataframe tbody tr th {\n",
       "        vertical-align: top;\n",
       "    }\n",
       "\n",
       "    .dataframe thead th {\n",
       "        text-align: right;\n",
       "    }\n",
       "</style>\n",
       "<table border=\"1\" class=\"dataframe\">\n",
       "  <thead>\n",
       "    <tr style=\"text-align: right;\">\n",
       "      <th></th>\n",
       "      <th>patient</th>\n",
       "      <th>chrom</th>\n",
       "      <th>start</th>\n",
       "      <th>stop</th>\n",
       "      <th>ensemble_id</th>\n",
       "      <th>entrez_id</th>\n",
       "      <th>gene_symbol</th>\n",
       "      <th>fpkm_uq</th>\n",
       "      <th>fpkm</th>\n",
       "    </tr>\n",
       "  </thead>\n",
       "  <tbody>\n",
       "    <tr>\n",
       "      <th>12204</th>\n",
       "      <td>R_00000</td>\n",
       "      <td>chr3</td>\n",
       "      <td>172445132</td>\n",
       "      <td>172448456</td>\n",
       "      <td>ENSG00000121853.3</td>\n",
       "      <td>2693.0</td>\n",
       "      <td>GHSR</td>\n",
       "      <td>0.000000e+00</td>\n",
       "      <td>0.000000</td>\n",
       "    </tr>\n",
       "    <tr>\n",
       "      <th>12205</th>\n",
       "      <td>R_00000</td>\n",
       "      <td>chr3</td>\n",
       "      <td>172505507</td>\n",
       "      <td>172523507</td>\n",
       "      <td>ENSG00000121858.9</td>\n",
       "      <td>8743.0</td>\n",
       "      <td>TNFSF10</td>\n",
       "      <td>3.172900e+05</td>\n",
       "      <td>12.302505</td>\n",
       "    </tr>\n",
       "    <tr>\n",
       "      <th>14091</th>\n",
       "      <td>R_00000</td>\n",
       "      <td>chr4</td>\n",
       "      <td>94757967</td>\n",
       "      <td>95158448</td>\n",
       "      <td>ENSG00000138696.9</td>\n",
       "      <td>658.0</td>\n",
       "      <td>BMPR1B</td>\n",
       "      <td>1.701562e+05</td>\n",
       "      <td>6.597585</td>\n",
       "    </tr>\n",
       "    <tr>\n",
       "      <th>21203</th>\n",
       "      <td>R_00000</td>\n",
       "      <td>chr6</td>\n",
       "      <td>161347419</td>\n",
       "      <td>162727771</td>\n",
       "      <td>ENSG00000185345.17</td>\n",
       "      <td>5071.0</td>\n",
       "      <td>PARK2</td>\n",
       "      <td>4.771713e+03</td>\n",
       "      <td>0.185017</td>\n",
       "    </tr>\n",
       "    <tr>\n",
       "      <th>21254</th>\n",
       "      <td>R_00000</td>\n",
       "      <td>chr6</td>\n",
       "      <td>166929503</td>\n",
       "      <td>166957191</td>\n",
       "      <td>ENSG00000026297.14</td>\n",
       "      <td>8635.0</td>\n",
       "      <td>RNASET2</td>\n",
       "      <td>4.611639e+05</td>\n",
       "      <td>17.881028</td>\n",
       "    </tr>\n",
       "    <tr>\n",
       "      <th>21266</th>\n",
       "      <td>R_00000</td>\n",
       "      <td>chr6</td>\n",
       "      <td>167271168</td>\n",
       "      <td>167316019</td>\n",
       "      <td>ENSG00000112494.8</td>\n",
       "      <td>54346.0</td>\n",
       "      <td>UNC93A</td>\n",
       "      <td>4.811787e+03</td>\n",
       "      <td>0.186571</td>\n",
       "    </tr>\n",
       "    <tr>\n",
       "      <th>21322</th>\n",
       "      <td>R_00000</td>\n",
       "      <td>chr6</td>\n",
       "      <td>170282205</td>\n",
       "      <td>170306565</td>\n",
       "      <td>ENSG00000198719.8</td>\n",
       "      <td>28514.0</td>\n",
       "      <td>DLL1</td>\n",
       "      <td>1.851837e+04</td>\n",
       "      <td>0.718026</td>\n",
       "    </tr>\n",
       "    <tr>\n",
       "      <th>27285</th>\n",
       "      <td>R_00000</td>\n",
       "      <td>chr9</td>\n",
       "      <td>35099775</td>\n",
       "      <td>35103195</td>\n",
       "      <td>ENSG00000165283.14</td>\n",
       "      <td>30968.0</td>\n",
       "      <td>STOML2</td>\n",
       "      <td>1.478477e+06</td>\n",
       "      <td>57.326029</td>\n",
       "    </tr>\n",
       "    <tr>\n",
       "      <th>27307</th>\n",
       "      <td>R_00000</td>\n",
       "      <td>chr9</td>\n",
       "      <td>35673855</td>\n",
       "      <td>35681159</td>\n",
       "      <td>ENSG00000107159.11</td>\n",
       "      <td>768.0</td>\n",
       "      <td>CA9</td>\n",
       "      <td>1.940275e+05</td>\n",
       "      <td>7.523165</td>\n",
       "    </tr>\n",
       "    <tr>\n",
       "      <th>27308</th>\n",
       "      <td>R_00000</td>\n",
       "      <td>chr9</td>\n",
       "      <td>35681991</td>\n",
       "      <td>35691020</td>\n",
       "      <td>ENSG00000198467.12</td>\n",
       "      <td>7169.0</td>\n",
       "      <td>TPM2</td>\n",
       "      <td>1.651215e+06</td>\n",
       "      <td>64.023715</td>\n",
       "    </tr>\n",
       "    <tr>\n",
       "      <th>27339</th>\n",
       "      <td>R_00000</td>\n",
       "      <td>chr9</td>\n",
       "      <td>36036432</td>\n",
       "      <td>36124451</td>\n",
       "      <td>ENSG00000122707.10</td>\n",
       "      <td>8434.0</td>\n",
       "      <td>RECK</td>\n",
       "      <td>2.588809e+04</td>\n",
       "      <td>1.003777</td>\n",
       "    </tr>\n",
       "    <tr>\n",
       "      <th>31186</th>\n",
       "      <td>R_00000</td>\n",
       "      <td>chr10</td>\n",
       "      <td>121478333</td>\n",
       "      <td>121598458</td>\n",
       "      <td>ENSG00000066468.19</td>\n",
       "      <td>2263.0</td>\n",
       "      <td>FGFR2</td>\n",
       "      <td>2.901520e+05</td>\n",
       "      <td>11.250266</td>\n",
       "    </tr>\n",
       "    <tr>\n",
       "      <th>31203</th>\n",
       "      <td>R_00000</td>\n",
       "      <td>chr10</td>\n",
       "      <td>122461524</td>\n",
       "      <td>122514908</td>\n",
       "      <td>ENSG00000166033.10</td>\n",
       "      <td>5654.0</td>\n",
       "      <td>HTRA1</td>\n",
       "      <td>2.131524e+06</td>\n",
       "      <td>82.647073</td>\n",
       "    </tr>\n",
       "    <tr>\n",
       "      <th>31209</th>\n",
       "      <td>R_00000</td>\n",
       "      <td>chr10</td>\n",
       "      <td>122832148</td>\n",
       "      <td>122850793</td>\n",
       "      <td>ENSG00000138161.11</td>\n",
       "      <td>50624.0</td>\n",
       "      <td>CUZD1</td>\n",
       "      <td>1.593384e+04</td>\n",
       "      <td>0.617814</td>\n",
       "    </tr>\n",
       "    <tr>\n",
       "      <th>31251</th>\n",
       "      <td>R_00000</td>\n",
       "      <td>chr10</td>\n",
       "      <td>124984316</td>\n",
       "      <td>125161170</td>\n",
       "      <td>ENSG00000175029.15</td>\n",
       "      <td>1488.0</td>\n",
       "      <td>CTBP2</td>\n",
       "      <td>3.424723e+05</td>\n",
       "      <td>13.278916</td>\n",
       "    </tr>\n",
       "    <tr>\n",
       "      <th>31269</th>\n",
       "      <td>R_00000</td>\n",
       "      <td>chr10</td>\n",
       "      <td>125823545</td>\n",
       "      <td>125853695</td>\n",
       "      <td>ENSG00000107949.15</td>\n",
       "      <td>56647.0</td>\n",
       "      <td>BCCIP</td>\n",
       "      <td>3.919491e+05</td>\n",
       "      <td>15.197316</td>\n",
       "    </tr>\n",
       "    <tr>\n",
       "      <th>31277</th>\n",
       "      <td>R_00000</td>\n",
       "      <td>chr10</td>\n",
       "      <td>126012380</td>\n",
       "      <td>126388455</td>\n",
       "      <td>ENSG00000148848.13</td>\n",
       "      <td>8038.0</td>\n",
       "      <td>ADAM12</td>\n",
       "      <td>3.576039e+04</td>\n",
       "      <td>1.386562</td>\n",
       "    </tr>\n",
       "    <tr>\n",
       "      <th>43504</th>\n",
       "      <td>R_00000</td>\n",
       "      <td>chr15</td>\n",
       "      <td>90388217</td>\n",
       "      <td>90502243</td>\n",
       "      <td>ENSG00000140575.11</td>\n",
       "      <td>8826.0</td>\n",
       "      <td>IQGAP1</td>\n",
       "      <td>5.452239e+05</td>\n",
       "      <td>21.140347</td>\n",
       "    </tr>\n",
       "    <tr>\n",
       "      <th>43513</th>\n",
       "      <td>R_00000</td>\n",
       "      <td>chr15</td>\n",
       "      <td>90717326</td>\n",
       "      <td>90816165</td>\n",
       "      <td>ENSG00000197299.9</td>\n",
       "      <td>641.0</td>\n",
       "      <td>BLM</td>\n",
       "      <td>4.381209e+04</td>\n",
       "      <td>1.698757</td>\n",
       "    </tr>\n",
       "    <tr>\n",
       "      <th>43517</th>\n",
       "      <td>R_00000</td>\n",
       "      <td>chr15</td>\n",
       "      <td>90868591</td>\n",
       "      <td>90883458</td>\n",
       "      <td>ENSG00000140564.9</td>\n",
       "      <td>5045.0</td>\n",
       "      <td>FURIN</td>\n",
       "      <td>4.085910e+05</td>\n",
       "      <td>15.842583</td>\n",
       "    </tr>\n",
       "    <tr>\n",
       "      <th>43522</th>\n",
       "      <td>R_00000</td>\n",
       "      <td>chr15</td>\n",
       "      <td>90930179</td>\n",
       "      <td>90954093</td>\n",
       "      <td>ENSG00000140553.15</td>\n",
       "      <td>55898.0</td>\n",
       "      <td>UNC45A</td>\n",
       "      <td>1.261808e+05</td>\n",
       "      <td>4.892498</td>\n",
       "    </tr>\n",
       "    <tr>\n",
       "      <th>51108</th>\n",
       "      <td>R_00000</td>\n",
       "      <td>chr19</td>\n",
       "      <td>7958578</td>\n",
       "      <td>8445041</td>\n",
       "      <td>ENSG00000066044.12</td>\n",
       "      <td>1994.0</td>\n",
       "      <td>ELAVL1</td>\n",
       "      <td>8.734929e+05</td>\n",
       "      <td>33.868551</td>\n",
       "    </tr>\n",
       "    <tr>\n",
       "      <th>52028</th>\n",
       "      <td>R_00000</td>\n",
       "      <td>chr19</td>\n",
       "      <td>29923643</td>\n",
       "      <td>30016608</td>\n",
       "      <td>ENSG00000105176.16</td>\n",
       "      <td>8725.0</td>\n",
       "      <td>URI1</td>\n",
       "      <td>1.610466e+06</td>\n",
       "      <td>62.443726</td>\n",
       "    </tr>\n",
       "    <tr>\n",
       "      <th>56106</th>\n",
       "      <td>R_00000</td>\n",
       "      <td>chr22</td>\n",
       "      <td>17734137</td>\n",
       "      <td>17774770</td>\n",
       "      <td>ENSG00000015475.17</td>\n",
       "      <td>637.0</td>\n",
       "      <td>BID</td>\n",
       "      <td>1.863633e+05</td>\n",
       "      <td>7.225996</td>\n",
       "    </tr>\n",
       "    <tr>\n",
       "      <th>72687</th>\n",
       "      <td>R_00001</td>\n",
       "      <td>chr3</td>\n",
       "      <td>172445132</td>\n",
       "      <td>172448456</td>\n",
       "      <td>ENSG00000121853.3</td>\n",
       "      <td>2693.0</td>\n",
       "      <td>GHSR</td>\n",
       "      <td>0.000000e+00</td>\n",
       "      <td>0.000000</td>\n",
       "    </tr>\n",
       "  </tbody>\n",
       "</table>\n",
       "</div>"
      ],
      "text/plain": [
       "       patient  chrom      start       stop         ensemble_id  entrez_id  \\\n",
       "12204  R_00000   chr3  172445132  172448456   ENSG00000121853.3     2693.0   \n",
       "12205  R_00000   chr3  172505507  172523507   ENSG00000121858.9     8743.0   \n",
       "14091  R_00000   chr4   94757967   95158448   ENSG00000138696.9      658.0   \n",
       "21203  R_00000   chr6  161347419  162727771  ENSG00000185345.17     5071.0   \n",
       "21254  R_00000   chr6  166929503  166957191  ENSG00000026297.14     8635.0   \n",
       "21266  R_00000   chr6  167271168  167316019   ENSG00000112494.8    54346.0   \n",
       "21322  R_00000   chr6  170282205  170306565   ENSG00000198719.8    28514.0   \n",
       "27285  R_00000   chr9   35099775   35103195  ENSG00000165283.14    30968.0   \n",
       "27307  R_00000   chr9   35673855   35681159  ENSG00000107159.11      768.0   \n",
       "27308  R_00000   chr9   35681991   35691020  ENSG00000198467.12     7169.0   \n",
       "27339  R_00000   chr9   36036432   36124451  ENSG00000122707.10     8434.0   \n",
       "31186  R_00000  chr10  121478333  121598458  ENSG00000066468.19     2263.0   \n",
       "31203  R_00000  chr10  122461524  122514908  ENSG00000166033.10     5654.0   \n",
       "31209  R_00000  chr10  122832148  122850793  ENSG00000138161.11    50624.0   \n",
       "31251  R_00000  chr10  124984316  125161170  ENSG00000175029.15     1488.0   \n",
       "31269  R_00000  chr10  125823545  125853695  ENSG00000107949.15    56647.0   \n",
       "31277  R_00000  chr10  126012380  126388455  ENSG00000148848.13     8038.0   \n",
       "43504  R_00000  chr15   90388217   90502243  ENSG00000140575.11     8826.0   \n",
       "43513  R_00000  chr15   90717326   90816165   ENSG00000197299.9      641.0   \n",
       "43517  R_00000  chr15   90868591   90883458   ENSG00000140564.9     5045.0   \n",
       "43522  R_00000  chr15   90930179   90954093  ENSG00000140553.15    55898.0   \n",
       "51108  R_00000  chr19    7958578    8445041  ENSG00000066044.12     1994.0   \n",
       "52028  R_00000  chr19   29923643   30016608  ENSG00000105176.16     8725.0   \n",
       "56106  R_00000  chr22   17734137   17774770  ENSG00000015475.17      637.0   \n",
       "72687  R_00001   chr3  172445132  172448456   ENSG00000121853.3     2693.0   \n",
       "\n",
       "      gene_symbol       fpkm_uq       fpkm  \n",
       "12204        GHSR  0.000000e+00   0.000000  \n",
       "12205     TNFSF10  3.172900e+05  12.302505  \n",
       "14091      BMPR1B  1.701562e+05   6.597585  \n",
       "21203       PARK2  4.771713e+03   0.185017  \n",
       "21254     RNASET2  4.611639e+05  17.881028  \n",
       "21266      UNC93A  4.811787e+03   0.186571  \n",
       "21322        DLL1  1.851837e+04   0.718026  \n",
       "27285      STOML2  1.478477e+06  57.326029  \n",
       "27307         CA9  1.940275e+05   7.523165  \n",
       "27308        TPM2  1.651215e+06  64.023715  \n",
       "27339        RECK  2.588809e+04   1.003777  \n",
       "31186       FGFR2  2.901520e+05  11.250266  \n",
       "31203       HTRA1  2.131524e+06  82.647073  \n",
       "31209       CUZD1  1.593384e+04   0.617814  \n",
       "31251       CTBP2  3.424723e+05  13.278916  \n",
       "31269       BCCIP  3.919491e+05  15.197316  \n",
       "31277      ADAM12  3.576039e+04   1.386562  \n",
       "43504      IQGAP1  5.452239e+05  21.140347  \n",
       "43513         BLM  4.381209e+04   1.698757  \n",
       "43517       FURIN  4.085910e+05  15.842583  \n",
       "43522      UNC45A  1.261808e+05   4.892498  \n",
       "51108      ELAVL1  8.734929e+05  33.868551  \n",
       "52028        URI1  1.610466e+06  62.443726  \n",
       "56106         BID  1.863633e+05   7.225996  \n",
       "72687        GHSR  0.000000e+00   0.000000  "
      ]
     },
     "execution_count": 12,
     "metadata": {},
     "output_type": "execute_result"
    }
   ],
   "source": [
    "dset_res = dset_rna_res[dset_rna_res.ensemble_id.isin(lista1)]\n",
    "protein_coding_res=pd.DataFrame(dset_res)\n",
    "protein_coding_res['genes'] = protein_coding_res['ensemble_id']+'-'+ protein_coding_res['gene_symbol']\n",
    "#protein_coding_res.head()\n",
    "#protein_coding_res[protein_coding_res['patient'] == 'R_00000']"
   ]
  },
  {
   "cell_type": "code",
   "execution_count": 5,
   "metadata": {},
   "outputs": [],
   "source": [
    "dset_senl = dset_rna_senl[dset_rna_senl.ensemble_id.isin(lista1)]\n",
    "protein_coding_senl=pd.DataFrame(dset_senl)\n",
    "protein_coding_senl['genes'] = protein_coding_senl['ensemble_id']+'-'+ protein_coding_senl['gene_symbol']"
   ]
  },
  {
   "cell_type": "code",
   "execution_count": 6,
   "metadata": {},
   "outputs": [],
   "source": [
    "dset_sens = dset_rna_sens[dset_rna_sens.ensemble_id.isin(lista1)]\n",
    "protein_coding_sens=pd.DataFrame(dset_sens)\n",
    "protein_coding_sens['genes'] = protein_coding_sens['ensemble_id']+'-'+ protein_coding_sens['gene_symbol']\n",
    "#protein_coding_sens.head()"
   ]
  },
  {
   "cell_type": "code",
   "execution_count": 7,
   "metadata": {},
   "outputs": [],
   "source": [
    "resdf=protein_coding_res.pivot(index=\"patient\", columns=\"genes\", values=\"fpkm\")\n",
    "genes = resdf.columns.tolist()\n",
    "#resdf.head()\n",
    "#resdf.shape"
   ]
  },
  {
   "cell_type": "code",
   "execution_count": 44,
   "metadata": {},
   "outputs": [],
   "source": [
    "senldf=protein_coding_senl.pivot(index=\"patient\", columns=\"genes\", values=\"fpkm\")\n",
    "senldf = senldf[genes]\n",
    "#senldf.head()\n",
    "#senldf.shape"
   ]
  },
  {
   "cell_type": "code",
   "execution_count": 45,
   "metadata": {},
   "outputs": [],
   "source": [
    "sensdf=protein_coding_sens.pivot(index=\"patient\", columns=\"genes\", values=\"fpkm\")\n",
    "sensdf = sensdf[genes]\n",
    "#sensdf.head()\n",
    "#sensdf.shape"
   ]
  },
  {
   "cell_type": "code",
   "execution_count": 46,
   "metadata": {},
   "outputs": [],
   "source": [
    "sendf=pd.concat([senldf, sensdf])"
   ]
  },
  {
   "cell_type": "code",
   "execution_count": 30,
   "metadata": {},
   "outputs": [],
   "source": [
    "resdf_median = resdf.median(0)\n",
    "senldf_median = senldf.median(0)\n",
    "sensdf_median = sensdf.median(0)"
   ]
  },
  {
   "cell_type": "code",
   "execution_count": 47,
   "metadata": {},
   "outputs": [],
   "source": [
    "resdf_median = resdf.median(0)\n",
    "sendf_median = sendf.median(0)"
   ]
  },
  {
   "cell_type": "raw",
   "metadata": {},
   "source": [
    "resdf_median.shape"
   ]
  },
  {
   "cell_type": "raw",
   "metadata": {
    "scrolled": false
   },
   "source": [
    "print(len(resdf_median), len(senldf_median), len(sensdf_median))"
   ]
  },
  {
   "cell_type": "code",
   "execution_count": 48,
   "metadata": {
    "scrolled": true
   },
   "outputs": [
    {
     "name": "stderr",
     "output_type": "stream",
     "text": [
      "100%|██████████| 19814/19814 [00:08<00:00, 2357.18it/s]\n"
     ]
    },
    {
     "data": {
      "text/html": [
       "<div>\n",
       "<style scoped>\n",
       "    .dataframe tbody tr th:only-of-type {\n",
       "        vertical-align: middle;\n",
       "    }\n",
       "\n",
       "    .dataframe tbody tr th {\n",
       "        vertical-align: top;\n",
       "    }\n",
       "\n",
       "    .dataframe thead th {\n",
       "        text-align: right;\n",
       "    }\n",
       "</style>\n",
       "<table border=\"1\" class=\"dataframe\">\n",
       "  <thead>\n",
       "    <tr style=\"text-align: right;\">\n",
       "      <th></th>\n",
       "      <th>gene</th>\n",
       "      <th>resistant_median</th>\n",
       "      <th>sensitive_median</th>\n",
       "      <th>mannwhiteney_pvalue</th>\n",
       "    </tr>\n",
       "  </thead>\n",
       "  <tbody>\n",
       "    <tr>\n",
       "      <th>0</th>\n",
       "      <td>ENSG00000000003.13-TSPAN6</td>\n",
       "      <td>15.537437</td>\n",
       "      <td>16.955365</td>\n",
       "      <td>0.180650</td>\n",
       "    </tr>\n",
       "    <tr>\n",
       "      <th>1</th>\n",
       "      <td>ENSG00000000005.5-TNMD</td>\n",
       "      <td>0.038791</td>\n",
       "      <td>0.068842</td>\n",
       "      <td>0.030820</td>\n",
       "    </tr>\n",
       "    <tr>\n",
       "      <th>2</th>\n",
       "      <td>ENSG00000000419.11-DPM1</td>\n",
       "      <td>42.847159</td>\n",
       "      <td>42.284020</td>\n",
       "      <td>0.342092</td>\n",
       "    </tr>\n",
       "    <tr>\n",
       "      <th>3</th>\n",
       "      <td>ENSG00000000457.12-SCYL3</td>\n",
       "      <td>1.939755</td>\n",
       "      <td>2.002856</td>\n",
       "      <td>0.200821</td>\n",
       "    </tr>\n",
       "    <tr>\n",
       "      <th>4</th>\n",
       "      <td>ENSG00000000460.15-C1orf112</td>\n",
       "      <td>1.415162</td>\n",
       "      <td>1.655893</td>\n",
       "      <td>0.034242</td>\n",
       "    </tr>\n",
       "  </tbody>\n",
       "</table>\n",
       "</div>"
      ],
      "text/plain": [
       "                          gene  resistant_median  sensitive_median  \\\n",
       "0    ENSG00000000003.13-TSPAN6         15.537437         16.955365   \n",
       "1       ENSG00000000005.5-TNMD          0.038791          0.068842   \n",
       "2      ENSG00000000419.11-DPM1         42.847159         42.284020   \n",
       "3     ENSG00000000457.12-SCYL3          1.939755          2.002856   \n",
       "4  ENSG00000000460.15-C1orf112          1.415162          1.655893   \n",
       "\n",
       "   mannwhiteney_pvalue  \n",
       "0             0.180650  \n",
       "1             0.030820  \n",
       "2             0.342092  \n",
       "3             0.200821  \n",
       "4             0.034242  "
      ]
     },
     "execution_count": 48,
     "metadata": {},
     "output_type": "execute_result"
    }
   ],
   "source": [
    "pvalues = []\n",
    "for gene in tqdm(genes):\n",
    "    try:\n",
    "        gene_pvalue = scipy.stats.mannwhitneyu(sendf[gene],resdf[gene]).pvalue\n",
    "    except Exception:\n",
    "        gene_pvalue = 1\n",
    "       \n",
    "    pvalues.append(gene_pvalue)\n",
    "       \n",
    "pvalues = pd.DataFrame({\n",
    "    \"gene\": genes,\n",
    "    \"resistant_median\": resdf_median.values,\n",
    "    \"sensitive_median\": sendf_median.values,\n",
    "    #\"sensitive_long_median\": senldf_median.values,\n",
    "    #\"sensitive_short_median\": sensdf_median.values,\n",
    "    \"mannwhiteney_pvalue\": pvalues\n",
    "})\n",
    "\n",
    "pvalues.head()"
   ]
  },
  {
   "cell_type": "markdown",
   "metadata": {},
   "source": [
    "## Selection from p_value"
   ]
  },
  {
   "cell_type": "code",
   "execution_count": 22,
   "metadata": {},
   "outputs": [
    {
     "name": "stdout",
     "output_type": "stream",
     "text": [
      "26\n"
     ]
    }
   ],
   "source": [
    "threshold = 0.0005\n",
    "\n",
    "significant_genes = pvalues[(pvalues.mannwhiteney_pvalue < threshold)].copy()\n",
    "significant_genes = significant_genes.sort_values(\"mannwhiteney_pvalue\", ascending=True)\n",
    "print(significant_genes.shape[0])"
   ]
  },
  {
   "cell_type": "code",
   "execution_count": 23,
   "metadata": {},
   "outputs": [
    {
     "data": {
      "text/html": [
       "<div>\n",
       "<style scoped>\n",
       "    .dataframe tbody tr th:only-of-type {\n",
       "        vertical-align: middle;\n",
       "    }\n",
       "\n",
       "    .dataframe tbody tr th {\n",
       "        vertical-align: top;\n",
       "    }\n",
       "\n",
       "    .dataframe thead th {\n",
       "        text-align: right;\n",
       "    }\n",
       "</style>\n",
       "<table border=\"1\" class=\"dataframe\">\n",
       "  <thead>\n",
       "    <tr style=\"text-align: right;\">\n",
       "      <th></th>\n",
       "      <th>gene</th>\n",
       "      <th>resistant_median</th>\n",
       "      <th>sensitive_long_median</th>\n",
       "      <th>mannwhiteney_pvalue</th>\n",
       "      <th>gene_symbol</th>\n",
       "    </tr>\n",
       "  </thead>\n",
       "  <tbody>\n",
       "    <tr>\n",
       "      <th>1511</th>\n",
       "      <td>ENSG00000081026.17-MAGI3</td>\n",
       "      <td>2.004508</td>\n",
       "      <td>3.137310</td>\n",
       "      <td>0.000053</td>\n",
       "      <td>MAGI3</td>\n",
       "    </tr>\n",
       "    <tr>\n",
       "      <th>7361</th>\n",
       "      <td>ENSG00000137393.9-RNF144B</td>\n",
       "      <td>8.484803</td>\n",
       "      <td>15.532160</td>\n",
       "      <td>0.000065</td>\n",
       "      <td>RNF144B</td>\n",
       "    </tr>\n",
       "    <tr>\n",
       "      <th>6820</th>\n",
       "      <td>ENSG00000134504.11-KCTD1</td>\n",
       "      <td>6.369336</td>\n",
       "      <td>10.695657</td>\n",
       "      <td>0.000086</td>\n",
       "      <td>KCTD1</td>\n",
       "    </tr>\n",
       "    <tr>\n",
       "      <th>9336</th>\n",
       "      <td>ENSG00000151812.13-SLC35F4</td>\n",
       "      <td>0.005034</td>\n",
       "      <td>0.015873</td>\n",
       "      <td>0.000091</td>\n",
       "      <td>SLC35F4</td>\n",
       "    </tr>\n",
       "    <tr>\n",
       "      <th>7359</th>\n",
       "      <td>ENSG00000137364.4-TPMT</td>\n",
       "      <td>10.070143</td>\n",
       "      <td>13.108867</td>\n",
       "      <td>0.000117</td>\n",
       "      <td>TPMT</td>\n",
       "    </tr>\n",
       "  </tbody>\n",
       "</table>\n",
       "</div>"
      ],
      "text/plain": [
       "                            gene  resistant_median  sensitive_long_median  \\\n",
       "1511    ENSG00000081026.17-MAGI3          2.004508               3.137310   \n",
       "7361   ENSG00000137393.9-RNF144B          8.484803              15.532160   \n",
       "6820    ENSG00000134504.11-KCTD1          6.369336              10.695657   \n",
       "9336  ENSG00000151812.13-SLC35F4          0.005034               0.015873   \n",
       "7359      ENSG00000137364.4-TPMT         10.070143              13.108867   \n",
       "\n",
       "      mannwhiteney_pvalue gene_symbol  \n",
       "1511             0.000053       MAGI3  \n",
       "7361             0.000065     RNF144B  \n",
       "6820             0.000086       KCTD1  \n",
       "9336             0.000091     SLC35F4  \n",
       "7359             0.000117        TPMT  "
      ]
     },
     "execution_count": 23,
     "metadata": {},
     "output_type": "execute_result"
    }
   ],
   "source": [
    "names=[]\n",
    "\n",
    "for x in [\"-\".join(x.strip().split(\"-\")[1:])  for x in (significant_genes['gene'])]:\n",
    "    names.append(x)   \n",
    "    \n",
    "significant_genes['gene_symbol']=names\n",
    "significant_genes=pd.DataFrame(significant_genes)\n",
    "significant_genes.head()\n",
    "#significant_genes.to_csv('new_data/gene_exprs/SS_SL_last.csv', sep=',', header=True, index=False)\n",
    "#significant_genes.to_csv('new_data/gene_exprs/r_ss_pv2.csv', sep=',', header=True, index=False)\n",
    "#significant_genes.to_csv('new_data/gene_exprs/sl_ss_pv2.csv', sep=',', header=True, index=False)"
   ]
  },
  {
   "cell_type": "code",
   "execution_count": null,
   "metadata": {},
   "outputs": [],
   "source": [
    "lista=list(significant_genes['gene_symbol'])\n",
    "type(lista)"
   ]
  },
  {
   "cell_type": "code",
   "execution_count": null,
   "metadata": {},
   "outputs": [],
   "source": [
    "protein_coding_sens.head()"
   ]
  },
  {
   "cell_type": "code",
   "execution_count": null,
   "metadata": {},
   "outputs": [],
   "source": [
    "x = protein_coding_sens[protein_coding_sens.gene_symbol.isin(lista)]\n",
    "y=pd.DataFrame(x)\n",
    "y.to_csv('new_data/gene_exprs/R_SL_last.csv', sep=',', header=True, index=False)"
   ]
  },
  {
   "cell_type": "code",
   "execution_count": 24,
   "metadata": {},
   "outputs": [
    {
     "data": {
      "text/plain": [
       "1511      ENSG00000081026.17-MAGI3\n",
       "7361     ENSG00000137393.9-RNF144B\n",
       "6820      ENSG00000134504.11-KCTD1\n",
       "9336    ENSG00000151812.13-SLC35F4\n",
       "7359        ENSG00000137364.4-TPMT\n",
       "Name: gene, dtype: object"
      ]
     },
     "execution_count": 24,
     "metadata": {},
     "output_type": "execute_result"
    }
   ],
   "source": [
    "column=significant_genes['gene']\n",
    "column.head()"
   ]
  },
  {
   "cell_type": "raw",
   "metadata": {},
   "source": [
    "lista=column.values\n",
    "np.save(\"gene_exprs_sl_vs_res.npy\", lista)"
   ]
  },
  {
   "cell_type": "markdown",
   "metadata": {},
   "source": [
    "## Bonferroni, len(p_values)"
   ]
  },
  {
   "cell_type": "code",
   "execution_count": null,
   "metadata": {},
   "outputs": [],
   "source": [
    "p_value_corr =[]\n",
    "\n",
    "for index, value in tqdm(pvalues['gene'].iteritems()): \n",
    "        \n",
    "        somma=len(pvalues)\n",
    "        p_value=pvalues[pvalues['gene']==value]['mannwhiteney_pvalue'].iloc[0]\n",
    "        p_value_corr.append(somma*p_value)\n",
    "        #print(p_value_corr)\n",
    "print(len(p_value_corr))"
   ]
  },
  {
   "cell_type": "code",
   "execution_count": null,
   "metadata": {},
   "outputs": [],
   "source": [
    "id_name=[]\n",
    "gene_name=[]\n",
    "\n",
    "for x in [\"-\".join(x.strip().split(\"-\")[:1])  for x in (pvalues['gene'])]:\n",
    "    id_name.append(x)   \n",
    "for x in [\"-\".join(x.strip().split(\"-\")[1:])  for x in (pvalues['gene'])]:\n",
    "    gene_name.append(x) \n",
    "    \n",
    "pvalues['ensemble_id']=id_name\n",
    "pvalues['gene_symbol']=gene_name\n",
    "pvalues=pd.DataFrame(pvalues)"
   ]
  },
  {
   "cell_type": "code",
   "execution_count": null,
   "metadata": {},
   "outputs": [],
   "source": [
    "pvalues['p_value_corr']=p_value_corr\n",
    "#pvalues.head()"
   ]
  },
  {
   "cell_type": "code",
   "execution_count": null,
   "metadata": {},
   "outputs": [],
   "source": [
    "threshold = 0.05\n",
    "\n",
    "significant_genes_corr = pvalues[(pvalues.p_value_corr < threshold)].copy()\n",
    "significant_genes_corr = significant_genes_corr.sort_values(\"mannwhiteney_pvalue\", ascending=True)\n",
    "significant_genes_corr=pd.DataFrame(significant_genes_corr)\n",
    "print(significant_genes_corr.shape[0])\n",
    "significant_genes_corr.head()"
   ]
  },
  {
   "cell_type": "code",
   "execution_count": null,
   "metadata": {},
   "outputs": [],
   "source": [
    "column=significant_genes_corr['gene']\n",
    "column.head()"
   ]
  },
  {
   "cell_type": "markdown",
   "metadata": {},
   "source": [
    "## Bonferroni, len(patients)"
   ]
  },
  {
   "cell_type": "code",
   "execution_count": 49,
   "metadata": {},
   "outputs": [
    {
     "name": "stdout",
     "output_type": "stream",
     "text": [
      "352\n"
     ]
    }
   ],
   "source": [
    "threshold = 0.005\n",
    "\n",
    "significant_genes = pvalues[(pvalues.mannwhiteney_pvalue < threshold)].copy()\n",
    "significant_genes = significant_genes.sort_values(\"mannwhiteney_pvalue\", ascending=True)\n",
    "print(significant_genes.shape[0])"
   ]
  },
  {
   "cell_type": "code",
   "execution_count": 50,
   "metadata": {},
   "outputs": [
    {
     "data": {
      "text/html": [
       "<div>\n",
       "<style scoped>\n",
       "    .dataframe tbody tr th:only-of-type {\n",
       "        vertical-align: middle;\n",
       "    }\n",
       "\n",
       "    .dataframe tbody tr th {\n",
       "        vertical-align: top;\n",
       "    }\n",
       "\n",
       "    .dataframe thead th {\n",
       "        text-align: right;\n",
       "    }\n",
       "</style>\n",
       "<table border=\"1\" class=\"dataframe\">\n",
       "  <thead>\n",
       "    <tr style=\"text-align: right;\">\n",
       "      <th></th>\n",
       "      <th>gene</th>\n",
       "      <th>resistant_median</th>\n",
       "      <th>sensitive_median</th>\n",
       "      <th>mannwhiteney_pvalue</th>\n",
       "      <th>ensemble_id</th>\n",
       "      <th>gene_symbol</th>\n",
       "    </tr>\n",
       "  </thead>\n",
       "  <tbody>\n",
       "    <tr>\n",
       "      <th>2166</th>\n",
       "      <td>ENSG00000100084.13-HIRA</td>\n",
       "      <td>2.692785</td>\n",
       "      <td>3.473444</td>\n",
       "      <td>0.000015</td>\n",
       "      <td>ENSG00000100084.13</td>\n",
       "      <td>HIRA</td>\n",
       "    </tr>\n",
       "    <tr>\n",
       "      <th>9755</th>\n",
       "      <td>ENSG00000155660.9-PDIA4</td>\n",
       "      <td>74.589427</td>\n",
       "      <td>104.633680</td>\n",
       "      <td>0.000018</td>\n",
       "      <td>ENSG00000155660.9</td>\n",
       "      <td>PDIA4</td>\n",
       "    </tr>\n",
       "    <tr>\n",
       "      <th>13251</th>\n",
       "      <td>ENSG00000173335.4-CST9</td>\n",
       "      <td>0.012090</td>\n",
       "      <td>0.062734</td>\n",
       "      <td>0.000019</td>\n",
       "      <td>ENSG00000173335.4</td>\n",
       "      <td>CST9</td>\n",
       "    </tr>\n",
       "    <tr>\n",
       "      <th>603</th>\n",
       "      <td>ENSG00000044574.7-HSPA5</td>\n",
       "      <td>107.221321</td>\n",
       "      <td>141.533894</td>\n",
       "      <td>0.000040</td>\n",
       "      <td>ENSG00000044574.7</td>\n",
       "      <td>HSPA5</td>\n",
       "    </tr>\n",
       "    <tr>\n",
       "      <th>14675</th>\n",
       "      <td>ENSG00000182253.13-SYNM</td>\n",
       "      <td>0.305599</td>\n",
       "      <td>0.493554</td>\n",
       "      <td>0.000041</td>\n",
       "      <td>ENSG00000182253.13</td>\n",
       "      <td>SYNM</td>\n",
       "    </tr>\n",
       "  </tbody>\n",
       "</table>\n",
       "</div>"
      ],
      "text/plain": [
       "                          gene  resistant_median  sensitive_median  \\\n",
       "2166   ENSG00000100084.13-HIRA          2.692785          3.473444   \n",
       "9755   ENSG00000155660.9-PDIA4         74.589427        104.633680   \n",
       "13251   ENSG00000173335.4-CST9          0.012090          0.062734   \n",
       "603    ENSG00000044574.7-HSPA5        107.221321        141.533894   \n",
       "14675  ENSG00000182253.13-SYNM          0.305599          0.493554   \n",
       "\n",
       "       mannwhiteney_pvalue         ensemble_id gene_symbol  \n",
       "2166              0.000015  ENSG00000100084.13        HIRA  \n",
       "9755              0.000018   ENSG00000155660.9       PDIA4  \n",
       "13251             0.000019   ENSG00000173335.4        CST9  \n",
       "603               0.000040   ENSG00000044574.7       HSPA5  \n",
       "14675             0.000041  ENSG00000182253.13        SYNM  "
      ]
     },
     "execution_count": 50,
     "metadata": {},
     "output_type": "execute_result"
    }
   ],
   "source": [
    "id_name=[]\n",
    "gene_name=[]\n",
    "\n",
    "for x in [\"-\".join(x.strip().split(\"-\")[:1])  for x in (significant_genes['gene'])]:\n",
    "    id_name.append(x)   \n",
    "for x in [\"-\".join(x.strip().split(\"-\")[1:])  for x in (significant_genes['gene'])]:\n",
    "    gene_name.append(x) \n",
    "    \n",
    "significant_genes['ensemble_id']=id_name\n",
    "significant_genes['gene_symbol']=gene_name\n",
    "significant_genes=pd.DataFrame(significant_genes)\n",
    "significant_genes.head()"
   ]
  },
  {
   "cell_type": "code",
   "execution_count": 51,
   "metadata": {},
   "outputs": [],
   "source": [
    "n_res=len(protein_coding_res['patient'].unique())\n",
    "n_sens=len(protein_coding_sens['patient'].unique())\n",
    "n_senl=len(protein_coding_senl['patient'].unique())\n",
    "n_sen=n_sens+n_senl"
   ]
  },
  {
   "cell_type": "code",
   "execution_count": 52,
   "metadata": {},
   "outputs": [
    {
     "name": "stderr",
     "output_type": "stream",
     "text": [
      "352it [00:00, 409.74it/s]"
     ]
    },
    {
     "name": "stdout",
     "output_type": "stream",
     "text": [
      "352\n"
     ]
    },
    {
     "name": "stderr",
     "output_type": "stream",
     "text": [
      "\n"
     ]
    }
   ],
   "source": [
    "p_value_corr =[]\n",
    "\n",
    "for index, value in tqdm(significant_genes['gene'].iteritems()): \n",
    "        \n",
    "        somma=n_sen+n_res\n",
    "        #somma=n_res+n_sens\n",
    "        p_value=pvalues[pvalues['gene']==value]['mannwhiteney_pvalue'].iloc[0]\n",
    "        p_value_corr.append(somma*p_value)\n",
    "        #print(p_value_corr)\n",
    "print(len(p_value_corr))"
   ]
  },
  {
   "cell_type": "code",
   "execution_count": 53,
   "metadata": {},
   "outputs": [],
   "source": [
    "significant_genes['p_value_corr']=p_value_corr"
   ]
  },
  {
   "cell_type": "code",
   "execution_count": 54,
   "metadata": {},
   "outputs": [
    {
     "name": "stdout",
     "output_type": "stream",
     "text": [
      "20\n"
     ]
    },
    {
     "data": {
      "text/html": [
       "<div>\n",
       "<style scoped>\n",
       "    .dataframe tbody tr th:only-of-type {\n",
       "        vertical-align: middle;\n",
       "    }\n",
       "\n",
       "    .dataframe tbody tr th {\n",
       "        vertical-align: top;\n",
       "    }\n",
       "\n",
       "    .dataframe thead th {\n",
       "        text-align: right;\n",
       "    }\n",
       "</style>\n",
       "<table border=\"1\" class=\"dataframe\">\n",
       "  <thead>\n",
       "    <tr style=\"text-align: right;\">\n",
       "      <th></th>\n",
       "      <th>gene</th>\n",
       "      <th>resistant_median</th>\n",
       "      <th>sensitive_median</th>\n",
       "      <th>mannwhiteney_pvalue</th>\n",
       "      <th>ensemble_id</th>\n",
       "      <th>gene_symbol</th>\n",
       "      <th>p_value_corr</th>\n",
       "    </tr>\n",
       "  </thead>\n",
       "  <tbody>\n",
       "    <tr>\n",
       "      <th>2166</th>\n",
       "      <td>ENSG00000100084.13-HIRA</td>\n",
       "      <td>2.692785</td>\n",
       "      <td>3.473444</td>\n",
       "      <td>0.000015</td>\n",
       "      <td>ENSG00000100084.13</td>\n",
       "      <td>HIRA</td>\n",
       "      <td>0.002961</td>\n",
       "    </tr>\n",
       "    <tr>\n",
       "      <th>9755</th>\n",
       "      <td>ENSG00000155660.9-PDIA4</td>\n",
       "      <td>74.589427</td>\n",
       "      <td>104.633680</td>\n",
       "      <td>0.000018</td>\n",
       "      <td>ENSG00000155660.9</td>\n",
       "      <td>PDIA4</td>\n",
       "      <td>0.003690</td>\n",
       "    </tr>\n",
       "    <tr>\n",
       "      <th>13251</th>\n",
       "      <td>ENSG00000173335.4-CST9</td>\n",
       "      <td>0.012090</td>\n",
       "      <td>0.062734</td>\n",
       "      <td>0.000019</td>\n",
       "      <td>ENSG00000173335.4</td>\n",
       "      <td>CST9</td>\n",
       "      <td>0.003858</td>\n",
       "    </tr>\n",
       "    <tr>\n",
       "      <th>603</th>\n",
       "      <td>ENSG00000044574.7-HSPA5</td>\n",
       "      <td>107.221321</td>\n",
       "      <td>141.533894</td>\n",
       "      <td>0.000040</td>\n",
       "      <td>ENSG00000044574.7</td>\n",
       "      <td>HSPA5</td>\n",
       "      <td>0.008130</td>\n",
       "    </tr>\n",
       "    <tr>\n",
       "      <th>14675</th>\n",
       "      <td>ENSG00000182253.13-SYNM</td>\n",
       "      <td>0.305599</td>\n",
       "      <td>0.493554</td>\n",
       "      <td>0.000041</td>\n",
       "      <td>ENSG00000182253.13</td>\n",
       "      <td>SYNM</td>\n",
       "      <td>0.008220</td>\n",
       "    </tr>\n",
       "  </tbody>\n",
       "</table>\n",
       "</div>"
      ],
      "text/plain": [
       "                          gene  resistant_median  sensitive_median  \\\n",
       "2166   ENSG00000100084.13-HIRA          2.692785          3.473444   \n",
       "9755   ENSG00000155660.9-PDIA4         74.589427        104.633680   \n",
       "13251   ENSG00000173335.4-CST9          0.012090          0.062734   \n",
       "603    ENSG00000044574.7-HSPA5        107.221321        141.533894   \n",
       "14675  ENSG00000182253.13-SYNM          0.305599          0.493554   \n",
       "\n",
       "       mannwhiteney_pvalue         ensemble_id gene_symbol  p_value_corr  \n",
       "2166              0.000015  ENSG00000100084.13        HIRA      0.002961  \n",
       "9755              0.000018   ENSG00000155660.9       PDIA4      0.003690  \n",
       "13251             0.000019   ENSG00000173335.4        CST9      0.003858  \n",
       "603               0.000040   ENSG00000044574.7       HSPA5      0.008130  \n",
       "14675             0.000041  ENSG00000182253.13        SYNM      0.008220  "
      ]
     },
     "execution_count": 54,
     "metadata": {},
     "output_type": "execute_result"
    }
   ],
   "source": [
    "threshold = 0.05\n",
    "\n",
    "significant_genes_corr = significant_genes[(significant_genes.p_value_corr < threshold)].copy()\n",
    "significant_genes_corr = significant_genes_corr.sort_values(\"mannwhiteney_pvalue\", ascending=True)\n",
    "significant_genes_corr=pd.DataFrame(significant_genes_corr)\n",
    "print(significant_genes_corr.shape[0])\n",
    "significant_genes_corr.head()"
   ]
  },
  {
   "cell_type": "code",
   "execution_count": null,
   "metadata": {},
   "outputs": [],
   "source": [
    "lista=list(significant_genes_corr['gene_symbol'])\n",
    "type(lista)"
   ]
  },
  {
   "cell_type": "code",
   "execution_count": null,
   "metadata": {},
   "outputs": [],
   "source": [
    "lista"
   ]
  },
  {
   "cell_type": "code",
   "execution_count": null,
   "metadata": {},
   "outputs": [],
   "source": [
    "x = protein_coding_sens[protein_coding_sens.gene_symbol.isin(lista)]\n",
    "y=pd.DataFrame(x)\n",
    "y.head(21)\n",
    "y.to_csv('new_data/gene_exprs/R_Stot_last.csv', sep=',', header=True, index=False)"
   ]
  },
  {
   "cell_type": "code",
   "execution_count": null,
   "metadata": {},
   "outputs": [],
   "source": [
    "#significant_genes.to_csv('new_data/gene_exprs/r_sl_pv2.csv', sep=',', header=True, index=False)\n",
    "#significant_genes.to_csv('new_data/gene_exprs/r_ss_pv2.csv', sep=',', header=True, index=False)\n",
    "#significant_genes.to_csv('new_data/gene_exprs/sl_ss_pv2.csv', sep=',', header=True, index=False)"
   ]
  },
  {
   "cell_type": "code",
   "execution_count": 55,
   "metadata": {},
   "outputs": [
    {
     "data": {
      "text/plain": [
       "2166     ENSG00000100084.13-HIRA\n",
       "9755     ENSG00000155660.9-PDIA4\n",
       "13251     ENSG00000173335.4-CST9\n",
       "603      ENSG00000044574.7-HSPA5\n",
       "14675    ENSG00000182253.13-SYNM\n",
       "Name: gene, dtype: object"
      ]
     },
     "execution_count": 55,
     "metadata": {},
     "output_type": "execute_result"
    }
   ],
   "source": [
    "column=significant_genes_corr['gene']\n",
    "column.head()"
   ]
  },
  {
   "cell_type": "code",
   "execution_count": null,
   "metadata": {},
   "outputs": [],
   "source": [
    "lista=column.values\n",
    "np.save(\"gene_exprs_stot_vs_res.npy\", lista)"
   ]
  },
  {
   "cell_type": "markdown",
   "metadata": {},
   "source": [
    "## FDR "
   ]
  },
  {
   "cell_type": "code",
   "execution_count": null,
   "metadata": {},
   "outputs": [],
   "source": [
    "from statsmodels.stats.multitest import fdrcorrection"
   ]
  },
  {
   "cell_type": "code",
   "execution_count": null,
   "metadata": {},
   "outputs": [],
   "source": [
    "p_sorted=pvalues.sort_values(by='mannwhiteney_pvalue')"
   ]
  },
  {
   "cell_type": "code",
   "execution_count": null,
   "metadata": {},
   "outputs": [],
   "source": [
    "pvalues_FDR=pvalues['mannwhiteney_pvalue']\n",
    "p_corrected=fdrcorrection(pvalues_FDR, alpha=0.05, method='indep')\n",
    "w=p_corrected[1]\n",
    "\n",
    "p_sorted['p_value_corr_bh']=w\n",
    "p_sorted.head()"
   ]
  },
  {
   "cell_type": "code",
   "execution_count": null,
   "metadata": {},
   "outputs": [],
   "source": [
    "threshold = 0.05\n",
    "\n",
    "significant_genes_bh = p_sorted[(p_sorted.p_value_corr_bh < threshold)].copy()\n",
    "significant_genes_bh = significant_genes_bh.sort_values(\"p_value_corr_bh\", ascending=True)\n",
    "significant_genes_bh=pd.DataFrame(significant_genes_bh)\n",
    "print(significant_genes_bh.shape[0])"
   ]
  },
  {
   "cell_type": "code",
   "execution_count": null,
   "metadata": {},
   "outputs": [],
   "source": [
    "column=significant_genes_bh['gene']\n",
    "column.head()"
   ]
  },
  {
   "cell_type": "markdown",
   "metadata": {},
   "source": [
    "## Benjamini-Hochberg, len(patients)"
   ]
  },
  {
   "cell_type": "code",
   "execution_count": null,
   "metadata": {},
   "outputs": [],
   "source": [
    "p_sorted=pvalues.sort_values(by='mannwhiteney_pvalue')"
   ]
  },
  {
   "cell_type": "code",
   "execution_count": null,
   "metadata": {},
   "outputs": [],
   "source": [
    "a=p_sorted['mannwhiteney_pvalue'].get_values()"
   ]
  },
  {
   "cell_type": "code",
   "execution_count": null,
   "metadata": {},
   "outputs": [],
   "source": [
    "enumerate(a)"
   ]
  },
  {
   "cell_type": "code",
   "execution_count": null,
   "metadata": {},
   "outputs": [],
   "source": [
    "num_total_tests=n_sen+n_res #inserisci il num pazienti"
   ]
  },
  {
   "cell_type": "code",
   "execution_count": null,
   "metadata": {},
   "outputs": [],
   "source": [
    "def calc_benjamini_hochberg_corrections(p_values, num_total_tests):\n",
    "   \n",
    "    p_value_bh = []\n",
    "    for i, p_value in enumerate(p_values):\n",
    "        bh_value = p_value * num_total_tests / (i + 1)\n",
    "        p_value_bh.append(bh_value)\n",
    "    return (p_value_bh)"
   ]
  },
  {
   "cell_type": "code",
   "execution_count": null,
   "metadata": {},
   "outputs": [],
   "source": [
    "p_value_corr_bh=calc_benjamini_hochberg_corrections(a, num_total_tests)"
   ]
  },
  {
   "cell_type": "code",
   "execution_count": null,
   "metadata": {},
   "outputs": [],
   "source": [
    "p_sorted['p_value_corr_bh']=p_value_corr_bh"
   ]
  },
  {
   "cell_type": "code",
   "execution_count": null,
   "metadata": {},
   "outputs": [],
   "source": [
    "p_sorted.head()"
   ]
  },
  {
   "cell_type": "code",
   "execution_count": null,
   "metadata": {},
   "outputs": [],
   "source": [
    "threshold = 0.05\n",
    "\n",
    "significant_genes_bh = p_sorted[(p_sorted.p_value_corr_bh < threshold)].copy()\n",
    "significant_genes_bh = significant_genes_bh.sort_values(\"p_value_corr_bh\", ascending=True)\n",
    "print(significant_genes_bh.shape[0])"
   ]
  },
  {
   "cell_type": "code",
   "execution_count": null,
   "metadata": {
    "scrolled": true
   },
   "outputs": [],
   "source": [
    "id_name=[]\n",
    "gene_name=[]\n",
    "\n",
    "for x in [\"-\".join(x.strip().split(\"-\")[:1])  for x in (significant_genes_bh['gene'])]:\n",
    "    id_name.append(x)   \n",
    "for x in [\"-\".join(x.strip().split(\"-\")[1:])  for x in (significant_genes_bh['gene'])]:\n",
    "    gene_name.append(x) \n",
    "    \n",
    "significant_genes_bh['ensemble_id']=id_name\n",
    "significant_genes_bh['gene_symbol']=gene_name\n",
    "significant_genes_bh=pd.DataFrame(significant_genes_bh)\n",
    "significant_genes_bh.head()"
   ]
  },
  {
   "cell_type": "code",
   "execution_count": null,
   "metadata": {},
   "outputs": [],
   "source": [
    "#significant_genes_bh.to_csv('new_data/gene_exprs/sl_ss_bh_ge.csv', sep=',', header=True, index=False)"
   ]
  },
  {
   "cell_type": "code",
   "execution_count": null,
   "metadata": {},
   "outputs": [],
   "source": [
    "column=significant_genes_bh['gene']\n",
    "column.head()"
   ]
  },
  {
   "cell_type": "markdown",
   "metadata": {},
   "source": [
    "## Classification"
   ]
  },
  {
   "cell_type": "code",
   "execution_count": 56,
   "metadata": {},
   "outputs": [
    {
     "name": "stderr",
     "output_type": "stream",
     "text": [
      "/home/lalli/anaconda3/lib/python3.6/site-packages/ipykernel_launcher.py:2: SettingWithCopyWarning: \n",
      "A value is trying to be set on a copy of a slice from a DataFrame.\n",
      "Try using .loc[row_indexer,col_indexer] = value instead\n",
      "\n",
      "See the caveats in the documentation: http://pandas.pydata.org/pandas-docs/stable/indexing.html#indexing-view-versus-copy\n",
      "  \n"
     ]
    },
    {
     "data": {
      "text/plain": [
       "(60, 21)"
      ]
     },
     "execution_count": 56,
     "metadata": {},
     "output_type": "execute_result"
    }
   ],
   "source": [
    "res_selected=resdf[column]\n",
    "res_selected[\"label\"]=1\n",
    "res_selected.shape"
   ]
  },
  {
   "cell_type": "code",
   "execution_count": 26,
   "metadata": {},
   "outputs": [
    {
     "name": "stderr",
     "output_type": "stream",
     "text": [
      "/home/lalli/anaconda3/lib/python3.6/site-packages/ipykernel_launcher.py:2: SettingWithCopyWarning: \n",
      "A value is trying to be set on a copy of a slice from a DataFrame.\n",
      "Try using .loc[row_indexer,col_indexer] = value instead\n",
      "\n",
      "See the caveats in the documentation: http://pandas.pydata.org/pandas-docs/stable/indexing.html#indexing-view-versus-copy\n",
      "  \n"
     ]
    },
    {
     "data": {
      "text/plain": [
       "(34, 27)"
      ]
     },
     "execution_count": 26,
     "metadata": {},
     "output_type": "execute_result"
    }
   ],
   "source": [
    "senl_selected=senldf[column]\n",
    "senl_selected[\"label\"]=0\n",
    "senl_selected.shape"
   ]
  },
  {
   "cell_type": "code",
   "execution_count": 40,
   "metadata": {},
   "outputs": [
    {
     "name": "stderr",
     "output_type": "stream",
     "text": [
      "/home/lalli/anaconda3/lib/python3.6/site-packages/ipykernel_launcher.py:2: SettingWithCopyWarning: \n",
      "A value is trying to be set on a copy of a slice from a DataFrame.\n",
      "Try using .loc[row_indexer,col_indexer] = value instead\n",
      "\n",
      "See the caveats in the documentation: http://pandas.pydata.org/pandas-docs/stable/indexing.html#indexing-view-versus-copy\n",
      "  \n"
     ]
    },
    {
     "data": {
      "text/plain": [
       "(107, 41)"
      ]
     },
     "execution_count": 40,
     "metadata": {},
     "output_type": "execute_result"
    }
   ],
   "source": [
    "sens_selected=sensdf[column]\n",
    "sens_selected[\"label\"]=0\n",
    "sens_selected.shape"
   ]
  },
  {
   "cell_type": "code",
   "execution_count": 57,
   "metadata": {},
   "outputs": [
    {
     "name": "stderr",
     "output_type": "stream",
     "text": [
      "/home/lalli/anaconda3/lib/python3.6/site-packages/ipykernel_launcher.py:2: SettingWithCopyWarning: \n",
      "A value is trying to be set on a copy of a slice from a DataFrame.\n",
      "Try using .loc[row_indexer,col_indexer] = value instead\n",
      "\n",
      "See the caveats in the documentation: http://pandas.pydata.org/pandas-docs/stable/indexing.html#indexing-view-versus-copy\n",
      "  \n"
     ]
    },
    {
     "data": {
      "text/plain": [
       "(141, 21)"
      ]
     },
     "execution_count": 57,
     "metadata": {},
     "output_type": "execute_result"
    }
   ],
   "source": [
    "sen_selected=sendf[column]\n",
    "sen_selected[\"label\"]=0\n",
    "sen_selected.shape"
   ]
  },
  {
   "cell_type": "code",
   "execution_count": 58,
   "metadata": {},
   "outputs": [],
   "source": [
    "#concatenated=pd.concat([res_selected, senl_selected])\n",
    "#concatenated=pd.concat([res_selected, sens_selected])\n",
    "#concatenated=pd.concat([senl_selected, sens_selected])\n",
    "concatenated=pd.concat([res_selected, sen_selected])"
   ]
  },
  {
   "cell_type": "code",
   "execution_count": 59,
   "metadata": {},
   "outputs": [],
   "source": [
    "X=concatenated[concatenated.columns[:-1]].values\n",
    "y=concatenated[concatenated.columns[-1]].values"
   ]
  },
  {
   "cell_type": "code",
   "execution_count": null,
   "metadata": {
    "scrolled": true
   },
   "outputs": [],
   "source": [
    "precision=[]\n",
    "recall=[]\n",
    "\n",
    "#loo = LeaveOneOut()\n",
    "#loo.get_n_splits(X)\n",
    "rskf = RepeatedStratifiedKFold(n_splits=5, n_repeats=20, random_state=36851234)\n",
    "for train_index, test_index in (rskf.split(X, y)) :\n",
    "    #print(\"TRAIN:\", train_index, \"TEST:\", test_index)\n",
    "    X_train, X_test = X[train_index], X[test_index] \n",
    "    y_train, y_test = y[train_index], y[test_index]\n",
    "\n",
    "clf = svm.SVC(kernel='rbf', class_weight='balanced')\n",
    "tuned_parameters = [{'kernel': ['rbf'], 'gamma': [1e-3, 1e-4],\n",
    "                     'C': [1, 10, 100, 1000]},\n",
    "                    {'kernel': ['linear'], 'C': [1, 10, 100, 1000]}]\n",
    "\n",
    "scores = ['precision', 'recall']\n",
    "\n",
    "for score in scores:\n",
    "    print(\"# Tuning hyper-parameters for %s\" % score)\n",
    "    print()\n",
    "\n",
    "    clf = GridSearchCV(SVC(), tuned_parameters, cv=5,\n",
    "                       scoring='%s_macro' % score)\n",
    "    clf.fit(X_train, y_train)\n",
    "\n",
    "    print(\"Best parameters set found on development set:\")\n",
    "    print()\n",
    "    print(clf.best_params_)\n",
    "    print()\n",
    "    print(\"Grid scores on development set:\")\n",
    "    print()\n",
    "    means = clf.cv_results_['mean_test_score']\n",
    "    stds = clf.cv_results_['std_test_score']\n",
    "    for mean, std, params in zip(means, stds, clf.cv_results_['params']):\n",
    "        print(\"%0.3f (+/-%0.03f) for %r\"\n",
    "              % (mean, std * 2, params))\n",
    "    print()\n",
    "\n",
    "    print(\"Detailed classification report:\")\n",
    "    print()\n",
    "    print(\"The model is trained on the full development set.\")\n",
    "    print(\"The scores are computed on the full evaluation set.\")\n",
    "    print()\n",
    "    y_true, y_pred = y_test, clf.predict(X_test)\n",
    "    print(classification_report(y_true, y_pred))\n",
    "    print()\n",
    "\n",
    "    clf.fit(X_train, y_train)\n",
    "    y_predict=clf.predict(X_test)\n",
    "    \n",
    "    precision.append(precision_score(y_test, y_predict))\n",
    "    recall.append(recall_score(y_test, y_predict))"
   ]
  },
  {
   "cell_type": "code",
   "execution_count": null,
   "metadata": {
    "scrolled": true
   },
   "outputs": [],
   "source": [
    "#kf = RepeatedStratifiedKFold(n_splits=5, n_repeats=5, random_state=36851234)\n",
    "kf = StratifiedKFold(n_splits=10)\n",
    "recall=[]\n",
    "precision=[]\n",
    "accuracy=[]\n",
    "fscore=[]\n",
    "scores=['true_res', 'false_senl', 'true_senl', 'false_res', 'accuracy', 'precision', 'recall', 'f1_score']\n",
    "performance=pd.DataFrame(index=np.arange(10), columns=scores)\n",
    "i=0\n",
    "for train_index, test_index in kf.split(X, y):\n",
    "    x_train, x_test = X[train_index], X[test_index]\n",
    "    y_train, y_test = y[train_index], y[test_index]\n",
    "    \n",
    "    '''X=pd.DataFrame(x_train, columns=features)\n",
    "    model= RandomForestClassifier(n_estimators=200, max_depth=15, class_weight='balanced')\n",
    "    model.fit(X,y_train)\n",
    "    f=feat_importances.nlargest(15).index\n",
    "    x_train=X[f].values\n",
    "    X_t=pd.DataFrame(x_test, columns=features)\n",
    "    x_test=X_t[f]'''\n",
    "    \n",
    "    print('real')\n",
    "    print(y_test)\n",
    "    \n",
    "    clf = RandomForestClassifier(n_estimators=200, max_depth=15, class_weight='balanced')\n",
    "    #clf=KNeighborsClassifier(n_neighbors=3, metric='manhattan')\n",
    "    #clf = AdaBoostClassifier(n_estimators=200, base_estimator=DecisionTreeClassifier(max_depth=5),random_state=0)\n",
    "    #clf=LogisticRegression(random_state=0, solver='lbfgs',multi_class='multinomial')\n",
    "    #clf = svm.SVC(kernel='rbf', C=100, probability=True, gamma = 0.0001, class_weight='balanced', random_state=42)\n",
    "    \n",
    "    clf.fit(x_train, y_train)\n",
    "    y_pred=clf.predict(x_test)\n",
    "    print('predicted')\n",
    "    print(y_pred)\n",
    "    recall.append(recall_score(y_test, y_pred))\n",
    "    precision.append(precision_score(y_test, y_pred))\n",
    "    accuracy.append(accuracy_score(y_test, y_pred))\n",
    "    fscore.append(f1_score(y_test, y_pred))\n",
    "    performance.iloc[i]['accuracy']=accuracy_score(y_test, y_pred)\n",
    "    performance.iloc[i]['precision']=precision_score(y_test, y_pred)\n",
    "    performance.iloc[i]['recall']=recall_score(y_test, y_pred)\n",
    "    performance.iloc[i]['f1_score']=f1_score(y_test, y_pred)\n",
    "    c_matrix=confusion_matrix(y_test, y_pred)\n",
    "    performance.iloc[i]['true_sens']=c_matrix[0][0]\n",
    "    performance.iloc[i]['false_sens']=c_matrix[1][0]\n",
    "    performance.iloc[i]['true_res']=c_matrix[1][1]\n",
    "    performance.iloc[i]['false_res']=c_matrix[0][1]\n",
    "    print (i)\n",
    "    i=i+1"
   ]
  },
  {
   "cell_type": "code",
   "execution_count": null,
   "metadata": {
    "scrolled": true
   },
   "outputs": [],
   "source": [
    "print('Average precision: ', np.mean(precision))\n",
    "print('Average recall: ', np.mean(recall))\n",
    "print('Average accuracy: ', np.mean(accuracy))\n",
    "print('Average f1_score: ', np.mean(fscore))\n",
    "print('Standard_deviation precision: ', np.std(precision))\n",
    "print('Standard_deviation recall: ', np.std(recall))\n",
    "print('Standard_deviation accuracy: ', np.std(accuracy))\n",
    "print('Standard_deviation f1_score: ', np.std(fscore))"
   ]
  },
  {
   "cell_type": "code",
   "execution_count": null,
   "metadata": {},
   "outputs": [],
   "source": [
    "performance"
   ]
  },
  {
   "cell_type": "markdown",
   "metadata": {},
   "source": [
    "## Data visualization"
   ]
  },
  {
   "cell_type": "code",
   "execution_count": null,
   "metadata": {},
   "outputs": [],
   "source": [
    "def my_PCA(data, features, labels, i, j):\n",
    "    #x = data.loc[:, features].values\n",
    "    x = StandardScaler().fit_transform(data)\n",
    "    \n",
    "    pca= PCA(n_components=3)\n",
    "    p_comp=pca.fit_transform(x)\n",
    "    #p_comp = TSNE(n_components=2, perplexity=70, n_iter=2500).fit_transform(x)\n",
    "    p_comp=p_comp[:, [i,j]]\n",
    "\n",
    "    principalDf = pd.DataFrame(data = p_comp\n",
    "             , columns = ['principal component '+str(i), 'principal component '+str(j)])\n",
    "    finalDf= pd.concat([principalDf, pd.Series(labels)], axis=1)\n",
    "    \n",
    "    fig = plt.figure(figsize = (8,8))\n",
    "    ax = fig.add_subplot(1,1,1) \n",
    "    ax.set_xlabel('Principal Component '+str(i+1), fontsize = 15)\n",
    "    ax.set_ylabel('Principal Component '+str(j+1), fontsize = 15)\n",
    "    ax.set_title('2 Component PCA', fontsize = 20)\n",
    "    \n",
    "\n",
    "\n",
    "\n",
    "    targets = ['Sensitive_long', 'Sensitive_short']\n",
    "    colors = ['b', 'r']\n",
    "    for target, color in zip(targets,colors):\n",
    "        t=0\n",
    "        if target == 'Sensitive_short':\n",
    "            t=1\n",
    "        #if target == 'Sensitive_long':\n",
    "         #   t=2\n",
    "        indicesToKeep = finalDf[0] == t\n",
    "        ax.scatter(finalDf.loc[indicesToKeep, 'principal component '+str(i)]\n",
    "                   , finalDf.loc[indicesToKeep, 'principal component '+str(j)]\n",
    "                   , c = color\n",
    "                   , s = 50)\n",
    "    ax.legend(targets)\n",
    "    ax.grid()"
   ]
  },
  {
   "cell_type": "code",
   "execution_count": null,
   "metadata": {
    "scrolled": true
   },
   "outputs": [],
   "source": [
    "my_PCA(X, concatenated.columns, y, 0, 2)\n",
    "#plt.savefig('my_PCA_res_sens_12.png')\n",
    "my_PCA"
   ]
  },
  {
   "cell_type": "code",
   "execution_count": 60,
   "metadata": {},
   "outputs": [
    {
     "data": {
      "image/png": "[encoded data removed]",
      "text/plain": [
       "<Figure size 720x720 with 1 Axes>"
      ]
     },
     "metadata": {},
     "output_type": "display_data"
    }
   ],
   "source": [
    "# ROC curve\n",
    "classifier = RandomForestClassifier(n_estimators=200, max_depth=15, class_weight='balanced')\n",
    "#classifier = AdaBoostClassifier(n_estimators=200, base_estimator=DecisionTreeClassifier(max_depth=5),random_state=0)\n",
    "#classifier = svm.SVC(kernel='rbf', C=10, probability=True, gamma = 0.0001, class_weight='balanced', random_state=42)\n",
    "#classifier=KNeighborsClassifier(n_neighbors=3, metric='manhattan')\n",
    "#classifier= LogisticRegression(random_state=0, solver='lbfgs',multi_class='multinomial')\n",
    "#cv = RepeatedStratifiedKFold(n_splits=5, n_repeats=10, random_state=36851234)\n",
    "cv = StratifiedKFold(n_splits=10)\n",
    "\n",
    "tprs = []\n",
    "aucs = []\n",
    "mean_fpr = np.linspace(0, 1, 100)\n",
    "plt.figure(figsize=(10,10))\n",
    "i = 0\n",
    "for train, test in cv.split(X, y):\n",
    "    probas_ = classifier.fit(X[train], y[train]).predict_proba(X[test])\n",
    "    # Compute ROC curve and area the curve\n",
    "    fpr, tpr, thresholds = roc_curve(y[test], probas_[:, 1])\n",
    "    tprs.append(interp(mean_fpr, fpr, tpr))\n",
    "    tprs[-1][0] = 0.0\n",
    "    roc_auc = auc(fpr, tpr)\n",
    "    aucs.append(roc_auc)\n",
    "    plt.plot(fpr, tpr, lw=1, alpha=0.3,\n",
    "             label='ROC fold %d (AUC = %0.2f)' % (i, roc_auc))\n",
    "\n",
    "    i += 1\n",
    "plt.plot([0, 1], [0, 1], linestyle='--', lw=2, color='r',\n",
    "         label='Chance', alpha=.8)\n",
    "\n",
    "mean_tpr = np.mean(tprs, axis=0)\n",
    "mean_tpr[-1] = 1.0\n",
    "mean_auc = auc(mean_fpr, mean_tpr)\n",
    "std_auc = np.std(aucs)\n",
    "plt.plot(mean_fpr, mean_tpr, color='b',\n",
    "         label=r'Mean ROC (AUC = %0.2f $\\pm$ %0.2f)' % (mean_auc, std_auc),\n",
    "         lw=2, alpha=.8)\n",
    "\n",
    "std_tpr = np.std(tprs, axis=0)\n",
    "tprs_upper = np.minimum(mean_tpr + std_tpr, 1)\n",
    "tprs_lower = np.maximum(mean_tpr - std_tpr, 0)\n",
    "plt.fill_between(mean_fpr, tprs_lower, tprs_upper, color='grey', alpha=.2,\n",
    "                 label=r'$\\pm$ 1 std. dev.')\n",
    "\n",
    "\n",
    "plt.xlim([-0.05, 1.05])\n",
    "plt.ylim([-0.05, 1.05])\n",
    "plt.xlabel('False Positive Rate')\n",
    "plt.ylabel('True Positive Rate')\n",
    "plt.title('ROC curve AllSen vs Res, gene_exprs')\n",
    "#plt.legend(loc='upper center', bbox_to_anchor=(0.5, -0.05),\n",
    "          #fancybox=True, shadow=True, ncol=5)\n",
    "plt.legend(loc='lower right')\n",
    "plt.savefig('1.png')"
   ]
  },
  {
   "cell_type": "code",
   "execution_count": null,
   "metadata": {},
   "outputs": [],
   "source": [
    "k_fold = RepeatedStratifiedKFold(n_splits=5, n_repeats=10, random_state=36851234)\n",
    "y_real = []\n",
    "y_proba = []\n",
    "#predictor= RandomForestClassifier(n_estimators=200, max_depth=15, class_weight='balanced')\n",
    "#predictor = AdaBoostClassifier(n_estimators=200, base_estimator=DecisionTreeClassifier(max_depth=5),random_state=0)\n",
    "predictor = svm.SVC(kernel='rbf', C=100, probability=True, gamma = 0.0001, class_weight='balanced', random_state=42)\n",
    "#predictor = KNeighborsClassifier(n_neighbors=3, metric='manhattan')\n",
    "#predictor = LogisticRegression(random_state=0, solver='lbfgs',multi_class='multinomial')\n",
    "cv = RepeatedStratifiedKFold(n_splits=5, n_repeats=10, random_state=36851234)\n",
    "\n",
    "\n",
    "tprs = []\n",
    "aucs = []\n",
    "mean_fpr = np.linspace(0, 1, 100)\n",
    "plt.figure(figsize=(10,10))\n",
    "i = 0\n",
    "for train, test in cv.split(X, y):\n",
    "    probas_ = classifier.fit(X[train], y[train]).predict_proba(X[test])\n",
    "    # Compute ROC curve and area the curve\n",
    "    fpr, tpr, thresholds = roc_curve(y[test], probas_[:, 1])\n",
    "    tprs.append(interp(mean_fpr, fpr, tpr))\n",
    "    tprs[-1][0] = 0.0\n",
    "    roc_auc = auc(fpr, tpr)\n",
    "    aucs.append(roc_auc)\n",
    "    plt.plot(fpr, tpr, lw=1, alpha=0.3,\n",
    "             label='ROC fold %d (AUC = %0.2f)' % (i, roc_auc))\n",
    "\n",
    "    i += 1\n",
    "plt.plot([0, 1], [0, 1], linestyle='--', lw=2, color='r',\n",
    "         label='Chance', alpha=.8)\n",
    "\n",
    "mean_tpr = np.mean(tprs, axis=0)\n",
    "mean_tpr[-1] = 1.0\n",
    "mean_auc = auc(mean_fpr, mean_tpr)\n",
    "std_auc = np.std(aucs)\n",
    "plt.plot(mean_fpr, mean_tpr, color='b',\n",
    "         label=r'Mean ROC (AUC = %0.2f $\\pm$ %0.2f)' % (mean_auc, std_auc),\n",
    "         lw=2, alpha=.8)\n",
    "\n",
    "std_tpr = np.std(tprs, axis=0)\n",
    "tprs_upper = np.minimum(mean_tpr + std_tpr, 1)\n",
    "tprs_lower = np.maximum(mean_tpr - std_tpr, 0)\n",
    "plt.fill_between(mean_fpr, tprs_lower, tprs_upper, color='grey', alpha=.2,\n",
    "                 label=r'$\\pm$ 1 std. dev.')\n",
    "\n",
    "\n",
    "plt.xlim([-0.05, 1.05])\n",
    "plt.ylim([-0.05, 1.05])\n",
    "plt.xlabel('False Positive Rate')\n",
    "plt.ylabel('True Positive Rate')\n",
    "#plt.title('ROC curve Res vs Senl')\n",
    "\n",
    "#plt.legend(loc='upper center', bbox_to_anchor=(0.5, -0.05),\n",
    "         # fancybox=True, shadow=True, ncol=5)\n",
    "#plt.savefig('ROC_Res_vs_SenS.png')\n",
    "#predictor = AdaBoostClassifier(n_estimators=200, base_estimator=DecisionTreeClassifier(max_depth=5),random_state=0)\n",
    "precision_array = []\n",
    "threshold_array=[]\n",
    "recall_array = np.linspace(0, 1, 100)\n",
    "plt.figure(figsize=(10,10))\n",
    "for i, (train_index, test_index) in enumerate(k_fold.split(X, y)):\n",
    "    Xtrain, Xtest = X[train_index], X[test_index]\n",
    "    ytrain, ytest = y[train_index], y[test_index]\n",
    "    predictor.fit(Xtrain, ytrain)\n",
    "    pred_proba = predictor.predict_proba(Xtest)\n",
    "    precision_fold, recall_fold, thresh = precision_recall_curve(ytest, pred_proba[:,1])\n",
    "    precision_fold, recall_fold, thresh = precision_fold[::-1], recall_fold[::-1], thresh[::-1]  # reverse order of results\n",
    "    thresh = np.insert(thresh, 0, 1.0)\n",
    "    precision_array = interp(recall_array, recall_fold, precision_fold)\n",
    "    threshold_array = interp(recall_array, recall_fold, thresh)\n",
    "    pr_auc = auc(recall_array, precision_array)\n",
    "\n",
    "    lab_fold = 'Fold %d AUC=%.4f' % (i+1, pr_auc)\n",
    "    plt.plot(recall_fold, precision_fold, alpha=0.3, label=lab_fold)\n",
    "    y_real.append(ytest)\n",
    "    y_proba.append(pred_proba[:,1])\n",
    "    \n",
    "y_real = np.concatenate(y_real)\n",
    "y_proba = np.concatenate(y_proba)\n",
    "precision, recall, thr = precision_recall_curve(y_real, y_proba)\n",
    "lab = 'Overall AUC=%.4f' % (auc(recall, precision))\n",
    "\n",
    "plt.plot(recall, precision, lw=2,color='red', label=lab)\n",
    "\n",
    "plt.legend(loc='upper center', bbox_to_anchor=(0.5, -0.05),\n",
    "          fancybox=True, shadow=True, ncol=5)\n",
    "\n",
    "mean_precision = np.mean(precision_array)\n",
    "std_precision = np.std(precision_array)\n",
    "plt.fill_between(recall, precision + std_precision, precision - std_precision, alpha=0.3, linewidth=0, color='grey')\n",
    "#plt.show()\n",
    "#plt.title('PR curve Res vs SenS')\n",
    "#plt.savefig('PR curve Res vs Senl_RF.png')"
   ]
  },
  {
   "cell_type": "code",
   "execution_count": null,
   "metadata": {},
   "outputs": [],
   "source": [
    "def plot_confusion_matrix(y_true, y_pred, classes,\n",
    "                          normalize=False,\n",
    "                          title=None,\n",
    "                          cmap=plt.cm.Blues):\n",
    "    \"\"\"\n",
    "    This function prints and plots the confusion matrix.\n",
    "    Normalization can be applied by setting `normalize=True`.\n",
    "    \"\"\"\n",
    "    if not title:\n",
    "        if normalize:\n",
    "            title = 'Normalized confusion matrix'\n",
    "        else:\n",
    "            title = 'Confusion matrix, without normalization'\n",
    "\n",
    "    # Compute confusion matrix\n",
    "    cm = confusion_matrix(y_true, y_pred)\n",
    "    # Only use the labels that appear in the data\n",
    "    classes = classes[unique_labels(y_true, y_pred)]\n",
    "    if normalize:\n",
    "        cm = cm.astype('float') / cm.sum(axis=1)[:, np.newaxis]\n",
    "        print(\"Normalized confusion matrix\")\n",
    "    else:\n",
    "        print('Confusion matrix, without normalization')\n",
    "\n",
    "    print(cm)\n",
    "\n",
    "    fig, ax = plt.subplots()\n",
    "    im = ax.imshow(cm, interpolation='nearest', cmap=cmap)\n",
    "    ax.figure.colorbar(im, ax=ax)\n",
    "    # We want to show all ticks...\n",
    "    ax.set(xticks=np.arange(cm.shape[1]),\n",
    "           yticks=np.arange(cm.shape[0]),\n",
    "           # ... and label them with the respective list entries\n",
    "           xticklabels=classes, yticklabels=classes,\n",
    "           title=title,\n",
    "           ylabel='True label',\n",
    "           xlabel='Predicted label')\n",
    "\n",
    "    # Rotate the tick labels and set their alignment.\n",
    "    plt.setp(ax.get_xticklabels(), rotation=45, ha=\"right\",\n",
    "             rotation_mode=\"anchor\")\n",
    "\n",
    "    # Loop over data dimensions and create text annotations.\n",
    "    fmt = '.2f' if normalize else 'd'\n",
    "    thresh = cm.max() / 2.\n",
    "    for i in range(cm.shape[0]):\n",
    "        for j in range(cm.shape[1]):\n",
    "            ax.text(j, i, format(cm[i, j], fmt),\n",
    "                    ha=\"center\", va=\"center\",\n",
    "                    color=\"white\" if cm[i, j] > thresh else \"black\")\n",
    "    fig.tight_layout()\n",
    "    return ax"
   ]
  },
  {
   "cell_type": "code",
   "execution_count": null,
   "metadata": {},
   "outputs": [],
   "source": [
    "c_matrix=confusion_matrix(y_test, y_pred)\n",
    "c_matrix"
   ]
  },
  {
   "cell_type": "code",
   "execution_count": null,
   "metadata": {},
   "outputs": [],
   "source": []
  },
  {
   "cell_type": "code",
   "execution_count": null,
   "metadata": {},
   "outputs": [],
   "source": []
  },
  {
   "cell_type": "code",
   "execution_count": null,
   "metadata": {},
   "outputs": [],
   "source": []
  },
  {
   "cell_type": "code",
   "execution_count": null,
   "metadata": {},
   "outputs": [],
   "source": []
  },
  {
   "cell_type": "code",
   "execution_count": null,
   "metadata": {},
   "outputs": [],
   "source": []
  },
  {
   "cell_type": "code",
   "execution_count": null,
   "metadata": {},
   "outputs": [],
   "source": []
  },
  {
   "cell_type": "code",
   "execution_count": null,
   "metadata": {},
   "outputs": [],
   "source": []
  },
  {
   "cell_type": "code",
   "execution_count": null,
   "metadata": {},
   "outputs": [],
   "source": []
  },
  {
   "cell_type": "code",
   "execution_count": null,
   "metadata": {},
   "outputs": [],
   "source": []
  }
 ],
 "metadata": {
  "kernelspec": {
   "display_name": "Python 3.9.5 64-bit",
   "language": "python",
   "name": "python3"
  },
  "language_info": {
   "codemirror_mode": {
    "name": "ipython",
    "version": 3
   },
   "file_extension": ".py",
   "mimetype": "text/x-python",
   "name": "python",
   "nbconvert_exporter": "python",
   "pygments_lexer": "ipython3",
   "version": "3.9.5"
  },
  "vscode": {
   "interpreter": {
    "hash": "bf72a475517b0cff23003112adde97a2bc8e8ddb0d6183322be0a4a5437623a4"
   }
  }
 },
 "nbformat": 4,
 "nbformat_minor": 2
}
