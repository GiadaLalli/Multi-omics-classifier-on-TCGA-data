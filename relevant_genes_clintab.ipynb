{
 "cells": [
  {
   "cell_type": "code",
   "execution_count": 36,
   "metadata": {},
   "outputs": [],
   "source": [
    "import pandas as pd\n",
    "import os\n",
    "import scipy.stats\n",
    "import numpy as np\n",
    "from sklearn import svm\n",
    "from matplotlib import pyplot as plt\n",
    "%matplotlib inline\n",
    "from sklearn.svm import SVC\n",
    "\n",
    "from sklearn.ensemble import RandomForestClassifier, AdaBoostClassifier\n",
    "from sklearn.model_selection import RepeatedStratifiedKFold, train_test_split, GridSearchCV, LeaveOneOut\n",
    "from sklearn.metrics import accuracy_score, f1_score, precision_score, recall_score, classification_report, confusion_matrix\n",
    "from sklearn.decomposition import PCA\n",
    "from sklearn.datasets import make_blobs\n",
    "from sklearn.preprocessing import StandardScaler"
   ]
  },
  {
   "cell_type": "code",
   "execution_count": 37,
   "metadata": {},
   "outputs": [],
   "source": [
    "path=\"clintab_GMQL/res_seq/files/\"\n",
    "\n",
    "listdf_r=[]\n",
    "\n",
    "for fname in os.listdir(path):\n",
    "    if fname.endswith(\".meta\"): \n",
    "        pass\n",
    "    elif fname.endswith(\".gdm\"): \n",
    "        \n",
    "        tempdf=pd.read_csv(path+fname, delimiter=\"\\t\", header=None)\n",
    "        \n",
    "        tempdf[\"genes\"]=tempdf[4]+\"-\"+tempdf[6]\n",
    "        tempdf[\"fpkm-uq\"]=tempdf[10]\n",
    "        tempdf=tempdf[[\"genes\", \"fpkm-uq\"]]\n",
    "        tempdf[\"fname\"]=fname\n",
    "        \n",
    "        listdf_r.append(tempdf)"
   ]
  },
  {
   "cell_type": "code",
   "execution_count": 38,
   "metadata": {},
   "outputs": [],
   "source": [
    "path=\"clintab_GMQL/sens_long_32/files/\"\n",
    "\n",
    "listdf_sl=[]\n",
    "\n",
    "for fname in os.listdir(path):\n",
    "    if fname.endswith(\".meta\"): \n",
    "        pass\n",
    "    elif fname.endswith(\".gdm\"): \n",
    "        \n",
    "        tempdf=pd.read_csv(path+fname, delimiter=\"\\t\", header=None)\n",
    "        \n",
    "        tempdf[\"genes\"]=tempdf[4]+\"-\"+tempdf[6]\n",
    "        tempdf[\"fpkm-uq\"]=tempdf[10]\n",
    "        tempdf=tempdf[[\"genes\", \"fpkm-uq\"]]\n",
    "        tempdf[\"fname\"]=fname\n",
    "        \n",
    "        listdf_sl.append(tempdf)"
   ]
  },
  {
   "cell_type": "code",
   "execution_count": 39,
   "metadata": {},
   "outputs": [],
   "source": [
    "path=\"clintab_GMQL/sens_short_6_32/files/\"\n",
    "\n",
    "listdf_ss=[]\n",
    "\n",
    "for fname in os.listdir(path):\n",
    "    if fname.endswith(\".meta\"): \n",
    "        pass\n",
    "    elif fname.endswith(\".gdm\"): \n",
    "        \n",
    "        tempdf=pd.read_csv(path+fname, delimiter=\"\\t\", header=None)\n",
    "        \n",
    "        tempdf[\"genes\"]=tempdf[4]+\"-\"+tempdf[6]\n",
    "        tempdf[\"fpkm-uq\"]=tempdf[10]\n",
    "        tempdf=tempdf[[\"genes\", \"fpkm-uq\"]]\n",
    "        tempdf[\"fname\"]=fname\n",
    "        \n",
    "        listdf_ss.append(tempdf)"
   ]
  },
  {
   "cell_type": "code",
   "execution_count": 40,
   "metadata": {},
   "outputs": [
    {
     "data": {
      "text/html": [
       "<div>\n",
       "<style scoped>\n",
       "    .dataframe tbody tr th:only-of-type {\n",
       "        vertical-align: middle;\n",
       "    }\n",
       "\n",
       "    .dataframe tbody tr th {\n",
       "        vertical-align: top;\n",
       "    }\n",
       "\n",
       "    .dataframe thead th {\n",
       "        text-align: right;\n",
       "    }\n",
       "</style>\n",
       "<table border=\"1\" class=\"dataframe\">\n",
       "  <thead>\n",
       "    <tr style=\"text-align: right;\">\n",
       "      <th></th>\n",
       "      <th>gene</th>\n",
       "      <th>s_value</th>\n",
       "      <th>patient</th>\n",
       "    </tr>\n",
       "  </thead>\n",
       "  <tbody>\n",
       "    <tr>\n",
       "      <th>0</th>\n",
       "      <td>ENSG00000223972.5-DDX11L1</td>\n",
       "      <td>0.007663</td>\n",
       "      <td>S_00098.gdm</td>\n",
       "    </tr>\n",
       "    <tr>\n",
       "      <th>1</th>\n",
       "      <td>ENSG00000227232.5-WASH7P</td>\n",
       "      <td>0.925051</td>\n",
       "      <td>S_00098.gdm</td>\n",
       "    </tr>\n",
       "    <tr>\n",
       "      <th>2</th>\n",
       "      <td>ENSG00000278267.1-MIR6859-3</td>\n",
       "      <td>0.000000</td>\n",
       "      <td>S_00098.gdm</td>\n",
       "    </tr>\n",
       "    <tr>\n",
       "      <th>3</th>\n",
       "      <td>ENSG00000243485.3-RP11-34P13.3</td>\n",
       "      <td>0.000000</td>\n",
       "      <td>S_00098.gdm</td>\n",
       "    </tr>\n",
       "    <tr>\n",
       "      <th>4</th>\n",
       "      <td>ENSG00000274890.1-MIR1302-9</td>\n",
       "      <td>0.000000</td>\n",
       "      <td>S_00098.gdm</td>\n",
       "    </tr>\n",
       "    <tr>\n",
       "      <th>5</th>\n",
       "      <td>ENSG00000237613.2-FAM138A</td>\n",
       "      <td>0.010907</td>\n",
       "      <td>S_00098.gdm</td>\n",
       "    </tr>\n",
       "    <tr>\n",
       "      <th>6</th>\n",
       "      <td>ENSG00000268020.3-OR4G4P</td>\n",
       "      <td>0.000000</td>\n",
       "      <td>S_00098.gdm</td>\n",
       "    </tr>\n",
       "    <tr>\n",
       "      <th>7</th>\n",
       "      <td>ENSG00000240361.1-OR4G11P</td>\n",
       "      <td>0.000000</td>\n",
       "      <td>S_00098.gdm</td>\n",
       "    </tr>\n",
       "    <tr>\n",
       "      <th>8</th>\n",
       "      <td>ENSG00000186092.4-OR4F5</td>\n",
       "      <td>0.000000</td>\n",
       "      <td>S_00098.gdm</td>\n",
       "    </tr>\n",
       "    <tr>\n",
       "      <th>9</th>\n",
       "      <td>ENSG00000238009.5-RP11-34P13.7</td>\n",
       "      <td>0.003568</td>\n",
       "      <td>S_00098.gdm</td>\n",
       "    </tr>\n",
       "    <tr>\n",
       "      <th>10</th>\n",
       "      <td>ENSG00000239945.1-RP11-34P13.8</td>\n",
       "      <td>0.000000</td>\n",
       "      <td>S_00098.gdm</td>\n",
       "    </tr>\n",
       "    <tr>\n",
       "      <th>11</th>\n",
       "      <td>ENSG00000233750.3-CICP27</td>\n",
       "      <td>0.000000</td>\n",
       "      <td>S_00098.gdm</td>\n",
       "    </tr>\n",
       "    <tr>\n",
       "      <th>12</th>\n",
       "      <td>ENSG00000268903.1-RP11-34P13.15</td>\n",
       "      <td>0.000000</td>\n",
       "      <td>S_00098.gdm</td>\n",
       "    </tr>\n",
       "    <tr>\n",
       "      <th>13</th>\n",
       "      <td>ENSG00000269981.1-RP11-34P13.16</td>\n",
       "      <td>0.093628</td>\n",
       "      <td>S_00098.gdm</td>\n",
       "    </tr>\n",
       "    <tr>\n",
       "      <th>14</th>\n",
       "      <td>ENSG00000239906.1-RP11-34P13.14</td>\n",
       "      <td>0.000000</td>\n",
       "      <td>S_00098.gdm</td>\n",
       "    </tr>\n",
       "    <tr>\n",
       "      <th>15</th>\n",
       "      <td>ENSG00000241860.5-RP11-34P13.13</td>\n",
       "      <td>0.066529</td>\n",
       "      <td>S_00098.gdm</td>\n",
       "    </tr>\n",
       "    <tr>\n",
       "      <th>16</th>\n",
       "      <td>ENSG00000222623.1-RNU6-1100P</td>\n",
       "      <td>0.000000</td>\n",
       "      <td>S_00098.gdm</td>\n",
       "    </tr>\n",
       "    <tr>\n",
       "      <th>17</th>\n",
       "      <td>ENSG00000241599.1-RP11-34P13.9</td>\n",
       "      <td>0.000000</td>\n",
       "      <td>S_00098.gdm</td>\n",
       "    </tr>\n",
       "    <tr>\n",
       "      <th>18</th>\n",
       "      <td>ENSG00000279928.1-FO538757.3</td>\n",
       "      <td>0.018517</td>\n",
       "      <td>S_00098.gdm</td>\n",
       "    </tr>\n",
       "    <tr>\n",
       "      <th>19</th>\n",
       "      <td>ENSG00000279457.2-FO538757.2</td>\n",
       "      <td>1.750773</td>\n",
       "      <td>S_00098.gdm</td>\n",
       "    </tr>\n",
       "    <tr>\n",
       "      <th>20</th>\n",
       "      <td>ENSG00000273874.1-MIR6859-2</td>\n",
       "      <td>0.195517</td>\n",
       "      <td>S_00098.gdm</td>\n",
       "    </tr>\n",
       "    <tr>\n",
       "      <th>21</th>\n",
       "      <td>ENSG00000275135.1-FO538757.1</td>\n",
       "      <td>0.000000</td>\n",
       "      <td>S_00098.gdm</td>\n",
       "    </tr>\n",
       "    <tr>\n",
       "      <th>22</th>\n",
       "      <td>ENSG00000228463.7-AP006222.2</td>\n",
       "      <td>0.016812</td>\n",
       "      <td>S_00098.gdm</td>\n",
       "    </tr>\n",
       "    <tr>\n",
       "      <th>23</th>\n",
       "      <td>ENSG00000241670.3-AP006222.1</td>\n",
       "      <td>0.000000</td>\n",
       "      <td>S_00098.gdm</td>\n",
       "    </tr>\n",
       "    <tr>\n",
       "      <th>24</th>\n",
       "      <td>ENSG00000236679.2-RP4-669L17.1</td>\n",
       "      <td>0.069066</td>\n",
       "      <td>S_00098.gdm</td>\n",
       "    </tr>\n",
       "    <tr>\n",
       "      <th>25</th>\n",
       "      <td>ENSG00000236743.1-RP5-857K21.15</td>\n",
       "      <td>0.000000</td>\n",
       "      <td>S_00098.gdm</td>\n",
       "    </tr>\n",
       "    <tr>\n",
       "      <th>26</th>\n",
       "      <td>ENSG00000236601.1-RP4-669L17.2</td>\n",
       "      <td>0.000000</td>\n",
       "      <td>S_00098.gdm</td>\n",
       "    </tr>\n",
       "    <tr>\n",
       "      <th>27</th>\n",
       "      <td>ENSG00000237094.10-RP4-669L17.10</td>\n",
       "      <td>0.038842</td>\n",
       "      <td>S_00098.gdm</td>\n",
       "    </tr>\n",
       "    <tr>\n",
       "      <th>28</th>\n",
       "      <td>ENSG00000269732.1-WBP1LP7</td>\n",
       "      <td>0.000000</td>\n",
       "      <td>S_00098.gdm</td>\n",
       "    </tr>\n",
       "    <tr>\n",
       "      <th>29</th>\n",
       "      <td>ENSG00000278566.1-OR4F29</td>\n",
       "      <td>0.000000</td>\n",
       "      <td>S_00098.gdm</td>\n",
       "    </tr>\n",
       "    <tr>\n",
       "      <th>...</th>\n",
       "      <td>...</td>\n",
       "      <td>...</td>\n",
       "      <td>...</td>\n",
       "    </tr>\n",
       "    <tr>\n",
       "      <th>60453</th>\n",
       "      <td>ENSG00000210107.1-MT-TQ</td>\n",
       "      <td>0.000000</td>\n",
       "      <td>S_00034.gdm</td>\n",
       "    </tr>\n",
       "    <tr>\n",
       "      <th>60454</th>\n",
       "      <td>ENSG00000210112.1-MT-TM</td>\n",
       "      <td>0.367595</td>\n",
       "      <td>S_00034.gdm</td>\n",
       "    </tr>\n",
       "    <tr>\n",
       "      <th>60455</th>\n",
       "      <td>ENSG00000198763.3-MT-ND2</td>\n",
       "      <td>2113.759506</td>\n",
       "      <td>S_00034.gdm</td>\n",
       "    </tr>\n",
       "    <tr>\n",
       "      <th>60456</th>\n",
       "      <td>ENSG00000210117.1-MT-TW</td>\n",
       "      <td>0.000000</td>\n",
       "      <td>S_00034.gdm</td>\n",
       "    </tr>\n",
       "    <tr>\n",
       "      <th>60457</th>\n",
       "      <td>ENSG00000210127.1-MT-TA</td>\n",
       "      <td>0.000000</td>\n",
       "      <td>S_00034.gdm</td>\n",
       "    </tr>\n",
       "    <tr>\n",
       "      <th>60458</th>\n",
       "      <td>ENSG00000210135.1-MT-TN</td>\n",
       "      <td>0.000000</td>\n",
       "      <td>S_00034.gdm</td>\n",
       "    </tr>\n",
       "    <tr>\n",
       "      <th>60459</th>\n",
       "      <td>ENSG00000210140.1-MT-TC</td>\n",
       "      <td>26.132655</td>\n",
       "      <td>S_00034.gdm</td>\n",
       "    </tr>\n",
       "    <tr>\n",
       "      <th>60460</th>\n",
       "      <td>ENSG00000210144.1-MT-TY</td>\n",
       "      <td>20.830377</td>\n",
       "      <td>S_00034.gdm</td>\n",
       "    </tr>\n",
       "    <tr>\n",
       "      <th>60461</th>\n",
       "      <td>ENSG00000198804.2-MT-CO1</td>\n",
       "      <td>6670.373022</td>\n",
       "      <td>S_00034.gdm</td>\n",
       "    </tr>\n",
       "    <tr>\n",
       "      <th>60462</th>\n",
       "      <td>ENSG00000210151.2-MT-TS1</td>\n",
       "      <td>0.000000</td>\n",
       "      <td>S_00034.gdm</td>\n",
       "    </tr>\n",
       "    <tr>\n",
       "      <th>60463</th>\n",
       "      <td>ENSG00000210154.1-MT-TD</td>\n",
       "      <td>0.000000</td>\n",
       "      <td>S_00034.gdm</td>\n",
       "    </tr>\n",
       "    <tr>\n",
       "      <th>60464</th>\n",
       "      <td>ENSG00000198712.1-MT-CO2</td>\n",
       "      <td>6947.149991</td>\n",
       "      <td>S_00034.gdm</td>\n",
       "    </tr>\n",
       "    <tr>\n",
       "      <th>60465</th>\n",
       "      <td>ENSG00000210156.1-MT-TK</td>\n",
       "      <td>0.000000</td>\n",
       "      <td>S_00034.gdm</td>\n",
       "    </tr>\n",
       "    <tr>\n",
       "      <th>60466</th>\n",
       "      <td>ENSG00000228253.1-MT-ATP8</td>\n",
       "      <td>925.955540</td>\n",
       "      <td>S_00034.gdm</td>\n",
       "    </tr>\n",
       "    <tr>\n",
       "      <th>60467</th>\n",
       "      <td>ENSG00000198899.2-MT-ATP6</td>\n",
       "      <td>3270.901416</td>\n",
       "      <td>S_00034.gdm</td>\n",
       "    </tr>\n",
       "    <tr>\n",
       "      <th>60468</th>\n",
       "      <td>ENSG00000198938.2-MT-CO3</td>\n",
       "      <td>5679.869905</td>\n",
       "      <td>S_00034.gdm</td>\n",
       "    </tr>\n",
       "    <tr>\n",
       "      <th>60469</th>\n",
       "      <td>ENSG00000210164.1-MT-TG</td>\n",
       "      <td>0.000000</td>\n",
       "      <td>S_00034.gdm</td>\n",
       "    </tr>\n",
       "    <tr>\n",
       "      <th>60470</th>\n",
       "      <td>ENSG00000198840.2-MT-ND3</td>\n",
       "      <td>2848.150690</td>\n",
       "      <td>S_00034.gdm</td>\n",
       "    </tr>\n",
       "    <tr>\n",
       "      <th>60471</th>\n",
       "      <td>ENSG00000210174.1-MT-TR</td>\n",
       "      <td>0.000000</td>\n",
       "      <td>S_00034.gdm</td>\n",
       "    </tr>\n",
       "    <tr>\n",
       "      <th>60472</th>\n",
       "      <td>ENSG00000212907.2-MT-ND4L</td>\n",
       "      <td>1098.244805</td>\n",
       "      <td>S_00034.gdm</td>\n",
       "    </tr>\n",
       "    <tr>\n",
       "      <th>60473</th>\n",
       "      <td>ENSG00000198886.2-MT-ND4</td>\n",
       "      <td>5021.910633</td>\n",
       "      <td>S_00034.gdm</td>\n",
       "    </tr>\n",
       "    <tr>\n",
       "      <th>60474</th>\n",
       "      <td>ENSG00000210176.1-MT-TH</td>\n",
       "      <td>0.000000</td>\n",
       "      <td>S_00034.gdm</td>\n",
       "    </tr>\n",
       "    <tr>\n",
       "      <th>60475</th>\n",
       "      <td>ENSG00000210184.1-MT-TS2</td>\n",
       "      <td>0.000000</td>\n",
       "      <td>S_00034.gdm</td>\n",
       "    </tr>\n",
       "    <tr>\n",
       "      <th>60476</th>\n",
       "      <td>ENSG00000210191.1-MT-TL2</td>\n",
       "      <td>0.000000</td>\n",
       "      <td>S_00034.gdm</td>\n",
       "    </tr>\n",
       "    <tr>\n",
       "      <th>60477</th>\n",
       "      <td>ENSG00000198786.2-MT-ND5</td>\n",
       "      <td>842.388722</td>\n",
       "      <td>S_00034.gdm</td>\n",
       "    </tr>\n",
       "    <tr>\n",
       "      <th>60478</th>\n",
       "      <td>ENSG00000198695.2-MT-ND6</td>\n",
       "      <td>1050.898470</td>\n",
       "      <td>S_00034.gdm</td>\n",
       "    </tr>\n",
       "    <tr>\n",
       "      <th>60479</th>\n",
       "      <td>ENSG00000210194.1-MT-TE</td>\n",
       "      <td>0.362267</td>\n",
       "      <td>S_00034.gdm</td>\n",
       "    </tr>\n",
       "    <tr>\n",
       "      <th>60480</th>\n",
       "      <td>ENSG00000198727.2-MT-CYB</td>\n",
       "      <td>3733.081050</td>\n",
       "      <td>S_00034.gdm</td>\n",
       "    </tr>\n",
       "    <tr>\n",
       "      <th>60481</th>\n",
       "      <td>ENSG00000210195.2-MT-TT</td>\n",
       "      <td>0.000000</td>\n",
       "      <td>S_00034.gdm</td>\n",
       "    </tr>\n",
       "    <tr>\n",
       "      <th>60482</th>\n",
       "      <td>ENSG00000210196.2-MT-TP</td>\n",
       "      <td>1416.343103</td>\n",
       "      <td>S_00034.gdm</td>\n",
       "    </tr>\n",
       "  </tbody>\n",
       "</table>\n",
       "<p>6592647 rows × 3 columns</p>\n",
       "</div>"
      ],
      "text/plain": [
       "                                   gene      s_value      patient\n",
       "0             ENSG00000223972.5-DDX11L1     0.007663  S_00098.gdm\n",
       "1              ENSG00000227232.5-WASH7P     0.925051  S_00098.gdm\n",
       "2           ENSG00000278267.1-MIR6859-3     0.000000  S_00098.gdm\n",
       "3        ENSG00000243485.3-RP11-34P13.3     0.000000  S_00098.gdm\n",
       "4           ENSG00000274890.1-MIR1302-9     0.000000  S_00098.gdm\n",
       "5             ENSG00000237613.2-FAM138A     0.010907  S_00098.gdm\n",
       "6              ENSG00000268020.3-OR4G4P     0.000000  S_00098.gdm\n",
       "7             ENSG00000240361.1-OR4G11P     0.000000  S_00098.gdm\n",
       "8               ENSG00000186092.4-OR4F5     0.000000  S_00098.gdm\n",
       "9        ENSG00000238009.5-RP11-34P13.7     0.003568  S_00098.gdm\n",
       "10       ENSG00000239945.1-RP11-34P13.8     0.000000  S_00098.gdm\n",
       "11             ENSG00000233750.3-CICP27     0.000000  S_00098.gdm\n",
       "12      ENSG00000268903.1-RP11-34P13.15     0.000000  S_00098.gdm\n",
       "13      ENSG00000269981.1-RP11-34P13.16     0.093628  S_00098.gdm\n",
       "14      ENSG00000239906.1-RP11-34P13.14     0.000000  S_00098.gdm\n",
       "15      ENSG00000241860.5-RP11-34P13.13     0.066529  S_00098.gdm\n",
       "16         ENSG00000222623.1-RNU6-1100P     0.000000  S_00098.gdm\n",
       "17       ENSG00000241599.1-RP11-34P13.9     0.000000  S_00098.gdm\n",
       "18         ENSG00000279928.1-FO538757.3     0.018517  S_00098.gdm\n",
       "19         ENSG00000279457.2-FO538757.2     1.750773  S_00098.gdm\n",
       "20          ENSG00000273874.1-MIR6859-2     0.195517  S_00098.gdm\n",
       "21         ENSG00000275135.1-FO538757.1     0.000000  S_00098.gdm\n",
       "22         ENSG00000228463.7-AP006222.2     0.016812  S_00098.gdm\n",
       "23         ENSG00000241670.3-AP006222.1     0.000000  S_00098.gdm\n",
       "24       ENSG00000236679.2-RP4-669L17.1     0.069066  S_00098.gdm\n",
       "25      ENSG00000236743.1-RP5-857K21.15     0.000000  S_00098.gdm\n",
       "26       ENSG00000236601.1-RP4-669L17.2     0.000000  S_00098.gdm\n",
       "27     ENSG00000237094.10-RP4-669L17.10     0.038842  S_00098.gdm\n",
       "28            ENSG00000269732.1-WBP1LP7     0.000000  S_00098.gdm\n",
       "29             ENSG00000278566.1-OR4F29     0.000000  S_00098.gdm\n",
       "...                                 ...          ...          ...\n",
       "60453           ENSG00000210107.1-MT-TQ     0.000000  S_00034.gdm\n",
       "60454           ENSG00000210112.1-MT-TM     0.367595  S_00034.gdm\n",
       "60455          ENSG00000198763.3-MT-ND2  2113.759506  S_00034.gdm\n",
       "60456           ENSG00000210117.1-MT-TW     0.000000  S_00034.gdm\n",
       "60457           ENSG00000210127.1-MT-TA     0.000000  S_00034.gdm\n",
       "60458           ENSG00000210135.1-MT-TN     0.000000  S_00034.gdm\n",
       "60459           ENSG00000210140.1-MT-TC    26.132655  S_00034.gdm\n",
       "60460           ENSG00000210144.1-MT-TY    20.830377  S_00034.gdm\n",
       "60461          ENSG00000198804.2-MT-CO1  6670.373022  S_00034.gdm\n",
       "60462          ENSG00000210151.2-MT-TS1     0.000000  S_00034.gdm\n",
       "60463           ENSG00000210154.1-MT-TD     0.000000  S_00034.gdm\n",
       "60464          ENSG00000198712.1-MT-CO2  6947.149991  S_00034.gdm\n",
       "60465           ENSG00000210156.1-MT-TK     0.000000  S_00034.gdm\n",
       "60466         ENSG00000228253.1-MT-ATP8   925.955540  S_00034.gdm\n",
       "60467         ENSG00000198899.2-MT-ATP6  3270.901416  S_00034.gdm\n",
       "60468          ENSG00000198938.2-MT-CO3  5679.869905  S_00034.gdm\n",
       "60469           ENSG00000210164.1-MT-TG     0.000000  S_00034.gdm\n",
       "60470          ENSG00000198840.2-MT-ND3  2848.150690  S_00034.gdm\n",
       "60471           ENSG00000210174.1-MT-TR     0.000000  S_00034.gdm\n",
       "60472         ENSG00000212907.2-MT-ND4L  1098.244805  S_00034.gdm\n",
       "60473          ENSG00000198886.2-MT-ND4  5021.910633  S_00034.gdm\n",
       "60474           ENSG00000210176.1-MT-TH     0.000000  S_00034.gdm\n",
       "60475          ENSG00000210184.1-MT-TS2     0.000000  S_00034.gdm\n",
       "60476          ENSG00000210191.1-MT-TL2     0.000000  S_00034.gdm\n",
       "60477          ENSG00000198786.2-MT-ND5   842.388722  S_00034.gdm\n",
       "60478          ENSG00000198695.2-MT-ND6  1050.898470  S_00034.gdm\n",
       "60479           ENSG00000210194.1-MT-TE     0.362267  S_00034.gdm\n",
       "60480          ENSG00000198727.2-MT-CYB  3733.081050  S_00034.gdm\n",
       "60481           ENSG00000210195.2-MT-TT     0.000000  S_00034.gdm\n",
       "60482           ENSG00000210196.2-MT-TP  1416.343103  S_00034.gdm\n",
       "\n",
       "[6592647 rows x 3 columns]"
      ]
     },
     "execution_count": 40,
     "metadata": {},
     "output_type": "execute_result"
    }
   ],
   "source": [
    "totaldf_ss=pd.concat(listdf_ss)\n",
    "totaldf_ss.columns=[\"gene\", \"s_value\", \"patient\"]\n",
    "totaldf_ss"
   ]
  },
  {
   "cell_type": "code",
   "execution_count": 41,
   "metadata": {},
   "outputs": [],
   "source": [
    "totaldf_sl=pd.concat(listdf_sl)\n",
    "totaldf_sl.columns=[\"gene\", \"s_value\", \"patient\"]"
   ]
  },
  {
   "cell_type": "raw",
   "metadata": {},
   "source": [
    "totaldf_r=pd.concat(listdf_r)\n",
    "totaldf_r.columns=[\"gene\", \"s_value\", \"patient\"]"
   ]
  },
  {
   "cell_type": "code",
   "execution_count": 42,
   "metadata": {},
   "outputs": [
    {
     "data": {
      "text/plain": [
       "(109, 60483)"
      ]
     },
     "execution_count": 42,
     "metadata": {},
     "output_type": "execute_result"
    }
   ],
   "source": [
    "pivoteddf_ss=totaldf_ss.pivot(index=\"patient\", columns=\"gene\", values=\"s_value\")\n",
    "pivoteddf_ss.shape"
   ]
  },
  {
   "cell_type": "code",
   "execution_count": 43,
   "metadata": {},
   "outputs": [
    {
     "data": {
      "text/plain": [
       "(34, 60483)"
      ]
     },
     "execution_count": 43,
     "metadata": {},
     "output_type": "execute_result"
    }
   ],
   "source": [
    "pivoteddf_sl=totaldf_sl.pivot(index=\"patient\", columns=\"gene\", values=\"s_value\")\n",
    "pivoteddf_sl.shape"
   ]
  },
  {
   "cell_type": "raw",
   "metadata": {},
   "source": [
    "pivoteddf_r=totaldf_r.pivot(index=\"patient\", columns=\"gene\", values=\"s_value\")\n",
    "#pivoteddf_r.head()"
   ]
  },
  {
   "cell_type": "markdown",
   "metadata": {},
   "source": [
    "trasposta=np.transpose(pivoteddf_sl)\n",
    "\n",
    "genes=[]\n",
    "\n",
    "for x in [\"-\".join(x.strip().split(\"-\")[1:])  for x in (trasposta.index)]:\n",
    "    genes.append(x)  "
   ]
  },
  {
   "cell_type": "markdown",
   "metadata": {},
   "source": [
    "trasposta['genes']=genes\n",
    "sel_col=[f for f in trasposta.columns if (\"gene\" in f or \"genes\"in f)]\n",
    "trasposta=trasposta[sel_col]\n",
    "#trasposta\n",
    "trasposta.to_csv('genes_list_sl.csv', sep='\\t')"
   ]
  },
  {
   "cell_type": "code",
   "execution_count": 44,
   "metadata": {},
   "outputs": [],
   "source": [
    "list_pv=[]\n",
    "\n",
    "\n",
    "for g in (pivoteddf_ss.columns): \n",
    "    c1=pivoteddf_ss[g].values\n",
    "    c2=pivoteddf_sl[g].values\n",
    "    m1=np.median(c1)\n",
    "    m2=np.median(c2)\n",
    "    \n",
    "    if m1==0.0 and m2==0.0:\n",
    "        pass\n",
    "    else:\n",
    "    \n",
    "        try: \n",
    "\n",
    "            #pv=scipy.stats.ttest_ind(c1,c2).pvalue\n",
    "            pv=scipy.stats.mannwhitneyu(c1,c2).pvalue\n",
    "            \n",
    "            if pv<0.001:\n",
    "                list_pv.append((g,pv,m1,m2))\n",
    "                #print(g,pv,m1,m2)\n",
    "\n",
    "        except:\n",
    "            pass"
   ]
  },
  {
   "cell_type": "code",
   "execution_count": 45,
   "metadata": {},
   "outputs": [],
   "source": [
    "results=sorted(list_pv, key=lambda x:x[1])\n",
    "len(results)\n",
    "\n",
    "\n",
    "#for h in [\"\\t\".join(map (str,list(x))) for x in results]:\n",
    "     \n",
    "dataset_result=pd.DataFrame(results)\n",
    "#results"
   ]
  },
  {
   "cell_type": "code",
   "execution_count": 46,
   "metadata": {},
   "outputs": [],
   "source": [
    "dataset_result[\"sum\"]=dataset_result[2]+dataset_result[3]\n",
    "new_ds=dataset_result[dataset_result[\"sum\"]>10]\n",
    "#new_ds.shape\n",
    "new_ds.columns=['ensemble_name', 'p_value', 'median_1', 'median_2', 'sum']"
   ]
  },
  {
   "cell_type": "code",
   "execution_count": 47,
   "metadata": {},
   "outputs": [],
   "source": [
    "names=[]\n",
    "\n",
    "for x in [\"-\".join(x.strip().split(\"-\")[1:])  for x in (new_ds['ensemble_name'])]:\n",
    "    names.append(x)    "
   ]
  },
  {
   "cell_type": "code",
   "execution_count": 48,
   "metadata": {},
   "outputs": [
    {
     "name": "stderr",
     "output_type": "stream",
     "text": [
      "/home/lalli/anaconda3/lib/python3.6/site-packages/ipykernel_launcher.py:1: SettingWithCopyWarning: \n",
      "A value is trying to be set on a copy of a slice from a DataFrame.\n",
      "Try using .loc[row_indexer,col_indexer] = value instead\n",
      "\n",
      "See the caveats in the documentation: http://pandas.pydata.org/pandas-docs/stable/indexing.html#indexing-view-versus-copy\n",
      "  \"\"\"Entry point for launching an IPython kernel.\n"
     ]
    },
    {
     "data": {
      "text/html": [
       "<div>\n",
       "<style scoped>\n",
       "    .dataframe tbody tr th:only-of-type {\n",
       "        vertical-align: middle;\n",
       "    }\n",
       "\n",
       "    .dataframe tbody tr th {\n",
       "        vertical-align: top;\n",
       "    }\n",
       "\n",
       "    .dataframe thead th {\n",
       "        text-align: right;\n",
       "    }\n",
       "</style>\n",
       "<table border=\"1\" class=\"dataframe\">\n",
       "  <thead>\n",
       "    <tr style=\"text-align: right;\">\n",
       "      <th></th>\n",
       "      <th>ensemble_name</th>\n",
       "      <th>p_value</th>\n",
       "      <th>median_1</th>\n",
       "      <th>median_2</th>\n",
       "      <th>sum</th>\n",
       "      <th>gene_symbol</th>\n",
       "    </tr>\n",
       "  </thead>\n",
       "  <tbody>\n",
       "    <tr>\n",
       "      <th>3</th>\n",
       "      <td>ENSG00000171311.11-EXOSC1</td>\n",
       "      <td>0.000018</td>\n",
       "      <td>7.347007</td>\n",
       "      <td>10.670756</td>\n",
       "      <td>18.017763</td>\n",
       "      <td>EXOSC1</td>\n",
       "    </tr>\n",
       "    <tr>\n",
       "      <th>4</th>\n",
       "      <td>ENSG00000118242.14-MREG</td>\n",
       "      <td>0.000022</td>\n",
       "      <td>5.290575</td>\n",
       "      <td>8.046079</td>\n",
       "      <td>13.336654</td>\n",
       "      <td>MREG</td>\n",
       "    </tr>\n",
       "    <tr>\n",
       "      <th>7</th>\n",
       "      <td>ENSG00000166444.16-ST5</td>\n",
       "      <td>0.000050</td>\n",
       "      <td>6.605089</td>\n",
       "      <td>4.554177</td>\n",
       "      <td>11.159265</td>\n",
       "      <td>ST5</td>\n",
       "    </tr>\n",
       "    <tr>\n",
       "      <th>8</th>\n",
       "      <td>ENSG00000119888.9-EPCAM</td>\n",
       "      <td>0.000087</td>\n",
       "      <td>134.210991</td>\n",
       "      <td>166.623280</td>\n",
       "      <td>300.834272</td>\n",
       "      <td>EPCAM</td>\n",
       "    </tr>\n",
       "    <tr>\n",
       "      <th>10</th>\n",
       "      <td>ENSG00000137393.9-RNF144B</td>\n",
       "      <td>0.000091</td>\n",
       "      <td>8.364519</td>\n",
       "      <td>15.532160</td>\n",
       "      <td>23.896678</td>\n",
       "      <td>RNF144B</td>\n",
       "    </tr>\n",
       "  </tbody>\n",
       "</table>\n",
       "</div>"
      ],
      "text/plain": [
       "                ensemble_name   p_value    median_1    median_2         sum  \\\n",
       "3   ENSG00000171311.11-EXOSC1  0.000018    7.347007   10.670756   18.017763   \n",
       "4     ENSG00000118242.14-MREG  0.000022    5.290575    8.046079   13.336654   \n",
       "7      ENSG00000166444.16-ST5  0.000050    6.605089    4.554177   11.159265   \n",
       "8     ENSG00000119888.9-EPCAM  0.000087  134.210991  166.623280  300.834272   \n",
       "10  ENSG00000137393.9-RNF144B  0.000091    8.364519   15.532160   23.896678   \n",
       "\n",
       "   gene_symbol  \n",
       "3       EXOSC1  \n",
       "4         MREG  \n",
       "7          ST5  \n",
       "8        EPCAM  \n",
       "10     RNF144B  "
      ]
     },
     "execution_count": 48,
     "metadata": {},
     "output_type": "execute_result"
    }
   ],
   "source": [
    "new_ds['gene_symbol']=names\n",
    "new_ds.head()\n",
    "#new_ds.to_csv('genes_sl_vs_ss.csv', sep='\\t')"
   ]
  },
  {
   "cell_type": "code",
   "execution_count": 49,
   "metadata": {},
   "outputs": [],
   "source": [
    "column=(dataset_result[0])\n",
    "#column=list(dataset_result[0])"
   ]
  },
  {
   "cell_type": "code",
   "execution_count": 50,
   "metadata": {},
   "outputs": [
    {
     "name": "stderr",
     "output_type": "stream",
     "text": [
      "/home/lalli/anaconda3/lib/python3.6/site-packages/ipykernel_launcher.py:2: SettingWithCopyWarning: \n",
      "A value is trying to be set on a copy of a slice from a DataFrame.\n",
      "Try using .loc[row_indexer,col_indexer] = value instead\n",
      "\n",
      "See the caveats in the documentation: http://pandas.pydata.org/pandas-docs/stable/indexing.html#indexing-view-versus-copy\n",
      "  \n"
     ]
    },
    {
     "data": {
      "text/plain": [
       "(109, 128)"
      ]
     },
     "execution_count": 50,
     "metadata": {},
     "output_type": "execute_result"
    }
   ],
   "source": [
    "pivoteddf_ss_selected=pivoteddf_ss[column]\n",
    "pivoteddf_ss_selected[\"label\"]=0\n",
    "pivoteddf_ss_selected.shape"
   ]
  },
  {
   "cell_type": "raw",
   "metadata": {},
   "source": [
    "pivoteddf_r_selected=pivoteddf_r[column]\n",
    "pivoteddf_r_selected[\"label\"]=1\n",
    "pivoteddf_r_selected.shape"
   ]
  },
  {
   "cell_type": "code",
   "execution_count": 51,
   "metadata": {},
   "outputs": [
    {
     "name": "stderr",
     "output_type": "stream",
     "text": [
      "/home/lalli/anaconda3/lib/python3.6/site-packages/ipykernel_launcher.py:2: SettingWithCopyWarning: \n",
      "A value is trying to be set on a copy of a slice from a DataFrame.\n",
      "Try using .loc[row_indexer,col_indexer] = value instead\n",
      "\n",
      "See the caveats in the documentation: http://pandas.pydata.org/pandas-docs/stable/indexing.html#indexing-view-versus-copy\n",
      "  \n"
     ]
    },
    {
     "data": {
      "text/plain": [
       "(34, 128)"
      ]
     },
     "execution_count": 51,
     "metadata": {},
     "output_type": "execute_result"
    }
   ],
   "source": [
    "pivoteddf_sl_selected=pivoteddf_sl[column]\n",
    "pivoteddf_sl_selected[\"label\"]=1\n",
    "pivoteddf_sl_selected.shape"
   ]
  },
  {
   "cell_type": "code",
   "execution_count": 52,
   "metadata": {},
   "outputs": [],
   "source": [
    "concatenated=pd.concat([pivoteddf_sl_selected, pivoteddf_ss_selected])"
   ]
  },
  {
   "cell_type": "raw",
   "metadata": {},
   "source": [
    "concatenated=pd.concat([pivoteddf_r_selected, pivoteddf_ss_selected])"
   ]
  },
  {
   "cell_type": "raw",
   "metadata": {},
   "source": [
    "concatenated=pd.concat([pivoteddf_r_selected, pivoteddf_sl_selected])"
   ]
  },
  {
   "cell_type": "code",
   "execution_count": 53,
   "metadata": {},
   "outputs": [],
   "source": [
    "X=concatenated[concatenated.columns[:-1]].values\n",
    "y=concatenated[concatenated.columns[-1]].values"
   ]
  },
  {
   "cell_type": "code",
   "execution_count": 54,
   "metadata": {},
   "outputs": [],
   "source": [
    "clf = RandomForestClassifier(n_estimators=10, max_depth=4, random_state=0)"
   ]
  },
  {
   "cell_type": "code",
   "execution_count": 55,
   "metadata": {},
   "outputs": [
    {
     "data": {
      "text/plain": [
       "RandomForestClassifier(bootstrap=True, class_weight=None, criterion='gini',\n",
       "            max_depth=4, max_features='auto', max_leaf_nodes=None,\n",
       "            min_impurity_decrease=0.0, min_impurity_split=None,\n",
       "            min_samples_leaf=1, min_samples_split=2,\n",
       "            min_weight_fraction_leaf=0.0, n_estimators=10, n_jobs=1,\n",
       "            oob_score=False, random_state=0, verbose=0, warm_start=False)"
      ]
     },
     "execution_count": 55,
     "metadata": {},
     "output_type": "execute_result"
    }
   ],
   "source": [
    "clf.fit(X, y)"
   ]
  },
  {
   "cell_type": "code",
   "execution_count": 56,
   "metadata": {},
   "outputs": [
    {
     "data": {
      "text/plain": [
       "array([1, 1, 1, 1, 1, 1, 1, 1, 1, 1, 1, 0, 1, 1, 1, 1, 1, 1, 1, 1, 1, 1,\n",
       "       1, 1, 1, 0, 1, 0, 1, 0, 0, 1, 1, 1, 0, 0, 0, 0, 0, 0, 0, 0, 0, 0,\n",
       "       0, 0, 0, 0, 0, 0, 0, 0, 0, 0, 0, 0, 0, 0, 0, 0, 0, 0, 0, 0, 0, 0,\n",
       "       0, 0, 0, 0, 0, 0, 0, 0, 0, 0, 0, 0, 0, 0, 0, 0, 0, 0, 0, 0, 0, 0,\n",
       "       0, 0, 0, 0, 0, 0, 0, 0, 0, 0, 0, 0, 0, 0, 0, 0, 0, 0, 0, 0, 0, 0,\n",
       "       0, 0, 0, 0, 0, 0, 0, 0, 0, 0, 0, 0, 0, 0, 0, 0, 0, 0, 0, 0, 0, 0,\n",
       "       0, 0, 0, 0, 0, 0, 0, 0, 0, 0, 0])"
      ]
     },
     "execution_count": 56,
     "metadata": {},
     "output_type": "execute_result"
    }
   ],
   "source": [
    "clf.predict(X)"
   ]
  },
  {
   "cell_type": "code",
   "execution_count": 57,
   "metadata": {},
   "outputs": [],
   "source": [
    "rskf = RepeatedStratifiedKFold(n_splits=5, n_repeats=20, random_state=36851234)"
   ]
  },
  {
   "cell_type": "code",
   "execution_count": 58,
   "metadata": {},
   "outputs": [],
   "source": [
    "def my_PCA(x, features, labels, i, j):\n",
    "    #x = data.loc[:, features].values\n",
    "    x = StandardScaler().fit_transform(x)\n",
    "    \n",
    "    pca= PCA(n_components=3)\n",
    "    p_comp=pca.fit_transform(x)\n",
    "    print(pca.explained_variance_ratio_)\n",
    "    p_comp=p_comp[:, [i,j]]\n",
    "    \n",
    "    principalDf = pd.DataFrame(data = p_comp\n",
    "             , columns = ['principal component '+str(i+1), 'principal component '+str(j+1)])\n",
    "    finalDf= pd.concat([principalDf, pd.Series(labels)], axis=1)\n",
    "    \n",
    "    fig = plt.figure(figsize = (8,8))\n",
    "    ax = fig.add_subplot(1,1,1) \n",
    "    ax.set_xlabel('Principal Component '+str(i+1), fontsize = 15)\n",
    "    ax.set_ylabel('Principal Component '+str(j+1), fontsize = 15)\n",
    "    ax.set_title('2 Component PCA', fontsize = 20)\n",
    "\n",
    "\n",
    "    #targets = ['Sens_l', 'Resistant', 'Sens_s']\n",
    "    targets = ['Sens_l', 'Sens_s']\n",
    "    colors = ['r', 'g']\n",
    "    for target, color in zip(targets,colors):\n",
    "        t=0\n",
    "        if target == 'Sens_l':\n",
    "            t=1\n",
    "        \n",
    "            \n",
    "        indicesToKeep = finalDf[0] == t\n",
    "        ax.scatter(finalDf.loc[indicesToKeep, 'principal component '+str(i+1)]\n",
    "                   , finalDf.loc[indicesToKeep, 'principal component '+str(j+1)]\n",
    "                   , c = color\n",
    "                   , s = 50)\n",
    "    ax.legend(targets)\n",
    "    ax.grid()"
   ]
  },
  {
   "cell_type": "code",
   "execution_count": 59,
   "metadata": {},
   "outputs": [
    {
     "name": "stdout",
     "output_type": "stream",
     "text": [
      "[0.13940999 0.06061868 0.03585433]\n"
     ]
    },
    {
     "data": {
      "image/png": "[encoded data removed]",
      "text/plain": [
       "<Figure size 576x576 with 1 Axes>"
      ]
     },
     "metadata": {},
     "output_type": "display_data"
    }
   ],
   "source": [
    "my_PCA(X, concatenated.columns, y, 0, 1)"
   ]
  },
  {
   "cell_type": "code",
   "execution_count": 60,
   "metadata": {},
   "outputs": [
    {
     "name": "stdout",
     "output_type": "stream",
     "text": [
      "# Tuning hyper-parameters for precision\n",
      "\n"
     ]
    },
    {
     "name": "stderr",
     "output_type": "stream",
     "text": [
      "/home/lalli/anaconda3/lib/python3.6/site-packages/sklearn/metrics/classification.py:1135: UndefinedMetricWarning: Precision is ill-defined and being set to 0.0 in labels with no predicted samples.\n",
      "  'precision', 'predicted', average, warn_for)\n",
      "/home/lalli/anaconda3/lib/python3.6/site-packages/sklearn/metrics/classification.py:1135: UndefinedMetricWarning: Precision is ill-defined and being set to 0.0 in labels with no predicted samples.\n",
      "  'precision', 'predicted', average, warn_for)\n",
      "/home/lalli/anaconda3/lib/python3.6/site-packages/sklearn/metrics/classification.py:1135: UndefinedMetricWarning: Precision is ill-defined and being set to 0.0 in labels with no predicted samples.\n",
      "  'precision', 'predicted', average, warn_for)\n",
      "/home/lalli/anaconda3/lib/python3.6/site-packages/sklearn/metrics/classification.py:1135: UndefinedMetricWarning: Precision is ill-defined and being set to 0.0 in labels with no predicted samples.\n",
      "  'precision', 'predicted', average, warn_for)\n",
      "/home/lalli/anaconda3/lib/python3.6/site-packages/sklearn/metrics/classification.py:1135: UndefinedMetricWarning: Precision is ill-defined and being set to 0.0 in labels with no predicted samples.\n",
      "  'precision', 'predicted', average, warn_for)\n",
      "/home/lalli/anaconda3/lib/python3.6/site-packages/sklearn/metrics/classification.py:1135: UndefinedMetricWarning: Precision is ill-defined and being set to 0.0 in labels with no predicted samples.\n",
      "  'precision', 'predicted', average, warn_for)\n",
      "/home/lalli/anaconda3/lib/python3.6/site-packages/sklearn/metrics/classification.py:1135: UndefinedMetricWarning: Precision is ill-defined and being set to 0.0 in labels with no predicted samples.\n",
      "  'precision', 'predicted', average, warn_for)\n",
      "/home/lalli/anaconda3/lib/python3.6/site-packages/sklearn/metrics/classification.py:1135: UndefinedMetricWarning: Precision is ill-defined and being set to 0.0 in labels with no predicted samples.\n",
      "  'precision', 'predicted', average, warn_for)\n",
      "/home/lalli/anaconda3/lib/python3.6/site-packages/sklearn/metrics/classification.py:1135: UndefinedMetricWarning: Precision is ill-defined and being set to 0.0 in labels with no predicted samples.\n",
      "  'precision', 'predicted', average, warn_for)\n",
      "/home/lalli/anaconda3/lib/python3.6/site-packages/sklearn/metrics/classification.py:1135: UndefinedMetricWarning: Precision is ill-defined and being set to 0.0 in labels with no predicted samples.\n",
      "  'precision', 'predicted', average, warn_for)\n",
      "/home/lalli/anaconda3/lib/python3.6/site-packages/sklearn/metrics/classification.py:1135: UndefinedMetricWarning: Precision is ill-defined and being set to 0.0 in labels with no predicted samples.\n",
      "  'precision', 'predicted', average, warn_for)\n",
      "/home/lalli/anaconda3/lib/python3.6/site-packages/sklearn/metrics/classification.py:1135: UndefinedMetricWarning: Precision is ill-defined and being set to 0.0 in labels with no predicted samples.\n",
      "  'precision', 'predicted', average, warn_for)\n"
     ]
    },
    {
     "name": "stdout",
     "output_type": "stream",
     "text": [
      "Best parameters set found on development set:\n",
      "\n",
      "{'C': 1, 'gamma': 0.0001, 'kernel': 'rbf'}\n",
      "\n",
      "Grid scores on development set:\n",
      "\n",
      "0.393 (+/-0.010) for {'C': 1, 'gamma': 0.001, 'kernel': 'rbf'}\n",
      "0.851 (+/-0.155) for {'C': 1, 'gamma': 0.0001, 'kernel': 'rbf'}\n",
      "0.393 (+/-0.010) for {'C': 10, 'gamma': 0.001, 'kernel': 'rbf'}\n",
      "0.672 (+/-0.114) for {'C': 10, 'gamma': 0.0001, 'kernel': 'rbf'}\n",
      "0.393 (+/-0.010) for {'C': 100, 'gamma': 0.001, 'kernel': 'rbf'}\n",
      "0.643 (+/-0.057) for {'C': 100, 'gamma': 0.0001, 'kernel': 'rbf'}\n",
      "0.393 (+/-0.010) for {'C': 1000, 'gamma': 0.001, 'kernel': 'rbf'}\n",
      "0.643 (+/-0.057) for {'C': 1000, 'gamma': 0.0001, 'kernel': 'rbf'}\n",
      "0.543 (+/-0.026) for {'C': 1, 'kernel': 'linear'}\n",
      "0.543 (+/-0.026) for {'C': 10, 'kernel': 'linear'}\n",
      "0.543 (+/-0.026) for {'C': 100, 'kernel': 'linear'}\n",
      "0.543 (+/-0.026) for {'C': 1000, 'kernel': 'linear'}\n",
      "\n",
      "Detailed classification report:\n",
      "\n",
      "The model is trained on the full development set.\n",
      "The scores are computed on the full evaluation set.\n",
      "\n",
      "             precision    recall  f1-score   support\n",
      "\n",
      "          0       0.71      0.96      0.81        25\n",
      "          1       0.50      0.09      0.15        11\n",
      "\n",
      "avg / total       0.64      0.69      0.61        36\n",
      "\n",
      "\n",
      "# Tuning hyper-parameters for recall\n",
      "\n"
     ]
    },
    {
     "name": "stderr",
     "output_type": "stream",
     "text": [
      "/home/lalli/anaconda3/lib/python3.6/site-packages/sklearn/metrics/classification.py:1135: UndefinedMetricWarning: Precision is ill-defined and being set to 0.0 in labels with no predicted samples.\n",
      "  'precision', 'predicted', average, warn_for)\n",
      "/home/lalli/anaconda3/lib/python3.6/site-packages/sklearn/metrics/classification.py:1135: UndefinedMetricWarning: Precision is ill-defined and being set to 0.0 in labels with no predicted samples.\n",
      "  'precision', 'predicted', average, warn_for)\n",
      "/home/lalli/anaconda3/lib/python3.6/site-packages/sklearn/metrics/classification.py:1135: UndefinedMetricWarning: Precision is ill-defined and being set to 0.0 in labels with no predicted samples.\n",
      "  'precision', 'predicted', average, warn_for)\n",
      "/home/lalli/anaconda3/lib/python3.6/site-packages/sklearn/metrics/classification.py:1135: UndefinedMetricWarning: Precision is ill-defined and being set to 0.0 in labels with no predicted samples.\n",
      "  'precision', 'predicted', average, warn_for)\n",
      "/home/lalli/anaconda3/lib/python3.6/site-packages/sklearn/metrics/classification.py:1135: UndefinedMetricWarning: Precision is ill-defined and being set to 0.0 in labels with no predicted samples.\n",
      "  'precision', 'predicted', average, warn_for)\n",
      "/home/lalli/anaconda3/lib/python3.6/site-packages/sklearn/metrics/classification.py:1135: UndefinedMetricWarning: Precision is ill-defined and being set to 0.0 in labels with no predicted samples.\n",
      "  'precision', 'predicted', average, warn_for)\n",
      "/home/lalli/anaconda3/lib/python3.6/site-packages/sklearn/metrics/classification.py:1135: UndefinedMetricWarning: Precision is ill-defined and being set to 0.0 in labels with no predicted samples.\n",
      "  'precision', 'predicted', average, warn_for)\n",
      "/home/lalli/anaconda3/lib/python3.6/site-packages/sklearn/metrics/classification.py:1135: UndefinedMetricWarning: Precision is ill-defined and being set to 0.0 in labels with no predicted samples.\n",
      "  'precision', 'predicted', average, warn_for)\n",
      "/home/lalli/anaconda3/lib/python3.6/site-packages/sklearn/metrics/classification.py:1135: UndefinedMetricWarning: Precision is ill-defined and being set to 0.0 in labels with no predicted samples.\n",
      "  'precision', 'predicted', average, warn_for)\n",
      "/home/lalli/anaconda3/lib/python3.6/site-packages/sklearn/metrics/classification.py:1135: UndefinedMetricWarning: Precision is ill-defined and being set to 0.0 in labels with no predicted samples.\n",
      "  'precision', 'predicted', average, warn_for)\n",
      "/home/lalli/anaconda3/lib/python3.6/site-packages/sklearn/metrics/classification.py:1135: UndefinedMetricWarning: Precision is ill-defined and being set to 0.0 in labels with no predicted samples.\n",
      "  'precision', 'predicted', average, warn_for)\n",
      "/home/lalli/anaconda3/lib/python3.6/site-packages/sklearn/metrics/classification.py:1135: UndefinedMetricWarning: Precision is ill-defined and being set to 0.0 in labels with no predicted samples.\n",
      "  'precision', 'predicted', average, warn_for)\n"
     ]
    },
    {
     "name": "stdout",
     "output_type": "stream",
     "text": [
      "Best parameters set found on development set:\n",
      "\n",
      "{'C': 10, 'gamma': 0.0001, 'kernel': 'rbf'}\n",
      "\n",
      "Grid scores on development set:\n",
      "\n",
      "0.500 (+/-0.000) for {'C': 1, 'gamma': 0.001, 'kernel': 'rbf'}\n",
      "0.580 (+/-0.039) for {'C': 1, 'gamma': 0.0001, 'kernel': 'rbf'}\n",
      "0.500 (+/-0.000) for {'C': 10, 'gamma': 0.001, 'kernel': 'rbf'}\n",
      "0.595 (+/-0.034) for {'C': 10, 'gamma': 0.0001, 'kernel': 'rbf'}\n",
      "0.500 (+/-0.000) for {'C': 100, 'gamma': 0.001, 'kernel': 'rbf'}\n",
      "0.589 (+/-0.029) for {'C': 100, 'gamma': 0.0001, 'kernel': 'rbf'}\n",
      "0.500 (+/-0.000) for {'C': 1000, 'gamma': 0.001, 'kernel': 'rbf'}\n",
      "0.589 (+/-0.029) for {'C': 1000, 'gamma': 0.0001, 'kernel': 'rbf'}\n",
      "0.559 (+/-0.034) for {'C': 1, 'kernel': 'linear'}\n",
      "0.559 (+/-0.034) for {'C': 10, 'kernel': 'linear'}\n",
      "0.559 (+/-0.034) for {'C': 100, 'kernel': 'linear'}\n",
      "0.559 (+/-0.034) for {'C': 1000, 'kernel': 'linear'}\n",
      "\n",
      "Detailed classification report:\n",
      "\n",
      "The model is trained on the full development set.\n",
      "The scores are computed on the full evaluation set.\n",
      "\n",
      "             precision    recall  f1-score   support\n",
      "\n",
      "          0       0.88      0.88      0.88        25\n",
      "          1       0.73      0.73      0.73        11\n",
      "\n",
      "avg / total       0.83      0.83      0.83        36\n",
      "\n",
      "\n"
     ]
    }
   ],
   "source": [
    "accuracy=[]\n",
    "precision=[]\n",
    "recall=[]\n",
    "\n",
    "loo = LeaveOneOut()\n",
    "loo.get_n_splits(X)\n",
    "\n",
    "X_train, X_test, y_train, y_test = train_test_split(X, y, test_size=0.25, random_state=0)\n",
    "\n",
    "  \n",
    "#clf = RandomForestClassifier(n_estimators=200, max_depth=15, random_state=0)\n",
    "clf = svm.SVC(kernel='rbf', class_weight='balanced')\n",
    "tuned_parameters = [{'kernel': ['rbf'], 'gamma': [1e-3, 1e-4],\n",
    "                     'C': [1, 10, 100, 1000]},\n",
    "                    {'kernel': ['linear'], 'C': [1, 10, 100, 1000]}]\n",
    "\n",
    "scores = ['precision', 'recall']\n",
    "\n",
    "for score in scores:\n",
    "    print(\"# Tuning hyper-parameters for %s\" % score)\n",
    "    print()\n",
    "\n",
    "    clf = GridSearchCV(SVC(), tuned_parameters, cv=3,\n",
    "                       scoring='%s_macro' % score)\n",
    "    clf.fit(X_train, y_train)\n",
    "\n",
    "    print(\"Best parameters set found on development set:\")\n",
    "    print()\n",
    "    print(clf.best_params_)\n",
    "    print()\n",
    "    print(\"Grid scores on development set:\")\n",
    "    print()\n",
    "    means = clf.cv_results_['mean_test_score']\n",
    "    stds = clf.cv_results_['std_test_score']\n",
    "    for mean, std, params in zip(means, stds, clf.cv_results_['params']):\n",
    "        print(\"%0.3f (+/-%0.03f) for %r\"\n",
    "              % (mean, std * 2, params))\n",
    "    print()\n",
    "\n",
    "    print(\"Detailed classification report:\")\n",
    "    print()\n",
    "    print(\"The model is trained on the full development set.\")\n",
    "    print(\"The scores are computed on the full evaluation set.\")\n",
    "    print()\n",
    "    y_true, y_pred = y_test, clf.predict(X_test)\n",
    "    print(classification_report(y_true, y_pred))\n",
    "    print()\n",
    "\n",
    "    clf.fit(X_train, y_train)\n",
    "    y_predict=clf.predict(X_test)\n",
    "    \n",
    "    accuracy.append(accuracy_score(y_test, y_predict))\n",
    "    precision.append(precision_score(y_test, y_predict))\n",
    "    recall.append(recall_score(y_test, y_predict))"
   ]
  },
  {
   "cell_type": "code",
   "execution_count": 28,
   "metadata": {},
   "outputs": [
    {
     "name": "stderr",
     "output_type": "stream",
     "text": [
      "/home/lalli/anaconda3/lib/python3.6/site-packages/sklearn/metrics/classification.py:1135: UndefinedMetricWarning: Precision is ill-defined and being set to 0.0 due to no predicted samples.\n",
      "  'precision', 'predicted', average, warn_for)\n",
      "/home/lalli/anaconda3/lib/python3.6/site-packages/sklearn/metrics/classification.py:1137: UndefinedMetricWarning: Recall is ill-defined and being set to 0.0 due to no true samples.\n",
      "  'recall', 'true', average, warn_for)\n"
     ]
    }
   ],
   "source": [
    "accuracy=[]\n",
    "precision=[]\n",
    "recall=[]\n",
    "Y_all_true=[]\n",
    "Y_all_predict=[]\n",
    "\n",
    "\n",
    "clf = svm.SVC(kernel='rbf', C=10, probability=True, gamma = 0.0001, class_weight='balanced', \n",
    "                     random_state=42)\n",
    "\n",
    "#clf = RandomForestClassifier(n_estimators=200, max_depth=20, random_state=42)\n",
    "\n",
    "for train, test in loo.split(X, y):\n",
    "    X_train = X[train]\n",
    "    y_train = y[train]\n",
    "    X_test = X[test]\n",
    "    y_test = y[test]\n",
    "    clf.fit(X_train, y_train)\n",
    "    y_predict=clf.predict(X_test)\n",
    "    \n",
    "    accuracy.append(accuracy_score(y_test, y_predict))\n",
    "    precision.append(precision_score(y_test, y_predict))\n",
    "    recall.append(recall_score(y_test, y_predict))\n",
    "    Y_all_true.append(y_test)\n",
    "    Y_all_predict.append(y_predict)"
   ]
  },
  {
   "cell_type": "code",
   "execution_count": 29,
   "metadata": {},
   "outputs": [
    {
     "data": {
      "text/plain": [
       "0.8251748251748252"
      ]
     },
     "execution_count": 29,
     "metadata": {},
     "output_type": "execute_result"
    }
   ],
   "source": [
    "np.mean(accuracy) #accuratezza\n",
    "#print(accuracy_score(y_test, y_predict))"
   ]
  },
  {
   "cell_type": "code",
   "execution_count": 30,
   "metadata": {},
   "outputs": [
    {
     "data": {
      "text/plain": [
       "0.37981749969231526"
      ]
     },
     "execution_count": 30,
     "metadata": {},
     "output_type": "execute_result"
    }
   ],
   "source": [
    "np.std(accuracy)"
   ]
  },
  {
   "cell_type": "code",
   "execution_count": 31,
   "metadata": {},
   "outputs": [
    {
     "data": {
      "text/plain": [
       "0.13986013986013987"
      ]
     },
     "execution_count": 31,
     "metadata": {},
     "output_type": "execute_result"
    }
   ],
   "source": [
    "np.mean(precision)"
   ]
  },
  {
   "cell_type": "code",
   "execution_count": 32,
   "metadata": {},
   "outputs": [
    {
     "data": {
      "text/plain": [
       "0.34684186762621666"
      ]
     },
     "execution_count": 32,
     "metadata": {},
     "output_type": "execute_result"
    }
   ],
   "source": [
    "np.std(precision)"
   ]
  },
  {
   "cell_type": "code",
   "execution_count": 33,
   "metadata": {},
   "outputs": [
    {
     "data": {
      "text/plain": [
       "0.13986013986013987"
      ]
     },
     "execution_count": 33,
     "metadata": {},
     "output_type": "execute_result"
    }
   ],
   "source": [
    "np.mean(recall)"
   ]
  },
  {
   "cell_type": "code",
   "execution_count": 34,
   "metadata": {},
   "outputs": [
    {
     "data": {
      "text/plain": [
       "0.34684186762621666"
      ]
     },
     "execution_count": 34,
     "metadata": {},
     "output_type": "execute_result"
    }
   ],
   "source": [
    "np.std(recall)"
   ]
  },
  {
   "cell_type": "code",
   "execution_count": 35,
   "metadata": {},
   "outputs": [
    {
     "data": {
      "image/png": "[encoded data removed]",
      "text/plain": [
       "<Figure size 432x288 with 1 Axes>"
      ]
     },
     "metadata": {},
     "output_type": "display_data"
    }
   ],
   "source": [
    "import numpy as np\n",
    "from scipy import interp\n",
    "import matplotlib.pyplot as plt\n",
    "\n",
    "from sklearn import svm, datasets\n",
    "from sklearn.metrics import roc_curve, auc\n",
    "from sklearn.model_selection import StratifiedShuffleSplit\n",
    "\n",
    "# #############################################################################\n",
    "# Classification and ROC analysis\n",
    "\n",
    "# Run classifier with cross-validation and plot ROC curves\n",
    "cv = StratifiedShuffleSplit(n_splits=5, test_size=0.1)\n",
    "classifier = svm.SVC(kernel='rbf', C=10, probability=True, gamma = 0.0001,\n",
    "                     random_state=42)\n",
    "#classifier = RandomForestClassifier(n_estimators=200, max_depth=15, random_state=42)\n",
    "\n",
    "\n",
    "tprs = []\n",
    "aucs = []\n",
    "mean_fpr = np.linspace(0, 1, 100)\n",
    "\n",
    "i = 0\n",
    "for train, test in cv.split(X, y):\n",
    "    probas_ = classifier.fit(X[train], y[train]).predict_proba(X[test])\n",
    "    # Compute ROC curve and area the curve\n",
    "    fpr, tpr, thresholds = roc_curve(y[test], probas_[:, 1])\n",
    "    tprs.append(interp(mean_fpr, fpr, tpr))\n",
    "    tprs[-1][0] = 0.0\n",
    "    roc_auc = auc(fpr, tpr)\n",
    "    aucs.append(roc_auc)\n",
    "    plt.plot(fpr, tpr, lw=1, alpha=0.3,\n",
    "             label='ROC fold %d (AUC = %0.2f)' % (i, roc_auc))\n",
    "\n",
    "    i += 1\n",
    "plt.plot([0, 1], [0, 1], linestyle='--', lw=2, color='r',\n",
    "         label='Chance', alpha=.8)\n",
    "\n",
    "mean_tpr = np.mean(tprs, axis=0)\n",
    "mean_tpr[-1] = 1.0\n",
    "mean_auc = auc(mean_fpr, mean_tpr)\n",
    "std_auc = np.std(aucs)\n",
    "plt.plot(mean_fpr, mean_tpr, color='b',\n",
    "         label=r'Mean ROC (AUC = %0.2f $\\pm$ %0.2f)' % (mean_auc, std_auc),\n",
    "         lw=2, alpha=.8)\n",
    "\n",
    "std_tpr = np.std(tprs, axis=0)\n",
    "tprs_upper = np.minimum(mean_tpr + std_tpr, 1)\n",
    "tprs_lower = np.maximum(mean_tpr - std_tpr, 0)\n",
    "plt.fill_between(mean_fpr, tprs_lower, tprs_upper, color='grey', alpha=.2,\n",
    "                 label=r'$\\pm$ 1 std. dev.')\n",
    "\n",
    "plt.xlim([-0.05, 1.05])\n",
    "plt.ylim([-0.05, 1.05])\n",
    "plt.xlabel('False Positive Rate')\n",
    "plt.ylabel('True Positive Rate')\n",
    "plt.title('Receiver operating characteristic example')\n",
    "plt.legend(loc=\"lower right\")\n",
    "plt.show()"
   ]
  },
  {
   "cell_type": "code",
   "execution_count": null,
   "metadata": {},
   "outputs": [],
   "source": []
  },
  {
   "cell_type": "code",
   "execution_count": null,
   "metadata": {},
   "outputs": [],
   "source": []
  },
  {
   "cell_type": "code",
   "execution_count": null,
   "metadata": {},
   "outputs": [],
   "source": []
  },
  {
   "cell_type": "code",
   "execution_count": null,
   "metadata": {},
   "outputs": [],
   "source": []
  },
  {
   "cell_type": "code",
   "execution_count": null,
   "metadata": {},
   "outputs": [],
   "source": []
  },
  {
   "cell_type": "code",
   "execution_count": null,
   "metadata": {},
   "outputs": [],
   "source": []
  }
 ],
 "metadata": {
  "kernelspec": {
   "display_name": "Python 3",
   "language": "python",
   "name": "python3"
  },
  "language_info": {
   "codemirror_mode": {
    "name": "ipython",
    "version": 3
   },
   "file_extension": ".py",
   "mimetype": "text/x-python",
   "name": "python",
   "nbconvert_exporter": "python",
   "pygments_lexer": "ipython3",
   "version": "3.6.5"
  }
 },
 "nbformat": 4,
 "nbformat_minor": 2
}
