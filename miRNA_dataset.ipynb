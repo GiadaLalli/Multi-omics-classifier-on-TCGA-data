{
 "cells": [
  {
   "cell_type": "code",
   "execution_count": 6,
   "metadata": {},
   "outputs": [],
   "source": [
    "import pandas as pd\n",
    "import os\n",
    "import collections\n",
    "import scipy.stats\n",
    "import numpy as np\n",
    "import scipy\n",
    "import csv\n",
    "import math\n",
    "from matplotlib import pyplot as plt\n",
    "import subprocess\n",
    "%matplotlib inline\n",
    "import re\n",
    "from functools import reduce"
   ]
  },
  {
   "cell_type": "code",
   "execution_count": 7,
   "metadata": {},
   "outputs": [],
   "source": [
    "string_rna=\"gene_exprs/ss_32/files/\"\n",
    "string_mirna=\"som_mut/ss_6_32/files/\""
   ]
  },
  {
   "cell_type": "code",
   "execution_count": 8,
   "metadata": {
    "scrolled": true
   },
   "outputs": [
    {
     "name": "stdout",
     "output_type": "stream",
     "text": [
      "S_00028.gdm.meta\n",
      "S_00088.gdm.meta\n"
     ]
    }
   ],
   "source": [
    "path=\"clintab_GMQL/\"+string_rna\n",
    "names=[]\n",
    "barcodes=[]\n",
    "filelist=os.listdir(path)\n",
    "filelist.sort()\n",
    "for file in filelist:\n",
    "\n",
    "    if file.endswith(\".meta\"):\n",
    "        tmp=pd.read_csv(path+file, sep='\\t', header=None, index_col=0)\n",
    "        tmp=tmp.T\n",
    "        if tmp['biospecimen__shared__bcr_patient_barcode'].values[0] in barcodes:\n",
    "            print(file)\n",
    "        else:\n",
    "            names.append(file[:11])\n",
    "            barcodes.append(tmp['biospecimen__shared__bcr_patient_barcode'].values[0])\n",
    "            \n",
    "            #mi lista i barcode in ordine per gli RNA_seq"
   ]
  },
  {
   "cell_type": "code",
   "execution_count": 9,
   "metadata": {},
   "outputs": [
    {
     "data": {
      "text/plain": [
       "107"
      ]
     },
     "execution_count": 9,
     "metadata": {},
     "output_type": "execute_result"
    }
   ],
   "source": [
    "len(barcodes)"
   ]
  },
  {
   "cell_type": "code",
   "execution_count": 117,
   "metadata": {},
   "outputs": [],
   "source": [
    "#barcodes=list(barcodes)"
   ]
  },
  {
   "cell_type": "code",
   "execution_count": 118,
   "metadata": {},
   "outputs": [],
   "source": [
    "#len(barcodes)"
   ]
  },
  {
   "cell_type": "code",
   "execution_count": 10,
   "metadata": {},
   "outputs": [],
   "source": [
    "path=\"clintab_GMQL/\"+string_mirna\n",
    "ids=[]\n",
    "\n",
    "filelist=os.listdir(path)\n",
    "filelist.sort()\n",
    "for file in filelist:\n",
    "\n",
    "    if file.endswith(\".meta\"):\n",
    "        tmp=pd.read_csv(path+file, sep='\\t', header=None, index_col=0)\n",
    "        tmp=tmp.T\n",
    "        barcode=tmp['biospecimen__shared__bcr_patient_barcode'].values[0]\n",
    "        ids.append(barcode)\n",
    "        #idx=barcodes.index(barcode)\n",
    "        #order[idx]=file[:11]\n",
    "        #notorder.append(file[:11])\n",
    "\n",
    " #mi lista i barcode in ordine per miRNA"
   ]
  },
  {
   "cell_type": "code",
   "execution_count": 11,
   "metadata": {},
   "outputs": [
    {
     "name": "stdout",
     "output_type": "stream",
     "text": [
      "TCGA-04-1530 not in index\n",
      "TCGA-24-2027 not in index\n",
      "TCGA-29-2414 not in index\n",
      "TCGA-23-1023 not in index\n",
      "TCGA-24-1544 not in index\n",
      "TCGA-09-1665 not in index\n",
      "TCGA-31-1944 not in index\n",
      "TCGA-09-1666 not in index\n",
      "TCGA-31-1946 not in index\n",
      "TCGA-24-1105 not in index\n",
      "TCGA-36-1571 not in index\n",
      "TCGA-24-0968 not in index\n",
      "TCGA-36-1574 not in index\n",
      "TCGA-13-0901 not in index\n",
      "TCGA-24-1930 not in index\n",
      "TCGA-31-1951 not in index\n",
      "TCGA-30-1860 not in index\n",
      "TCGA-25-1635 not in index\n",
      "TCGA-04-1536 not in index\n",
      "TCGA-36-1576 not in index\n",
      "TCGA-25-1633 not in index\n"
     ]
    }
   ],
   "source": [
    "set1=set(barcodes)\n",
    "set2=set(ids)\n",
    "inters=set1.intersection(set2)\n",
    "\n",
    "barcodes=list(barcodes)\n",
    "for b in barcodes:\n",
    "    if b not in inters:\n",
    "        print(b+' not in index')\n",
    "        idx=barcodes.index(b)\n",
    "        n=names[idx]\n",
    "        names.remove(n)\n",
    "        barcodes.remove(b)"
   ]
  },
  {
   "cell_type": "code",
   "execution_count": 12,
   "metadata": {},
   "outputs": [
    {
     "data": {
      "text/plain": [
       "86"
      ]
     },
     "execution_count": 12,
     "metadata": {},
     "output_type": "execute_result"
    }
   ],
   "source": [
    "len(barcodes)"
   ]
  },
  {
   "cell_type": "code",
   "execution_count": 13,
   "metadata": {},
   "outputs": [
    {
     "data": {
      "text/plain": [
       "86"
      ]
     },
     "execution_count": 13,
     "metadata": {},
     "output_type": "execute_result"
    }
   ],
   "source": [
    "len(names)"
   ]
  },
  {
   "cell_type": "code",
   "execution_count": 14,
   "metadata": {},
   "outputs": [
    {
     "data": {
      "text/plain": [
       "78"
      ]
     },
     "execution_count": 14,
     "metadata": {},
     "output_type": "execute_result"
    }
   ],
   "source": [
    "len(inters)"
   ]
  },
  {
   "cell_type": "code",
   "execution_count": 15,
   "metadata": {},
   "outputs": [],
   "source": [
    "path=\"clintab_GMQL/\"+string_mirna\n",
    "barcodes=list(inters)\n",
    "notorder=[]\n",
    "order=np.empty(len(barcodes), dtype=\"<U30\")\n",
    "filelist=os.listdir(path)\n",
    "filelist.sort()\n",
    "for file in filelist:\n",
    "\n",
    "    if file.endswith(\".meta\"):\n",
    "        #print(file)\n",
    "        tmp=pd.read_csv(path+file, sep='\\t', header=None, index_col=0)\n",
    "        tmp=tmp.T\n",
    "        barcode=tmp['biospecimen__shared__bcr_patient_barcode'].values[0]\n",
    "        if barcode in barcodes:\n",
    "            #print(barcode)\n",
    "            idx=barcodes.index(barcode)\n",
    "            order[idx]=file[:11]\n",
    "            #print(idx)\n",
    "            #print(file[:11])\n",
    "            notorder.append(file[:11])\n",
    "\n",
    "            #vettore order salvo l'ordine dei pazienti"
   ]
  },
  {
   "cell_type": "code",
   "execution_count": 40,
   "metadata": {},
   "outputs": [
    {
     "data": {
      "text/html": [
       "<div>\n",
       "<style scoped>\n",
       "    .dataframe tbody tr th:only-of-type {\n",
       "        vertical-align: middle;\n",
       "    }\n",
       "\n",
       "    .dataframe tbody tr th {\n",
       "        vertical-align: top;\n",
       "    }\n",
       "\n",
       "    .dataframe thead th {\n",
       "        text-align: right;\n",
       "    }\n",
       "</style>\n",
       "<table border=\"1\" class=\"dataframe\">\n",
       "  <thead>\n",
       "    <tr style=\"text-align: right;\">\n",
       "      <th></th>\n",
       "      <th>0</th>\n",
       "      <th>1</th>\n",
       "      <th>2</th>\n",
       "      <th>3</th>\n",
       "      <th>4</th>\n",
       "      <th>5</th>\n",
       "      <th>6</th>\n",
       "      <th>7</th>\n",
       "    </tr>\n",
       "  </thead>\n",
       "  <tbody>\n",
       "    <tr>\n",
       "      <th>0</th>\n",
       "      <td>SS_00000</td>\n",
       "      <td>chr1</td>\n",
       "      <td>17368</td>\n",
       "      <td>17436</td>\n",
       "      <td>hsa-mir-6859-1</td>\n",
       "      <td>0.00000</td>\n",
       "      <td>102466751.0</td>\n",
       "      <td>mir6859-1</td>\n",
       "    </tr>\n",
       "    <tr>\n",
       "      <th>1</th>\n",
       "      <td>SS_00000</td>\n",
       "      <td>chr1</td>\n",
       "      <td>30365</td>\n",
       "      <td>30503</td>\n",
       "      <td>hsa-mir-1302-2</td>\n",
       "      <td>0.00000</td>\n",
       "      <td>100302278.0</td>\n",
       "      <td>mir1302-2</td>\n",
       "    </tr>\n",
       "    <tr>\n",
       "      <th>2</th>\n",
       "      <td>SS_00000</td>\n",
       "      <td>chr1</td>\n",
       "      <td>187890</td>\n",
       "      <td>187958</td>\n",
       "      <td>hsa-mir-6859-2</td>\n",
       "      <td>0.00000</td>\n",
       "      <td>102465909.0</td>\n",
       "      <td>mir6859-2</td>\n",
       "    </tr>\n",
       "    <tr>\n",
       "      <th>3</th>\n",
       "      <td>SS_00000</td>\n",
       "      <td>chr1</td>\n",
       "      <td>632324</td>\n",
       "      <td>632413</td>\n",
       "      <td>hsa-mir-6723</td>\n",
       "      <td>0.00000</td>\n",
       "      <td>102465432.0</td>\n",
       "      <td>mir6723</td>\n",
       "    </tr>\n",
       "    <tr>\n",
       "      <th>4</th>\n",
       "      <td>SS_00000</td>\n",
       "      <td>chr1</td>\n",
       "      <td>1167103</td>\n",
       "      <td>1167198</td>\n",
       "      <td>hsa-mir-200b</td>\n",
       "      <td>1872.36603</td>\n",
       "      <td>406984.0</td>\n",
       "      <td>mir200b</td>\n",
       "    </tr>\n",
       "  </tbody>\n",
       "</table>\n",
       "</div>"
      ],
      "text/plain": [
       "          0     1        2        3               4           5            6  \\\n",
       "0  SS_00000  chr1    17368    17436  hsa-mir-6859-1     0.00000  102466751.0   \n",
       "1  SS_00000  chr1    30365    30503  hsa-mir-1302-2     0.00000  100302278.0   \n",
       "2  SS_00000  chr1   187890   187958  hsa-mir-6859-2     0.00000  102465909.0   \n",
       "3  SS_00000  chr1   632324   632413    hsa-mir-6723     0.00000  102465432.0   \n",
       "4  SS_00000  chr1  1167103  1167198    hsa-mir-200b  1872.36603     406984.0   \n",
       "\n",
       "           7  \n",
       "0  mir6859-1  \n",
       "1  mir1302-2  \n",
       "2  mir6859-2  \n",
       "3    mir6723  \n",
       "4    mir200b  "
      ]
     },
     "execution_count": 40,
     "metadata": {},
     "output_type": "execute_result"
    }
   ],
   "source": [
    "path=\"clintab_GMQL/\"+string_mirna\n",
    "\n",
    "col=['patient', 'chrom', 'start', 'stop', 'mirna_id', 'rpm', 'entrez_id', 'gene_symbol']\n",
    "r=[]\n",
    "for i in range(len(order)):\n",
    "    tmp=pd.read_csv(path+order[i], sep='\\t', header=None)\n",
    "    tmp=tmp.values\n",
    "    for j in range(tmp.shape[0]):\n",
    "        p='SS_00'\n",
    "        if i < 10:\n",
    "            p=p+'00'+str(i)\n",
    "        elif i< 100:\n",
    "            p=p+'0'+str(i)\n",
    "        else:\n",
    "            p=p+str(i)\n",
    "        r.append([p, tmp[j][0], tmp[j][1], tmp[j][2], tmp[j][4], tmp[j][6], tmp[j][8], tmp[j][9]])\n",
    "data=pd.DataFrame(r)\n",
    "#data.to_csv(path_or_buf ='new_data/sens_mirna.csv', sep='\\t', header=col, index=False)\n",
    "data.head() #ci sono dei nan"
   ]
  },
  {
   "cell_type": "code",
   "execution_count": 41,
   "metadata": {},
   "outputs": [],
   "source": [
    "#data.to_csv(path_or_buf ='clintab_GMQL/miRNA/sen_short_miRNA_6_32/sen_short_miRNA_6_32.csv', sep='\\t', header=col, index=False)"
   ]
  },
  {
   "cell_type": "code",
   "execution_count": 16,
   "metadata": {},
   "outputs": [
    {
     "data": {
      "text/html": [
       "<div>\n",
       "<style scoped>\n",
       "    .dataframe tbody tr th:only-of-type {\n",
       "        vertical-align: middle;\n",
       "    }\n",
       "\n",
       "    .dataframe tbody tr th {\n",
       "        vertical-align: top;\n",
       "    }\n",
       "\n",
       "    .dataframe thead th {\n",
       "        text-align: right;\n",
       "    }\n",
       "</style>\n",
       "<table border=\"1\" class=\"dataframe\">\n",
       "  <thead>\n",
       "    <tr style=\"text-align: right;\">\n",
       "      <th></th>\n",
       "      <th>0</th>\n",
       "      <th>1</th>\n",
       "      <th>2</th>\n",
       "      <th>3</th>\n",
       "      <th>4</th>\n",
       "      <th>5</th>\n",
       "      <th>6</th>\n",
       "      <th>7</th>\n",
       "      <th>8</th>\n",
       "    </tr>\n",
       "  </thead>\n",
       "  <tbody>\n",
       "    <tr>\n",
       "      <th>0</th>\n",
       "      <td>SS_00000</td>\n",
       "      <td>chr1</td>\n",
       "      <td>11868</td>\n",
       "      <td>14409</td>\n",
       "      <td>ENSG00000223972.5</td>\n",
       "      <td>100287102.0</td>\n",
       "      <td>DDX11L1</td>\n",
       "      <td>250.704165</td>\n",
       "      <td>0.009828</td>\n",
       "    </tr>\n",
       "    <tr>\n",
       "      <th>1</th>\n",
       "      <td>SS_00000</td>\n",
       "      <td>chr1</td>\n",
       "      <td>14403</td>\n",
       "      <td>29570</td>\n",
       "      <td>ENSG00000227232.5</td>\n",
       "      <td>653635.0</td>\n",
       "      <td>WASH7P</td>\n",
       "      <td>25113.097478</td>\n",
       "      <td>0.984441</td>\n",
       "    </tr>\n",
       "    <tr>\n",
       "      <th>2</th>\n",
       "      <td>SS_00000</td>\n",
       "      <td>chr1</td>\n",
       "      <td>17368</td>\n",
       "      <td>17436</td>\n",
       "      <td>ENSG00000278267.1</td>\n",
       "      <td>102465910.0</td>\n",
       "      <td>MIR6859-3</td>\n",
       "      <td>38379.858250</td>\n",
       "      <td>1.504503</td>\n",
       "    </tr>\n",
       "    <tr>\n",
       "      <th>3</th>\n",
       "      <td>SS_00000</td>\n",
       "      <td>chr1</td>\n",
       "      <td>29553</td>\n",
       "      <td>31109</td>\n",
       "      <td>ENSG00000243485.3</td>\n",
       "      <td>NaN</td>\n",
       "      <td>RP11-34P13.3</td>\n",
       "      <td>0.000000</td>\n",
       "      <td>0.000000</td>\n",
       "    </tr>\n",
       "    <tr>\n",
       "      <th>4</th>\n",
       "      <td>SS_00000</td>\n",
       "      <td>chr1</td>\n",
       "      <td>30365</td>\n",
       "      <td>30503</td>\n",
       "      <td>ENSG00000274890.1</td>\n",
       "      <td>100422831.0</td>\n",
       "      <td>MIR1302-9</td>\n",
       "      <td>0.000000</td>\n",
       "      <td>0.000000</td>\n",
       "    </tr>\n",
       "  </tbody>\n",
       "</table>\n",
       "</div>"
      ],
      "text/plain": [
       "          0     1      2      3                  4            5             6  \\\n",
       "0  SS_00000  chr1  11868  14409  ENSG00000223972.5  100287102.0       DDX11L1   \n",
       "1  SS_00000  chr1  14403  29570  ENSG00000227232.5     653635.0        WASH7P   \n",
       "2  SS_00000  chr1  17368  17436  ENSG00000278267.1  102465910.0     MIR6859-3   \n",
       "3  SS_00000  chr1  29553  31109  ENSG00000243485.3          NaN  RP11-34P13.3   \n",
       "4  SS_00000  chr1  30365  30503  ENSG00000274890.1  100422831.0     MIR1302-9   \n",
       "\n",
       "              7         8  \n",
       "0    250.704165  0.009828  \n",
       "1  25113.097478  0.984441  \n",
       "2  38379.858250  1.504503  \n",
       "3      0.000000  0.000000  \n",
       "4      0.000000  0.000000  "
      ]
     },
     "execution_count": 16,
     "metadata": {},
     "output_type": "execute_result"
    }
   ],
   "source": [
    "path=\"clintab_GMQL/\"+string_rna\n",
    "\n",
    "col=['patient', 'chrom', 'start', 'stop', 'ensemble_id', 'entrez_id', 'gene_symbol', 'fpkm_uq', 'fpkm']\n",
    "r=[]\n",
    "for i in range(len(names)):\n",
    "    tmp=pd.read_csv(path+names[i], sep='\\t', header=None)\n",
    "    tmp=tmp.values\n",
    "    for j in range(tmp.shape[0]):\n",
    "        p='SS_00'\n",
    "        if i < 10:\n",
    "            p=p+'00'+str(i)\n",
    "        elif i< 100:\n",
    "            p=p+'0'+str(i)\n",
    "        else:\n",
    "            p=p+str(i)\n",
    "        r.append([p, tmp[j][0], tmp[j][1], tmp[j][2], tmp[j][4], tmp[j][5], tmp[j][6], tmp[j][9], tmp[j][10]])\n",
    "data=pd.DataFrame(r)\n",
    "#data.to_csv(path_or_buf ='new_data/sens_rna_seq.csv', sep='\\t', header=col, index=False)\n",
    "data.head()"
   ]
  },
  {
   "cell_type": "code",
   "execution_count": 43,
   "metadata": {},
   "outputs": [],
   "source": [
    "#data.to_csv(path_or_buf ='clintab_GMQL/sens_short_6_32/sens_short_6_32_rna_seq.csv', sep='\\t', header=col, index=False)"
   ]
  },
  {
   "cell_type": "code",
   "execution_count": 44,
   "metadata": {},
   "outputs": [
    {
     "data": {
      "text/html": [
       "<div>\n",
       "<style scoped>\n",
       "    .dataframe tbody tr th:only-of-type {\n",
       "        vertical-align: middle;\n",
       "    }\n",
       "\n",
       "    .dataframe tbody tr th {\n",
       "        vertical-align: top;\n",
       "    }\n",
       "\n",
       "    .dataframe thead th {\n",
       "        text-align: right;\n",
       "    }\n",
       "</style>\n",
       "<table border=\"1\" class=\"dataframe\">\n",
       "  <thead>\n",
       "    <tr style=\"text-align: right;\">\n",
       "      <th></th>\n",
       "      <th>patient</th>\n",
       "      <th>chrom</th>\n",
       "      <th>start</th>\n",
       "      <th>stop</th>\n",
       "      <th>mirna_id</th>\n",
       "      <th>rpm</th>\n",
       "      <th>entrez_id</th>\n",
       "      <th>gene_symbol</th>\n",
       "    </tr>\n",
       "  </thead>\n",
       "  <tbody>\n",
       "    <tr>\n",
       "      <th>0</th>\n",
       "      <td>SS_00000</td>\n",
       "      <td>chr1</td>\n",
       "      <td>17368</td>\n",
       "      <td>17436</td>\n",
       "      <td>hsa-mir-6859-1</td>\n",
       "      <td>0.00000</td>\n",
       "      <td>102466751.0</td>\n",
       "      <td>mir6859-1</td>\n",
       "    </tr>\n",
       "    <tr>\n",
       "      <th>1</th>\n",
       "      <td>SS_00000</td>\n",
       "      <td>chr1</td>\n",
       "      <td>30365</td>\n",
       "      <td>30503</td>\n",
       "      <td>hsa-mir-1302-2</td>\n",
       "      <td>0.00000</td>\n",
       "      <td>100302278.0</td>\n",
       "      <td>mir1302-2</td>\n",
       "    </tr>\n",
       "    <tr>\n",
       "      <th>2</th>\n",
       "      <td>SS_00000</td>\n",
       "      <td>chr1</td>\n",
       "      <td>187890</td>\n",
       "      <td>187958</td>\n",
       "      <td>hsa-mir-6859-2</td>\n",
       "      <td>0.00000</td>\n",
       "      <td>102465909.0</td>\n",
       "      <td>mir6859-2</td>\n",
       "    </tr>\n",
       "    <tr>\n",
       "      <th>3</th>\n",
       "      <td>SS_00000</td>\n",
       "      <td>chr1</td>\n",
       "      <td>632324</td>\n",
       "      <td>632413</td>\n",
       "      <td>hsa-mir-6723</td>\n",
       "      <td>0.00000</td>\n",
       "      <td>102465432.0</td>\n",
       "      <td>mir6723</td>\n",
       "    </tr>\n",
       "    <tr>\n",
       "      <th>4</th>\n",
       "      <td>SS_00000</td>\n",
       "      <td>chr1</td>\n",
       "      <td>1167103</td>\n",
       "      <td>1167198</td>\n",
       "      <td>hsa-mir-200b</td>\n",
       "      <td>1872.36603</td>\n",
       "      <td>406984.0</td>\n",
       "      <td>mir200b</td>\n",
       "    </tr>\n",
       "  </tbody>\n",
       "</table>\n",
       "</div>"
      ],
      "text/plain": [
       "    patient chrom    start     stop        mirna_id         rpm    entrez_id  \\\n",
       "0  SS_00000  chr1    17368    17436  hsa-mir-6859-1     0.00000  102466751.0   \n",
       "1  SS_00000  chr1    30365    30503  hsa-mir-1302-2     0.00000  100302278.0   \n",
       "2  SS_00000  chr1   187890   187958  hsa-mir-6859-2     0.00000  102465909.0   \n",
       "3  SS_00000  chr1   632324   632413    hsa-mir-6723     0.00000  102465432.0   \n",
       "4  SS_00000  chr1  1167103  1167198    hsa-mir-200b  1872.36603     406984.0   \n",
       "\n",
       "  gene_symbol  \n",
       "0   mir6859-1  \n",
       "1   mir1302-2  \n",
       "2   mir6859-2  \n",
       "3     mir6723  \n",
       "4     mir200b  "
      ]
     },
     "execution_count": 44,
     "metadata": {},
     "output_type": "execute_result"
    }
   ],
   "source": [
    "res=pd.read_csv('clintab_GMQL/miRNA/sen_short_miRNA_6_32/sen_short_miRNA_6_32.csv', sep='\\t')\n",
    "res.head()"
   ]
  },
  {
   "cell_type": "code",
   "execution_count": 45,
   "metadata": {},
   "outputs": [],
   "source": [
    "col=['patient', 'chrom', 'start', 'stop', 'mirna_id', 'rpm', 'entrez_id', 'gene_symbol', 'fpkm']"
   ]
  },
  {
   "cell_type": "raw",
   "metadata": {},
   "source": [
    "res.to_csv(path_or_buf ='new_data/senl_mirna.csv', sep='\\t', header=col, index=False)"
   ]
  },
  {
   "cell_type": "code",
   "execution_count": 46,
   "metadata": {},
   "outputs": [],
   "source": [
    "fpkm=np.empty(res.shape[0], dtype=float)\n",
    "for i in range(res.shape[0]):\n",
    "    rpm=res.iloc[i]['rpm']\n",
    "\n",
    "    start=res.iloc[i]['start']\n",
    "    stop=res.iloc[i]['stop']\n",
    "    fpkm[i]=rpm*100/(2*(stop-start))\n",
    "\n"
   ]
  },
  {
   "cell_type": "code",
   "execution_count": 47,
   "metadata": {},
   "outputs": [
    {
     "data": {
      "text/html": [
       "<div>\n",
       "<style scoped>\n",
       "    .dataframe tbody tr th:only-of-type {\n",
       "        vertical-align: middle;\n",
       "    }\n",
       "\n",
       "    .dataframe tbody tr th {\n",
       "        vertical-align: top;\n",
       "    }\n",
       "\n",
       "    .dataframe thead th {\n",
       "        text-align: right;\n",
       "    }\n",
       "</style>\n",
       "<table border=\"1\" class=\"dataframe\">\n",
       "  <thead>\n",
       "    <tr style=\"text-align: right;\">\n",
       "      <th></th>\n",
       "      <th>patient</th>\n",
       "      <th>chrom</th>\n",
       "      <th>start</th>\n",
       "      <th>stop</th>\n",
       "      <th>mirna_id</th>\n",
       "      <th>rpm</th>\n",
       "      <th>entrez_id</th>\n",
       "      <th>gene_symbol</th>\n",
       "      <th>fpkm</th>\n",
       "    </tr>\n",
       "  </thead>\n",
       "  <tbody>\n",
       "    <tr>\n",
       "      <th>0</th>\n",
       "      <td>SS_00000</td>\n",
       "      <td>chr1</td>\n",
       "      <td>17368</td>\n",
       "      <td>17436</td>\n",
       "      <td>hsa-mir-6859-1</td>\n",
       "      <td>0.00000</td>\n",
       "      <td>102466751.0</td>\n",
       "      <td>mir6859-1</td>\n",
       "      <td>0.000000</td>\n",
       "    </tr>\n",
       "    <tr>\n",
       "      <th>1</th>\n",
       "      <td>SS_00000</td>\n",
       "      <td>chr1</td>\n",
       "      <td>30365</td>\n",
       "      <td>30503</td>\n",
       "      <td>hsa-mir-1302-2</td>\n",
       "      <td>0.00000</td>\n",
       "      <td>100302278.0</td>\n",
       "      <td>mir1302-2</td>\n",
       "      <td>0.000000</td>\n",
       "    </tr>\n",
       "    <tr>\n",
       "      <th>2</th>\n",
       "      <td>SS_00000</td>\n",
       "      <td>chr1</td>\n",
       "      <td>187890</td>\n",
       "      <td>187958</td>\n",
       "      <td>hsa-mir-6859-2</td>\n",
       "      <td>0.00000</td>\n",
       "      <td>102465909.0</td>\n",
       "      <td>mir6859-2</td>\n",
       "      <td>0.000000</td>\n",
       "    </tr>\n",
       "    <tr>\n",
       "      <th>3</th>\n",
       "      <td>SS_00000</td>\n",
       "      <td>chr1</td>\n",
       "      <td>632324</td>\n",
       "      <td>632413</td>\n",
       "      <td>hsa-mir-6723</td>\n",
       "      <td>0.00000</td>\n",
       "      <td>102465432.0</td>\n",
       "      <td>mir6723</td>\n",
       "      <td>0.000000</td>\n",
       "    </tr>\n",
       "    <tr>\n",
       "      <th>4</th>\n",
       "      <td>SS_00000</td>\n",
       "      <td>chr1</td>\n",
       "      <td>1167103</td>\n",
       "      <td>1167198</td>\n",
       "      <td>hsa-mir-200b</td>\n",
       "      <td>1872.36603</td>\n",
       "      <td>406984.0</td>\n",
       "      <td>mir200b</td>\n",
       "      <td>985.455805</td>\n",
       "    </tr>\n",
       "  </tbody>\n",
       "</table>\n",
       "</div>"
      ],
      "text/plain": [
       "    patient chrom    start     stop        mirna_id         rpm    entrez_id  \\\n",
       "0  SS_00000  chr1    17368    17436  hsa-mir-6859-1     0.00000  102466751.0   \n",
       "1  SS_00000  chr1    30365    30503  hsa-mir-1302-2     0.00000  100302278.0   \n",
       "2  SS_00000  chr1   187890   187958  hsa-mir-6859-2     0.00000  102465909.0   \n",
       "3  SS_00000  chr1   632324   632413    hsa-mir-6723     0.00000  102465432.0   \n",
       "4  SS_00000  chr1  1167103  1167198    hsa-mir-200b  1872.36603     406984.0   \n",
       "\n",
       "  gene_symbol        fpkm  \n",
       "0   mir6859-1    0.000000  \n",
       "1   mir1302-2    0.000000  \n",
       "2   mir6859-2    0.000000  \n",
       "3     mir6723    0.000000  \n",
       "4     mir200b  985.455805  "
      ]
     },
     "execution_count": 47,
     "metadata": {},
     "output_type": "execute_result"
    }
   ],
   "source": [
    "res['fpkm']=fpkm\n",
    "res.head()"
   ]
  },
  {
   "cell_type": "code",
   "execution_count": 48,
   "metadata": {},
   "outputs": [],
   "source": [
    "res.to_csv(path_or_buf ='clintab_GMQL/miRNA/sen_short_miRNA_6_32/sen_short_miRNA_6_32.csv', sep='\\t', header=col, index=False)"
   ]
  },
  {
   "cell_type": "code",
   "execution_count": null,
   "metadata": {},
   "outputs": [],
   "source": []
  }
 ],
 "metadata": {
  "kernelspec": {
   "display_name": "Python 3",
   "language": "python",
   "name": "python3"
  },
  "language_info": {
   "codemirror_mode": {
    "name": "ipython",
    "version": 3
   },
   "file_extension": ".py",
   "mimetype": "text/x-python",
   "name": "python",
   "nbconvert_exporter": "python",
   "pygments_lexer": "ipython3",
   "version": "3.6.5"
  }
 },
 "nbformat": 4,
 "nbformat_minor": 2
}
