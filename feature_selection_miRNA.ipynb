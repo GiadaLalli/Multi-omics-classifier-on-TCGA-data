{
 "cells": [
  {
   "cell_type": "code",
   "execution_count": 1,
   "metadata": {},
   "outputs": [],
   "source": [
    "#Import Libraries\n",
    "import subprocess\n",
    "import re\n",
    "import pandas as pd\n",
    "import os\n",
    "import collections\n",
    "import scipy.stats\n",
    "import numpy as np\n",
    "import scipy\n",
    "import csv\n",
    "import math\n",
    "import seaborn as sns\n",
    "\n",
    "from functools import reduce\n",
    "from tqdm import tqdm\n",
    "from matplotlib import pyplot as plt\n",
    "%matplotlib inline\n",
    "from pandas.tools.plotting import table\n",
    "from scipy import interp\n",
    "from sklearn import svm\n",
    "from sklearn.svm import SVC\n",
    "from sklearn.datasets import make_blobs, make_classification\n",
    "\n",
    "\n",
    "from sklearn.feature_selection import SelectKBest, chi2, VarianceThreshold\n",
    "from sklearn.model_selection import RepeatedStratifiedKFold, StratifiedKFold, GridSearchCV, LeaveOneOut, train_test_split, StratifiedShuffleSplit\n",
    "from sklearn.metrics import accuracy_score, precision_score, recall_score, confusion_matrix, auc, roc_curve, precision_recall_curve, f1_score, classification_report\n",
    "from sklearn.preprocessing import StandardScaler, MinMaxScaler\n",
    "from sklearn.ensemble import RandomForestClassifier, AdaBoostClassifier, ExtraTreesClassifier\n",
    "from sklearn.linear_model import LogisticRegression\n",
    "from sklearn.neighbors import KNeighborsClassifier  \n",
    "from sklearn.tree import DecisionTreeClassifier\n",
    "from sklearn.utils.multiclass import unique_labels\n",
    "from sklearn.decomposition import PCA\n",
    "from sklearn.manifold import TSNE\n",
    "from mpl_toolkits.mplot3d import Axes3D"
   ]
  },
  {
   "cell_type": "code",
   "execution_count": 2,
   "metadata": {},
   "outputs": [],
   "source": [
    "dset_res=pd.read_csv(\"clintab_GMQL/miRNA/res_miRNA/res_miRNA_new.csv\", delimiter='\\t')\n",
    "dset_senl=pd.read_csv(\"clintab_GMQL/miRNA/sl_miRNA_32/sl_miRNA_new.csv\", delimiter='\\t')\n",
    "dset_sens=pd.read_csv(\"clintab_GMQL/miRNA/ss_miRNA_32/ss_miRNA_new.csv\", delimiter='\\t')"
   ]
  },
  {
   "cell_type": "code",
   "execution_count": 3,
   "metadata": {},
   "outputs": [
    {
     "data": {
      "text/plain": [
       "(60, 1881)"
      ]
     },
     "execution_count": 3,
     "metadata": {},
     "output_type": "execute_result"
    }
   ],
   "source": [
    "resdf=dset_res.pivot(index=\"patient\", columns=\"mirna_id\", values=\"rpm\")\n",
    "genes = resdf.columns.tolist()\n",
    "resdf.shape"
   ]
  },
  {
   "cell_type": "code",
   "execution_count": 4,
   "metadata": {},
   "outputs": [
    {
     "data": {
      "text/plain": [
       "(34, 1881)"
      ]
     },
     "execution_count": 4,
     "metadata": {},
     "output_type": "execute_result"
    }
   ],
   "source": [
    "senldf=dset_senl.pivot(index=\"patient\", columns=\"mirna_id\", values=\"rpm\")\n",
    "senldf = senldf[genes]\n",
    "senldf.shape"
   ]
  },
  {
   "cell_type": "code",
   "execution_count": 5,
   "metadata": {},
   "outputs": [],
   "source": [
    "sensdf=dset_sens.pivot(index=\"patient\", columns=\"mirna_id\", values=\"rpm\")\n",
    "sensdf = sensdf[genes]\n",
    "#sensdf.shape"
   ]
  },
  {
   "cell_type": "code",
   "execution_count": 6,
   "metadata": {},
   "outputs": [],
   "source": [
    "resdf_median = resdf.median(0)\n",
    "senldf_median = senldf.median(0)\n",
    "sensdf_median = sensdf.median(0)"
   ]
  },
  {
   "cell_type": "code",
   "execution_count": 7,
   "metadata": {},
   "outputs": [
    {
     "data": {
      "text/plain": [
       "(1881,)"
      ]
     },
     "execution_count": 7,
     "metadata": {},
     "output_type": "execute_result"
    }
   ],
   "source": [
    "resdf_median.shape"
   ]
  },
  {
   "cell_type": "code",
   "execution_count": 8,
   "metadata": {},
   "outputs": [
    {
     "name": "stdout",
     "output_type": "stream",
     "text": [
      "1881 1881 1881\n"
     ]
    }
   ],
   "source": [
    "print(len(resdf_median), len(senldf_median), len(sensdf_median))"
   ]
  },
  {
   "cell_type": "code",
   "execution_count": 9,
   "metadata": {},
   "outputs": [
    {
     "name": "stderr",
     "output_type": "stream",
     "text": [
      "100%|██████████| 1881/1881 [00:01<00:00, 1648.01it/s]\n"
     ]
    },
    {
     "data": {
      "text/html": [
       "<div>\n",
       "<style scoped>\n",
       "    .dataframe tbody tr th:only-of-type {\n",
       "        vertical-align: middle;\n",
       "    }\n",
       "\n",
       "    .dataframe tbody tr th {\n",
       "        vertical-align: top;\n",
       "    }\n",
       "\n",
       "    .dataframe thead th {\n",
       "        text-align: right;\n",
       "    }\n",
       "</style>\n",
       "<table border=\"1\" class=\"dataframe\">\n",
       "  <thead>\n",
       "    <tr style=\"text-align: right;\">\n",
       "      <th></th>\n",
       "      <th>gene</th>\n",
       "      <th>sensitive_long_median</th>\n",
       "      <th>sensitive_short_median</th>\n",
       "      <th>mannwhiteney_pvalue</th>\n",
       "    </tr>\n",
       "  </thead>\n",
       "  <tbody>\n",
       "    <tr>\n",
       "      <th>0</th>\n",
       "      <td>hsa-let-7a-1</td>\n",
       "      <td>24112.802719</td>\n",
       "      <td>26649.792598</td>\n",
       "      <td>0.081465</td>\n",
       "    </tr>\n",
       "    <tr>\n",
       "      <th>1</th>\n",
       "      <td>hsa-let-7a-2</td>\n",
       "      <td>24083.507960</td>\n",
       "      <td>26780.061935</td>\n",
       "      <td>0.081465</td>\n",
       "    </tr>\n",
       "    <tr>\n",
       "      <th>2</th>\n",
       "      <td>hsa-let-7a-3</td>\n",
       "      <td>24323.474442</td>\n",
       "      <td>26721.749378</td>\n",
       "      <td>0.079307</td>\n",
       "    </tr>\n",
       "    <tr>\n",
       "      <th>3</th>\n",
       "      <td>hsa-let-7b</td>\n",
       "      <td>73081.638557</td>\n",
       "      <td>79906.082243</td>\n",
       "      <td>0.069808</td>\n",
       "    </tr>\n",
       "    <tr>\n",
       "      <th>4</th>\n",
       "      <td>hsa-let-7c</td>\n",
       "      <td>13086.891246</td>\n",
       "      <td>16183.028840</td>\n",
       "      <td>0.176760</td>\n",
       "    </tr>\n",
       "  </tbody>\n",
       "</table>\n",
       "</div>"
      ],
      "text/plain": [
       "           gene  sensitive_long_median  sensitive_short_median  \\\n",
       "0  hsa-let-7a-1           24112.802719            26649.792598   \n",
       "1  hsa-let-7a-2           24083.507960            26780.061935   \n",
       "2  hsa-let-7a-3           24323.474442            26721.749378   \n",
       "3    hsa-let-7b           73081.638557            79906.082243   \n",
       "4    hsa-let-7c           13086.891246            16183.028840   \n",
       "\n",
       "   mannwhiteney_pvalue  \n",
       "0             0.081465  \n",
       "1             0.081465  \n",
       "2             0.079307  \n",
       "3             0.069808  \n",
       "4             0.176760  "
      ]
     },
     "execution_count": 9,
     "metadata": {},
     "output_type": "execute_result"
    }
   ],
   "source": [
    "pvalues = []\n",
    "for gene in tqdm(genes):\n",
    "    try:\n",
    "        gene_pvalue = scipy.stats.mannwhitneyu(sensdf[gene],senldf[gene]).pvalue\n",
    "    except Exception:\n",
    "        gene_pvalue = 1\n",
    "    pvalues.append(gene_pvalue)\n",
    "       \n",
    "pvalues = pd.DataFrame({\n",
    "    \"gene\": genes,\n",
    "    #\"resistant_median\": resdf_median.values,\n",
    "    \"sensitive_long_median\": senldf_median.values,\n",
    "    \"sensitive_short_median\": sensdf_median.values,\n",
    "    \"mannwhiteney_pvalue\": pvalues\n",
    "})\n",
    "\n",
    "pvalues.head()"
   ]
  },
  {
   "cell_type": "code",
   "execution_count": 12,
   "metadata": {},
   "outputs": [
    {
     "data": {
      "text/plain": [
       "1881"
      ]
     },
     "execution_count": 12,
     "metadata": {},
     "output_type": "execute_result"
    }
   ],
   "source": [
    "len(pvalues)"
   ]
  },
  {
   "cell_type": "markdown",
   "metadata": {},
   "source": [
    "## Bonferroni"
   ]
  },
  {
   "cell_type": "code",
   "execution_count": 24,
   "metadata": {},
   "outputs": [
    {
     "name": "stdout",
     "output_type": "stream",
     "text": [
      "1432\n"
     ]
    }
   ],
   "source": [
    "threshold = 0.5\n",
    "\n",
    "significant_genes = pvalues[(pvalues.mannwhiteney_pvalue < threshold)].copy()\n",
    "significant_genes = significant_genes.sort_values(\"mannwhiteney_pvalue\", ascending=True)\n",
    "print(significant_genes.shape[0])"
   ]
  },
  {
   "cell_type": "code",
   "execution_count": 379,
   "metadata": {},
   "outputs": [],
   "source": [
    "id_name=[]\n",
    "gene_name=[]\n",
    "\n",
    "for x in [\"-\".join(x.strip().split(\"-\")[:1])  for x in (significant_genes['gene'])]:\n",
    "    id_name.append(x)   \n",
    "for x in [\"-\".join(x.strip().split(\"-\")[1:])  for x in (significant_genes['gene'])]:\n",
    "    gene_name.append(x) \n",
    "    \n",
    "significant_genes['mirna_id']=id_name\n",
    "significant_genes['gene_symbol']=gene_name\n",
    "significant_genes=pd.DataFrame(significant_genes)"
   ]
  },
  {
   "cell_type": "code",
   "execution_count": 380,
   "metadata": {
    "scrolled": true
   },
   "outputs": [
    {
     "data": {
      "text/html": [
       "<div>\n",
       "<style scoped>\n",
       "    .dataframe tbody tr th:only-of-type {\n",
       "        vertical-align: middle;\n",
       "    }\n",
       "\n",
       "    .dataframe tbody tr th {\n",
       "        vertical-align: top;\n",
       "    }\n",
       "\n",
       "    .dataframe thead th {\n",
       "        text-align: right;\n",
       "    }\n",
       "</style>\n",
       "<table border=\"1\" class=\"dataframe\">\n",
       "  <thead>\n",
       "    <tr style=\"text-align: right;\">\n",
       "      <th></th>\n",
       "      <th>gene</th>\n",
       "      <th>resistant_median</th>\n",
       "      <th>sensitive_long_median</th>\n",
       "      <th>mannwhiteney_pvalue</th>\n",
       "      <th>mirna_id</th>\n",
       "      <th>gene_symbol</th>\n",
       "    </tr>\n",
       "  </thead>\n",
       "  <tbody>\n",
       "    <tr>\n",
       "      <th>149</th>\n",
       "      <td>hsa-mir-1301</td>\n",
       "      <td>67.507454</td>\n",
       "      <td>126.137998</td>\n",
       "      <td>0.000022</td>\n",
       "      <td>hsa</td>\n",
       "      <td>mir-1301</td>\n",
       "    </tr>\n",
       "    <tr>\n",
       "      <th>795</th>\n",
       "      <td>hsa-mir-4446</td>\n",
       "      <td>0.000000</td>\n",
       "      <td>0.082939</td>\n",
       "      <td>0.000821</td>\n",
       "      <td>hsa</td>\n",
       "      <td>mir-4446</td>\n",
       "    </tr>\n",
       "    <tr>\n",
       "      <th>466</th>\n",
       "      <td>hsa-mir-3200</td>\n",
       "      <td>36.230009</td>\n",
       "      <td>79.711688</td>\n",
       "      <td>0.000857</td>\n",
       "      <td>hsa</td>\n",
       "      <td>mir-3200</td>\n",
       "    </tr>\n",
       "    <tr>\n",
       "      <th>888</th>\n",
       "      <td>hsa-mir-4524a</td>\n",
       "      <td>0.000000</td>\n",
       "      <td>0.000000</td>\n",
       "      <td>0.000992</td>\n",
       "      <td>hsa</td>\n",
       "      <td>mir-4524a</td>\n",
       "    </tr>\n",
       "    <tr>\n",
       "      <th>780</th>\n",
       "      <td>hsa-mir-4435-1</td>\n",
       "      <td>0.000000</td>\n",
       "      <td>0.000000</td>\n",
       "      <td>0.001006</td>\n",
       "      <td>hsa</td>\n",
       "      <td>mir-4435-1</td>\n",
       "    </tr>\n",
       "  </tbody>\n",
       "</table>\n",
       "</div>"
      ],
      "text/plain": [
       "               gene  resistant_median  sensitive_long_median  \\\n",
       "149    hsa-mir-1301         67.507454             126.137998   \n",
       "795    hsa-mir-4446          0.000000               0.082939   \n",
       "466    hsa-mir-3200         36.230009              79.711688   \n",
       "888   hsa-mir-4524a          0.000000               0.000000   \n",
       "780  hsa-mir-4435-1          0.000000               0.000000   \n",
       "\n",
       "     mannwhiteney_pvalue mirna_id gene_symbol  \n",
       "149             0.000022      hsa    mir-1301  \n",
       "795             0.000821      hsa    mir-4446  \n",
       "466             0.000857      hsa    mir-3200  \n",
       "888             0.000992      hsa   mir-4524a  \n",
       "780             0.001006      hsa  mir-4435-1  "
      ]
     },
     "execution_count": 380,
     "metadata": {},
     "output_type": "execute_result"
    }
   ],
   "source": [
    "significant_genes.head()"
   ]
  },
  {
   "cell_type": "raw",
   "metadata": {},
   "source": [
    "significant_genes.to_csv('new_data/miRNA/sl_ss_p_value_1.csv', sep=',', header=True, index=False)"
   ]
  },
  {
   "cell_type": "code",
   "execution_count": 17,
   "metadata": {},
   "outputs": [],
   "source": [
    "n_res=len(dset_res['patient'].unique())\n",
    "n_sens=len(dset_sens['patient'].unique())\n",
    "n_senl=len(dset_senl['patient'].unique())"
   ]
  },
  {
   "cell_type": "code",
   "execution_count": 260,
   "metadata": {},
   "outputs": [
    {
     "name": "stderr",
     "output_type": "stream",
     "text": [
      "1881it [00:01, 1028.89it/s]"
     ]
    },
    {
     "name": "stdout",
     "output_type": "stream",
     "text": [
      "1881\n"
     ]
    },
    {
     "name": "stderr",
     "output_type": "stream",
     "text": [
      "\n"
     ]
    }
   ],
   "source": [
    "p_value_corr =[]\n",
    "\n",
    "#for index, value in tqdm(significant_genes['gene'].iteritems()): \n",
    "for index, value in tqdm(pvalues['gene'].iteritems()):\n",
    "        \n",
    "        somma=len(pvalues)\n",
    "        #somma=n_res+n_sens\n",
    "        p_value=pvalues[pvalues['gene']==value]['mannwhiteney_pvalue'].iloc[0]\n",
    "        p_value_corr.append(somma*p_value)\n",
    "        #print(p_value_corr)\n",
    "print(len(p_value_corr))"
   ]
  },
  {
   "cell_type": "code",
   "execution_count": 261,
   "metadata": {},
   "outputs": [],
   "source": [
    "#significant_genes['p_value_corr']=p_value_corr\n",
    "pvalues['p_value_corr']=p_value_corr"
   ]
  },
  {
   "cell_type": "code",
   "execution_count": 262,
   "metadata": {},
   "outputs": [
    {
     "name": "stdout",
     "output_type": "stream",
     "text": [
      "0\n"
     ]
    }
   ],
   "source": [
    "threshold = 0.05\n",
    "\n",
    "significant_genes_corr = pvalues[(pvalues.p_value_corr < threshold)].copy()\n",
    "significant_genes_corr = significant_genes_corr.sort_values(\"mannwhiteney_pvalue\", ascending=True)\n",
    "print(significant_genes_corr.shape[0])\n",
    "#significant_genes_corr.to_csv('new_data/miRNA/sl_ss_bonf_miRNA.csv', sep=',', header=True, index=False)\n",
    "#significant_genes_corr.to_csv('new_data/miRNA/r_ss_bonf_miRNA.csv', sep=',', header=True, index=False)\n",
    "#significant_genes_corr.to_csv('new_data/miRNA/r_sl_bonf_miRNA.csv', sep=',', header=True, index=False)"
   ]
  },
  {
   "cell_type": "code",
   "execution_count": 252,
   "metadata": {},
   "outputs": [
    {
     "data": {
      "text/html": [
       "<div>\n",
       "<style scoped>\n",
       "    .dataframe tbody tr th:only-of-type {\n",
       "        vertical-align: middle;\n",
       "    }\n",
       "\n",
       "    .dataframe tbody tr th {\n",
       "        vertical-align: top;\n",
       "    }\n",
       "\n",
       "    .dataframe thead th {\n",
       "        text-align: right;\n",
       "    }\n",
       "</style>\n",
       "<table border=\"1\" class=\"dataframe\">\n",
       "  <thead>\n",
       "    <tr style=\"text-align: right;\">\n",
       "      <th></th>\n",
       "      <th>gene</th>\n",
       "      <th>resistant_median</th>\n",
       "      <th>sensitive_long_median</th>\n",
       "      <th>mannwhiteney_pvalue</th>\n",
       "      <th>p_value_corr</th>\n",
       "    </tr>\n",
       "  </thead>\n",
       "  <tbody>\n",
       "    <tr>\n",
       "      <th>149</th>\n",
       "      <td>hsa-mir-1301</td>\n",
       "      <td>67.507454</td>\n",
       "      <td>126.137998</td>\n",
       "      <td>0.000022</td>\n",
       "      <td>0.040941</td>\n",
       "    </tr>\n",
       "  </tbody>\n",
       "</table>\n",
       "</div>"
      ],
      "text/plain": [
       "             gene  resistant_median  sensitive_long_median  \\\n",
       "149  hsa-mir-1301         67.507454             126.137998   \n",
       "\n",
       "     mannwhiteney_pvalue  p_value_corr  \n",
       "149             0.000022      0.040941  "
      ]
     },
     "execution_count": 252,
     "metadata": {},
     "output_type": "execute_result"
    }
   ],
   "source": [
    "significant_genes_corr.head()"
   ]
  },
  {
   "cell_type": "code",
   "execution_count": null,
   "metadata": {},
   "outputs": [],
   "source": [
    "listageni=significant_genes_corr['gene'].values\n",
    "#listageni"
   ]
  },
  {
   "cell_type": "markdown",
   "metadata": {},
   "source": [
    "## Plot"
   ]
  },
  {
   "cell_type": "code",
   "execution_count": null,
   "metadata": {},
   "outputs": [],
   "source": [
    "for g in listageni:\n",
    "\n",
    "    boxplot1=pd.DataFrame(senldf, columns=[g])\n",
    "    boxplot2=pd.DataFrame(sensdf, columns=[g])\n",
    "    fig, ax= plt.subplots()\n",
    "    boxplot3=pd.concat([boxplot1, boxplot2], axis=1)\n",
    "    ax.set_title('Senl vs Sens gene: '+ g, fontsize = 10)\n",
    "\n",
    "    boxplot_tot=boxplot3.boxplot(fontsize = 10)\n",
    "    \n",
    "    #print(boxplot3)\n",
    "    plt.savefig('new_data/miRNA/boxplot/sl_ss/boxplot{}.png'.format(g))"
   ]
  },
  {
   "cell_type": "code",
   "execution_count": null,
   "metadata": {},
   "outputs": [],
   "source": [
    "sns.set(style=\"whitegrid\", font_scale=1.5)\n",
    "\n",
    "for g in listageni[:]:\n",
    "    data = pd.DataFrame(columns=[\"Values\", \"Class\"])\n",
    "    for row in senldf[g]:\n",
    "        data = data.append({\"Values\":row,\"Class\":\"SenL\"}, ignore_index=True)\n",
    "    for row in sensdf[g]:\n",
    "        data = data.append({\"Values\":row,\"Class\":\"SenS\"}, ignore_index=True)\n",
    "    \n",
    "    plt.figure()\n",
    "    sns.violinplot(data=data, x=\"Class\", y=\"Values\", palette=\"muted\", saturation=0.75, alpha=0.7)\n",
    "    plt.title(g)\n",
    "    plt.savefig('new_data/miRNA/violinplot/sl_ss/violinplot{}.png'.format(g))"
   ]
  },
  {
   "cell_type": "markdown",
   "metadata": {},
   "source": [
    "## Standard deviation"
   ]
  },
  {
   "cell_type": "code",
   "execution_count": null,
   "metadata": {},
   "outputs": [],
   "source": [
    "r_std=resdf.std()\n",
    "sl_std=senldf.std()\n",
    "ss_std=sensdf.std()\n",
    "\n",
    "#print (r_std)"
   ]
  },
  {
   "cell_type": "code",
   "execution_count": null,
   "metadata": {},
   "outputs": [],
   "source": [
    "x=r_std.sort_values(axis=0, ascending=True, inplace=False, kind='quicksort', na_position='last')\n",
    "y=ss_std.sort_values(axis=0, ascending=True, inplace=False, kind='quicksort', na_position='last')\n",
    "z=sl_std.sort_values(axis=0, ascending=True, inplace=False, kind='quicksort', na_position='last')"
   ]
  },
  {
   "cell_type": "code",
   "execution_count": null,
   "metadata": {},
   "outputs": [],
   "source": [
    "res_std=x.to_frame()\n",
    "res_std['genes']=res_std.index\n",
    "res_std.index=np.arange(len(res_std))\n",
    "#res_std"
   ]
  },
  {
   "cell_type": "code",
   "execution_count": null,
   "metadata": {},
   "outputs": [],
   "source": [
    "sens_std=y.to_frame()\n",
    "sens_std['genes']=sens_std.index\n",
    "sens_std.index=np.arange(len(sens_std))\n",
    "#sens_std"
   ]
  },
  {
   "cell_type": "code",
   "execution_count": null,
   "metadata": {},
   "outputs": [],
   "source": [
    "senl_std=z.to_frame()\n",
    "senl_std['genes']=senl_std.index\n",
    "senl_std.index=np.arange(len(senl_std))\n",
    "#senl_std"
   ]
  },
  {
   "cell_type": "code",
   "execution_count": null,
   "metadata": {},
   "outputs": [],
   "source": [
    "threshold = 100.00\n",
    "\n",
    "significant_std =y[(y > threshold)].copy()\n",
    "significant_std = significant_std.sort_values(ascending=True)\n",
    "print(significant_std.shape[0])"
   ]
  },
  {
   "cell_type": "code",
   "execution_count": null,
   "metadata": {},
   "outputs": [],
   "source": [
    "w=significant_std.to_frame()"
   ]
  },
  {
   "cell_type": "code",
   "execution_count": null,
   "metadata": {},
   "outputs": [],
   "source": [
    "w['genes']=w.index\n",
    "w.index=np.arange(len(w))\n",
    "#w"
   ]
  },
  {
   "cell_type": "code",
   "execution_count": null,
   "metadata": {},
   "outputs": [],
   "source": [
    "#controllare quali sono i geni che risultano salvi tra boxplot, std, correzioni da test multiplo (qua\n",
    "#basterebbe anche solo Bonferroni ma se poi me ne salva troppo pochi è tutt'un niente), fare \n",
    "#l'intersezione per definire le features, creare un nuovo dset contenente:\n",
    "#solo le features, e la loro posizione (chrom, start, stop da dare a Sara)"
   ]
  },
  {
   "cell_type": "code",
   "execution_count": null,
   "metadata": {},
   "outputs": [],
   "source": [
    "lista1=set(w['genes'])\n",
    "lista2=set(significant_genes_corr ['gene'])"
   ]
  },
  {
   "cell_type": "code",
   "execution_count": null,
   "metadata": {},
   "outputs": [],
   "source": [
    "inters=lista1.intersection(lista2)"
   ]
  },
  {
   "cell_type": "code",
   "execution_count": null,
   "metadata": {},
   "outputs": [],
   "source": [
    "inters"
   ]
  },
  {
   "cell_type": "markdown",
   "metadata": {},
   "source": [
    "## Appartenenza geni-classe"
   ]
  },
  {
   "cell_type": "code",
   "execution_count": null,
   "metadata": {},
   "outputs": [],
   "source": [
    "gene_sl_ss=pd.read_csv(\"new_data/miRNA/sl_ss_bonf_miRNA.csv\", delimiter=',')\n",
    "#gene_r_ss=pd.read_csv(\"new_data/miRNA/r_ss_bonf_miRNA.csv\", delimiter=',')\n",
    "gene_r_sl=pd.read_csv(\"new_data/miRNA/r_sl_bonf_miRNA.csv\", delimiter=',')"
   ]
  },
  {
   "cell_type": "code",
   "execution_count": null,
   "metadata": {},
   "outputs": [],
   "source": [
    "gene_sl_ss.head()"
   ]
  },
  {
   "cell_type": "code",
   "execution_count": null,
   "metadata": {},
   "outputs": [],
   "source": [
    "lista3=set(gene_sl_ss['gene'])\n",
    "#lista4=set(gene_r_ss['gene'])\n",
    "lista5=set(gene_r_sl['gene'])"
   ]
  },
  {
   "cell_type": "code",
   "execution_count": null,
   "metadata": {},
   "outputs": [],
   "source": [
    "inters_=lista3.intersection(lista5)"
   ]
  },
  {
   "cell_type": "code",
   "execution_count": null,
   "metadata": {},
   "outputs": [],
   "source": [
    "inters_"
   ]
  },
  {
   "cell_type": "markdown",
   "metadata": {},
   "source": [
    "## FDR"
   ]
  },
  {
   "cell_type": "code",
   "execution_count": 321,
   "metadata": {},
   "outputs": [],
   "source": [
    "#p_sorted=pvalues.sort_values(by='mannwhiteney_pvalue')"
   ]
  },
  {
   "cell_type": "code",
   "execution_count": 14,
   "metadata": {},
   "outputs": [],
   "source": [
    "p_sorted=significant_genes.sort_values(by='mannwhiteney_pvalue')"
   ]
  },
  {
   "cell_type": "code",
   "execution_count": 15,
   "metadata": {},
   "outputs": [],
   "source": [
    "a=p_sorted['mannwhiteney_pvalue'].get_values()"
   ]
  },
  {
   "cell_type": "code",
   "execution_count": 16,
   "metadata": {},
   "outputs": [
    {
     "data": {
      "text/plain": [
       "<enumerate at 0x7fd6c2f1d3a8>"
      ]
     },
     "execution_count": 16,
     "metadata": {},
     "output_type": "execute_result"
    }
   ],
   "source": [
    "enumerate(a)"
   ]
  },
  {
   "cell_type": "code",
   "execution_count": 18,
   "metadata": {},
   "outputs": [
    {
     "data": {
      "text/plain": [
       "141"
      ]
     },
     "execution_count": 18,
     "metadata": {},
     "output_type": "execute_result"
    }
   ],
   "source": [
    "#num_total_tests=len(a)\n",
    "num_total_tests=n_senl+n_sens\n",
    "num_total_tests"
   ]
  },
  {
   "cell_type": "code",
   "execution_count": 19,
   "metadata": {},
   "outputs": [],
   "source": [
    "def calc_benjamini_hochberg_corrections(p_values, num_total_tests):\n",
    "   \n",
    "    p_value_bh = []\n",
    "    for i, p_value in enumerate(p_values):\n",
    "        bh_value = p_value * num_total_tests / (i + 1)\n",
    "        #bh_value=p_value*(i+1) / num_total_tests\n",
    "        p_value_bh.append(bh_value)\n",
    "    return (p_value_bh)"
   ]
  },
  {
   "cell_type": "code",
   "execution_count": 20,
   "metadata": {},
   "outputs": [],
   "source": [
    "p_value_corr_bh=calc_benjamini_hochberg_corrections(a, num_total_tests)"
   ]
  },
  {
   "cell_type": "code",
   "execution_count": 21,
   "metadata": {},
   "outputs": [],
   "source": [
    "p_sorted['p_value_corr_bh']=p_value_corr_bh"
   ]
  },
  {
   "cell_type": "code",
   "execution_count": 22,
   "metadata": {},
   "outputs": [
    {
     "data": {
      "text/html": [
       "<div>\n",
       "<style scoped>\n",
       "    .dataframe tbody tr th:only-of-type {\n",
       "        vertical-align: middle;\n",
       "    }\n",
       "\n",
       "    .dataframe tbody tr th {\n",
       "        vertical-align: top;\n",
       "    }\n",
       "\n",
       "    .dataframe thead th {\n",
       "        text-align: right;\n",
       "    }\n",
       "</style>\n",
       "<table border=\"1\" class=\"dataframe\">\n",
       "  <thead>\n",
       "    <tr style=\"text-align: right;\">\n",
       "      <th></th>\n",
       "      <th>gene</th>\n",
       "      <th>sensitive_long_median</th>\n",
       "      <th>sensitive_short_median</th>\n",
       "      <th>mannwhiteney_pvalue</th>\n",
       "      <th>p_value_corr_bh</th>\n",
       "    </tr>\n",
       "  </thead>\n",
       "  <tbody>\n",
       "    <tr>\n",
       "      <th>1043</th>\n",
       "      <td>hsa-mir-4761</td>\n",
       "      <td>0.000000</td>\n",
       "      <td>0.000000</td>\n",
       "      <td>0.000293</td>\n",
       "      <td>0.041252</td>\n",
       "    </tr>\n",
       "    <tr>\n",
       "      <th>149</th>\n",
       "      <td>hsa-mir-1301</td>\n",
       "      <td>126.137998</td>\n",
       "      <td>76.205448</td>\n",
       "      <td>0.000303</td>\n",
       "      <td>0.021341</td>\n",
       "    </tr>\n",
       "    <tr>\n",
       "      <th>29</th>\n",
       "      <td>hsa-mir-1180</td>\n",
       "      <td>225.496917</td>\n",
       "      <td>153.256471</td>\n",
       "      <td>0.000343</td>\n",
       "      <td>0.016102</td>\n",
       "    </tr>\n",
       "    <tr>\n",
       "      <th>1507</th>\n",
       "      <td>hsa-mir-6515</td>\n",
       "      <td>0.000000</td>\n",
       "      <td>0.000000</td>\n",
       "      <td>0.000665</td>\n",
       "      <td>0.023446</td>\n",
       "    </tr>\n",
       "    <tr>\n",
       "      <th>244</th>\n",
       "      <td>hsa-mir-1912</td>\n",
       "      <td>0.000000</td>\n",
       "      <td>0.000000</td>\n",
       "      <td>0.000815</td>\n",
       "      <td>0.022973</td>\n",
       "    </tr>\n",
       "  </tbody>\n",
       "</table>\n",
       "</div>"
      ],
      "text/plain": [
       "              gene  sensitive_long_median  sensitive_short_median  \\\n",
       "1043  hsa-mir-4761               0.000000                0.000000   \n",
       "149   hsa-mir-1301             126.137998               76.205448   \n",
       "29    hsa-mir-1180             225.496917              153.256471   \n",
       "1507  hsa-mir-6515               0.000000                0.000000   \n",
       "244   hsa-mir-1912               0.000000                0.000000   \n",
       "\n",
       "      mannwhiteney_pvalue  p_value_corr_bh  \n",
       "1043             0.000293         0.041252  \n",
       "149              0.000303         0.021341  \n",
       "29               0.000343         0.016102  \n",
       "1507             0.000665         0.023446  \n",
       "244              0.000815         0.022973  "
      ]
     },
     "execution_count": 22,
     "metadata": {},
     "output_type": "execute_result"
    }
   ],
   "source": [
    "p_sorted.head()"
   ]
  },
  {
   "cell_type": "code",
   "execution_count": 23,
   "metadata": {},
   "outputs": [
    {
     "name": "stdout",
     "output_type": "stream",
     "text": [
      "176\n"
     ]
    }
   ],
   "source": [
    "threshold = 0.05\n",
    "\n",
    "significant_genes_bh = p_sorted[(p_sorted.p_value_corr_bh < threshold)].copy()\n",
    "significant_genes_bh = significant_genes_bh.sort_values(\"p_value_corr_bh\", ascending=True)\n",
    "print(significant_genes_bh.shape[0])"
   ]
  },
  {
   "cell_type": "code",
   "execution_count": 391,
   "metadata": {},
   "outputs": [
    {
     "data": {
      "text/html": [
       "<div>\n",
       "<style scoped>\n",
       "    .dataframe tbody tr th:only-of-type {\n",
       "        vertical-align: middle;\n",
       "    }\n",
       "\n",
       "    .dataframe tbody tr th {\n",
       "        vertical-align: top;\n",
       "    }\n",
       "\n",
       "    .dataframe thead th {\n",
       "        text-align: right;\n",
       "    }\n",
       "</style>\n",
       "<table border=\"1\" class=\"dataframe\">\n",
       "  <thead>\n",
       "    <tr style=\"text-align: right;\">\n",
       "      <th></th>\n",
       "      <th>gene</th>\n",
       "      <th>resistant_median</th>\n",
       "      <th>sensitive_long_median</th>\n",
       "      <th>mannwhiteney_pvalue</th>\n",
       "      <th>mirna_id</th>\n",
       "      <th>gene_symbol</th>\n",
       "      <th>p_value_corr_bh</th>\n",
       "    </tr>\n",
       "  </thead>\n",
       "  <tbody>\n",
       "    <tr>\n",
       "      <th>149</th>\n",
       "      <td>hsa-mir-1301</td>\n",
       "      <td>67.507454</td>\n",
       "      <td>126.137998</td>\n",
       "      <td>0.000022</td>\n",
       "      <td>hsa</td>\n",
       "      <td>mir-1301</td>\n",
       "      <td>0.002046</td>\n",
       "    </tr>\n",
       "    <tr>\n",
       "      <th>857</th>\n",
       "      <td>hsa-mir-4502</td>\n",
       "      <td>0.000000</td>\n",
       "      <td>0.000000</td>\n",
       "      <td>0.001244</td>\n",
       "      <td>hsa</td>\n",
       "      <td>mir-4502</td>\n",
       "      <td>0.016700</td>\n",
       "    </tr>\n",
       "    <tr>\n",
       "      <th>875</th>\n",
       "      <td>hsa-mir-4515</td>\n",
       "      <td>0.000000</td>\n",
       "      <td>0.641031</td>\n",
       "      <td>0.001110</td>\n",
       "      <td>hsa</td>\n",
       "      <td>mir-4515</td>\n",
       "      <td>0.017385</td>\n",
       "    </tr>\n",
       "    <tr>\n",
       "      <th>1754</th>\n",
       "      <td>hsa-mir-760</td>\n",
       "      <td>27.551583</td>\n",
       "      <td>56.722998</td>\n",
       "      <td>0.001605</td>\n",
       "      <td>hsa</td>\n",
       "      <td>mir-760</td>\n",
       "      <td>0.018857</td>\n",
       "    </tr>\n",
       "    <tr>\n",
       "      <th>780</th>\n",
       "      <td>hsa-mir-4435-1</td>\n",
       "      <td>0.000000</td>\n",
       "      <td>0.000000</td>\n",
       "      <td>0.001006</td>\n",
       "      <td>hsa</td>\n",
       "      <td>mir-4435-1</td>\n",
       "      <td>0.018921</td>\n",
       "    </tr>\n",
       "  </tbody>\n",
       "</table>\n",
       "</div>"
      ],
      "text/plain": [
       "                gene  resistant_median  sensitive_long_median  \\\n",
       "149     hsa-mir-1301         67.507454             126.137998   \n",
       "857     hsa-mir-4502          0.000000               0.000000   \n",
       "875     hsa-mir-4515          0.000000               0.641031   \n",
       "1754     hsa-mir-760         27.551583              56.722998   \n",
       "780   hsa-mir-4435-1          0.000000               0.000000   \n",
       "\n",
       "      mannwhiteney_pvalue mirna_id gene_symbol  p_value_corr_bh  \n",
       "149              0.000022      hsa    mir-1301         0.002046  \n",
       "857              0.001244      hsa    mir-4502         0.016700  \n",
       "875              0.001110      hsa    mir-4515         0.017385  \n",
       "1754             0.001605      hsa     mir-760         0.018857  \n",
       "780              0.001006      hsa  mir-4435-1         0.018921  "
      ]
     },
     "execution_count": 391,
     "metadata": {},
     "output_type": "execute_result"
    }
   ],
   "source": [
    "id_name=[]\n",
    "gene_name=[]\n",
    "\n",
    "for x in [\"-\".join(x.strip().split(\"-\")[:1])  for x in (significant_genes_bh['gene'])]:\n",
    "    id_name.append(x)   \n",
    "for x in [\"-\".join(x.strip().split(\"-\")[1:])  for x in (significant_genes_bh['gene'])]:\n",
    "    gene_name.append(x) \n",
    "    \n",
    "significant_genes_bh['mirna_id']=id_name\n",
    "significant_genes_bh['gene_symbol']=gene_name\n",
    "significant_genes_bh=pd.DataFrame(significant_genes_bh)\n",
    "significant_genes_bh.head()"
   ]
  },
  {
   "cell_type": "code",
   "execution_count": 392,
   "metadata": {},
   "outputs": [],
   "source": [
    "significant_genes_bh.to_csv('new_data/miRNA/res_sl_bh.csv', sep=',', header=True, index=False)"
   ]
  },
  {
   "cell_type": "markdown",
   "metadata": {},
   "source": [
    "## Holm "
   ]
  },
  {
   "cell_type": "code",
   "execution_count": 142,
   "metadata": {},
   "outputs": [],
   "source": [
    "#p_sorted=significant_genes.sort_values(by='mannwhiteney_pvalue')\n",
    "p_sorted=pvalues.sort_values(by='mannwhiteney_pvalue')"
   ]
  },
  {
   "cell_type": "code",
   "execution_count": 143,
   "metadata": {},
   "outputs": [
    {
     "data": {
      "text/plain": [
       "<enumerate at 0x7f0e8b847510>"
      ]
     },
     "execution_count": 143,
     "metadata": {},
     "output_type": "execute_result"
    }
   ],
   "source": [
    "a=p_sorted['mannwhiteney_pvalue'].get_values()\n",
    "enumerate(a)"
   ]
  },
  {
   "cell_type": "code",
   "execution_count": 144,
   "metadata": {},
   "outputs": [],
   "source": [
    "num_total_tests=len(a)\n",
    "#num_total_tests=n_sens+n_senl"
   ]
  },
  {
   "cell_type": "code",
   "execution_count": 145,
   "metadata": {},
   "outputs": [],
   "source": [
    "def calc_holm_corrections(p_values, num_total_tests):\n",
    "\n",
    "   \n",
    "    p_value_h = []\n",
    "    for i, p_value in enumerate(p_values):\n",
    "        h_value = p_value*(num_total_tests-i+1)\n",
    "        p_value_h.append(h_value)\n",
    "    return (p_value_h)"
   ]
  },
  {
   "cell_type": "code",
   "execution_count": 146,
   "metadata": {},
   "outputs": [],
   "source": [
    "p_value_corr_h=calc_holm_corrections(a, num_total_tests)"
   ]
  },
  {
   "cell_type": "code",
   "execution_count": 147,
   "metadata": {},
   "outputs": [
    {
     "data": {
      "text/html": [
       "<div>\n",
       "<style scoped>\n",
       "    .dataframe tbody tr th:only-of-type {\n",
       "        vertical-align: middle;\n",
       "    }\n",
       "\n",
       "    .dataframe tbody tr th {\n",
       "        vertical-align: top;\n",
       "    }\n",
       "\n",
       "    .dataframe thead th {\n",
       "        text-align: right;\n",
       "    }\n",
       "</style>\n",
       "<table border=\"1\" class=\"dataframe\">\n",
       "  <thead>\n",
       "    <tr style=\"text-align: right;\">\n",
       "      <th></th>\n",
       "      <th>gene</th>\n",
       "      <th>resistant_median</th>\n",
       "      <th>sensitive_long_median</th>\n",
       "      <th>mannwhiteney_pvalue</th>\n",
       "      <th>p_value_corr_h</th>\n",
       "    </tr>\n",
       "  </thead>\n",
       "  <tbody>\n",
       "    <tr>\n",
       "      <th>1533</th>\n",
       "      <td>hsa-mir-6719</td>\n",
       "      <td>0.0</td>\n",
       "      <td>0.0</td>\n",
       "      <td>0.491641</td>\n",
       "      <td>925.268526</td>\n",
       "    </tr>\n",
       "    <tr>\n",
       "      <th>409</th>\n",
       "      <td>hsa-mir-3156-1</td>\n",
       "      <td>0.0</td>\n",
       "      <td>0.0</td>\n",
       "      <td>0.491641</td>\n",
       "      <td>924.776885</td>\n",
       "    </tr>\n",
       "    <tr>\n",
       "      <th>410</th>\n",
       "      <td>hsa-mir-3156-2</td>\n",
       "      <td>0.0</td>\n",
       "      <td>0.0</td>\n",
       "      <td>0.491641</td>\n",
       "      <td>924.285244</td>\n",
       "    </tr>\n",
       "    <tr>\n",
       "      <th>417</th>\n",
       "      <td>hsa-mir-3160-2</td>\n",
       "      <td>0.0</td>\n",
       "      <td>0.0</td>\n",
       "      <td>0.491641</td>\n",
       "      <td>923.793603</td>\n",
       "    </tr>\n",
       "    <tr>\n",
       "      <th>420</th>\n",
       "      <td>hsa-mir-3163</td>\n",
       "      <td>0.0</td>\n",
       "      <td>0.0</td>\n",
       "      <td>0.491641</td>\n",
       "      <td>923.301961</td>\n",
       "    </tr>\n",
       "  </tbody>\n",
       "</table>\n",
       "</div>"
      ],
      "text/plain": [
       "                gene  resistant_median  sensitive_long_median  \\\n",
       "1533    hsa-mir-6719               0.0                    0.0   \n",
       "409   hsa-mir-3156-1               0.0                    0.0   \n",
       "410   hsa-mir-3156-2               0.0                    0.0   \n",
       "417   hsa-mir-3160-2               0.0                    0.0   \n",
       "420     hsa-mir-3163               0.0                    0.0   \n",
       "\n",
       "      mannwhiteney_pvalue  p_value_corr_h  \n",
       "1533             0.491641      925.268526  \n",
       "409              0.491641      924.776885  \n",
       "410              0.491641      924.285244  \n",
       "417              0.491641      923.793603  \n",
       "420              0.491641      923.301961  "
      ]
     },
     "execution_count": 147,
     "metadata": {},
     "output_type": "execute_result"
    }
   ],
   "source": [
    "p_sorted['p_value_corr_h']=p_value_corr_h\n",
    "p_sorted.head()"
   ]
  },
  {
   "cell_type": "code",
   "execution_count": 148,
   "metadata": {},
   "outputs": [
    {
     "name": "stdout",
     "output_type": "stream",
     "text": [
      "0\n"
     ]
    }
   ],
   "source": [
    "threshold = 0.05\n",
    "\n",
    "significant_genes_h = p_sorted[(p_sorted.p_value_corr_h < threshold)].copy()\n",
    "significant_genes_h = significant_genes_h.sort_values(\"p_value_corr_h\", ascending=True)\n",
    "print(significant_genes_h.shape[0])"
   ]
  },
  {
   "cell_type": "code",
   "execution_count": 133,
   "metadata": {},
   "outputs": [
    {
     "data": {
      "text/html": [
       "<div>\n",
       "<style scoped>\n",
       "    .dataframe tbody tr th:only-of-type {\n",
       "        vertical-align: middle;\n",
       "    }\n",
       "\n",
       "    .dataframe tbody tr th {\n",
       "        vertical-align: top;\n",
       "    }\n",
       "\n",
       "    .dataframe thead th {\n",
       "        text-align: right;\n",
       "    }\n",
       "</style>\n",
       "<table border=\"1\" class=\"dataframe\">\n",
       "  <thead>\n",
       "    <tr style=\"text-align: right;\">\n",
       "      <th></th>\n",
       "      <th>gene</th>\n",
       "      <th>resistant_median</th>\n",
       "      <th>sensitive_long_median</th>\n",
       "      <th>mannwhiteney_pvalue</th>\n",
       "      <th>p_value_corr_h</th>\n",
       "      <th>mirna_id</th>\n",
       "      <th>gene_symbol</th>\n",
       "    </tr>\n",
       "  </thead>\n",
       "  <tbody>\n",
       "    <tr>\n",
       "      <th>149</th>\n",
       "      <td>hsa-mir-1301</td>\n",
       "      <td>67.507454</td>\n",
       "      <td>126.137998</td>\n",
       "      <td>0.000022</td>\n",
       "      <td>0.040963</td>\n",
       "      <td>hsa</td>\n",
       "      <td>mir-1301</td>\n",
       "    </tr>\n",
       "  </tbody>\n",
       "</table>\n",
       "</div>"
      ],
      "text/plain": [
       "             gene  resistant_median  sensitive_long_median  \\\n",
       "149  hsa-mir-1301         67.507454             126.137998   \n",
       "\n",
       "     mannwhiteney_pvalue  p_value_corr_h mirna_id gene_symbol  \n",
       "149             0.000022        0.040963      hsa    mir-1301  "
      ]
     },
     "execution_count": 133,
     "metadata": {},
     "output_type": "execute_result"
    }
   ],
   "source": [
    "id_name=[]\n",
    "gene_name=[]\n",
    "\n",
    "for x in [\"-\".join(x.strip().split(\"-\")[:1])  for x in (significant_genes_h['gene'])]:\n",
    "    id_name.append(x)   \n",
    "for x in [\"-\".join(x.strip().split(\"-\")[1:])  for x in (significant_genes_h['gene'])]:\n",
    "    gene_name.append(x) \n",
    "    \n",
    "significant_genes_h['mirna_id']=id_name\n",
    "significant_genes_h['gene_symbol']=gene_name\n",
    "significant_genes_h=pd.DataFrame(significant_genes_h)\n",
    "significant_genes_h.head()"
   ]
  },
  {
   "cell_type": "raw",
   "metadata": {},
   "source": [
    "significant_genes_h.to_csv('new_data/miRNA/res_sl_h.csv', sep=',', header=True, index=False)"
   ]
  },
  {
   "cell_type": "markdown",
   "metadata": {},
   "source": [
    "## FDR other method"
   ]
  },
  {
   "cell_type": "code",
   "execution_count": 134,
   "metadata": {},
   "outputs": [],
   "source": [
    "from statsmodels.stats.multitest import fdrcorrection"
   ]
  },
  {
   "cell_type": "code",
   "execution_count": 135,
   "metadata": {},
   "outputs": [],
   "source": [
    "p_sorted=pvalues.sort_values(by='mannwhiteney_pvalue')"
   ]
  },
  {
   "cell_type": "code",
   "execution_count": 136,
   "metadata": {},
   "outputs": [
    {
     "data": {
      "text/html": [
       "<div>\n",
       "<style scoped>\n",
       "    .dataframe tbody tr th:only-of-type {\n",
       "        vertical-align: middle;\n",
       "    }\n",
       "\n",
       "    .dataframe tbody tr th {\n",
       "        vertical-align: top;\n",
       "    }\n",
       "\n",
       "    .dataframe thead th {\n",
       "        text-align: right;\n",
       "    }\n",
       "</style>\n",
       "<table border=\"1\" class=\"dataframe\">\n",
       "  <thead>\n",
       "    <tr style=\"text-align: right;\">\n",
       "      <th></th>\n",
       "      <th>gene</th>\n",
       "      <th>resistant_median</th>\n",
       "      <th>sensitive_long_median</th>\n",
       "      <th>mannwhiteney_pvalue</th>\n",
       "      <th>p_value_corr_FDR</th>\n",
       "    </tr>\n",
       "  </thead>\n",
       "  <tbody>\n",
       "    <tr>\n",
       "      <th>149</th>\n",
       "      <td>hsa-mir-1301</td>\n",
       "      <td>67.507454</td>\n",
       "      <td>126.137998</td>\n",
       "      <td>0.000022</td>\n",
       "      <td>0.550761</td>\n",
       "    </tr>\n",
       "    <tr>\n",
       "      <th>795</th>\n",
       "      <td>hsa-mir-4446</td>\n",
       "      <td>0.000000</td>\n",
       "      <td>0.082939</td>\n",
       "      <td>0.000821</td>\n",
       "      <td>0.550761</td>\n",
       "    </tr>\n",
       "    <tr>\n",
       "      <th>466</th>\n",
       "      <td>hsa-mir-3200</td>\n",
       "      <td>36.230009</td>\n",
       "      <td>79.711688</td>\n",
       "      <td>0.000857</td>\n",
       "      <td>0.550761</td>\n",
       "    </tr>\n",
       "    <tr>\n",
       "      <th>888</th>\n",
       "      <td>hsa-mir-4524a</td>\n",
       "      <td>0.000000</td>\n",
       "      <td>0.000000</td>\n",
       "      <td>0.000992</td>\n",
       "      <td>0.550761</td>\n",
       "    </tr>\n",
       "    <tr>\n",
       "      <th>780</th>\n",
       "      <td>hsa-mir-4435-1</td>\n",
       "      <td>0.000000</td>\n",
       "      <td>0.000000</td>\n",
       "      <td>0.001006</td>\n",
       "      <td>0.586241</td>\n",
       "    </tr>\n",
       "  </tbody>\n",
       "</table>\n",
       "</div>"
      ],
      "text/plain": [
       "               gene  resistant_median  sensitive_long_median  \\\n",
       "149    hsa-mir-1301         67.507454             126.137998   \n",
       "795    hsa-mir-4446          0.000000               0.082939   \n",
       "466    hsa-mir-3200         36.230009              79.711688   \n",
       "888   hsa-mir-4524a          0.000000               0.000000   \n",
       "780  hsa-mir-4435-1          0.000000               0.000000   \n",
       "\n",
       "     mannwhiteney_pvalue  p_value_corr_FDR  \n",
       "149             0.000022          0.550761  \n",
       "795             0.000821          0.550761  \n",
       "466             0.000857          0.550761  \n",
       "888             0.000992          0.550761  \n",
       "780             0.001006          0.586241  "
      ]
     },
     "execution_count": 136,
     "metadata": {},
     "output_type": "execute_result"
    }
   ],
   "source": [
    "pvalues_FDR=pvalues['mannwhiteney_pvalue']\n",
    "p_corrected=fdrcorrection(pvalues_FDR, alpha=0.05, method='indep')\n",
    "w=p_corrected[1]\n",
    "\n",
    "p_sorted['p_value_corr_FDR']=w\n",
    "p_sorted.head()"
   ]
  },
  {
   "cell_type": "code",
   "execution_count": 137,
   "metadata": {},
   "outputs": [
    {
     "name": "stdout",
     "output_type": "stream",
     "text": [
      "1\n"
     ]
    }
   ],
   "source": [
    "threshold = 0.05\n",
    "\n",
    "significant_genes_bh = p_sorted[(p_sorted.p_value_corr_FDR < threshold)].copy()\n",
    "significant_genes_bh = significant_genes_bh.sort_values(\"p_value_corr_FDR\", ascending=True)\n",
    "print(significant_genes_bh.shape[0])"
   ]
  },
  {
   "cell_type": "code",
   "execution_count": null,
   "metadata": {},
   "outputs": [],
   "source": []
  }
 ],
 "metadata": {
  "kernelspec": {
   "display_name": "Python 3",
   "language": "python",
   "name": "python3"
  },
  "language_info": {
   "codemirror_mode": {
    "name": "ipython",
    "version": 3
   },
   "file_extension": ".py",
   "mimetype": "text/x-python",
   "name": "python",
   "nbconvert_exporter": "python",
   "pygments_lexer": "ipython3",
   "version": "3.6.5"
  }
 },
 "nbformat": 4,
 "nbformat_minor": 2
}
