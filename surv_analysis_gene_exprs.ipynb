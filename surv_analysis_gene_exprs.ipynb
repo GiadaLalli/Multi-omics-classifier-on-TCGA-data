{
 "cells": [
  {
   "cell_type": "code",
   "execution_count": 31,
   "metadata": {},
   "outputs": [],
   "source": [
    "from lifelines import CoxPHFitter\n",
    "from tqdm import tqdm\n",
    "import pandas as pd\n",
    "import numpy as np\n",
    "import scipy\n",
    "import csv\n",
    "import os\n",
    "import math\n",
    "from lifelines.utils import k_fold_cross_validation\n",
    "from matplotlib import pyplot as plt\n",
    "%matplotlib inline\n",
    "import collections\n",
    "import scipy.stats\n",
    "import statsmodels.api as sm\n",
    "from sklearn.model_selection import train_test_split \n",
    "from statsmodels.stats.weightstats import ztest\n",
    "from scipy import interp\n",
    "import subprocess\n",
    "import re\n",
    "import seaborn as sns\n",
    "from functools import reduce\n",
    "from sklearn.model_selection import train_test_split "
   ]
  },
  {
   "cell_type": "markdown",
   "metadata": {},
   "source": [
    "## Creazione dei dataset da Excel"
   ]
  },
  {
   "cell_type": "raw",
   "metadata": {},
   "source": [
    "string_gene_exprs_ss=\"gene_exprs/ss_32/files/\"\n",
    "string_gene_exprs_sl=\"gene_exprs/sl_32/files/\"\n",
    "string_gene_exprs_res=\"gene_exprs/res/files/\""
   ]
  },
  {
   "cell_type": "raw",
   "metadata": {},
   "source": [
    "path=\"clintab_GMQL/\"+string_gene_exprs_res\n",
    "names=[]\n",
    "barcodes_res=[]\n",
    "filelist=os.listdir(path)\n",
    "filelist.sort()\n",
    "for file in filelist:\n",
    "\n",
    "    if file.endswith(\".meta\"):\n",
    "        tmp=pd.read_csv(path+file, sep='\\t', header=None, index_col=0)\n",
    "        tmp=tmp.T\n",
    "        if tmp['biospecimen__shared__bcr_patient_barcode'].values[0] in barcodes_res:\n",
    "            print(file)\n",
    "        else:\n",
    "            names.append(file[:11])\n",
    "            barcodes_res.append(tmp['biospecimen__shared__bcr_patient_barcode'].values[0])"
   ]
  },
  {
   "cell_type": "raw",
   "metadata": {},
   "source": [
    "file=pd.read_excel(\"TCGA-OV-Clinical-Table_S1.2.xlsx\", sheetname=\"KeyclinicalDAta\", index_col=0)\n",
    "file.head()"
   ]
  },
  {
   "cell_type": "raw",
   "metadata": {},
   "source": [
    "#Resistant\n",
    "pfs=[]\n",
    "pfi=[]\n",
    "ovs=[]\n",
    "evento=[]\n",
    "for t in barcodes_res:\n",
    "    x=file.loc[t]['PlatinumFreeInterval (mos)*']\n",
    "    pfi.append(x)\n",
    "    y=file.loc[t]['OverallSurvival(mos)']\n",
    "    ovs.append(y)\n",
    "    z=file.loc[t]['ProgressionFreeSurvival (mos)#']\n",
    "    pfs.append(z)\n",
    "    w=file.loc[t]['ProgressionFreeStatus']\n",
    "    if w == 'Recurred/Progressed':\n",
    "        evento.append(1)\n",
    "    else:\n",
    "        evento.append(0)"
   ]
  },
  {
   "cell_type": "raw",
   "metadata": {},
   "source": [
    "path=\"clintab_GMQL/\"+string_gene_exprs_res\n",
    "\n",
    "col=['patient', 'chrom', 'start', 'stop', 'ensemble_id', 'entrez_id', 'gene_symbol', 'fpkm', 'pfs','event']\n",
    "r=[]\n",
    "for i in range(len(names)):\n",
    "    tmp=pd.read_csv(path+names[i], sep='\\t', header=None)\n",
    "    tmp=tmp.values\n",
    "    p='R_00'\n",
    "    if i < 10:\n",
    "        p=p+'00'+str(i)\n",
    "    elif i< 100:\n",
    "        p=p+'0'+str(i)\n",
    "    else:\n",
    "            p=p+str(i)\n",
    "    for j in range(tmp.shape[0]):\n",
    "        chrom=tmp[j][0].replace(\"chr\", \"\")\n",
    "        r.append([p, chrom, tmp[j][1]+1, tmp[j][2], tmp[j][4], tmp[j][5], tmp[j][6], tmp[j][10], pfs[i], evento[i]])\n",
    "        \n",
    "\n",
    "df_res=pd.DataFrame(r)\n",
    "df_res.to_csv(path_or_buf ='clintab_GMQL/gene_exprs/res_surv.csv', sep='\\t', header=col, index=False)\n",
    "df_res.head()"
   ]
  },
  {
   "cell_type": "raw",
   "metadata": {},
   "source": [
    "df_res.columns=col\n",
    "#df_res.head()"
   ]
  },
  {
   "cell_type": "raw",
   "metadata": {},
   "source": [
    "path=\"clintab_GMQL/\"+string_gene_exprs_ss\n",
    "names=[]\n",
    "barcodes_ss=[]\n",
    "filelist=os.listdir(path)\n",
    "filelist.sort()\n",
    "for file in filelist:\n",
    "\n",
    "    if file.endswith(\".meta\"):\n",
    "        tmp=pd.read_csv(path+file, sep='\\t', header=None, index_col=0)\n",
    "        tmp=tmp.T\n",
    "        if tmp['biospecimen__shared__bcr_patient_barcode'].values[0] in barcodes_ss:\n",
    "            print(file)\n",
    "        else:\n",
    "            names.append(file[:11])\n",
    "            barcodes_ss.append(tmp['biospecimen__shared__bcr_patient_barcode'].values[0])"
   ]
  },
  {
   "cell_type": "markdown",
   "metadata": {},
   "source": [
    "file=pd.read_excel(\"TCGA-OV-Clinical-Table_S1.2.xlsx\", sheetname=\"KeyclinicalDAta\", index_col=0)"
   ]
  },
  {
   "cell_type": "raw",
   "metadata": {},
   "source": [
    "#Sens_Short\n",
    "pfs=[]\n",
    "evento=[]\n",
    "for t in barcodes_ss:\n",
    "    z=file.loc[t]['ProgressionFreeSurvival (mos)#']\n",
    "    pfs.append(z)\n",
    "    w=file.loc[t]['ProgressionFreeStatus']\n",
    "    if w == 'Recurred/Progressed':\n",
    "        evento.append(1)\n",
    "    else:\n",
    "        evento.append(0)"
   ]
  },
  {
   "cell_type": "raw",
   "metadata": {},
   "source": [
    "path=\"clintab_GMQL/\"+string_gene_exprs_ss\n",
    "\n",
    "col=['patient', 'chrom', 'start', 'stop', 'ensemble_id', 'entrez_id', 'gene_symbol', 'fpkm', 'pfs','event']\n",
    "ss=[]\n",
    "for i in range(len(names)):\n",
    "    tmp=pd.read_csv(path+names[i], sep='\\t', header=None)\n",
    "    tmp=tmp.values\n",
    "    p='SS_00'\n",
    "    if i < 10:\n",
    "        p=p+'00'+str(i)\n",
    "    elif i< 100:\n",
    "        p=p+'0'+str(i)\n",
    "    else:\n",
    "            p=p+str(i)\n",
    "    for j in range(tmp.shape[0]):\n",
    "        chrom=tmp[j][0].replace(\"chr\", \"\")\n",
    "        ss.append([p, chrom, tmp[j][1]+1, tmp[j][2], tmp[j][4], tmp[j][5], tmp[j][6], tmp[j][10], pfs[i], evento[i]])\n",
    "        \n",
    "\n",
    "df_sens=pd.DataFrame(ss)\n",
    "#df_sens.to_csv(path_or_buf ='clintab_GMQL/gene_exprs/ss_surv.csv', sep='\\t', header=col, index=False)\n",
    "#df_sens.head()"
   ]
  },
  {
   "cell_type": "raw",
   "metadata": {},
   "source": [
    "df_sens.columns=col\n",
    "df_sens.head()"
   ]
  },
  {
   "cell_type": "raw",
   "metadata": {},
   "source": [
    "path=\"clintab_GMQL/\"+string_gene_exprs_sl\n",
    "names=[]\n",
    "barcodes_sl=[]\n",
    "filelist=os.listdir(path)\n",
    "filelist.sort()\n",
    "for file in filelist:\n",
    "\n",
    "    if file.endswith(\".meta\"):\n",
    "        tmp=pd.read_csv(path+file, sep='\\t', header=None, index_col=0)\n",
    "        tmp=tmp.T\n",
    "        if tmp['biospecimen__shared__bcr_patient_barcode'].values[0] in barcodes_sl:\n",
    "            print(file)\n",
    "        else:\n",
    "            names.append(file[:11])\n",
    "            barcodes_sl.append(tmp['biospecimen__shared__bcr_patient_barcode'].values[0])"
   ]
  },
  {
   "cell_type": "raw",
   "metadata": {},
   "source": [
    "file=pd.read_excel(\"TCGA-OV-Clinical-Table_S1.2.xlsx\", sheetname=\"KeyclinicalDAta\", index_col=0)"
   ]
  },
  {
   "cell_type": "raw",
   "metadata": {},
   "source": [
    "#Sens_Long\n",
    "pfs=[]\n",
    "evento=[]\n",
    "for t in barcodes_sl:\n",
    "    z=file.loc[t]['ProgressionFreeSurvival (mos)#']\n",
    "    pfs.append(z)\n",
    "    w=file.loc[t]['ProgressionFreeStatus']\n",
    "    if w == 'Recurred/Progressed':\n",
    "        evento.append(1)\n",
    "    else:\n",
    "        evento.append(0)"
   ]
  },
  {
   "cell_type": "raw",
   "metadata": {},
   "source": [
    "path=\"clintab_GMQL/\"+string_gene_exprs_sl\n",
    "\n",
    "col=['patient', 'chrom', 'start', 'stop', 'ensemble_id', 'entrez_id', 'gene_symbol', 'fpkm', 'pfs','event']\n",
    "sl=[]\n",
    "for i in range(len(names)):\n",
    "    tmp=pd.read_csv(path+names[i], sep='\\t', header=None)\n",
    "    tmp=tmp.values\n",
    "    p='SL_00'\n",
    "    if i < 10:\n",
    "        p=p+'00'+str(i)\n",
    "    elif i< 100:\n",
    "        p=p+'0'+str(i)\n",
    "    else:\n",
    "            p=p+str(i)\n",
    "    for j in range(tmp.shape[0]):\n",
    "        chrom=tmp[j][0].replace(\"chr\", \"\")\n",
    "        sl.append([p, chrom, tmp[j][1]+1, tmp[j][2], tmp[j][4], tmp[j][5], tmp[j][6], tmp[j][10], pfs[i], evento[i]])\n",
    "        \n",
    "\n",
    "df_senl=pd.DataFrame(sl)\n",
    "df_senl.to_csv(path_or_buf ='clintab_GMQL/gene_exprs/sl_surv.csv', sep='\\t', header=col, index=False)\n",
    "df_senl.head()"
   ]
  },
  {
   "cell_type": "code",
   "execution_count": 32,
   "metadata": {},
   "outputs": [],
   "source": [
    "sens=pd.read_csv('clintab_GMQL/gene_exprs/ss_surv.csv', sep='\\t')\n",
    "#sens['class']=np.zeros(sens.shape[0], dtype=int)\n",
    "#sens.head()"
   ]
  },
  {
   "cell_type": "code",
   "execution_count": 33,
   "metadata": {},
   "outputs": [],
   "source": [
    "senl=pd.read_csv('clintab_GMQL/gene_exprs/sl_surv.csv', sep='\\t')\n",
    "#senl['class']=np.full(senl.shape[0], 2)\n",
    "#senl.head()"
   ]
  },
  {
   "cell_type": "code",
   "execution_count": 34,
   "metadata": {},
   "outputs": [],
   "source": [
    "res=pd.read_csv('clintab_GMQL/gene_exprs/res_surv.csv', sep='\\t')\n",
    "#res['class']=np.ones(res.shape[0], dtype=int)\n",
    "#res.head()"
   ]
  },
  {
   "cell_type": "code",
   "execution_count": 35,
   "metadata": {
    "scrolled": true
   },
   "outputs": [
    {
     "data": {
      "text/html": [
       "<div>\n",
       "<style scoped>\n",
       "    .dataframe tbody tr th:only-of-type {\n",
       "        vertical-align: middle;\n",
       "    }\n",
       "\n",
       "    .dataframe tbody tr th {\n",
       "        vertical-align: top;\n",
       "    }\n",
       "\n",
       "    .dataframe thead th {\n",
       "        text-align: right;\n",
       "    }\n",
       "</style>\n",
       "<table border=\"1\" class=\"dataframe\">\n",
       "  <thead>\n",
       "    <tr style=\"text-align: right;\">\n",
       "      <th></th>\n",
       "      <th>patient</th>\n",
       "      <th>chrom</th>\n",
       "      <th>start</th>\n",
       "      <th>stop</th>\n",
       "      <th>ensemble_id</th>\n",
       "      <th>entrez_id</th>\n",
       "      <th>gene_symbol</th>\n",
       "      <th>fpkm</th>\n",
       "      <th>pfs</th>\n",
       "      <th>event</th>\n",
       "    </tr>\n",
       "  </thead>\n",
       "  <tbody>\n",
       "    <tr>\n",
       "      <th>0</th>\n",
       "      <td>R_00000</td>\n",
       "      <td>1</td>\n",
       "      <td>11869</td>\n",
       "      <td>14409</td>\n",
       "      <td>ENSG00000223972.5</td>\n",
       "      <td>100287102.0</td>\n",
       "      <td>DDX11L1</td>\n",
       "      <td>0.000000</td>\n",
       "      <td>4.983607</td>\n",
       "      <td>1</td>\n",
       "    </tr>\n",
       "    <tr>\n",
       "      <th>1</th>\n",
       "      <td>R_00000</td>\n",
       "      <td>1</td>\n",
       "      <td>14404</td>\n",
       "      <td>29570</td>\n",
       "      <td>ENSG00000227232.5</td>\n",
       "      <td>653635.0</td>\n",
       "      <td>WASH7P</td>\n",
       "      <td>1.695909</td>\n",
       "      <td>4.983607</td>\n",
       "      <td>1</td>\n",
       "    </tr>\n",
       "    <tr>\n",
       "      <th>2</th>\n",
       "      <td>R_00000</td>\n",
       "      <td>1</td>\n",
       "      <td>17369</td>\n",
       "      <td>17436</td>\n",
       "      <td>ENSG00000278267.1</td>\n",
       "      <td>102465910.0</td>\n",
       "      <td>MIR6859-3</td>\n",
       "      <td>4.443128</td>\n",
       "      <td>4.983607</td>\n",
       "      <td>1</td>\n",
       "    </tr>\n",
       "    <tr>\n",
       "      <th>3</th>\n",
       "      <td>R_00000</td>\n",
       "      <td>1</td>\n",
       "      <td>29554</td>\n",
       "      <td>31109</td>\n",
       "      <td>ENSG00000243485.3</td>\n",
       "      <td>NaN</td>\n",
       "      <td>RP11-34P13.3</td>\n",
       "      <td>0.024660</td>\n",
       "      <td>4.983607</td>\n",
       "      <td>1</td>\n",
       "    </tr>\n",
       "    <tr>\n",
       "      <th>4</th>\n",
       "      <td>R_00000</td>\n",
       "      <td>1</td>\n",
       "      <td>30366</td>\n",
       "      <td>30503</td>\n",
       "      <td>ENSG00000274890.1</td>\n",
       "      <td>100422831.0</td>\n",
       "      <td>MIR1302-9</td>\n",
       "      <td>0.000000</td>\n",
       "      <td>4.983607</td>\n",
       "      <td>1</td>\n",
       "    </tr>\n",
       "  </tbody>\n",
       "</table>\n",
       "</div>"
      ],
      "text/plain": [
       "   patient chrom  start   stop        ensemble_id    entrez_id   gene_symbol  \\\n",
       "0  R_00000     1  11869  14409  ENSG00000223972.5  100287102.0       DDX11L1   \n",
       "1  R_00000     1  14404  29570  ENSG00000227232.5     653635.0        WASH7P   \n",
       "2  R_00000     1  17369  17436  ENSG00000278267.1  102465910.0     MIR6859-3   \n",
       "3  R_00000     1  29554  31109  ENSG00000243485.3          NaN  RP11-34P13.3   \n",
       "4  R_00000     1  30366  30503  ENSG00000274890.1  100422831.0     MIR1302-9   \n",
       "\n",
       "       fpkm       pfs  event  \n",
       "0  0.000000  4.983607      1  \n",
       "1  1.695909  4.983607      1  \n",
       "2  4.443128  4.983607      1  \n",
       "3  0.024660  4.983607      1  \n",
       "4  0.000000  4.983607      1  "
      ]
     },
     "execution_count": 35,
     "metadata": {},
     "output_type": "execute_result"
    }
   ],
   "source": [
    "sensitive=senl.append(sens, ignore_index=True)\n",
    "all_dset1=res.append(sensitive, ignore_index=True)\n",
    "\n",
    "all_dset1.head()"
   ]
  },
  {
   "cell_type": "markdown",
   "metadata": {},
   "source": [
    "## Significant features"
   ]
  },
  {
   "cell_type": "code",
   "execution_count": 36,
   "metadata": {},
   "outputs": [],
   "source": [
    "res_vs_sens=pd.read_csv(\"new_data/gene_exprs/r_ss_bonf_ge.csv\", delimiter=',')\n",
    "res_vs_senl=pd.read_csv(\"new_data/gene_exprs/r_sl_bonf_ge.csv\", delimiter=',')\n",
    "senl_vs_sens=pd.read_csv(\"new_data/gene_exprs/sl_ss_bonf_ge.csv\", delimiter=',')"
   ]
  },
  {
   "cell_type": "code",
   "execution_count": 37,
   "metadata": {},
   "outputs": [
    {
     "data": {
      "text/plain": [
       "(91, 8)"
      ]
     },
     "execution_count": 37,
     "metadata": {},
     "output_type": "execute_result"
    }
   ],
   "source": [
    "senx=senl_vs_sens.append(res_vs_senl, ignore_index=True, sort=True)\n",
    "all_genes=senx.append(res_vs_sens, ignore_index=True, sort=True)\n",
    "#all_genes.head()\n",
    "all_genes.shape"
   ]
  },
  {
   "cell_type": "code",
   "execution_count": 38,
   "metadata": {},
   "outputs": [
    {
     "data": {
      "text/plain": [
       "(91, 1)"
      ]
     },
     "execution_count": 38,
     "metadata": {},
     "output_type": "execute_result"
    }
   ],
   "source": [
    "ciao = all_genes[all_genes.columns[0:1]] \n",
    "#ciao.head()\n",
    "ciao.shape"
   ]
  },
  {
   "cell_type": "raw",
   "metadata": {},
   "source": [
    "names=[]\n",
    "\n",
    "for x in [\"-\".join(x.strip().split(\"-\")[:1])  for x in (ciao['en'])]:\n",
    "    names.append(x)   \n",
    "    \n",
    "ciao['ensemble']=names\n",
    "ciao=pd.DataFrame(ciao)"
   ]
  },
  {
   "cell_type": "raw",
   "metadata": {},
   "source": [
    "x=ciao[ciao.columns[0:2]]\n",
    "x.head()"
   ]
  },
  {
   "cell_type": "markdown",
   "metadata": {},
   "source": [
    "### Dataset from list of significant genes"
   ]
  },
  {
   "cell_type": "code",
   "execution_count": 39,
   "metadata": {},
   "outputs": [
    {
     "data": {
      "text/plain": [
       "83"
      ]
     },
     "execution_count": 39,
     "metadata": {},
     "output_type": "execute_result"
    }
   ],
   "source": [
    "lista1=set(ciao['ensemble_id'])\n",
    "len(lista1)\n",
    "#lista1=new_f\n",
    "#len(lista1)"
   ]
  },
  {
   "cell_type": "code",
   "execution_count": 40,
   "metadata": {},
   "outputs": [],
   "source": [
    "dset_res = res[res.ensemble_id.isin(lista1)]\n",
    "res1=pd.DataFrame(dset_res)\n",
    "#res1.head()"
   ]
  },
  {
   "cell_type": "code",
   "execution_count": 41,
   "metadata": {},
   "outputs": [
    {
     "data": {
      "text/plain": [
       "(62, 83)"
      ]
     },
     "execution_count": 41,
     "metadata": {},
     "output_type": "execute_result"
    }
   ],
   "source": [
    "resdf=res1.pivot(index=\"patient\", columns=\"ensemble_id\", values=\"fpkm\")\n",
    "genes = resdf.columns.tolist()\n",
    "resdf.loc[:, (resdf != 0.0).any(axis=0)]\n",
    "#resdf.head()\n",
    "resdf.shape"
   ]
  },
  {
   "cell_type": "code",
   "execution_count": 42,
   "metadata": {},
   "outputs": [],
   "source": [
    "dset_sens = sens[sens.ensemble_id.isin(lista1)]\n",
    "sens1=pd.DataFrame(dset_sens)\n",
    "#sens1.head()"
   ]
  },
  {
   "cell_type": "code",
   "execution_count": 43,
   "metadata": {},
   "outputs": [
    {
     "data": {
      "text/plain": [
       "(107, 83)"
      ]
     },
     "execution_count": 43,
     "metadata": {},
     "output_type": "execute_result"
    }
   ],
   "source": [
    "sensdf=sens1.pivot(index=\"patient\", columns=\"ensemble_id\", values=\"fpkm\")\n",
    "sensdf = sensdf[genes]\n",
    "sensdf.loc[:, (sensdf != 0.0).any(axis=0)]\n",
    "#sensdf.head()\n",
    "sensdf.shape"
   ]
  },
  {
   "cell_type": "code",
   "execution_count": 44,
   "metadata": {},
   "outputs": [],
   "source": [
    "dset_senl = senl[senl.ensemble_id.isin(lista1)]\n",
    "senl1=pd.DataFrame(dset_senl)\n",
    "#senl1.head()"
   ]
  },
  {
   "cell_type": "code",
   "execution_count": 45,
   "metadata": {},
   "outputs": [
    {
     "data": {
      "text/plain": [
       "(34, 83)"
      ]
     },
     "execution_count": 45,
     "metadata": {},
     "output_type": "execute_result"
    }
   ],
   "source": [
    "senldf=senl1.pivot(index=\"patient\", columns=\"ensemble_id\", values=\"fpkm\")\n",
    "senldf = senldf[genes]\n",
    "senldf.loc[:, (senldf != 0.0).any(axis=0)]\n",
    "#senldf.head()\n",
    "senldf.shape"
   ]
  },
  {
   "cell_type": "raw",
   "metadata": {},
   "source": [
    "sen= dset_sens.append(dset_senl)\n",
    "tot= sen.append(dset_res)\n",
    "df=tot[['patient', 'chrom', 'start', 'stop', 'fpkm', 'gene_symbol']]\n",
    "df.to_csv('new_data/gene_exprs/fin_ge_bonf.csv', sep='\\t', header=True)"
   ]
  },
  {
   "cell_type": "code",
   "execution_count": 46,
   "metadata": {},
   "outputs": [],
   "source": [
    "sen_conc=pd.concat([senldf, sensdf])\n",
    "all_conc=pd.concat([sen_conc, resdf])"
   ]
  },
  {
   "cell_type": "code",
   "execution_count": 47,
   "metadata": {},
   "outputs": [
    {
     "data": {
      "text/plain": [
       "(203, 83)"
      ]
     },
     "execution_count": 47,
     "metadata": {},
     "output_type": "execute_result"
    }
   ],
   "source": [
    "#all_conc.head()\n",
    "all_conc.shape"
   ]
  },
  {
   "cell_type": "markdown",
   "metadata": {},
   "source": [
    "### Adding pfs, class, event"
   ]
  },
  {
   "cell_type": "code",
   "execution_count": 48,
   "metadata": {},
   "outputs": [],
   "source": [
    "lista2=set(all_dset1['pfs'])\n",
    "lista3=set(all_dset1['event'])"
   ]
  },
  {
   "cell_type": "code",
   "execution_count": 49,
   "metadata": {},
   "outputs": [],
   "source": [
    "gr=all_dset1.groupby(['patient'])"
   ]
  },
  {
   "cell_type": "code",
   "execution_count": 50,
   "metadata": {
    "scrolled": true
   },
   "outputs": [],
   "source": [
    "pfs=[]\n",
    "e=[]\n",
    "#classes=[]\n",
    "for p in gr.groups.keys():\n",
    "    g=gr.get_group(p)\n",
    "    pfs.append(g['pfs'].unique()[0])\n",
    "    e.append(g['event'].unique()[0])\n",
    "    #classes.append(g['class'].unique()[0])\n",
    "   "
   ]
  },
  {
   "cell_type": "code",
   "execution_count": 51,
   "metadata": {},
   "outputs": [],
   "source": [
    "all_conc['pfs']=pfs\n",
    "all_conc['event']=e\n",
    "#all_conc['class']=classes\n",
    "\n",
    "#all_conc.to_csv(path_or_buf ='all_conc_surv.csv', sep='\\t', header=all_conc.columns, index=False)\n",
    "#all_conc.head()"
   ]
  },
  {
   "cell_type": "code",
   "execution_count": null,
   "metadata": {},
   "outputs": [],
   "source": [
    "x=all_conc.copy()\n",
    "x=x.drop(['pfs', 'event', 'ENSG00000197958.11', 'ENSG00000197903.7'], axis=1) #questo serve per plottare la correlation matrix, quello sopra per SA\n",
    "x.head()\n",
    "#x=pd.DataFrame(x)"
   ]
  },
  {
   "cell_type": "code",
   "execution_count": null,
   "metadata": {
    "scrolled": true
   },
   "outputs": [],
   "source": [
    "import seaborn as sns\n",
    "corr = x.corr()\n",
    "mask = np.zeros_like(corr, dtype=np.bool)\n",
    "mask[np.triu_indices_from(mask)] = True\n",
    "f, ax = plt.subplots(figsize=(30, 30))\n",
    "cmap = sns.diverging_palette(220, 10, as_cmap=True)\n",
    "sns.heatmap(corr, mask=mask, cmap=cmap, vmax=1, center=0,\n",
    "            square=True, linewidths=.5, cbar_kws={\"shrink\": .5})"
   ]
  },
  {
   "cell_type": "raw",
   "metadata": {},
   "source": [
    "type(all_conc)"
   ]
  },
  {
   "cell_type": "raw",
   "metadata": {},
   "source": [
    "all_conc.to_csv('all_conc_R.csv', sep=',', header=True, index=True)"
   ]
  },
  {
   "cell_type": "raw",
   "metadata": {},
   "source": [
    "giada=pd.read_csv (\"all_conc_R.csv\", delimiter=',')"
   ]
  },
  {
   "cell_type": "raw",
   "metadata": {},
   "source": [
    "x=all_conc.copy()\n",
    "x=x.drop(['class'], axis=1)\n",
    "x_all=x.values\n",
    "y_all=all_conc['class']\n",
    "x.head()\n",
    "#x=pd.DataFrame(x)"
   ]
  },
  {
   "cell_type": "raw",
   "metadata": {},
   "source": [
    "x=all_conc.copy()\n",
    "x=x[['ENSG00000163554.10', 'pfs', 'event']]\n",
    "type(x)"
   ]
  },
  {
   "cell_type": "raw",
   "metadata": {},
   "source": [
    "no_nan=corr.fillna(value=0)"
   ]
  },
  {
   "cell_type": "raw",
   "metadata": {},
   "source": [
    "finito=False\n",
    "new_f=[]\n",
    "feat=list(no_nan.columns)\n",
    "\n",
    "while finito==False:\n",
    "    f=feat[0]\n",
    "\n",
    "    for r2 in no_nan.columns:\n",
    "        if r2 != f and no_nan[f][r2] >= 0.35:\n",
    "            if r2 in feat:\n",
    "                feat.remove(r2)\n",
    "    \n",
    "    new_f.append(f)\n",
    "    feat.remove(f)\n",
    "    \n",
    "    if len(feat) == 0:\n",
    "        finito=True"
   ]
  },
  {
   "cell_type": "raw",
   "metadata": {},
   "source": [
    "len(new_f)"
   ]
  },
  {
   "cell_type": "raw",
   "metadata": {},
   "source": [
    "x=all_conc.copy() #queste sono quelle della mild FDR\n",
    "x=x.drop(['ENSG00000001167.13','ENSG00000004866.17','ENSG00000005238.18','ENSG00000006210.6','ENSG00000023171.13',\n",
    "'ENSG00000005448.15','ENSG00000008952.15','ENSG00000012174.10','ENSG00000013375.14','ENSG00000014138.7','ENSG00000033327.11',\n",
    "'ENSG00000034971.13','ENSG00000044574.7','ENSG00000047936.9','ENSG00000050030.12','ENSG00000051108.13','ENSG00000075429.7',\n",
    "'ENSG00000081803.14','ENSG00000081985.9','ENSG00000085449.13','ENSG00000087053.17','ENSG00000090971.4','ENSG00000092203.12',\n",
    "'ENSG00000095321.15','ENSG00000100139.12','ENSG00000100412.14','ENSG00000100632.9','ENSG00000102145.12','ENSG00000102760.12',\n",
    "'ENSG00000104290.9','ENSG00000104361.8','ENSG00000112812.14','ENSG00000112972.13','ENSG00000115204.13','ENSG00000115461.4',\n",
    "'ENSG00000119457.7','ENSG00000120215.8','ENSG00000122025.13','ENSG00000122218.13','ENSG00000124557.11','ENSG00000124772.10',\n",
    "'ENSG00000133460.18','ENSG00000133657.13','ENSG00000133962.6','ENSG00000135413.7','ENSG00000135917.12','ENSG00000138083.4',\n",
    "'ENSG00000141448.7','ENSG00000142405.20','ENSG00000143850.11','ENSG00000144227.4','ENSG00000145860.10','ENSG00000147485.11',\n",
    "'ENSG00000148690.11','ENSG00000150991.13','ENSG00000153162.8','ENSG00000153982.9','ENSG00000155438.10','ENSG00000156675.14',\n",
    "'ENSG00000161249.19','ENSG00000162772.15','ENSG00000163554.10','ENSG00000163792.6','ENSG00000164465.17','ENSG00000164512.16',\n",
    "'ENSG00000164976.8','ENSG00000165102.13','ENSG00000165899.9','ENSG00000166946.12','ENSG00000167580.6','ENSG00000169760.16',\n",
    "'ENSG00000171246.5','ENSG00000173335.4','ENSG00000173898.10','ENSG00000174917.7','ENSG00000175121.10','ENSG00000175536.6',\n",
    "'ENSG00000176624.10','ENSG00000177257.2','ENSG00000178997.10','ENSG00000179889.17','ENSG00000179914.4','ENSG00000180269.7',\n",
    "'ENSG00000180316.10','ENSG00000181444.11','ENSG00000181698.3','ENSG00000181903.4','ENSG00000182261.3','ENSG00000183054.10',\n",
    "'ENSG00000183695.2','ENSG00000184979.9','ENSG00000185105.4','ENSG00000185339.7','ENSG00000185860.12','ENSG00000186575.16',\n",
    "'ENSG00000186847.5','ENSG00000187556.7','ENSG00000187566.4','ENSG00000196611.4','ENSG00000196781.12','ENSG00000203995.8',\n",
    "'ENSG00000204669.8','ENSG00000204882.3','ENSG00000205323.7','ENSG00000213145.8','ENSG00000249853.6','ENSG00000250264.1',\n",
    "'ENSG00000253873.4','ENSG00000257065.1','ENSG00000266728.4','ENSG00000271949.1','ENSG00000278566.1','ENSG00000279081.1',\n",
    "'ENSG00000041353.8','ENSG00000055118.13','ENSG00000063177.11','ENSG00000065457.9','ENSG00000071967.10','ENSG00000076706.13',\n",
    "'ENSG00000079134.10','ENSG00000084234.15','ENSG00000111241.2','ENSG00000112294.11','ENSG00000113407.12','ENSG00000116062.13',\n",
    "'ENSG00000135443.7','ENSG00000137440.4','ENSG00000179165.10','ENSG00000181240.12','ENSG00000185823.3','ENSG00000186675.6',\n",
    "'ENSG00000197363.8','ENSG00000253250.2'], axis=1)"
   ]
  },
  {
   "cell_type": "raw",
   "metadata": {},
   "source": [
    "x=all_conc.copy() #queste sono quelle della 0.0005\n",
    "x=x.drop(['pfs', 'event','ENSG00000276180.1','ENSG00000197903.7','ENSG00000165280.14','ENSG00000186174.11','ENSG00000122783.15',\n",
    "          'ENSG00000253250.2','ENSG00000099968.16','ENSG00000146950.11','ENSG00000138434.15','ENSG00000196683.9',\n",
    "          'ENSG00000197958.11','ENSG00000198205.6','ENSG00000204580.10','ENSG00000084234.15','ENSG00000107833.9',\n",
    "          'ENSG00000146859.6','ENSG00000149428.17','ENSG00000044574.7','ENSG00000150455.12','ENSG00000124659.6',\n",
    "          'ENSG00000157600.10','ENSG00000163251.3','ENSG00000197756.8','ENSG00000163964.12','ENSG00000114391.11',\n",
    "          'ENSG00000182890.4','ENSG00000137364.4','ENSG00000148690.11','ENSG00000213859.4','ENSG00000144713.11',\n",
    "          'ENSG00000255508.6','ENSG00000100084.13','ENSG00000142676.11','ENSG00000143919.13','ENSG00000171863.11',\n",
    "          'ENSG00000178814.14','ENSG00000183578.5','ENSG00000233927.4','ENSG00000112972.13','ENSG00000177383.4',\n",
    "          'ENSG00000178175.10','ENSG00000249853.6','ENSG00000264668.1','ENSG00000137440.4','ENSG00000135413.7',\n",
    "          'ENSG00000050030.12','ENSG00000065060.15','ENSG00000116016.12','ENSG00000151812.13','ENSG00000166444.16',\n",
    "          'ENSG00000197712.10','ENSG00000172572.6','ENSG00000125864.10','ENSG00000079134.10','ENSG00000182253.13',\n",
    "          'ENSG00000118242.14','ENSG00000165650.10','ENSG00000099219.12','ENSG00000107185.9','ENSG00000183695.2',\n",
    "          'ENSG00000256053.6','ENSG00000137522.16','ENSG00000143013.11','ENSG00000075239.12','ENSG00000204256.11',\n",
    "          'ENSG00000171311.11','ENSG00000090861.14','ENSG00000100307.11','ENSG00000119888.9','ENSG00000128052.8',\n",
    "          'ENSG00000163554.10','ENSG00000198336.8','ENSG00000204983.11','ENSG00000143947.11','ENSG00000165983.13',\n",
    "          'ENSG00000125046.13','ENSG00000189233.10'], axis=1)"
   ]
  },
  {
   "cell_type": "code",
   "execution_count": 52,
   "metadata": {},
   "outputs": [
    {
     "data": {
      "text/html": [
       "<div>\n",
       "<style scoped>\n",
       "    .dataframe tbody tr th:only-of-type {\n",
       "        vertical-align: middle;\n",
       "    }\n",
       "\n",
       "    .dataframe tbody tr th {\n",
       "        vertical-align: top;\n",
       "    }\n",
       "\n",
       "    .dataframe thead th {\n",
       "        text-align: right;\n",
       "    }\n",
       "</style>\n",
       "<table border=\"1\" class=\"dataframe\">\n",
       "  <thead>\n",
       "    <tr style=\"text-align: right;\">\n",
       "      <th>ensemble_id</th>\n",
       "      <th>ENSG00000090520.9</th>\n",
       "      <th>ENSG00000114315.3</th>\n",
       "      <th>ENSG00000137393.9</th>\n",
       "      <th>ENSG00000137440.4</th>\n",
       "      <th>ENSG00000177383.4</th>\n",
       "      <th>ENSG00000181698.3</th>\n",
       "      <th>ENSG00000250264.1</th>\n",
       "      <th>pfs</th>\n",
       "      <th>event</th>\n",
       "    </tr>\n",
       "    <tr>\n",
       "      <th>patient</th>\n",
       "      <th></th>\n",
       "      <th></th>\n",
       "      <th></th>\n",
       "      <th></th>\n",
       "      <th></th>\n",
       "      <th></th>\n",
       "      <th></th>\n",
       "      <th></th>\n",
       "      <th></th>\n",
       "    </tr>\n",
       "  </thead>\n",
       "  <tbody>\n",
       "    <tr>\n",
       "      <th>SL_00000</th>\n",
       "      <td>7.975547</td>\n",
       "      <td>36.479357</td>\n",
       "      <td>6.606148</td>\n",
       "      <td>0.364829</td>\n",
       "      <td>51.721935</td>\n",
       "      <td>0.0</td>\n",
       "      <td>0.043641</td>\n",
       "      <td>4.983607</td>\n",
       "      <td>1</td>\n",
       "    </tr>\n",
       "    <tr>\n",
       "      <th>SL_00001</th>\n",
       "      <td>29.917335</td>\n",
       "      <td>69.536179</td>\n",
       "      <td>12.642084</td>\n",
       "      <td>3.166293</td>\n",
       "      <td>91.739234</td>\n",
       "      <td>0.0</td>\n",
       "      <td>0.036569</td>\n",
       "      <td>8.918033</td>\n",
       "      <td>1</td>\n",
       "    </tr>\n",
       "    <tr>\n",
       "      <th>SL_00002</th>\n",
       "      <td>19.228730</td>\n",
       "      <td>40.038578</td>\n",
       "      <td>13.039530</td>\n",
       "      <td>0.263416</td>\n",
       "      <td>70.285288</td>\n",
       "      <td>0.0</td>\n",
       "      <td>0.005514</td>\n",
       "      <td>7.704918</td>\n",
       "      <td>1</td>\n",
       "    </tr>\n",
       "    <tr>\n",
       "      <th>SL_00003</th>\n",
       "      <td>7.148109</td>\n",
       "      <td>19.463238</td>\n",
       "      <td>6.373900</td>\n",
       "      <td>0.932998</td>\n",
       "      <td>20.633694</td>\n",
       "      <td>0.0</td>\n",
       "      <td>0.054347</td>\n",
       "      <td>8.885246</td>\n",
       "      <td>1</td>\n",
       "    </tr>\n",
       "    <tr>\n",
       "      <th>SL_00004</th>\n",
       "      <td>22.116999</td>\n",
       "      <td>27.017489</td>\n",
       "      <td>6.487276</td>\n",
       "      <td>0.100454</td>\n",
       "      <td>100.913090</td>\n",
       "      <td>0.0</td>\n",
       "      <td>0.050468</td>\n",
       "      <td>8.295082</td>\n",
       "      <td>1</td>\n",
       "    </tr>\n",
       "  </tbody>\n",
       "</table>\n",
       "</div>"
      ],
      "text/plain": [
       "ensemble_id  ENSG00000090520.9  ENSG00000114315.3  ENSG00000137393.9  \\\n",
       "patient                                                                \n",
       "SL_00000              7.975547          36.479357           6.606148   \n",
       "SL_00001             29.917335          69.536179          12.642084   \n",
       "SL_00002             19.228730          40.038578          13.039530   \n",
       "SL_00003              7.148109          19.463238           6.373900   \n",
       "SL_00004             22.116999          27.017489           6.487276   \n",
       "\n",
       "ensemble_id  ENSG00000137440.4  ENSG00000177383.4  ENSG00000181698.3  \\\n",
       "patient                                                                \n",
       "SL_00000              0.364829          51.721935                0.0   \n",
       "SL_00001              3.166293          91.739234                0.0   \n",
       "SL_00002              0.263416          70.285288                0.0   \n",
       "SL_00003              0.932998          20.633694                0.0   \n",
       "SL_00004              0.100454         100.913090                0.0   \n",
       "\n",
       "ensemble_id  ENSG00000250264.1       pfs  event  \n",
       "patient                                          \n",
       "SL_00000              0.043641  4.983607      1  \n",
       "SL_00001              0.036569  8.918033      1  \n",
       "SL_00002              0.005514  7.704918      1  \n",
       "SL_00003              0.054347  8.885246      1  \n",
       "SL_00004              0.050468  8.295082      1  "
      ]
     },
     "execution_count": 52,
     "metadata": {},
     "output_type": "execute_result"
    }
   ],
   "source": [
    "x=all_conc.copy() #queste sono quelle della mild Bonf\n",
    "x=x.drop(['ENSG00000197958.11', 'ENSG00000197903.7','ENSG00000099968.16','ENSG00000157600.10','ENSG00000099219.12',\n",
    "          'ENSG00000044574.7','ENSG00000183578.5','ENSG00000182253.13','ENSG00000143919.13','ENSG00000165280.14',\n",
    "          'ENSG00000151812.13','ENSG00000163251.3','ENSG00000249853.6','ENSG00000137364.4','ENSG00000143013.11',\n",
    "          'ENSG00000171311.11','ENSG00000183695.2','ENSG00000135413.7','ENSG00000149428.17','ENSG00000166444.16',\n",
    "          'ENSG00000100307.11','ENSG00000133597.8','ENSG00000178175.10','ENSG00000233927.4','ENSG00000106144.18',\n",
    "          'ENSG00000118242.14','ENSG00000204580.10','ENSG00000112972.13','ENSG00000213859.4','ENSG00000264668.1',\n",
    "          'ENSG00000137522.16','ENSG00000116016.12','ENSG00000142676.11','ENSG00000146859.6','ENSG00000276180.1',\n",
    "          'ENSG00000255508.6','ENSG00000128052.8','ENSG00000150455.12','ENSG00000172572.6','ENSG00000178814.14',\n",
    "          'ENSG00000090861.14','ENSG00000155660.9','ENSG00000125864.10','ENSG00000163554.10','ENSG00000124659.6',\n",
    "          'ENSG00000241978.8','ENSG00000148690.11','ENSG00000084234.15','ENSG00000104290.9','ENSG00000173335.4',\n",
    "          'ENSG00000182890.4','ENSG00000281674.1','ENSG00000119888.9','ENSG00000198336.8','ENSG00000138326.17',\n",
    "          'ENSG00000065060.15','ENSG00000107185.9','ENSG00000204983.11','ENSG00000187783.10','ENSG00000189233.10',\n",
    "          'ENSG00000125046.13','ENSG00000130255.11','ENSG00000143947.11', 'ENSG00000253250.2','ENSG00000144713.11',\n",
    "          'ENSG00000155016.16','ENSG00000085276.16','ENSG00000134504.11','ENSG00000244731.6','ENSG00000261427.5',\n",
    "          'ENSG00000081026.17','ENSG00000173227.12','ENSG00000100084.13','ENSG00000138867.15','ENSG00000248487.7',\n",
    "          'ENSG00000122783.15'], axis=1)\n",
    "x_all=x.values\n",
    "\n",
    "x.head()"
   ]
  },
  {
   "cell_type": "code",
   "execution_count": 53,
   "metadata": {},
   "outputs": [
    {
     "name": "stdout",
     "output_type": "stream",
     "text": [
      "StandardScaler(copy=True, with_mean=True, with_std=True)\n",
      "[1.45687844e+01 3.05771491e+01 1.28618976e+01 2.21695205e+00\n",
      " 5.20022906e+01 4.06564778e-04 4.02048313e-02 2.09403214e+01\n",
      " 8.76847291e-01]\n",
      "ensemble_id  ENSG00000090520.9  ENSG00000114315.3  ENSG00000137393.9  \\\n",
      "0                    -1.016000           0.272509          -0.492610   \n",
      "1                     2.365169           1.798762          -0.017309   \n",
      "2                     0.718085           0.436840           0.013988   \n",
      "3                    -1.143506          -0.513136          -0.510899   \n",
      "4                     1.163159          -0.164352          -0.501971   \n",
      "5                    -0.354817           0.681783           0.239618   \n",
      "6                     1.243559           0.219613           1.235428   \n",
      "7                     1.159930           3.608435           1.002639   \n",
      "8                    -0.298951          -0.237919           0.320744   \n",
      "9                     1.310613          -0.389704           0.507943   \n",
      "10                   -0.601508          -0.931518           0.980895   \n",
      "11                   -0.342391          -0.922221           2.209027   \n",
      "12                    0.790730          -1.034136          -0.660880   \n",
      "13                    0.479166           2.420256           0.681838   \n",
      "14                   -0.389884          -0.099863           3.594779   \n",
      "15                    1.154652           1.322182           5.488944   \n",
      "16                    0.917453           0.269136          -0.459235   \n",
      "17                    0.850167          -0.234042           2.069094   \n",
      "18                   -0.050383           0.589699           0.180922   \n",
      "19                   -0.155584           0.573604           4.178783   \n",
      "20                   -1.291486          -0.795262          -0.381467   \n",
      "21                    1.610753           2.630339          -0.398942   \n",
      "22                    1.390090           0.709026           1.649105   \n",
      "23                    3.807930          -0.385936           2.043613   \n",
      "24                   -0.717677          -0.314680          -0.008074   \n",
      "25                    0.980812           0.500975          -0.404362   \n",
      "26                    0.559626          -0.117254          -0.573828   \n",
      "27                   -0.301821           0.045610           0.155267   \n",
      "28                    1.367600           0.518450           0.807534   \n",
      "29                   -0.525414           0.323779          -0.481090   \n",
      "..                         ...                ...                ...   \n",
      "173                  -0.251142          -0.036532          -0.218135   \n",
      "174                   0.772652          -0.554795          -0.887451   \n",
      "175                   0.141356          -0.164078           0.173275   \n",
      "176                  -0.780071           1.499247          -0.873601   \n",
      "177                   2.837027          -1.177782          -0.906002   \n",
      "178                   1.417893          -0.087721          -0.352658   \n",
      "179                  -0.834247          -1.070594          -0.228459   \n",
      "180                  -1.096964           0.256193           1.171023   \n",
      "181                   2.041854          -0.258980          -0.051449   \n",
      "182                   1.218954           0.369377          -0.826581   \n",
      "183                   0.008329          -0.555989          -0.478518   \n",
      "184                  -0.924960          -1.237972           0.102327   \n",
      "185                  -0.614079          -0.645422           0.640540   \n",
      "186                  -0.132216          -0.136618          -0.019533   \n",
      "187                   0.333286          -0.329533          -0.413280   \n",
      "188                  -0.319482          -0.275728          -0.092507   \n",
      "189                  -1.560044           0.536535           0.177547   \n",
      "190                   0.375135           1.228390          -0.475182   \n",
      "191                  -1.004798           0.853728          -0.524704   \n",
      "192                  -1.181649          -0.754203          -0.619908   \n",
      "193                   0.417430          -0.700282          -0.688283   \n",
      "194                  -0.919192          -0.288290           0.668520   \n",
      "195                  -0.825309           0.121494          -0.343289   \n",
      "196                  -0.315736           2.119932           0.553111   \n",
      "197                  -0.076177           0.091687          -0.799201   \n",
      "198                   0.048441          -0.671446          -0.108248   \n",
      "199                  -0.990982          -0.740540          -0.603814   \n",
      "200                   0.159928          -0.781801          -0.398961   \n",
      "201                  -1.510947          -0.645904           0.178521   \n",
      "202                  -0.061985          -0.868857          -0.713761   \n",
      "\n",
      "ensemble_id  ENSG00000137440.4  ENSG00000177383.4  ENSG00000181698.3  \\\n",
      "0                    -0.328800          -0.011503          -0.129268   \n",
      "1                     0.168533           1.630368          -0.129268   \n",
      "2                    -0.346803           0.750133          -0.129268   \n",
      "3                    -0.227935          -1.287023          -0.129268   \n",
      "4                    -0.375733           2.006762          -0.129268   \n",
      "5                     2.479947          -0.401022          -0.129268   \n",
      "6                    -0.344355           1.864693          -0.129268   \n",
      "7                    -0.377683           0.734208          -0.129268   \n",
      "8                    -0.337869          -1.069168          -0.129268   \n",
      "9                    -0.348856           0.659976          -0.129268   \n",
      "10                   -0.141255          -0.067958          -0.129268   \n",
      "11                   -0.353929          -0.539950          -0.129268   \n",
      "12                   -0.292583           0.859547           4.984056   \n",
      "13                   -0.215139           0.448993          -0.129268   \n",
      "14                    0.375837          -0.853421          -0.129268   \n",
      "15                   -0.373724           0.567887          -0.129268   \n",
      "16                   -0.192440           1.410531          -0.129268   \n",
      "17                   -0.166925           1.274046          -0.129268   \n",
      "18                   -0.360951           0.730522          -0.129268   \n",
      "19                   -0.344852           0.644983          -0.129268   \n",
      "20                   -0.343676          -1.180132          11.123959   \n",
      "21                    0.787680           0.747076          -0.129268   \n",
      "22                   -0.359624          -0.192860          -0.129268   \n",
      "23                   -0.303370           3.135658          -0.129268   \n",
      "24                   -0.328558          -0.136139          -0.129268   \n",
      "25                   -0.114538           1.901218          -0.129268   \n",
      "26                   -0.184958          -0.381373          -0.129268   \n",
      "27                   -0.381276          -0.121663          -0.129268   \n",
      "28                   -0.281998           1.541295          -0.129268   \n",
      "29                   -0.387101          -0.720389          -0.129268   \n",
      "..                         ...                ...                ...   \n",
      "173                  -0.309153          -0.570829          -0.129268   \n",
      "174                  -0.363731           1.123127          -0.129268   \n",
      "175                  -0.224249          -0.254613          -0.129268   \n",
      "176                  -0.375348          -0.861888          -0.129268   \n",
      "177                  -0.292547           0.516437          -0.129268   \n",
      "178                  -0.364915           1.777906          -0.129268   \n",
      "179                   0.032166          -1.544001          -0.129268   \n",
      "180                  -0.048093           0.371292          -0.129268   \n",
      "181                  -0.143145          -0.071485          -0.129268   \n",
      "182                  -0.053215           3.609619          -0.129268   \n",
      "183                   0.564518          -0.635106          -0.129268   \n",
      "184                  -0.261522          -1.284816          -0.129268   \n",
      "185                  -0.232745          -0.809499          -0.129268   \n",
      "186                  -0.359235          -0.420742          -0.129268   \n",
      "187                  -0.314989           0.929171          -0.129268   \n",
      "188                   0.509360           0.126666          -0.129268   \n",
      "189                  -0.189187          -1.125816          -0.129268   \n",
      "190                  -0.367793           0.700898          -0.129268   \n",
      "191                  -0.220300          -0.326240          -0.129268   \n",
      "192                  -0.332674          -1.115707          -0.129268   \n",
      "193                  -0.341944          -0.626241          -0.129268   \n",
      "194                  -0.267360          -0.642668          -0.129268   \n",
      "195                  -0.367542           0.039076          -0.129268   \n",
      "196                  -0.380103          -0.268715          -0.129268   \n",
      "197                  -0.195852          -0.241865          -0.129268   \n",
      "198                  -0.375350          -0.926725          -0.129268   \n",
      "199                  -0.066833          -1.378531          -0.129268   \n",
      "200                  -0.019789          -0.716588          -0.129268   \n",
      "201                  -0.010756          -0.848014          -0.129268   \n",
      "202                   0.392985          -0.252622          -0.129268   \n",
      "\n",
      "ensemble_id  ENSG00000250264.1       pfs     event  \n",
      "0                     0.097208 -0.916743  0.374766  \n",
      "1                    -0.102860 -0.690703  0.374766  \n",
      "2                    -0.981440 -0.760398  0.374766  \n",
      "3                     0.400093 -0.692586  0.374766  \n",
      "4                     0.290362 -0.726492  0.374766  \n",
      "5                    -1.137443 -0.675633  0.374766  \n",
      "6                    -1.137443 -0.653029  0.374766  \n",
      "7                    -0.410730 -0.952532  0.374766  \n",
      "8                    -0.934744 -0.933696  0.374766  \n",
      "9                    -1.137443 -0.726492  0.374766  \n",
      "10                   -0.961780 -0.445826  0.374766  \n",
      "11                    0.365833 -0.901673  0.374766  \n",
      "12                    1.007615 -0.828210  0.374766  \n",
      "13                    0.010518 -0.914859  0.374766  \n",
      "14                    0.978186 -0.487267  0.374766  \n",
      "15                   -0.078336 -0.541893  0.374766  \n",
      "16                    0.012783 -0.361061  0.374766  \n",
      "17                   -0.659916 -0.628542  0.374766  \n",
      "18                    0.690532 -0.641727  0.374766  \n",
      "19                   -0.747414 -0.754747  0.374766  \n",
      "20                   -1.137443 -0.688819  0.374766  \n",
      "21                   -0.641630 -0.566381  0.374766  \n",
      "22                   -0.901132 -0.645495  0.374766  \n",
      "23                   -0.468783 -0.643611  0.374766  \n",
      "24                   -0.900857 -0.988322  0.374766  \n",
      "25                    1.185954 -0.929928  0.374766  \n",
      "26                    1.919165 -0.847047  0.374766  \n",
      "27                    1.049309 -0.487267  0.374766  \n",
      "28                   -0.122359 -1.112644  0.374766  \n",
      "29                   -0.360941 -0.632309  0.374766  \n",
      "..                         ...       ...       ...  \n",
      "173                  -0.369429 -0.361061  0.374766  \n",
      "174                  -0.284314 -0.455244  0.374766  \n",
      "175                  -0.340009 -0.496685  0.374766  \n",
      "176                  -0.553995 -0.172694  0.374766  \n",
      "177                  -0.515280 -0.046489  0.374766  \n",
      "178                  -0.678647 -0.161392  0.374766  \n",
      "179                   0.610568 -0.104882  0.374766  \n",
      "180                  -0.584237 -0.236739  0.374766  \n",
      "181                   2.324414 -0.264994  0.374766  \n",
      "182                  -0.659370 -0.411920  0.374766  \n",
      "183                  -0.785568 -0.532475  0.374766  \n",
      "184                   0.750433  0.173901  0.374766  \n",
      "185                  -1.137443 -0.541893  0.374766  \n",
      "186                   1.095909 -0.116184  0.374766  \n",
      "187                  -0.822877 -0.116184  0.374766  \n",
      "188                  -0.100458 -0.410036  0.374766  \n",
      "189                  -0.563282 -0.193415  0.374766  \n",
      "190                  -0.502505  0.113623 -2.668333  \n",
      "191                  -0.894066 -0.459012  0.374766  \n",
      "192                  -0.440967 -0.579566  0.374766  \n",
      "193                   0.025009 -0.528707  0.374766  \n",
      "194                  -0.800619 -0.008815  0.374766  \n",
      "195                  -1.137443  0.334012  0.374766  \n",
      "196                  -0.733217 -0.457128  0.374766  \n",
      "197                  -0.543818  0.205923  0.374766  \n",
      "198                   0.321018 -0.402502  0.374766  \n",
      "199                  -0.356552 -0.426989  0.374766  \n",
      "200                  -0.880564  0.104205  0.374766  \n",
      "201                  -0.451257  0.328361  0.374766  \n",
      "202                  -0.573907 -0.042721  0.374766  \n",
      "\n",
      "[203 rows x 9 columns]\n"
     ]
    }
   ],
   "source": [
    "#ricordarti che alla riga print(scaler.fit(all_conc))!\n",
    "\n",
    "from sklearn.preprocessing import StandardScaler\n",
    "\n",
    "scaler = StandardScaler()\n",
    "print(scaler.fit(x))\n",
    "StandardScaler(copy=True, with_mean=True, with_std=True)\n",
    "print(scaler.mean_)\n",
    "df_scal=scaler.transform(x)\n",
    "df_scal=pd.DataFrame(df_scal, columns=x.columns)\n",
    "print(df_scal)"
   ]
  },
  {
   "cell_type": "raw",
   "metadata": {},
   "source": [
    "x_new=df_scal.copy()\n",
    "x_new=x_new.drop('pfs', axis=1)\n",
    "X_train, X_test, y_train, y_test = train_test_split(x_new, df_scal['pfs'], test_size=0.2)"
   ]
  },
  {
   "cell_type": "code",
   "execution_count": 25,
   "metadata": {},
   "outputs": [
    {
     "name": "stderr",
     "output_type": "stream",
     "text": [
      "/home/lalli/anaconda3/lib/python3.6/site-packages/ipykernel_launcher.py:5: SettingWithCopyWarning: \n",
      "A value is trying to be set on a copy of a slice from a DataFrame.\n",
      "Try using .loc[row_indexer,col_indexer] = value instead\n",
      "\n",
      "See the caveats in the documentation: http://pandas.pydata.org/pandas-docs/stable/indexing.html#indexing-view-versus-copy\n",
      "  \"\"\"\n",
      "/home/lalli/anaconda3/lib/python3.6/site-packages/ipykernel_launcher.py:6: SettingWithCopyWarning: \n",
      "A value is trying to be set on a copy of a slice from a DataFrame.\n",
      "Try using .loc[row_indexer,col_indexer] = value instead\n",
      "\n",
      "See the caveats in the documentation: http://pandas.pydata.org/pandas-docs/stable/indexing.html#indexing-view-versus-copy\n",
      "  \n"
     ]
    }
   ],
   "source": [
    "from sklearn.model_selection import train_test_split\n",
    "x_new=x.copy()\n",
    "x_new=x_new.drop('pfs', axis=1)\n",
    "X_train, X_test, y_train, y_test = train_test_split(x_new, x['pfs'], test_size=0.2)\n",
    "X_train['pfs']= y_train\n",
    "X_test['pfs']= y_test\n",
    "#from lifelines.utils.sklearn_adapter import sklearn_adapter\n",
    "#from lifelines.utils import k_fold_cross_validation, concordance_index\n",
    "\n",
    "#CoxRegression = sklearn_adapter(CoxPHFitter, event_col='event')\n",
    "# CoxRegression is a class like the `LinearRegression` class or `SVC` class in scikit-learn\n",
    "\n",
    "#sk_cph = CoxRegression(penalizer=0.1)\n",
    "#sk_cph.fit(X_train, y_train)\n",
    "#sk_cph.fit(X_train, y_train)\n",
    "#print(sk_cph)\n",
    "\n",
    "#pred=sk_cph.predict(X_test)\n",
    "#sk_cph.score(X_test, y_test)"
   ]
  },
  {
   "cell_type": "code",
   "execution_count": 26,
   "metadata": {},
   "outputs": [
    {
     "name": "stdout",
     "output_type": "stream",
     "text": [
      "Iteration 6: norm_delta = 0.00003, step_size = 1.0000, ll = -603.13660, newton_decrement = 0.00000, seconds_since_start = 0.0Convergence completed after 6 iterations.\n"
     ]
    },
    {
     "name": "stderr",
     "output_type": "stream",
     "text": [
      "/home/lalli/anaconda3/lib/python3.6/site-packages/lifelines/utils/__init__.py:1020: ConvergenceWarning: Column(s) ['ENSG00000181698.3'] have very low variance. This may harm convergence. Try dropping this redundant column before fitting if convergence fails.\n",
      "  warnings.warn(dedent(warning_text), ConvergenceWarning)\n"
     ]
    },
    {
     "data": {
      "text/plain": [
       "<lifelines.CoxPHFitter: fitted with 162 observations, 19 censored>"
      ]
     },
     "execution_count": 26,
     "metadata": {},
     "output_type": "execute_result"
    }
   ],
   "source": [
    "cph = CoxPHFitter(penalizer=0.1)\n",
    "cph.fit(X_train, 'pfs', event_col='event', show_progress=True)"
   ]
  },
  {
   "cell_type": "code",
   "execution_count": 27,
   "metadata": {},
   "outputs": [],
   "source": [
    "res=[]\n",
    "sens=[]\n",
    "senl=[]\n",
    "\n",
    "for p in X_test.index:\n",
    "    if 'R' in p:\n",
    "        res.append(p)\n",
    "    elif 'SS' in p:\n",
    "        sens.append(p)\n",
    "    else:\n",
    "        senl.append(p)"
   ]
  },
  {
   "cell_type": "code",
   "execution_count": 30,
   "metadata": {},
   "outputs": [
    {
     "data": {
      "image/png": "[encoded data removed]",
      "text/plain": [
       "<Figure size 432x288 with 1 Axes>"
      ]
     },
     "metadata": {},
     "output_type": "display_data"
    }
   ],
   "source": [
    "plt.plot(cph.predict_survival_function(X_test.loc[senl]))\n",
    "plt.xlabel('Progression Free Survival')\n",
    "plt.ylabel('Probability of Survival')\n",
    "plt.title('Sensitive Long Class\\ngene_expression')\n",
    "plt.show()"
   ]
  },
  {
   "cell_type": "code",
   "execution_count": null,
   "metadata": {},
   "outputs": [],
   "source": [
    "#all_in=pd.read_csv('all_conc_surv.csv', sep='\\t')"
   ]
  },
  {
   "cell_type": "code",
   "execution_count": 54,
   "metadata": {
    "scrolled": true
   },
   "outputs": [
    {
     "name": "stdout",
     "output_type": "stream",
     "text": [
      "Iteration 8: norm_delta = 0.00001, step_size = 1.0000, ll = -860.31189, newton_decrement = 0.00000, seconds_since_start = 0.1Convergence completed after 8 iterations.\n",
      "<lifelines.CoxPHFitter: fitted with 203 observations, 0 censored>\n",
      "      duration col = 'pfs'\n",
      "         event col = 'event'\n",
      "         penalizer = 0.0001\n",
      "number of subjects = 203\n",
      "  number of events = 203\n",
      "partial log-likelihood = -860.31\n",
      "  time fit was run = 2019-10-16 09:08:46 UTC\n",
      "\n",
      "---\n",
      "                   coef exp(coef)  se(coef)  coef lower 95%  coef upper 95% exp(coef) lower 95% exp(coef) upper 95%\n",
      "ensemble_id                                                                                                        \n",
      "ENSG00000090520.9  0.20      1.22      0.09            0.03            0.37                1.03                1.45\n",
      "ENSG00000114315.3  0.27      1.30      0.08            0.10            0.43                1.11                1.54\n",
      "ENSG00000137393.9  0.16      1.18      0.07            0.03            0.29                1.03                1.34\n",
      "ENSG00000137440.4 -0.18      0.84      0.09           -0.35           -0.01                0.71                0.99\n",
      "ENSG00000177383.4 -0.06      0.94      0.08           -0.22            0.11                0.80                1.11\n",
      "ENSG00000181698.3  0.17      1.19      0.07            0.03            0.32                1.03                1.37\n",
      "ENSG00000250264.1  0.15      1.16      0.08            0.00            0.30                1.00                1.35\n",
      "\n",
      "                      z      p  -log2(p)\n",
      "ensemble_id                             \n",
      "ENSG00000090520.9  2.29   0.02      5.52\n",
      "ENSG00000114315.3  3.21 <0.005      9.54\n",
      "ENSG00000137393.9  2.43   0.01      6.06\n",
      "ENSG00000137440.4 -2.04   0.04      4.59\n",
      "ENSG00000177383.4 -0.69   0.49      1.04\n",
      "ENSG00000181698.3  2.33   0.02      5.67\n",
      "ENSG00000250264.1  1.97   0.05      4.37\n",
      "---\n",
      "Concordance = 0.62\n",
      "Log-likelihood ratio test = 37.69 on 7 df, -log2(p)=18.14\n"
     ]
    },
    {
     "data": {
      "text/plain": [
       "(184, 1)"
      ]
     },
     "execution_count": 54,
     "metadata": {},
     "output_type": "execute_result"
    }
   ],
   "source": [
    "cph = CoxPHFitter(penalizer=0.0001)\n",
    "cph.fit(df_scal, duration_col='pfs', event_col='event', show_progress=True, step_size=0.50)\n",
    "cph.print_summary()\n",
    "cph.baseline_cumulative_hazard_.shape\n",
    "#cph.plot()"
   ]
  },
  {
   "cell_type": "code",
   "execution_count": 55,
   "metadata": {
    "scrolled": true
   },
   "outputs": [],
   "source": [
    "k_fold = k_fold_cross_validation(cph, df_scal, duration_col='pfs', event_col='event', k=5, predictor='predict_median')"
   ]
  },
  {
   "cell_type": "code",
   "execution_count": null,
   "metadata": {},
   "outputs": [],
   "source": [
    "k_fold"
   ]
  },
  {
   "cell_type": "code",
   "execution_count": null,
   "metadata": {},
   "outputs": [],
   "source": [
    "w=np.mean(k_fold)\n",
    "w"
   ]
  },
  {
   "cell_type": "code",
   "execution_count": 56,
   "metadata": {},
   "outputs": [
    {
     "data": {
      "text/plain": [
       "<matplotlib.axes._subplots.AxesSubplot at 0x7f690e7eb6a0>"
      ]
     },
     "execution_count": 56,
     "metadata": {},
     "output_type": "execute_result"
    },
    {
     "data": {
      "image/png": "[encoded data removed]",
      "text/plain": [
       "<Figure size 576x576 with 1 Axes>"
      ]
     },
     "metadata": {},
     "output_type": "display_data"
    }
   ],
   "source": [
    "plt.rcParams[\"figure.figsize\"] = [8, 8]\n",
    "cph.plot()"
   ]
  },
  {
   "cell_type": "markdown",
   "metadata": {},
   "source": [
    "## Prove"
   ]
  },
  {
   "cell_type": "code",
   "execution_count": null,
   "metadata": {},
   "outputs": [],
   "source": [
    "cph.fit(all_conc, duration_col='pfs', event_col='event', show_progress=True)\n",
    "\n",
    "cph.plot_covariate_groups('ENSG00000135443.7', [0, 1, 2], cmap='coolwarm')"
   ]
  },
  {
   "cell_type": "code",
   "execution_count": null,
   "metadata": {},
   "outputs": [],
   "source": [
    "#prediction(?)\n",
    "\n",
    "from lifelines import WeibullAFTFitter\n",
    "aft_with_elastic_penalty = WeibullAFTFitter(penalizer=4.0, l1_ratio=1.0)\n",
    "aft_with_elastic_penalty.fit(all_conc, 'pfs', 'event')\n",
    "aft_with_elastic_penalty.predict_median(all_conc)\n",
    "\n",
    "aft_with_elastic_penalty.print_summary()"
   ]
  },
  {
   "cell_type": "code",
   "execution_count": null,
   "metadata": {},
   "outputs": [],
   "source": [
    "#Model selection for AFT models\n",
    "from lifelines import LogLogisticAFTFitter, WeibullAFTFitter, LogNormalAFTFitter\n",
    "\n",
    "llf = LogLogisticAFTFitter().fit(all_conc, 'pfs', 'event')\n",
    "lnf = LogNormalAFTFitter().fit(all_conc, 'pfs', 'event')\n",
    "wf = WeibullAFTFitter().fit(all_conc, 'pfs', 'event')\n",
    "\n",
    "print(llf.log_likelihood_) \n",
    "print(lnf.log_likelihood_)  \n",
    "print(wf.log_likelihood_)   \n",
    "\n",
    "\n",
    "# with some heterogeneity in the ancillary parameters\n",
    "#ancillary_df = all_conc[['class']]\n",
    "#llf = LogLogisticAFTFitter().fit(all_conc, 'pfs', 'event', ancillary_df=ancillary_df)\n",
    "#lnf = LogNormalAFTFitter().fit(all_conc, 'pfs', 'event', ancillary_df=ancillary_df)\n",
    "#wf = WeibullAFTFitter().fit(all_conc, 'pfs', 'event', ancillary_df=ancillary_df)\n",
    "\n",
    "#print(llf.log_likelihood_) \n",
    "#print(lnf.log_likelihood_) \n",
    "#print(wf.log_likelihood_)  "
   ]
  },
  {
   "cell_type": "raw",
   "metadata": {},
   "source": [
    "from lifelines import WeibullAFTFitter\n",
    "fig, ax = plt.subplots(nrows=1, ncols=2, figsize=(10, 4))\n",
    "\n",
    "times = np.arange(0, 100)\n",
    "wft_model_rho = WeibullAFTFitter().fit(all_conc, 'pfs', 'event', ancillary_df=True, timeline=times)\n",
    "wft_model_rho.plot_covariate_groups('class', range(0, 1, 2), cmap='coolwarm', ax=ax[0])\n",
    "ax[0].set_title(\"Modelling rho_\")"
   ]
  },
  {
   "cell_type": "raw",
   "metadata": {},
   "source": [
    "cph.predict_partial_hazard(all_conc)\n",
    "\n",
    "cph.predict_survival_function(all_conc, times=['5., 25., 50.'])\n",
    "\n",
    "cph.predict_median(all_conc)"
   ]
  },
  {
   "cell_type": "code",
   "execution_count": null,
   "metadata": {},
   "outputs": [],
   "source": [
    "all_conc['ENSG00000135443.7']"
   ]
  },
  {
   "cell_type": "code",
   "execution_count": null,
   "metadata": {},
   "outputs": [],
   "source": [
    "cph.check_assumptions(all_conc, p_value_threshold=0.05, show_plots=True)"
   ]
  }
 ],
 "metadata": {
  "kernelspec": {
   "display_name": "Python 3",
   "language": "python",
   "name": "python3"
  },
  "language_info": {
   "codemirror_mode": {
    "name": "ipython",
    "version": 3
   },
   "file_extension": ".py",
   "mimetype": "text/x-python",
   "name": "python",
   "nbconvert_exporter": "python",
   "pygments_lexer": "ipython3",
   "version": "3.6.5"
  }
 },
 "nbformat": 4,
 "nbformat_minor": 2
}
