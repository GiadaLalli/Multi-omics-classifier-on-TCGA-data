{
 "cells": [
  {
   "cell_type": "code",
   "execution_count": 70,
   "metadata": {},
   "outputs": [],
   "source": [
    "#Import Libraries\n",
    "import subprocess\n",
    "import re\n",
    "import pandas as pd\n",
    "import os\n",
    "import collections\n",
    "import scipy.stats\n",
    "import numpy as np\n",
    "import scipy\n",
    "import csv\n",
    "import math\n",
    "import seaborn as sns\n",
    "\n",
    "from functools import reduce\n",
    "from tqdm import tqdm\n",
    "from matplotlib import pyplot as plt\n",
    "%matplotlib inline\n",
    "from pandas.tools.plotting import table\n",
    "from scipy import interp\n",
    "from sklearn import svm\n",
    "from sklearn.svm import SVC\n",
    "from sklearn.datasets import make_blobs, make_classification\n",
    "\n",
    "\n",
    "from sklearn.feature_selection import SelectKBest, chi2, VarianceThreshold\n",
    "from sklearn.model_selection import RepeatedStratifiedKFold, StratifiedKFold, GridSearchCV, LeaveOneOut, train_test_split, StratifiedShuffleSplit\n",
    "from sklearn.metrics import accuracy_score, precision_score, recall_score, confusion_matrix, auc, roc_curve, precision_recall_curve, f1_score, classification_report\n",
    "from sklearn.preprocessing import StandardScaler, MinMaxScaler\n",
    "from sklearn.ensemble import RandomForestClassifier, AdaBoostClassifier, ExtraTreesClassifier\n",
    "from sklearn.linear_model import LogisticRegression\n",
    "from sklearn.neighbors import KNeighborsClassifier  \n",
    "from sklearn.tree import DecisionTreeClassifier\n",
    "from sklearn.utils.multiclass import unique_labels\n",
    "from sklearn.decomposition import PCA\n",
    "from sklearn.manifold import TSNE\n",
    "from mpl_toolkits.mplot3d import Axes3D"
   ]
  },
  {
   "cell_type": "markdown",
   "metadata": {},
   "source": [
    "## Methylation"
   ]
  },
  {
   "cell_type": "code",
   "execution_count": 71,
   "metadata": {},
   "outputs": [],
   "source": [
    "dset_res=pd.read_csv (\"clintab_GMQL/methylation/res/res_meth.csv\", delimiter='\\t')\n",
    "dset_sens=pd.read_csv (\"clintab_GMQL/methylation/ss_32m/ss_meth.csv\", delimiter='\\t')\n",
    "dset_senl=pd.read_csv (\"clintab_GMQL/methylation/sl_32m/sl_meth.csv\", delimiter='\\t')"
   ]
  },
  {
   "cell_type": "code",
   "execution_count": 9,
   "metadata": {},
   "outputs": [
    {
     "data": {
      "text/html": [
       "<div>\n",
       "<style scoped>\n",
       "    .dataframe tbody tr th:only-of-type {\n",
       "        vertical-align: middle;\n",
       "    }\n",
       "\n",
       "    .dataframe tbody tr th {\n",
       "        vertical-align: top;\n",
       "    }\n",
       "\n",
       "    .dataframe thead th {\n",
       "        text-align: right;\n",
       "    }\n",
       "</style>\n",
       "<table border=\"1\" class=\"dataframe\">\n",
       "  <thead>\n",
       "    <tr style=\"text-align: right;\">\n",
       "      <th></th>\n",
       "      <th>patient</th>\n",
       "      <th>chrom</th>\n",
       "      <th>start</th>\n",
       "      <th>stop</th>\n",
       "      <th>beta_value</th>\n",
       "      <th>gene_symbol</th>\n",
       "      <th>gene_type</th>\n",
       "      <th>ensemble_transcript_id</th>\n",
       "      <th>feature_type</th>\n",
       "    </tr>\n",
       "  </thead>\n",
       "  <tbody>\n",
       "    <tr>\n",
       "      <th>0</th>\n",
       "      <td>R_00000</td>\n",
       "      <td>chr1</td>\n",
       "      <td>924804</td>\n",
       "      <td>924806</td>\n",
       "      <td>0.006785</td>\n",
       "      <td>SAMD11</td>\n",
       "      <td>protein_coding</td>\n",
       "      <td>ENST00000342066.6|ENST00000420190.4|ENST000004...</td>\n",
       "      <td>Island</td>\n",
       "    </tr>\n",
       "  </tbody>\n",
       "</table>\n",
       "</div>"
      ],
      "text/plain": [
       "   patient chrom   start    stop  beta_value gene_symbol       gene_type  \\\n",
       "0  R_00000  chr1  924804  924806    0.006785      SAMD11  protein_coding   \n",
       "\n",
       "                              ensemble_transcript_id feature_type  \n",
       "0  ENST00000342066.6|ENST00000420190.4|ENST000004...       Island  "
      ]
     },
     "execution_count": 9,
     "metadata": {},
     "output_type": "execute_result"
    }
   ],
   "source": [
    "dset_res.head(1)"
   ]
  },
  {
   "cell_type": "code",
   "execution_count": 72,
   "metadata": {},
   "outputs": [],
   "source": [
    "dset_res[\"position\"] = dset_res[\"chrom\"] + '_' + dset_res[\"start\"].map(str) + '-' + dset_res[\"stop\"].map(str)\n",
    "dset_sens[\"position\"] = dset_sens[\"chrom\"] + '_' + dset_sens[\"start\"].map(str) + '-' + dset_sens[\"stop\"].map(str)\n",
    "dset_senl[\"position\"] = dset_senl[\"chrom\"] + '_' + dset_senl[\"start\"].map(str) + '-' + dset_senl[\"stop\"].map(str)"
   ]
  },
  {
   "cell_type": "code",
   "execution_count": 73,
   "metadata": {},
   "outputs": [
    {
     "name": "stderr",
     "output_type": "stream",
     "text": [
      "100%|██████████| 60/60 [00:08<00:00,  7.82it/s]\n"
     ]
    }
   ],
   "source": [
    "patient = []\n",
    "genes = []\n",
    "beta_value_m_r = []\n",
    "\n",
    "for p in tqdm(dset_res['patient'].unique()):\n",
    "    x=dset_res[dset_res['patient']== p]\n",
    "    y=x.groupby(x[\"gene_symbol\"])\n",
    "    z_m=y[\"beta_value\"].agg(np.median)\n",
    "    \n",
    "    for index, value in z_m.iteritems(): \n",
    "        #print(index, value)\n",
    "        patient.append(p)\n",
    "        genes.append(index)\n",
    "        beta_value_m_r.append(value)"
   ]
  },
  {
   "cell_type": "code",
   "execution_count": 74,
   "metadata": {},
   "outputs": [],
   "source": [
    "df_res_m = pd.DataFrame(list(zip(patient, genes, beta_value_m_r)), \n",
    "               columns =['patient', 'genes', 'beta_value_m'])  \n",
    "#df_res_m.head()\n",
    "#df_res_m[df_res_m['patient'] == 'R_00001']"
   ]
  },
  {
   "cell_type": "code",
   "execution_count": 75,
   "metadata": {},
   "outputs": [
    {
     "name": "stderr",
     "output_type": "stream",
     "text": [
      "100%|██████████| 107/107 [00:21<00:00,  4.95it/s]\n"
     ]
    }
   ],
   "source": [
    "patient = []\n",
    "genes = []\n",
    "beta_value_m_ss = []\n",
    "\n",
    "for p in tqdm(dset_sens['patient'].unique()):\n",
    "    x=dset_sens[dset_sens['patient']== p]\n",
    "    y=x.groupby(x[\"gene_symbol\"])\n",
    "    z_m=y[\"beta_value\"].agg(np.median)\n",
    "    \n",
    "    for index, value in z_m.iteritems(): \n",
    "        #print(index, value)\n",
    "        patient.append(p)\n",
    "        genes.append(index)\n",
    "        beta_value_m_ss.append(value)"
   ]
  },
  {
   "cell_type": "code",
   "execution_count": 76,
   "metadata": {},
   "outputs": [
    {
     "data": {
      "text/html": [
       "<div>\n",
       "<style scoped>\n",
       "    .dataframe tbody tr th:only-of-type {\n",
       "        vertical-align: middle;\n",
       "    }\n",
       "\n",
       "    .dataframe tbody tr th {\n",
       "        vertical-align: top;\n",
       "    }\n",
       "\n",
       "    .dataframe thead th {\n",
       "        text-align: right;\n",
       "    }\n",
       "</style>\n",
       "<table border=\"1\" class=\"dataframe\">\n",
       "  <thead>\n",
       "    <tr style=\"text-align: right;\">\n",
       "      <th></th>\n",
       "      <th>patient</th>\n",
       "      <th>genes</th>\n",
       "      <th>beta_value_m</th>\n",
       "    </tr>\n",
       "  </thead>\n",
       "  <tbody>\n",
       "    <tr>\n",
       "      <th>0</th>\n",
       "      <td>SS_00000</td>\n",
       "      <td>A1BG-AS1</td>\n",
       "      <td>0.960784</td>\n",
       "    </tr>\n",
       "    <tr>\n",
       "      <th>1</th>\n",
       "      <td>SS_00000</td>\n",
       "      <td>A1CF</td>\n",
       "      <td>0.532057</td>\n",
       "    </tr>\n",
       "    <tr>\n",
       "      <th>2</th>\n",
       "      <td>SS_00000</td>\n",
       "      <td>A2M</td>\n",
       "      <td>0.769686</td>\n",
       "    </tr>\n",
       "    <tr>\n",
       "      <th>3</th>\n",
       "      <td>SS_00000</td>\n",
       "      <td>A2ML1-AS1</td>\n",
       "      <td>0.615195</td>\n",
       "    </tr>\n",
       "    <tr>\n",
       "      <th>4</th>\n",
       "      <td>SS_00000</td>\n",
       "      <td>A4GALT</td>\n",
       "      <td>0.329131</td>\n",
       "    </tr>\n",
       "  </tbody>\n",
       "</table>\n",
       "</div>"
      ],
      "text/plain": [
       "    patient      genes  beta_value_m\n",
       "0  SS_00000   A1BG-AS1      0.960784\n",
       "1  SS_00000       A1CF      0.532057\n",
       "2  SS_00000        A2M      0.769686\n",
       "3  SS_00000  A2ML1-AS1      0.615195\n",
       "4  SS_00000     A4GALT      0.329131"
      ]
     },
     "execution_count": 76,
     "metadata": {},
     "output_type": "execute_result"
    }
   ],
   "source": [
    "df_sens_m = pd.DataFrame(list(zip(patient, genes, beta_value_m_ss)), \n",
    "               columns =['patient', 'genes', 'beta_value_m'])  \n",
    "df_sens_m.head()"
   ]
  },
  {
   "cell_type": "code",
   "execution_count": 77,
   "metadata": {},
   "outputs": [
    {
     "name": "stderr",
     "output_type": "stream",
     "text": [
      "100%|██████████| 34/34 [00:03<00:00, 11.20it/s]\n"
     ]
    }
   ],
   "source": [
    "patient = []\n",
    "genes = []\n",
    "beta_value_m_sl = []\n",
    "\n",
    "for p in tqdm(dset_senl['patient'].unique()):\n",
    "    x=dset_senl[dset_senl['patient']== p]\n",
    "    y=x.groupby(x[\"gene_symbol\"])\n",
    "    z_m=y[\"beta_value\"].agg(np.median)\n",
    "    \n",
    "    for index, value in z_m.iteritems(): \n",
    "        #print(index, value)\n",
    "        patient.append(p)\n",
    "        genes.append(index)\n",
    "        beta_value_m_sl.append(value)"
   ]
  },
  {
   "cell_type": "code",
   "execution_count": 78,
   "metadata": {},
   "outputs": [],
   "source": [
    "df_senl_m = pd.DataFrame(list(zip(patient, genes, beta_value_m_sl)), \n",
    "               columns =['patient', 'genes', 'beta_value_m'])  \n",
    "#df_senl_m.head()"
   ]
  },
  {
   "cell_type": "code",
   "execution_count": 79,
   "metadata": {},
   "outputs": [
    {
     "name": "stderr",
     "output_type": "stream",
     "text": [
      "100%|██████████| 60/60 [00:08<00:00,  7.50it/s]\n"
     ]
    }
   ],
   "source": [
    "patient = []\n",
    "genes = []\n",
    "beta_value_c = []\n",
    "\n",
    "for p in tqdm(dset_res['patient'].unique()):\n",
    "    x=dset_res[dset_res['patient']== p]\n",
    "    y=x.groupby(x[\"gene_symbol\"])\n",
    "    z_c=y[\"beta_value\"].agg('count')\n",
    "    \n",
    "    for index, value in z_c.iteritems(): \n",
    "        #print(index, value)\n",
    "        patient.append(p)\n",
    "        genes.append(index)\n",
    "        beta_value_c.append(value)"
   ]
  },
  {
   "cell_type": "code",
   "execution_count": 80,
   "metadata": {},
   "outputs": [],
   "source": [
    "df_res_c = pd.DataFrame(list(zip(patient, genes, beta_value_c)), \n",
    "               columns =['patient', 'genes', 'beta_value_c'])  \n",
    "#df_res_c.head()"
   ]
  },
  {
   "cell_type": "code",
   "execution_count": 81,
   "metadata": {},
   "outputs": [
    {
     "name": "stderr",
     "output_type": "stream",
     "text": [
      "100%|██████████| 107/107 [00:22<00:00,  4.50it/s]\n"
     ]
    }
   ],
   "source": [
    "patient = []\n",
    "genes = []\n",
    "beta_value_c = []\n",
    "\n",
    "for p in tqdm(dset_sens['patient'].unique()):\n",
    "    x=dset_sens[dset_sens['patient']== p]\n",
    "    y=x.groupby(x[\"gene_symbol\"])\n",
    "    z_c=y[\"beta_value\"].agg('count')\n",
    "    \n",
    "    for index, value in z_c.iteritems(): \n",
    "        #print(index, value)\n",
    "        patient.append(p)\n",
    "        genes.append(index)\n",
    "        beta_value_c.append(value)"
   ]
  },
  {
   "cell_type": "code",
   "execution_count": 82,
   "metadata": {},
   "outputs": [],
   "source": [
    "df_sens_c = pd.DataFrame(list(zip(patient, genes, beta_value_c)), \n",
    "               columns =['patient', 'genes', 'beta_value_c'])  \n",
    "#df_sens_c.head()"
   ]
  },
  {
   "cell_type": "code",
   "execution_count": 83,
   "metadata": {},
   "outputs": [
    {
     "name": "stderr",
     "output_type": "stream",
     "text": [
      "100%|██████████| 34/34 [00:02<00:00, 12.63it/s]\n"
     ]
    }
   ],
   "source": [
    "patient = []\n",
    "genes = []\n",
    "beta_value_c = []\n",
    "\n",
    "for p in tqdm(dset_senl['patient'].unique()):\n",
    "    x=dset_senl[dset_senl['patient']== p]\n",
    "    y=x.groupby(x[\"gene_symbol\"])\n",
    "    z_c=y[\"beta_value\"].agg('count')\n",
    "    \n",
    "    for index, value in z_c.iteritems(): \n",
    "        #print(index, value)\n",
    "        patient.append(p)\n",
    "        genes.append(index)\n",
    "        beta_value_c.append(value)"
   ]
  },
  {
   "cell_type": "code",
   "execution_count": 84,
   "metadata": {},
   "outputs": [],
   "source": [
    "df_senl_c = pd.DataFrame(list(zip(patient, genes, beta_value_c)), \n",
    "               columns =['patient', 'genes', 'beta_value_c'])  \n",
    "#df_senl_c.head()"
   ]
  },
  {
   "cell_type": "code",
   "execution_count": 124,
   "metadata": {},
   "outputs": [],
   "source": [
    "resdf=df_res_m.pivot(index=\"patient\", columns=\"genes\", values=\"beta_value_m\")\n",
    "genes = resdf.columns.tolist()\n",
    "#resdf.head()\n",
    "#resdf.shape"
   ]
  },
  {
   "cell_type": "code",
   "execution_count": 125,
   "metadata": {},
   "outputs": [],
   "source": [
    "senldf=df_senl_m.pivot(index=\"patient\", columns=\"genes\", values=\"beta_value_m\")\n",
    "senldf = senldf[genes]\n",
    "#senldf.head()\n",
    "#senldf.shape"
   ]
  },
  {
   "cell_type": "code",
   "execution_count": 126,
   "metadata": {},
   "outputs": [],
   "source": [
    "sensdf=df_sens_m.pivot(index=\"patient\", columns=\"genes\", values=\"beta_value_m\")\n",
    "sensdf = sensdf[genes]\n",
    "#sensdf.head()\n",
    "#sensdf.shape"
   ]
  },
  {
   "cell_type": "code",
   "execution_count": 113,
   "metadata": {},
   "outputs": [],
   "source": [
    "resdf_median = resdf.median(0)\n",
    "senldf_median = senldf.median(0)\n",
    "sensdf_median = sensdf.median(0)"
   ]
  },
  {
   "cell_type": "raw",
   "metadata": {},
   "source": [
    "resdf_median.shape"
   ]
  },
  {
   "cell_type": "raw",
   "metadata": {
    "scrolled": false
   },
   "source": [
    "print(len(resdf_median), len(senldf_median), len(sensdf_median))"
   ]
  },
  {
   "cell_type": "code",
   "execution_count": 127,
   "metadata": {},
   "outputs": [],
   "source": [
    "sendf=pd.concat([senldf, sensdf])"
   ]
  },
  {
   "cell_type": "code",
   "execution_count": 128,
   "metadata": {},
   "outputs": [],
   "source": [
    "resdf_median = resdf.median(0)\n",
    "sendf_median = sendf.median(0)"
   ]
  },
  {
   "cell_type": "code",
   "execution_count": 129,
   "metadata": {},
   "outputs": [
    {
     "name": "stderr",
     "output_type": "stream",
     "text": [
      "100%|██████████| 14887/14887 [00:07<00:00, 2102.04it/s]\n"
     ]
    },
    {
     "data": {
      "text/html": [
       "<div>\n",
       "<style scoped>\n",
       "    .dataframe tbody tr th:only-of-type {\n",
       "        vertical-align: middle;\n",
       "    }\n",
       "\n",
       "    .dataframe tbody tr th {\n",
       "        vertical-align: top;\n",
       "    }\n",
       "\n",
       "    .dataframe thead th {\n",
       "        text-align: right;\n",
       "    }\n",
       "</style>\n",
       "<table border=\"1\" class=\"dataframe\">\n",
       "  <thead>\n",
       "    <tr style=\"text-align: right;\">\n",
       "      <th></th>\n",
       "      <th>gene</th>\n",
       "      <th>resistant_median</th>\n",
       "      <th>sensitive_median</th>\n",
       "      <th>mannwhiteney_pvalue</th>\n",
       "    </tr>\n",
       "  </thead>\n",
       "  <tbody>\n",
       "    <tr>\n",
       "      <th>0</th>\n",
       "      <td>A1BG-AS1</td>\n",
       "      <td>0.974877</td>\n",
       "      <td>0.980623</td>\n",
       "      <td>0.046346</td>\n",
       "    </tr>\n",
       "    <tr>\n",
       "      <th>1</th>\n",
       "      <td>A1CF</td>\n",
       "      <td>0.495290</td>\n",
       "      <td>0.539873</td>\n",
       "      <td>0.356805</td>\n",
       "    </tr>\n",
       "    <tr>\n",
       "      <th>2</th>\n",
       "      <td>A2M</td>\n",
       "      <td>0.679519</td>\n",
       "      <td>0.653433</td>\n",
       "      <td>0.317159</td>\n",
       "    </tr>\n",
       "    <tr>\n",
       "      <th>3</th>\n",
       "      <td>A2ML1-AS1</td>\n",
       "      <td>0.703293</td>\n",
       "      <td>0.626943</td>\n",
       "      <td>0.144280</td>\n",
       "    </tr>\n",
       "    <tr>\n",
       "      <th>4</th>\n",
       "      <td>A4GALT</td>\n",
       "      <td>0.258818</td>\n",
       "      <td>0.267151</td>\n",
       "      <td>0.261964</td>\n",
       "    </tr>\n",
       "  </tbody>\n",
       "</table>\n",
       "</div>"
      ],
      "text/plain": [
       "        gene  resistant_median  sensitive_median  mannwhiteney_pvalue\n",
       "0   A1BG-AS1          0.974877          0.980623             0.046346\n",
       "1       A1CF          0.495290          0.539873             0.356805\n",
       "2        A2M          0.679519          0.653433             0.317159\n",
       "3  A2ML1-AS1          0.703293          0.626943             0.144280\n",
       "4     A4GALT          0.258818          0.267151             0.261964"
      ]
     },
     "execution_count": 129,
     "metadata": {},
     "output_type": "execute_result"
    }
   ],
   "source": [
    "pvalues = []\n",
    "for gene in tqdm(genes):\n",
    "    try:\n",
    "        gene_pvalue = scipy.stats.mannwhitneyu(sendf[gene], resdf[gene]).pvalue\n",
    "    except Exception:\n",
    "        gene_pvalue = 1\n",
    "    pvalues.append(gene_pvalue)\n",
    "       \n",
    "pvalues = pd.DataFrame({\n",
    "    \"gene\": genes,\n",
    "    \"resistant_median\": resdf_median.values,\n",
    "    \"sensitive_median\": sendf_median.values,\n",
    "    #\"sensitive_long_median\": senldf_median.values,\n",
    "    #\"sensitive_short_median\": sensdf_median.values,\n",
    "    \"mannwhiteney_pvalue\": pvalues\n",
    "})\n",
    "\n",
    "pvalues.head()"
   ]
  },
  {
   "cell_type": "markdown",
   "metadata": {},
   "source": [
    "## Selection from p_value"
   ]
  },
  {
   "cell_type": "code",
   "execution_count": 130,
   "metadata": {},
   "outputs": [
    {
     "name": "stdout",
     "output_type": "stream",
     "text": [
      "65\n"
     ]
    }
   ],
   "source": [
    "threshold = 0.005\n",
    "\n",
    "significant_genes = pvalues[(pvalues.mannwhiteney_pvalue < threshold)].copy()\n",
    "significant_genes = significant_genes.sort_values(\"mannwhiteney_pvalue\", ascending=True)\n",
    "print(significant_genes.shape[0])"
   ]
  },
  {
   "cell_type": "code",
   "execution_count": 131,
   "metadata": {},
   "outputs": [
    {
     "data": {
      "text/html": [
       "<div>\n",
       "<style scoped>\n",
       "    .dataframe tbody tr th:only-of-type {\n",
       "        vertical-align: middle;\n",
       "    }\n",
       "\n",
       "    .dataframe tbody tr th {\n",
       "        vertical-align: top;\n",
       "    }\n",
       "\n",
       "    .dataframe thead th {\n",
       "        text-align: right;\n",
       "    }\n",
       "</style>\n",
       "<table border=\"1\" class=\"dataframe\">\n",
       "  <thead>\n",
       "    <tr style=\"text-align: right;\">\n",
       "      <th></th>\n",
       "      <th>gene</th>\n",
       "      <th>resistant_median</th>\n",
       "      <th>sensitive_median</th>\n",
       "      <th>mannwhiteney_pvalue</th>\n",
       "    </tr>\n",
       "  </thead>\n",
       "  <tbody>\n",
       "    <tr>\n",
       "      <th>11094</th>\n",
       "      <td>RP11-886P16.10</td>\n",
       "      <td>0.032653</td>\n",
       "      <td>0.025334</td>\n",
       "      <td>0.000166</td>\n",
       "    </tr>\n",
       "    <tr>\n",
       "      <th>2989</th>\n",
       "      <td>CTB-55O6.10</td>\n",
       "      <td>0.032936</td>\n",
       "      <td>0.047202</td>\n",
       "      <td>0.000530</td>\n",
       "    </tr>\n",
       "    <tr>\n",
       "      <th>7571</th>\n",
       "      <td>MLXIP</td>\n",
       "      <td>0.931693</td>\n",
       "      <td>0.943157</td>\n",
       "      <td>0.000651</td>\n",
       "    </tr>\n",
       "    <tr>\n",
       "      <th>297</th>\n",
       "      <td>ACKR2</td>\n",
       "      <td>0.132828</td>\n",
       "      <td>0.254940</td>\n",
       "      <td>0.000803</td>\n",
       "    </tr>\n",
       "    <tr>\n",
       "      <th>13500</th>\n",
       "      <td>TOP1</td>\n",
       "      <td>0.049645</td>\n",
       "      <td>0.044154</td>\n",
       "      <td>0.000841</td>\n",
       "    </tr>\n",
       "  </tbody>\n",
       "</table>\n",
       "</div>"
      ],
      "text/plain": [
       "                 gene  resistant_median  sensitive_median  mannwhiteney_pvalue\n",
       "11094  RP11-886P16.10          0.032653          0.025334             0.000166\n",
       "2989      CTB-55O6.10          0.032936          0.047202             0.000530\n",
       "7571            MLXIP          0.931693          0.943157             0.000651\n",
       "297             ACKR2          0.132828          0.254940             0.000803\n",
       "13500            TOP1          0.049645          0.044154             0.000841"
      ]
     },
     "execution_count": 131,
     "metadata": {},
     "output_type": "execute_result"
    }
   ],
   "source": [
    "significant_genes=pd.DataFrame(significant_genes)\n",
    "significant_genes.head()\n",
    "#significant_genes.to_csv('new_data/miRNA/r_sl_pv2.csv', sep=',', header=True, index=False)\n",
    "#significant_genes.to_csv('new_data/miRNA/r_ss_pv2.csv', sep=',', header=True, index=False)\n",
    "#significant_genes.to_csv('new_data/miRNA/sl_ss_pv2.csv', sep=',', header=True, index=False)"
   ]
  },
  {
   "cell_type": "code",
   "execution_count": 31,
   "metadata": {},
   "outputs": [
    {
     "data": {
      "text/plain": [
       "list"
      ]
     },
     "execution_count": 31,
     "metadata": {},
     "output_type": "execute_result"
    }
   ],
   "source": [
    "lista=list(significant_genes['gene'])\n",
    "type(lista)"
   ]
  },
  {
   "cell_type": "code",
   "execution_count": 32,
   "metadata": {},
   "outputs": [
    {
     "data": {
      "text/html": [
       "<div>\n",
       "<style scoped>\n",
       "    .dataframe tbody tr th:only-of-type {\n",
       "        vertical-align: middle;\n",
       "    }\n",
       "\n",
       "    .dataframe tbody tr th {\n",
       "        vertical-align: top;\n",
       "    }\n",
       "\n",
       "    .dataframe thead th {\n",
       "        text-align: right;\n",
       "    }\n",
       "</style>\n",
       "<table border=\"1\" class=\"dataframe\">\n",
       "  <thead>\n",
       "    <tr style=\"text-align: right;\">\n",
       "      <th></th>\n",
       "      <th>patient</th>\n",
       "      <th>chrom</th>\n",
       "      <th>start</th>\n",
       "      <th>stop</th>\n",
       "      <th>beta_value</th>\n",
       "      <th>gene_symbol</th>\n",
       "      <th>gene_type</th>\n",
       "      <th>ensemble_transcript_id</th>\n",
       "      <th>feature_type</th>\n",
       "      <th>position</th>\n",
       "    </tr>\n",
       "  </thead>\n",
       "  <tbody>\n",
       "    <tr>\n",
       "      <th>0</th>\n",
       "      <td>SS_00000</td>\n",
       "      <td>chr1</td>\n",
       "      <td>924804</td>\n",
       "      <td>924806</td>\n",
       "      <td>0.007873</td>\n",
       "      <td>SAMD11</td>\n",
       "      <td>protein_coding</td>\n",
       "      <td>ENST00000342066.6|ENST00000420190.4|ENST000004...</td>\n",
       "      <td>Island</td>\n",
       "      <td>chr1_924804-924806</td>\n",
       "    </tr>\n",
       "    <tr>\n",
       "      <th>1</th>\n",
       "      <td>SS_00000</td>\n",
       "      <td>chr1</td>\n",
       "      <td>925936</td>\n",
       "      <td>925938</td>\n",
       "      <td>0.114492</td>\n",
       "      <td>SAMD11</td>\n",
       "      <td>protein_coding</td>\n",
       "      <td>ENST00000342066.6|ENST00000420190.4|ENST000004...</td>\n",
       "      <td>Island</td>\n",
       "      <td>chr1_925936-925938</td>\n",
       "    </tr>\n",
       "    <tr>\n",
       "      <th>2</th>\n",
       "      <td>SS_00000</td>\n",
       "      <td>chr1</td>\n",
       "      <td>959206</td>\n",
       "      <td>959208</td>\n",
       "      <td>0.011180</td>\n",
       "      <td>NOC2L</td>\n",
       "      <td>protein_coding</td>\n",
       "      <td>ENST00000327044.6|ENST00000469563.1|ENST000004...</td>\n",
       "      <td>Island</td>\n",
       "      <td>chr1_959206-959208</td>\n",
       "    </tr>\n",
       "    <tr>\n",
       "      <th>3</th>\n",
       "      <td>SS_00000</td>\n",
       "      <td>chr1</td>\n",
       "      <td>959573</td>\n",
       "      <td>959575</td>\n",
       "      <td>0.717861</td>\n",
       "      <td>NOC2L</td>\n",
       "      <td>protein_coding</td>\n",
       "      <td>ENST00000327044.6|ENST00000469563.1|ENST000004...</td>\n",
       "      <td>Island</td>\n",
       "      <td>chr1_959573-959575</td>\n",
       "    </tr>\n",
       "    <tr>\n",
       "      <th>4</th>\n",
       "      <td>SS_00000</td>\n",
       "      <td>chr1</td>\n",
       "      <td>966644</td>\n",
       "      <td>966646</td>\n",
       "      <td>0.010098</td>\n",
       "      <td>PLEKHN1</td>\n",
       "      <td>protein_coding</td>\n",
       "      <td>ENST00000379407.6|ENST00000379409.5|ENST000003...</td>\n",
       "      <td>Island</td>\n",
       "      <td>chr1_966644-966646</td>\n",
       "    </tr>\n",
       "  </tbody>\n",
       "</table>\n",
       "</div>"
      ],
      "text/plain": [
       "    patient chrom   start    stop  beta_value gene_symbol       gene_type  \\\n",
       "0  SS_00000  chr1  924804  924806    0.007873      SAMD11  protein_coding   \n",
       "1  SS_00000  chr1  925936  925938    0.114492      SAMD11  protein_coding   \n",
       "2  SS_00000  chr1  959206  959208    0.011180       NOC2L  protein_coding   \n",
       "3  SS_00000  chr1  959573  959575    0.717861       NOC2L  protein_coding   \n",
       "4  SS_00000  chr1  966644  966646    0.010098     PLEKHN1  protein_coding   \n",
       "\n",
       "                              ensemble_transcript_id feature_type  \\\n",
       "0  ENST00000342066.6|ENST00000420190.4|ENST000004...       Island   \n",
       "1  ENST00000342066.6|ENST00000420190.4|ENST000004...       Island   \n",
       "2  ENST00000327044.6|ENST00000469563.1|ENST000004...       Island   \n",
       "3  ENST00000327044.6|ENST00000469563.1|ENST000004...       Island   \n",
       "4  ENST00000379407.6|ENST00000379409.5|ENST000003...       Island   \n",
       "\n",
       "             position  \n",
       "0  chr1_924804-924806  \n",
       "1  chr1_925936-925938  \n",
       "2  chr1_959206-959208  \n",
       "3  chr1_959573-959575  \n",
       "4  chr1_966644-966646  "
      ]
     },
     "execution_count": 32,
     "metadata": {},
     "output_type": "execute_result"
    }
   ],
   "source": [
    "dset_sens.head()"
   ]
  },
  {
   "cell_type": "code",
   "execution_count": 33,
   "metadata": {},
   "outputs": [],
   "source": [
    "x = dset_sens[dset_sens.gene_symbol.isin(lista)]\n",
    "y=pd.DataFrame(x)\n",
    "y.head()\n",
    "y.to_csv('new_data/methylation/SL_R_last.csv', sep=',', header=True, index=False)"
   ]
  },
  {
   "cell_type": "code",
   "execution_count": 132,
   "metadata": {},
   "outputs": [
    {
     "data": {
      "text/plain": [
       "11094    RP11-886P16.10\n",
       "2989        CTB-55O6.10\n",
       "7571              MLXIP\n",
       "297               ACKR2\n",
       "13500              TOP1\n",
       "Name: gene, dtype: object"
      ]
     },
     "execution_count": 132,
     "metadata": {},
     "output_type": "execute_result"
    }
   ],
   "source": [
    "column=significant_genes['gene']\n",
    "column.head()"
   ]
  },
  {
   "cell_type": "code",
   "execution_count": null,
   "metadata": {},
   "outputs": [],
   "source": [
    "lista=column.values\n",
    "np.save(\"meth_stot_vs_res.npy\", lista)"
   ]
  },
  {
   "cell_type": "markdown",
   "metadata": {},
   "source": [
    "## Bonferroni, len(p_values)"
   ]
  },
  {
   "cell_type": "code",
   "execution_count": null,
   "metadata": {},
   "outputs": [],
   "source": [
    "threshold = 0.5\n",
    "\n",
    "significant_genes = pvalues[(pvalues.mannwhiteney_pvalue < threshold)].copy()\n",
    "significant_genes = significant_genes.sort_values(\"mannwhiteney_pvalue\", ascending=True)\n",
    "print(significant_genes.shape[0])\n",
    "significant_genes=pd.DataFrame(significant_genes)"
   ]
  },
  {
   "cell_type": "code",
   "execution_count": null,
   "metadata": {},
   "outputs": [],
   "source": [
    "p_value_corr =[]\n",
    "\n",
    "for index, value in tqdm(significant_genes['gene'].iteritems()): \n",
    "        #print(index, value)\n",
    "        #x=df_res_c[df_res_c['genes']==value]\n",
    "        #y=df_sens_c[df_sens_c['genes']==value]\n",
    "        #z=df_senl_c[df_senl_c['genes']==value]\n",
    "        #x_s=x['beta_value_c'].sum()\n",
    "        #y_s=y['beta_value_c'].sum()\n",
    "        #z_s=z['beta_value_c'].sum()\n",
    "        #somma=y_s+z_s\n",
    "        somma=len(significant_genes)\n",
    "        p_value=pvalues[pvalues['gene']==value]['mannwhiteney_pvalue'].iloc[0]\n",
    "        p_value_corr.append(somma*p_value)\n",
    "        #print(p_value)"
   ]
  },
  {
   "cell_type": "raw",
   "metadata": {},
   "source": [
    "pvalues=pd.DataFrame(pvalues)"
   ]
  },
  {
   "cell_type": "code",
   "execution_count": null,
   "metadata": {},
   "outputs": [],
   "source": [
    "pvalues['p_value_corr']=p_value_corr\n",
    "#pvalues.head()"
   ]
  },
  {
   "cell_type": "code",
   "execution_count": null,
   "metadata": {},
   "outputs": [],
   "source": [
    "threshold = 0.05\n",
    "\n",
    "significant_genes_corr = pvalues[(pvalues.p_value_corr < threshold)].copy()\n",
    "significant_genes_corr = significant_genes_corr.sort_values(\"mannwhiteney_pvalue\", ascending=True)\n",
    "significant_genes_corr=pd.DataFrame(significant_genes_corr)\n",
    "print(significant_genes_corr.shape[0])\n",
    "significant_genes_corr.head()"
   ]
  },
  {
   "cell_type": "code",
   "execution_count": null,
   "metadata": {},
   "outputs": [],
   "source": [
    "column=significant_genes_corr['gene']\n",
    "column.head()"
   ]
  },
  {
   "cell_type": "markdown",
   "metadata": {},
   "source": [
    "## Bonferroni, len(patients)"
   ]
  },
  {
   "cell_type": "code",
   "execution_count": 90,
   "metadata": {},
   "outputs": [
    {
     "name": "stdout",
     "output_type": "stream",
     "text": [
      "135\n"
     ]
    }
   ],
   "source": [
    "threshold = 0.005\n",
    "\n",
    "significant_genes = pvalues[(pvalues.mannwhiteney_pvalue < threshold)].copy()\n",
    "significant_genes = significant_genes.sort_values(\"mannwhiteney_pvalue\", ascending=True)\n",
    "print(significant_genes.shape[0])"
   ]
  },
  {
   "cell_type": "code",
   "execution_count": 91,
   "metadata": {},
   "outputs": [
    {
     "data": {
      "text/html": [
       "<div>\n",
       "<style scoped>\n",
       "    .dataframe tbody tr th:only-of-type {\n",
       "        vertical-align: middle;\n",
       "    }\n",
       "\n",
       "    .dataframe tbody tr th {\n",
       "        vertical-align: top;\n",
       "    }\n",
       "\n",
       "    .dataframe thead th {\n",
       "        text-align: right;\n",
       "    }\n",
       "</style>\n",
       "<table border=\"1\" class=\"dataframe\">\n",
       "  <thead>\n",
       "    <tr style=\"text-align: right;\">\n",
       "      <th></th>\n",
       "      <th>gene</th>\n",
       "      <th>sensitive_long_median</th>\n",
       "      <th>sensitive_short_median</th>\n",
       "      <th>mannwhiteney_pvalue</th>\n",
       "    </tr>\n",
       "  </thead>\n",
       "  <tbody>\n",
       "    <tr>\n",
       "      <th>10225</th>\n",
       "      <td>RILP</td>\n",
       "      <td>0.335616</td>\n",
       "      <td>0.289588</td>\n",
       "      <td>0.000006</td>\n",
       "    </tr>\n",
       "    <tr>\n",
       "      <th>11856</th>\n",
       "      <td>SKIV2L</td>\n",
       "      <td>0.931839</td>\n",
       "      <td>0.894482</td>\n",
       "      <td>0.000009</td>\n",
       "    </tr>\n",
       "    <tr>\n",
       "      <th>9200</th>\n",
       "      <td>PLEKHB1</td>\n",
       "      <td>0.568565</td>\n",
       "      <td>0.274356</td>\n",
       "      <td>0.000033</td>\n",
       "    </tr>\n",
       "    <tr>\n",
       "      <th>14170</th>\n",
       "      <td>VPS37B</td>\n",
       "      <td>0.429182</td>\n",
       "      <td>0.219542</td>\n",
       "      <td>0.000062</td>\n",
       "    </tr>\n",
       "    <tr>\n",
       "      <th>5787</th>\n",
       "      <td>HSPB2</td>\n",
       "      <td>0.651816</td>\n",
       "      <td>0.577727</td>\n",
       "      <td>0.000070</td>\n",
       "    </tr>\n",
       "  </tbody>\n",
       "</table>\n",
       "</div>"
      ],
      "text/plain": [
       "          gene  sensitive_long_median  sensitive_short_median  \\\n",
       "10225     RILP               0.335616                0.289588   \n",
       "11856   SKIV2L               0.931839                0.894482   \n",
       "9200   PLEKHB1               0.568565                0.274356   \n",
       "14170   VPS37B               0.429182                0.219542   \n",
       "5787     HSPB2               0.651816                0.577727   \n",
       "\n",
       "       mannwhiteney_pvalue  \n",
       "10225             0.000006  \n",
       "11856             0.000009  \n",
       "9200              0.000033  \n",
       "14170             0.000062  \n",
       "5787              0.000070  "
      ]
     },
     "execution_count": 91,
     "metadata": {},
     "output_type": "execute_result"
    }
   ],
   "source": [
    "significant_genes=pd.DataFrame(significant_genes)\n",
    "significant_genes.head()"
   ]
  },
  {
   "cell_type": "code",
   "execution_count": 92,
   "metadata": {},
   "outputs": [
    {
     "name": "stderr",
     "output_type": "stream",
     "text": [
      "135it [00:29,  4.51it/s]\n"
     ]
    }
   ],
   "source": [
    "p_value_corr =[]\n",
    "\n",
    "for index, value in tqdm(significant_genes['gene'].iteritems()): \n",
    "        #print(index, value)\n",
    "        #x=df_res_c[df_res_c['genes']==value]\n",
    "        y=df_sens_c[df_sens_c['genes']==value]\n",
    "        z=df_senl_c[df_senl_c['genes']==value]\n",
    "        #x_s=x['beta_value_c'].sum()\n",
    "        y_s=y['beta_value_c'].sum()\n",
    "        z_s=z['beta_value_c'].sum()\n",
    "        somma=z_s+y_s\n",
    "        #somma=len(significant_genes)\n",
    "        p_value=pvalues[pvalues['gene']==value]['mannwhiteney_pvalue'].iloc[0]\n",
    "        p_value_corr.append(somma*p_value)\n",
    "        #print(p_value)"
   ]
  },
  {
   "cell_type": "code",
   "execution_count": 93,
   "metadata": {},
   "outputs": [],
   "source": [
    "significant_genes['p_value_corr']=p_value_corr"
   ]
  },
  {
   "cell_type": "code",
   "execution_count": 94,
   "metadata": {},
   "outputs": [
    {
     "name": "stdout",
     "output_type": "stream",
     "text": [
      "10\n"
     ]
    },
    {
     "data": {
      "text/html": [
       "<div>\n",
       "<style scoped>\n",
       "    .dataframe tbody tr th:only-of-type {\n",
       "        vertical-align: middle;\n",
       "    }\n",
       "\n",
       "    .dataframe tbody tr th {\n",
       "        vertical-align: top;\n",
       "    }\n",
       "\n",
       "    .dataframe thead th {\n",
       "        text-align: right;\n",
       "    }\n",
       "</style>\n",
       "<table border=\"1\" class=\"dataframe\">\n",
       "  <thead>\n",
       "    <tr style=\"text-align: right;\">\n",
       "      <th></th>\n",
       "      <th>gene</th>\n",
       "      <th>sensitive_long_median</th>\n",
       "      <th>sensitive_short_median</th>\n",
       "      <th>mannwhiteney_pvalue</th>\n",
       "      <th>p_value_corr</th>\n",
       "    </tr>\n",
       "  </thead>\n",
       "  <tbody>\n",
       "    <tr>\n",
       "      <th>10225</th>\n",
       "      <td>RILP</td>\n",
       "      <td>0.335616</td>\n",
       "      <td>0.289588</td>\n",
       "      <td>0.000006</td>\n",
       "      <td>0.001576</td>\n",
       "    </tr>\n",
       "    <tr>\n",
       "      <th>11856</th>\n",
       "      <td>SKIV2L</td>\n",
       "      <td>0.931839</td>\n",
       "      <td>0.894482</td>\n",
       "      <td>0.000009</td>\n",
       "      <td>0.003747</td>\n",
       "    </tr>\n",
       "    <tr>\n",
       "      <th>9200</th>\n",
       "      <td>PLEKHB1</td>\n",
       "      <td>0.568565</td>\n",
       "      <td>0.274356</td>\n",
       "      <td>0.000033</td>\n",
       "      <td>0.009131</td>\n",
       "    </tr>\n",
       "    <tr>\n",
       "      <th>14170</th>\n",
       "      <td>VPS37B</td>\n",
       "      <td>0.429182</td>\n",
       "      <td>0.219542</td>\n",
       "      <td>0.000062</td>\n",
       "      <td>0.017429</td>\n",
       "    </tr>\n",
       "    <tr>\n",
       "      <th>5787</th>\n",
       "      <td>HSPB2</td>\n",
       "      <td>0.651816</td>\n",
       "      <td>0.577727</td>\n",
       "      <td>0.000070</td>\n",
       "      <td>0.018905</td>\n",
       "    </tr>\n",
       "  </tbody>\n",
       "</table>\n",
       "</div>"
      ],
      "text/plain": [
       "          gene  sensitive_long_median  sensitive_short_median  \\\n",
       "10225     RILP               0.335616                0.289588   \n",
       "11856   SKIV2L               0.931839                0.894482   \n",
       "9200   PLEKHB1               0.568565                0.274356   \n",
       "14170   VPS37B               0.429182                0.219542   \n",
       "5787     HSPB2               0.651816                0.577727   \n",
       "\n",
       "       mannwhiteney_pvalue  p_value_corr  \n",
       "10225             0.000006      0.001576  \n",
       "11856             0.000009      0.003747  \n",
       "9200              0.000033      0.009131  \n",
       "14170             0.000062      0.017429  \n",
       "5787              0.000070      0.018905  "
      ]
     },
     "execution_count": 94,
     "metadata": {},
     "output_type": "execute_result"
    }
   ],
   "source": [
    "threshold = 0.05\n",
    "\n",
    "significant_genes_corr = significant_genes[(significant_genes.p_value_corr < threshold)].copy()\n",
    "significant_genes_corr = significant_genes_corr.sort_values(\"mannwhiteney_pvalue\", ascending=True)\n",
    "significant_genes_corr=pd.DataFrame(significant_genes_corr)\n",
    "print(significant_genes_corr.shape[0])\n",
    "significant_genes_corr.head()"
   ]
  },
  {
   "cell_type": "code",
   "execution_count": 41,
   "metadata": {},
   "outputs": [
    {
     "data": {
      "text/plain": [
       "list"
      ]
     },
     "execution_count": 41,
     "metadata": {},
     "output_type": "execute_result"
    }
   ],
   "source": [
    "lista=list(significant_genes_corr['gene'])\n",
    "type(lista)"
   ]
  },
  {
   "cell_type": "code",
   "execution_count": 42,
   "metadata": {},
   "outputs": [],
   "source": [
    "x = dset_sens[dset_sens.gene_symbol.isin(lista)]\n",
    "y=pd.DataFrame(x)\n",
    "y.head()\n",
    "y.to_csv('new_data/methylation/SS_SL_last.csv', sep=',', header=True, index=False)"
   ]
  },
  {
   "cell_type": "code",
   "execution_count": null,
   "metadata": {},
   "outputs": [],
   "source": [
    "#significant_genes.to_csv('new_data/gene_exprs/r_sl_pv2.csv', sep=',', header=True, index=False)\n",
    "#significant_genes.to_csv('new_data/gene_exprs/r_ss_pv2.csv', sep=',', header=True, index=False)\n",
    "#significant_genes.to_csv('new_data/gene_exprs/sl_ss_pv2.csv', sep=',', header=True, index=False)"
   ]
  },
  {
   "cell_type": "code",
   "execution_count": 95,
   "metadata": {},
   "outputs": [
    {
     "data": {
      "text/plain": [
       "10225       RILP\n",
       "11856     SKIV2L\n",
       "9200     PLEKHB1\n",
       "14170     VPS37B\n",
       "5787       HSPB2\n",
       "Name: gene, dtype: object"
      ]
     },
     "execution_count": 95,
     "metadata": {},
     "output_type": "execute_result"
    }
   ],
   "source": [
    "column=significant_genes_corr['gene']\n",
    "column.head()"
   ]
  },
  {
   "cell_type": "code",
   "execution_count": null,
   "metadata": {},
   "outputs": [],
   "source": [
    "lista=column.values\n",
    "np.save(\"meth_ss_vs_sl.npy\", lista)"
   ]
  },
  {
   "cell_type": "markdown",
   "metadata": {},
   "source": [
    "## FDR "
   ]
  },
  {
   "cell_type": "code",
   "execution_count": null,
   "metadata": {},
   "outputs": [],
   "source": [
    "from statsmodels.stats.multitest import fdrcorrection"
   ]
  },
  {
   "cell_type": "code",
   "execution_count": null,
   "metadata": {},
   "outputs": [],
   "source": [
    "p_sorted=pvalues.sort_values(by='mannwhiteney_pvalue')"
   ]
  },
  {
   "cell_type": "code",
   "execution_count": null,
   "metadata": {},
   "outputs": [],
   "source": [
    "a=p_sorted['mannwhiteney_pvalue'].get_values()\n",
    "enumerate(a)"
   ]
  },
  {
   "cell_type": "code",
   "execution_count": null,
   "metadata": {},
   "outputs": [],
   "source": [
    "num_total_tests=len(a)"
   ]
  },
  {
   "cell_type": "code",
   "execution_count": null,
   "metadata": {},
   "outputs": [],
   "source": [
    "def calc_benjamini_hochberg_corrections(p_values, num_total_tests):\n",
    "   \n",
    "    p_value_bh = []\n",
    "    for i, p_value in enumerate(p_values):\n",
    "        bh_value = p_value * num_total_tests / (i + 1)\n",
    "        p_value_bh.append(bh_value)\n",
    "    return (p_value_bh)"
   ]
  },
  {
   "cell_type": "code",
   "execution_count": null,
   "metadata": {},
   "outputs": [],
   "source": [
    "p_value_corr_bh=calc_benjamini_hochberg_corrections(a, num_total_tests)"
   ]
  },
  {
   "cell_type": "code",
   "execution_count": null,
   "metadata": {},
   "outputs": [],
   "source": [
    "p_sorted['p_value_corr_bh']=p_value_corr_bh"
   ]
  },
  {
   "cell_type": "raw",
   "metadata": {},
   "source": [
    "pvalues_FDR=pvalues['mannwhiteney_pvalue']\n",
    "p_corrected=fdrcorrection(pvalues_FDR, alpha=0.05, method='indep')\n",
    "w=p_corrected[1]\n",
    "\n",
    "p_sorted['p_value_corr_bh']=w\n",
    "p_sorted.head()"
   ]
  },
  {
   "cell_type": "code",
   "execution_count": null,
   "metadata": {},
   "outputs": [],
   "source": [
    "threshold = 0.05\n",
    "\n",
    "significant_genes_bh = p_sorted[(p_sorted.p_value_corr_bh < threshold)].copy()\n",
    "significant_genes_bh = significant_genes_bh.sort_values(\"p_value_corr_bh\", ascending=True)\n",
    "print(significant_genes_bh.shape[0])"
   ]
  },
  {
   "cell_type": "code",
   "execution_count": null,
   "metadata": {},
   "outputs": [],
   "source": [
    "column=significant_genes_bh['gene']\n",
    "column.head()"
   ]
  },
  {
   "cell_type": "code",
   "execution_count": null,
   "metadata": {},
   "outputs": [],
   "source": [
    "significant_genes_bh=pd.read_csv (\"new_data/methylation/r_ss_meth_corretta.csv\", delimiter=',')\n",
    "significant_genes_bh"
   ]
  },
  {
   "cell_type": "markdown",
   "metadata": {},
   "source": [
    "## Benjamini-Hochberg, len(patients)"
   ]
  },
  {
   "cell_type": "code",
   "execution_count": null,
   "metadata": {},
   "outputs": [],
   "source": [
    "n_res=len(dset_res['patient'].unique())\n",
    "n_sens=len(dset_sens['patient'].unique())\n",
    "n_senl=len(dset_senl['patient'].unique())\n",
    "n_sen=n_sens+n_senl"
   ]
  },
  {
   "cell_type": "code",
   "execution_count": null,
   "metadata": {},
   "outputs": [],
   "source": [
    "p_sorted=pvalues.sort_values(by='mannwhiteney_pvalue')"
   ]
  },
  {
   "cell_type": "code",
   "execution_count": null,
   "metadata": {},
   "outputs": [],
   "source": [
    "a=p_sorted['mannwhiteney_pvalue'].get_values()"
   ]
  },
  {
   "cell_type": "code",
   "execution_count": null,
   "metadata": {},
   "outputs": [],
   "source": [
    "enumerate(a)"
   ]
  },
  {
   "cell_type": "code",
   "execution_count": null,
   "metadata": {},
   "outputs": [],
   "source": [
    "num_total_tests=n_res+n_sen #inserisci il num pazienti"
   ]
  },
  {
   "cell_type": "code",
   "execution_count": null,
   "metadata": {},
   "outputs": [],
   "source": [
    "def calc_benjamini_hochberg_corrections(p_values, num_total_tests):\n",
    "   \n",
    "    p_value_bh = []\n",
    "    for i, p_value in enumerate(p_values):\n",
    "        bh_value = p_value * num_total_tests / (i + 1)\n",
    "        p_value_bh.append(bh_value)\n",
    "    return (p_value_bh)"
   ]
  },
  {
   "cell_type": "code",
   "execution_count": null,
   "metadata": {},
   "outputs": [],
   "source": [
    "p_value_corr_bh=calc_benjamini_hochberg_corrections(a, num_total_tests)"
   ]
  },
  {
   "cell_type": "code",
   "execution_count": null,
   "metadata": {},
   "outputs": [],
   "source": [
    "p_sorted['p_value_corr_bh']=p_value_corr_bh"
   ]
  },
  {
   "cell_type": "code",
   "execution_count": null,
   "metadata": {},
   "outputs": [],
   "source": [
    "p_sorted.head()"
   ]
  },
  {
   "cell_type": "code",
   "execution_count": null,
   "metadata": {},
   "outputs": [],
   "source": [
    "threshold = 0.05\n",
    "\n",
    "significant_genes_bh = p_sorted[(p_sorted.p_value_corr_bh < threshold)].copy()\n",
    "significant_genes_bh = significant_genes_bh.sort_values(\"p_value_corr_bh\", ascending=True)\n",
    "print(significant_genes_bh.shape[0])"
   ]
  },
  {
   "cell_type": "code",
   "execution_count": null,
   "metadata": {
    "scrolled": true
   },
   "outputs": [],
   "source": [
    "significant_genes_bh=pd.DataFrame(significant_genes_bh)\n",
    "significant_genes_bh.head()"
   ]
  },
  {
   "cell_type": "code",
   "execution_count": null,
   "metadata": {},
   "outputs": [],
   "source": [
    "#significant_genes_bh.to_csv('new_data/gene_exprs/sl_ss_bh_ge.csv', sep=',', header=True, index=False)"
   ]
  },
  {
   "cell_type": "code",
   "execution_count": null,
   "metadata": {},
   "outputs": [],
   "source": [
    "column=significant_genes_bh['gene']\n",
    "column.head()"
   ]
  },
  {
   "cell_type": "markdown",
   "metadata": {},
   "source": [
    "## Classification"
   ]
  },
  {
   "cell_type": "code",
   "execution_count": 133,
   "metadata": {},
   "outputs": [
    {
     "name": "stderr",
     "output_type": "stream",
     "text": [
      "/home/lalli/anaconda3/lib/python3.6/site-packages/ipykernel_launcher.py:2: SettingWithCopyWarning: \n",
      "A value is trying to be set on a copy of a slice from a DataFrame.\n",
      "Try using .loc[row_indexer,col_indexer] = value instead\n",
      "\n",
      "See the caveats in the documentation: http://pandas.pydata.org/pandas-docs/stable/indexing.html#indexing-view-versus-copy\n",
      "  \n"
     ]
    },
    {
     "data": {
      "text/plain": [
       "(60, 66)"
      ]
     },
     "execution_count": 133,
     "metadata": {},
     "output_type": "execute_result"
    }
   ],
   "source": [
    "res_selected=resdf[column]\n",
    "res_selected[\"label\"]=1\n",
    "res_selected.shape"
   ]
  },
  {
   "cell_type": "code",
   "execution_count": 108,
   "metadata": {},
   "outputs": [
    {
     "name": "stderr",
     "output_type": "stream",
     "text": [
      "/home/lalli/anaconda3/lib/python3.6/site-packages/ipykernel_launcher.py:2: SettingWithCopyWarning: \n",
      "A value is trying to be set on a copy of a slice from a DataFrame.\n",
      "Try using .loc[row_indexer,col_indexer] = value instead\n",
      "\n",
      "See the caveats in the documentation: http://pandas.pydata.org/pandas-docs/stable/indexing.html#indexing-view-versus-copy\n",
      "  \n"
     ]
    },
    {
     "data": {
      "text/plain": [
       "(34, 19)"
      ]
     },
     "execution_count": 108,
     "metadata": {},
     "output_type": "execute_result"
    }
   ],
   "source": [
    "senl_selected=senldf[column]\n",
    "senl_selected[\"label\"]=0\n",
    "senl_selected.shape"
   ]
  },
  {
   "cell_type": "code",
   "execution_count": 119,
   "metadata": {},
   "outputs": [
    {
     "name": "stderr",
     "output_type": "stream",
     "text": [
      "/home/lalli/anaconda3/lib/python3.6/site-packages/ipykernel_launcher.py:2: SettingWithCopyWarning: \n",
      "A value is trying to be set on a copy of a slice from a DataFrame.\n",
      "Try using .loc[row_indexer,col_indexer] = value instead\n",
      "\n",
      "See the caveats in the documentation: http://pandas.pydata.org/pandas-docs/stable/indexing.html#indexing-view-versus-copy\n",
      "  \n"
     ]
    },
    {
     "data": {
      "text/plain": [
       "(107, 32)"
      ]
     },
     "execution_count": 119,
     "metadata": {},
     "output_type": "execute_result"
    }
   ],
   "source": [
    "sens_selected=sensdf[column]\n",
    "sens_selected[\"label\"]=0\n",
    "sens_selected.shape"
   ]
  },
  {
   "cell_type": "code",
   "execution_count": 134,
   "metadata": {},
   "outputs": [
    {
     "name": "stderr",
     "output_type": "stream",
     "text": [
      "/home/lalli/anaconda3/lib/python3.6/site-packages/ipykernel_launcher.py:2: SettingWithCopyWarning: \n",
      "A value is trying to be set on a copy of a slice from a DataFrame.\n",
      "Try using .loc[row_indexer,col_indexer] = value instead\n",
      "\n",
      "See the caveats in the documentation: http://pandas.pydata.org/pandas-docs/stable/indexing.html#indexing-view-versus-copy\n",
      "  \n"
     ]
    },
    {
     "data": {
      "text/plain": [
       "(141, 66)"
      ]
     },
     "execution_count": 134,
     "metadata": {},
     "output_type": "execute_result"
    }
   ],
   "source": [
    "sen_selected=sendf[column]\n",
    "sen_selected[\"label\"]=0\n",
    "sen_selected.shape"
   ]
  },
  {
   "cell_type": "code",
   "execution_count": 135,
   "metadata": {},
   "outputs": [],
   "source": [
    "#concatenated=pd.concat([res_selected, senl_selected])\n",
    "#concatenated=pd.concat([res_selected, sens_selected])\n",
    "#concatenated=pd.concat([senl_selected, sens_selected])\n",
    "concatenated=pd.concat([res_selected, sen_selected])"
   ]
  },
  {
   "cell_type": "code",
   "execution_count": 136,
   "metadata": {
    "scrolled": true
   },
   "outputs": [],
   "source": [
    "concatenated=concatenated.dropna(axis=1, how='any', thresh=None, subset=None, inplace=False)"
   ]
  },
  {
   "cell_type": "code",
   "execution_count": 137,
   "metadata": {},
   "outputs": [],
   "source": [
    "X=concatenated[concatenated.columns[:-1]].values\n",
    "y=concatenated[concatenated.columns[-1]].values"
   ]
  },
  {
   "cell_type": "code",
   "execution_count": null,
   "metadata": {
    "scrolled": true
   },
   "outputs": [],
   "source": [
    "precision=[]\n",
    "recall=[]\n",
    "\n",
    "#loo = LeaveOneOut()\n",
    "#loo.get_n_splits(X)\n",
    "rskf = RepeatedStratifiedKFold(n_splits=5, n_repeats=20, random_state=36851234)\n",
    "for train_index, test_index in (rskf.split(X, y)) :\n",
    "    #print(\"TRAIN:\", train_index, \"TEST:\", test_index)\n",
    "    X_train, X_test = X[train_index], X[test_index] \n",
    "    y_train, y_test = y[train_index], y[test_index]\n",
    "\n",
    "clf = svm.SVC(kernel='rbf', class_weight='balanced')\n",
    "tuned_parameters = [{'kernel': ['rbf'], 'gamma': [1e-3, 1e-4],\n",
    "                     'C': [1, 10, 100, 1000]},\n",
    "                    {'kernel': ['linear'], 'C': [1, 10, 100, 1000]}]\n",
    "\n",
    "scores = ['precision', 'recall']\n",
    "\n",
    "for score in scores:\n",
    "    print(\"# Tuning hyper-parameters for %s\" % score)\n",
    "    print()\n",
    "\n",
    "    clf = GridSearchCV(SVC(), tuned_parameters, cv=5,\n",
    "                       scoring='%s_macro' % score)\n",
    "    clf.fit(X_train, y_train)\n",
    "\n",
    "    print(\"Best parameters set found on development set:\")\n",
    "    print()\n",
    "    print(clf.best_params_)\n",
    "    print()\n",
    "    print(\"Grid scores on development set:\")\n",
    "    print()\n",
    "    means = clf.cv_results_['mean_test_score']\n",
    "    stds = clf.cv_results_['std_test_score']\n",
    "    for mean, std, params in zip(means, stds, clf.cv_results_['params']):\n",
    "        print(\"%0.3f (+/-%0.03f) for %r\"\n",
    "              % (mean, std * 2, params))\n",
    "    print()\n",
    "\n",
    "    print(\"Detailed classification report:\")\n",
    "    print()\n",
    "    print(\"The model is trained on the full development set.\")\n",
    "    print(\"The scores are computed on the full evaluation set.\")\n",
    "    print()\n",
    "    y_true, y_pred = y_test, clf.predict(X_test)\n",
    "    print(classification_report(y_true, y_pred))\n",
    "    print()\n",
    "\n",
    "    clf.fit(X_train, y_train)\n",
    "    y_predict=clf.predict(X_test)\n",
    "    \n",
    "    precision.append(precision_score(y_test, y_predict))\n",
    "    recall.append(recall_score(y_test, y_predict))"
   ]
  },
  {
   "cell_type": "code",
   "execution_count": null,
   "metadata": {
    "scrolled": true
   },
   "outputs": [],
   "source": [
    "#kf = RepeatedStratifiedKFold(n_splits=5, n_repeats=5, random_state=36851234)\n",
    "kf = StratifiedKFold(n_splits=10)\n",
    "recall=[]\n",
    "precision=[]\n",
    "accuracy=[]\n",
    "fscore=[]\n",
    "scores=['true_res', 'false_senl', 'true_senl', 'false_res', 'accuracy', 'precision', 'recall', 'f1_score']\n",
    "performance=pd.DataFrame(index=np.arange(10), columns=scores)\n",
    "i=0\n",
    "for train_index, test_index in kf.split(X, y):\n",
    "    x_train, x_test = X[train_index], X[test_index]\n",
    "    y_train, y_test = y[train_index], y[test_index]\n",
    "    \n",
    "    '''X=pd.DataFrame(x_train, columns=features)\n",
    "    model= RandomForestClassifier(n_estimators=200, max_depth=15, class_weight='balanced')\n",
    "    model.fit(X,y_train)\n",
    "    f=feat_importances.nlargest(15).index\n",
    "    x_train=X[f].values\n",
    "    X_t=pd.DataFrame(x_test, columns=features)\n",
    "    x_test=X_t[f]'''\n",
    "    \n",
    "    print('real')\n",
    "    print(y_test)\n",
    "    \n",
    "    clf = RandomForestClassifier(n_estimators=200, max_depth=15, class_weight='balanced')\n",
    "    #clf=KNeighborsClassifier(n_neighbors=3, metric='manhattan')\n",
    "    #clf = AdaBoostClassifier(n_estimators=200, base_estimator=DecisionTreeClassifier(max_depth=5),random_state=0)\n",
    "    #clf=LogisticRegression(random_state=0, solver='lbfgs',multi_class='multinomial')\n",
    "    #clf = svm.SVC(kernel='rbf', C=100, probability=True, gamma = 0.0001, class_weight='balanced', random_state=42)\n",
    "    \n",
    "    clf.fit(x_train, y_train)\n",
    "    y_pred=clf.predict(x_test)\n",
    "    print('predicted')\n",
    "    print(y_pred)\n",
    "    recall.append(recall_score(y_test, y_pred))\n",
    "    precision.append(precision_score(y_test, y_pred))\n",
    "    accuracy.append(accuracy_score(y_test, y_pred))\n",
    "    fscore.append(f1_score(y_test, y_pred))\n",
    "    performance.iloc[i]['accuracy']=accuracy_score(y_test, y_pred)\n",
    "    performance.iloc[i]['precision']=precision_score(y_test, y_pred)\n",
    "    performance.iloc[i]['recall']=recall_score(y_test, y_pred)\n",
    "    performance.iloc[i]['f1_score']=f1_score(y_test, y_pred)\n",
    "    c_matrix=confusion_matrix(y_test, y_pred)\n",
    "    performance.iloc[i]['true_sens']=c_matrix[0][0]\n",
    "    performance.iloc[i]['false_sens']=c_matrix[1][0]\n",
    "    performance.iloc[i]['true_res']=c_matrix[1][1]\n",
    "    performance.iloc[i]['false_res']=c_matrix[0][1]\n",
    "    print (i)\n",
    "    i=i+1"
   ]
  },
  {
   "cell_type": "code",
   "execution_count": null,
   "metadata": {
    "scrolled": false
   },
   "outputs": [],
   "source": [
    "print('Average precision: ', np.mean(precision))\n",
    "print('Average recall: ', np.mean(recall))\n",
    "print('Average accuracy: ', np.mean(accuracy))\n",
    "print('Average f1_score: ', np.mean(fscore))\n",
    "print('Standard_deviation precision: ', np.std(precision))\n",
    "print('Standard_deviation recall: ', np.std(recall))\n",
    "print('Standard_deviation accuracy: ', np.std(accuracy))\n",
    "print('Standard_deviation f1_score: ', np.std(fscore))"
   ]
  },
  {
   "cell_type": "code",
   "execution_count": null,
   "metadata": {},
   "outputs": [],
   "source": [
    "performance"
   ]
  },
  {
   "cell_type": "markdown",
   "metadata": {},
   "source": [
    "## Data visualization"
   ]
  },
  {
   "cell_type": "code",
   "execution_count": null,
   "metadata": {},
   "outputs": [],
   "source": [
    "def my_PCA(data, features, labels, i, j):\n",
    "    #x = data.loc[:, features].values\n",
    "    x = StandardScaler().fit_transform(data)\n",
    "    \n",
    "    pca= PCA(n_components=3)\n",
    "    p_comp=pca.fit_transform(x)\n",
    "    #p_comp = TSNE(n_components=2, perplexity=70, n_iter=2500).fit_transform(x)\n",
    "    p_comp=p_comp[:, [i,j]]\n",
    "\n",
    "    principalDf = pd.DataFrame(data = p_comp\n",
    "             , columns = ['principal component '+str(i), 'principal component '+str(j)])\n",
    "    finalDf= pd.concat([principalDf, pd.Series(labels)], axis=1)\n",
    "    \n",
    "    fig = plt.figure(figsize = (8,8))\n",
    "    ax = fig.add_subplot(1,1,1) \n",
    "    ax.set_xlabel('Principal Component '+str(i+1), fontsize = 15)\n",
    "    ax.set_ylabel('Principal Component '+str(j+1), fontsize = 15)\n",
    "    ax.set_title('2 Component PCA', fontsize = 20)\n",
    "    \n",
    "\n",
    "\n",
    "\n",
    "    targets = ['Sensitive_long', 'Sensitive_short']\n",
    "    colors = ['b', 'r']\n",
    "    for target, color in zip(targets,colors):\n",
    "        t=0\n",
    "        if target == 'Sensitive_short':\n",
    "            t=1\n",
    "        #if target == 'Sensitive_long':\n",
    "         #   t=2\n",
    "        indicesToKeep = finalDf[0] == t\n",
    "        ax.scatter(finalDf.loc[indicesToKeep, 'principal component '+str(i)]\n",
    "                   , finalDf.loc[indicesToKeep, 'principal component '+str(j)]\n",
    "                   , c = color\n",
    "                   , s = 50)\n",
    "    ax.legend(targets)\n",
    "    ax.grid()"
   ]
  },
  {
   "cell_type": "code",
   "execution_count": null,
   "metadata": {
    "scrolled": true
   },
   "outputs": [],
   "source": [
    "my_PCA(X, concatenated.columns, y, 0, 2)\n",
    "#plt.savefig('my_PCA_res_sens_12.png')\n",
    "my_PCA"
   ]
  },
  {
   "cell_type": "code",
   "execution_count": 138,
   "metadata": {},
   "outputs": [
    {
     "data": {
      "image/png": "[encoded data removed]",
      "text/plain": [
       "<Figure size 720x720 with 1 Axes>"
      ]
     },
     "metadata": {},
     "output_type": "display_data"
    }
   ],
   "source": [
    "# ROC curve\n",
    "classifier = RandomForestClassifier(n_estimators=200, max_depth=15, class_weight='balanced')\n",
    "#classifier = AdaBoostClassifier(n_estimators=200, base_estimator=DecisionTreeClassifier(max_depth=5),random_state=0)\n",
    "#classifier = svm.SVC(kernel='rbf', C=100, probability=True, gamma = 0.001, class_weight='balanced', random_state=42)\n",
    "#classifier=KNeighborsClassifier(n_neighbors=3, metric='manhattan')\n",
    "#classifier= LogisticRegression(random_state=0, solver='lbfgs',multi_class='multinomial')\n",
    "#cv = RepeatedStratifiedKFold(n_splits=5, n_repeats=10, random_state=36851234)\n",
    "cv = StratifiedKFold(n_splits=10)\n",
    "\n",
    "tprs = []\n",
    "aucs = []\n",
    "mean_fpr = np.linspace(0, 1, 100)\n",
    "plt.figure(figsize=(10,10))\n",
    "i = 0\n",
    "for train, test in cv.split(X, y):\n",
    "    probas_ = classifier.fit(X[train], y[train]).predict_proba(X[test])\n",
    "    # Compute ROC curve and area the curve\n",
    "    fpr, tpr, thresholds = roc_curve(y[test], probas_[:, 1])\n",
    "    tprs.append(interp(mean_fpr, fpr, tpr))\n",
    "    tprs[-1][0] = 0.0\n",
    "    roc_auc = auc(fpr, tpr)\n",
    "    aucs.append(roc_auc)\n",
    "    plt.plot(fpr, tpr, lw=1, alpha=0.3,\n",
    "             label='ROC fold %d (AUC = %0.2f)' % (i, roc_auc))\n",
    "\n",
    "    i += 1\n",
    "plt.plot([0, 1], [0, 1], linestyle='--', lw=2, color='r',\n",
    "         label='Chance', alpha=.8)\n",
    "\n",
    "mean_tpr = np.mean(tprs, axis=0)\n",
    "mean_tpr[-1] = 1.0\n",
    "mean_auc = auc(mean_fpr, mean_tpr)\n",
    "std_auc = np.std(aucs)\n",
    "plt.plot(mean_fpr, mean_tpr, color='b',\n",
    "         label=r'Mean ROC (AUC = %0.2f $\\pm$ %0.2f)' % (mean_auc, std_auc),\n",
    "         lw=2, alpha=.8)\n",
    "\n",
    "std_tpr = np.std(tprs, axis=0)\n",
    "tprs_upper = np.minimum(mean_tpr + std_tpr, 1)\n",
    "tprs_lower = np.maximum(mean_tpr - std_tpr, 0)\n",
    "plt.fill_between(mean_fpr, tprs_lower, tprs_upper, color='grey', alpha=.2,\n",
    "                 label=r'$\\pm$ 1 std. dev.')\n",
    "\n",
    "\n",
    "plt.xlim([-0.05, 1.05])\n",
    "plt.ylim([-0.05, 1.05])\n",
    "plt.xlabel('False Positive Rate')\n",
    "plt.ylabel('True Positive Rate')\n",
    "plt.title('ROC curve AllSen vs Res, methylation')\n",
    "#plt.legend(loc='upper center', bbox_to_anchor=(0.5, -0.05),\n",
    " #         fancybox=True, shadow=True, ncol=5)\n",
    "plt.legend(loc='lower right')\n",
    "plt.savefig('1.png')"
   ]
  },
  {
   "cell_type": "code",
   "execution_count": null,
   "metadata": {},
   "outputs": [],
   "source": [
    "k_fold = RepeatedStratifiedKFold(n_splits=5, n_repeats=10, random_state=36851234)\n",
    "y_real = []\n",
    "y_proba = []\n",
    "#predictor= RandomForestClassifier(n_estimators=200, max_depth=15, class_weight='balanced')\n",
    "#predictor = AdaBoostClassifier(n_estimators=200, base_estimator=DecisionTreeClassifier(max_depth=5),random_state=0)\n",
    "predictor = svm.SVC(kernel='rbf', C=100, probability=True, gamma = 0.0001, class_weight='balanced', random_state=42)\n",
    "#predictor = KNeighborsClassifier(n_neighbors=3, metric='manhattan')\n",
    "#predictor = LogisticRegression(random_state=0, solver='lbfgs',multi_class='multinomial')\n",
    "cv = RepeatedStratifiedKFold(n_splits=5, n_repeats=10, random_state=36851234)\n",
    "\n",
    "\n",
    "tprs = []\n",
    "aucs = []\n",
    "mean_fpr = np.linspace(0, 1, 100)\n",
    "plt.figure(figsize=(10,10))\n",
    "i = 0\n",
    "for train, test in cv.split(X, y):\n",
    "    probas_ = classifier.fit(X[train], y[train]).predict_proba(X[test])\n",
    "    # Compute ROC curve and area the curve\n",
    "    fpr, tpr, thresholds = roc_curve(y[test], probas_[:, 1])\n",
    "    tprs.append(interp(mean_fpr, fpr, tpr))\n",
    "    tprs[-1][0] = 0.0\n",
    "    roc_auc = auc(fpr, tpr)\n",
    "    aucs.append(roc_auc)\n",
    "    plt.plot(fpr, tpr, lw=1, alpha=0.3,\n",
    "             label='ROC fold %d (AUC = %0.2f)' % (i, roc_auc))\n",
    "\n",
    "    i += 1\n",
    "plt.plot([0, 1], [0, 1], linestyle='--', lw=2, color='r',\n",
    "         label='Chance', alpha=.8)\n",
    "\n",
    "mean_tpr = np.mean(tprs, axis=0)\n",
    "mean_tpr[-1] = 1.0\n",
    "mean_auc = auc(mean_fpr, mean_tpr)\n",
    "std_auc = np.std(aucs)\n",
    "plt.plot(mean_fpr, mean_tpr, color='b',\n",
    "         label=r'Mean ROC (AUC = %0.2f $\\pm$ %0.2f)' % (mean_auc, std_auc),\n",
    "         lw=2, alpha=.8)\n",
    "\n",
    "std_tpr = np.std(tprs, axis=0)\n",
    "tprs_upper = np.minimum(mean_tpr + std_tpr, 1)\n",
    "tprs_lower = np.maximum(mean_tpr - std_tpr, 0)\n",
    "plt.fill_between(mean_fpr, tprs_lower, tprs_upper, color='grey', alpha=.2,\n",
    "                 label=r'$\\pm$ 1 std. dev.')\n",
    "\n",
    "\n",
    "plt.xlim([-0.05, 1.05])\n",
    "plt.ylim([-0.05, 1.05])\n",
    "plt.xlabel('False Positive Rate')\n",
    "plt.ylabel('True Positive Rate')\n",
    "#plt.title('ROC curve Res vs Senl')\n",
    "plt.legend(loc='upper center', bbox_to_anchor=(0.5, -0.05),\n",
    "          fancybox=True, shadow=True, ncol=5)\n",
    "plt.savefig('ROC_Res_vs_SenS.png')\n",
    "#predictor = AdaBoostClassifier(n_estimators=200, base_estimator=DecisionTreeClassifier(max_depth=5),random_state=0)\n",
    "precision_array = []\n",
    "threshold_array=[]\n",
    "recall_array = np.linspace(0, 1, 100)\n",
    "plt.figure(figsize=(10,10))\n",
    "for i, (train_index, test_index) in enumerate(k_fold.split(X, y)):\n",
    "    Xtrain, Xtest = X[train_index], X[test_index]\n",
    "    ytrain, ytest = y[train_index], y[test_index]\n",
    "    predictor.fit(Xtrain, ytrain)\n",
    "    pred_proba = predictor.predict_proba(Xtest)\n",
    "    precision_fold, recall_fold, thresh = precision_recall_curve(ytest, pred_proba[:,1])\n",
    "    precision_fold, recall_fold, thresh = precision_fold[::-1], recall_fold[::-1], thresh[::-1]  # reverse order of results\n",
    "    thresh = np.insert(thresh, 0, 1.0)\n",
    "    precision_array = interp(recall_array, recall_fold, precision_fold)\n",
    "    threshold_array = interp(recall_array, recall_fold, thresh)\n",
    "    pr_auc = auc(recall_array, precision_array)\n",
    "\n",
    "    lab_fold = 'Fold %d AUC=%.4f' % (i+1, pr_auc)\n",
    "    plt.plot(recall_fold, precision_fold, alpha=0.3, label=lab_fold)\n",
    "    y_real.append(ytest)\n",
    "    y_proba.append(pred_proba[:,1])\n",
    "    \n",
    "y_real = np.concatenate(y_real)\n",
    "y_proba = np.concatenate(y_proba)\n",
    "precision, recall, thr = precision_recall_curve(y_real, y_proba)\n",
    "lab = 'Overall AUC=%.4f' % (auc(recall, precision))\n",
    "\n",
    "plt.plot(recall, precision, lw=2,color='red', label=lab)\n",
    "\n",
    "plt.legend(loc='upper center', bbox_to_anchor=(0.5, -0.05),\n",
    "          fancybox=True, shadow=True, ncol=5)\n",
    "\n",
    "mean_precision = np.mean(precision_array)\n",
    "std_precision = np.std(precision_array)\n",
    "plt.fill_between(recall, precision + std_precision, precision - std_precision, alpha=0.3, linewidth=0, color='grey')\n",
    "#plt.show()\n",
    "#plt.title('PR curve Res vs SenS')\n",
    "#plt.savefig('PR curve Res vs Senl_RF.png')"
   ]
  },
  {
   "cell_type": "code",
   "execution_count": null,
   "metadata": {},
   "outputs": [],
   "source": [
    "def plot_confusion_matrix(y_true, y_pred, classes,\n",
    "                          normalize=False,\n",
    "                          title=None,\n",
    "                          cmap=plt.cm.Blues):\n",
    "    \"\"\"\n",
    "    This function prints and plots the confusion matrix.\n",
    "    Normalization can be applied by setting `normalize=True`.\n",
    "    \"\"\"\n",
    "    if not title:\n",
    "        if normalize:\n",
    "            title = 'Normalized confusion matrix'\n",
    "        else:\n",
    "            title = 'Confusion matrix, without normalization'\n",
    "\n",
    "    # Compute confusion matrix\n",
    "    cm = confusion_matrix(y_true, y_pred)\n",
    "    # Only use the labels that appear in the data\n",
    "    classes = classes[unique_labels(y_true, y_pred)]\n",
    "    if normalize:\n",
    "        cm = cm.astype('float') / cm.sum(axis=1)[:, np.newaxis]\n",
    "        print(\"Normalized confusion matrix\")\n",
    "    else:\n",
    "        print('Confusion matrix, without normalization')\n",
    "\n",
    "    print(cm)\n",
    "\n",
    "    fig, ax = plt.subplots()\n",
    "    im = ax.imshow(cm, interpolation='nearest', cmap=cmap)\n",
    "    ax.figure.colorbar(im, ax=ax)\n",
    "    # We want to show all ticks...\n",
    "    ax.set(xticks=np.arange(cm.shape[1]),\n",
    "           yticks=np.arange(cm.shape[0]),\n",
    "           # ... and label them with the respective list entries\n",
    "           xticklabels=classes, yticklabels=classes,\n",
    "           title=title,\n",
    "           ylabel='True label',\n",
    "           xlabel='Predicted label')\n",
    "\n",
    "    # Rotate the tick labels and set their alignment.\n",
    "    plt.setp(ax.get_xticklabels(), rotation=45, ha=\"right\",\n",
    "             rotation_mode=\"anchor\")\n",
    "\n",
    "    # Loop over data dimensions and create text annotations.\n",
    "    fmt = '.2f' if normalize else 'd'\n",
    "    thresh = cm.max() / 2.\n",
    "    for i in range(cm.shape[0]):\n",
    "        for j in range(cm.shape[1]):\n",
    "            ax.text(j, i, format(cm[i, j], fmt),\n",
    "                    ha=\"center\", va=\"center\",\n",
    "                    color=\"white\" if cm[i, j] > thresh else \"black\")\n",
    "    fig.tight_layout()\n",
    "    return ax"
   ]
  },
  {
   "cell_type": "code",
   "execution_count": null,
   "metadata": {},
   "outputs": [],
   "source": [
    "c_matrix=confusion_matrix(y_test, y_pred)\n",
    "c_matrix"
   ]
  },
  {
   "cell_type": "code",
   "execution_count": null,
   "metadata": {},
   "outputs": [],
   "source": []
  },
  {
   "cell_type": "code",
   "execution_count": null,
   "metadata": {},
   "outputs": [],
   "source": []
  },
  {
   "cell_type": "code",
   "execution_count": null,
   "metadata": {},
   "outputs": [],
   "source": []
  },
  {
   "cell_type": "code",
   "execution_count": null,
   "metadata": {},
   "outputs": [],
   "source": []
  },
  {
   "cell_type": "code",
   "execution_count": null,
   "metadata": {},
   "outputs": [],
   "source": []
  },
  {
   "cell_type": "code",
   "execution_count": null,
   "metadata": {},
   "outputs": [],
   "source": []
  },
  {
   "cell_type": "code",
   "execution_count": null,
   "metadata": {},
   "outputs": [],
   "source": []
  },
  {
   "cell_type": "code",
   "execution_count": null,
   "metadata": {},
   "outputs": [],
   "source": []
  },
  {
   "cell_type": "code",
   "execution_count": null,
   "metadata": {},
   "outputs": [],
   "source": []
  }
 ],
 "metadata": {
  "kernelspec": {
   "display_name": "Python 3",
   "language": "python",
   "name": "python3"
  },
  "language_info": {
   "codemirror_mode": {
    "name": "ipython",
    "version": 3
   },
   "file_extension": ".py",
   "mimetype": "text/x-python",
   "name": "python",
   "nbconvert_exporter": "python",
   "pygments_lexer": "ipython3",
   "version": "3.6.5"
  }
 },
 "nbformat": 4,
 "nbformat_minor": 2
}
