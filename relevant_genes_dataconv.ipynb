{
 "cells": [
  {
   "cell_type": "code",
   "execution_count": 2,
   "metadata": {},
   "outputs": [],
   "source": [
    "import pandas as pd\n",
    "import os\n",
    "import scipy.stats\n",
    "import numpy as np\n",
    "from sklearn.ensemble import RandomForestClassifier, AdaBoostClassifier\n",
    "from sklearn.model_selection import RepeatedStratifiedKFold\n",
    "#from sklearn.metrics import accuracy_score\n",
    "from sklearn import svm\n",
    "from sklearn.decomposition import PCA\n",
    "from matplotlib import pyplot as plt\n",
    "%matplotlib inline\n",
    "import tqdm\n",
    "#from sklearn.metrics import average_precision_score\n",
    "#from sklearn.metrics import precision_recall_curve\n",
    "#import matplotlib.pyplot as plt\n",
    "#from inspect import signature\n",
    "from sklearn.metrics import accuracy_score, f1_score, precision_score, recall_score, classification_report, confusion_matrix"
   ]
  },
  {
   "cell_type": "code",
   "execution_count": 172,
   "metadata": {},
   "outputs": [],
   "source": [
    "path=\"dataconv_GMQL/res/files/\"\n",
    "\n",
    "listdf_r=[]\n",
    "\n",
    "for fname in os.listdir(path):\n",
    "    if fname.endswith(\".meta\"): \n",
    "        pass\n",
    "    elif fname.endswith(\".gdm\"): \n",
    "        \n",
    "        tempdf=pd.read_csv(path+fname, delimiter=\"\\t\", header=None)\n",
    "        \n",
    "        tempdf[\"genes\"]=tempdf[4]+\"-\"+tempdf[6]\n",
    "        tempdf[\"fpkm-uq\"]=tempdf[10]\n",
    "        tempdf=tempdf[[\"genes\", \"fpkm-uq\"]]\n",
    "        tempdf[\"fname\"]=fname\n",
    "        \n",
    "        listdf_r.append(tempdf)"
   ]
  },
  {
   "cell_type": "code",
   "execution_count": 173,
   "metadata": {},
   "outputs": [],
   "source": [
    "path=\"dataconv_GMQL/sen_l/files/\"\n",
    "\n",
    "listdf_sl=[]\n",
    "\n",
    "for fname in os.listdir(path):\n",
    "    if fname.endswith(\".meta\"): \n",
    "        pass\n",
    "    elif fname.endswith(\".gdm\"): \n",
    "        \n",
    "        tempdf=pd.read_csv(path+fname, delimiter=\"\\t\", header=None)\n",
    "        \n",
    "        tempdf[\"genes\"]=tempdf[4]+\"-\"+tempdf[6]\n",
    "        tempdf[\"fpkm-uq\"]=tempdf[10]\n",
    "        tempdf=tempdf[[\"genes\", \"fpkm-uq\"]]\n",
    "        tempdf[\"fname\"]=fname\n",
    "        \n",
    "        listdf_sl.append(tempdf)"
   ]
  },
  {
   "cell_type": "code",
   "execution_count": 174,
   "metadata": {},
   "outputs": [],
   "source": [
    "path=\"dataconv_GMQL/sen_s/files/\"\n",
    "\n",
    "listdf_ss=[]\n",
    "\n",
    "for fname in os.listdir(path):\n",
    "    if fname.endswith(\".meta\"): \n",
    "        pass\n",
    "    elif fname.endswith(\".gdm\"): \n",
    "        \n",
    "        tempdf=pd.read_csv(path+fname, delimiter=\"\\t\", header=None)\n",
    "        \n",
    "        tempdf[\"genes\"]=tempdf[4]+\"-\"+tempdf[6]\n",
    "        tempdf[\"fpkm-uq\"]=tempdf[10]\n",
    "        tempdf=tempdf[[\"genes\", \"fpkm-uq\"]]\n",
    "        tempdf[\"fname\"]=fname\n",
    "        \n",
    "        listdf_ss.append(tempdf)"
   ]
  },
  {
   "cell_type": "code",
   "execution_count": 175,
   "metadata": {},
   "outputs": [],
   "source": [
    "totaldf_ss=pd.concat(listdf_ss)\n",
    "totaldf_ss.columns=[\"gene\", \"s_value\", \"patient\"]"
   ]
  },
  {
   "cell_type": "code",
   "execution_count": 176,
   "metadata": {},
   "outputs": [],
   "source": [
    "totaldf_sl=pd.concat(listdf_sl)\n",
    "totaldf_sl.columns=[\"gene\", \"s_value\", \"patient\"]"
   ]
  },
  {
   "cell_type": "code",
   "execution_count": 177,
   "metadata": {},
   "outputs": [],
   "source": [
    "totaldf_r=pd.concat(listdf_r)\n",
    "totaldf_r.columns=[\"gene\", \"s_value\", \"patient\"]"
   ]
  },
  {
   "cell_type": "code",
   "execution_count": 178,
   "metadata": {},
   "outputs": [],
   "source": [
    "pivoteddf_ss=totaldf_ss.pivot(index=\"patient\", columns=\"gene\", values=\"s_value\")\n",
    "#pivoteddf_ss.head()"
   ]
  },
  {
   "cell_type": "code",
   "execution_count": 179,
   "metadata": {},
   "outputs": [],
   "source": [
    "pivoteddf_sl=totaldf_sl.pivot(index=\"patient\", columns=\"gene\", values=\"s_value\")\n",
    "#pivoteddf_sl.head()"
   ]
  },
  {
   "cell_type": "code",
   "execution_count": 180,
   "metadata": {},
   "outputs": [],
   "source": [
    "pivoteddf_r=totaldf_r.pivot(index=\"patient\", columns=\"gene\", values=\"s_value\")\n",
    "#pivoteddf_r.head()"
   ]
  },
  {
   "cell_type": "markdown",
   "metadata": {},
   "source": [
    "trasposta=np.transpose(pivoteddf_sl)\n",
    "\n",
    "genes=[]\n",
    "\n",
    "for x in [\"-\".join(x.strip().split(\"-\")[1:])  for x in (trasposta.index)]:\n",
    "    genes.append(x)  "
   ]
  },
  {
   "cell_type": "markdown",
   "metadata": {},
   "source": [
    "trasposta['genes']=genes\n",
    "sel_col=[f for f in trasposta.columns if (\"gene\" in f or \"genes\"in f)]\n",
    "trasposta=trasposta[sel_col]\n",
    "#trasposta\n",
    "trasposta.to_csv('genes_list_sl.csv', sep='\\t')"
   ]
  },
  {
   "cell_type": "code",
   "execution_count": 181,
   "metadata": {},
   "outputs": [],
   "source": [
    "list_pv=[]\n",
    "\n",
    "\n",
    "for g in (pivoteddf_sl.columns): \n",
    "    c1=pivoteddf_sl[g].values\n",
    "    c2=pivoteddf_ss[g].values\n",
    "    m1=np.median(c1)\n",
    "    m2=np.median(c2)\n",
    "    \n",
    "    if m1==0.0 and m2==0.0:\n",
    "        pass\n",
    "    else:\n",
    "    \n",
    "        try: \n",
    "\n",
    "            #pv=scipy.stats.ttest_ind(c1,c2).pvalue\n",
    "            pv=scipy.stats.mannwhitneyu(c1,c2).pvalue\n",
    "            if pv<0.001:\n",
    "                list_pv.append((g,pv,m1,m2))\n",
    "                #print(g,pv,m1,m2)\n",
    "\n",
    "        except:\n",
    "            pass"
   ]
  },
  {
   "cell_type": "code",
   "execution_count": 182,
   "metadata": {},
   "outputs": [],
   "source": [
    "results=sorted(list_pv, key=lambda x:x[1])\n",
    "len(results)\n",
    "\n",
    "\n",
    "#for h in [\"\\t\".join(map (str,list(x))) for x in results]:\n",
    "     \n",
    "dataset_result=pd.DataFrame(results)\n",
    "#results"
   ]
  },
  {
   "cell_type": "code",
   "execution_count": 183,
   "metadata": {},
   "outputs": [],
   "source": [
    "dataset_result[\"sum\"]=dataset_result[2]+dataset_result[3]\n",
    "new_ds=dataset_result[dataset_result[\"sum\"]>10]\n",
    "#new_ds.shape\n",
    "new_ds.columns=['ensemble_name', 'p_value', 'median_r', 'median_sl', 'sum']"
   ]
  },
  {
   "cell_type": "code",
   "execution_count": 184,
   "metadata": {},
   "outputs": [],
   "source": [
    "names=[]\n",
    "\n",
    "for x in [\"-\".join(x.strip().split(\"-\")[1:])  for x in (new_ds['ensemble_name'])]:\n",
    "    names.append(x)    "
   ]
  },
  {
   "cell_type": "code",
   "execution_count": 185,
   "metadata": {},
   "outputs": [
    {
     "name": "stderr",
     "output_type": "stream",
     "text": [
      "/home/lalli/anaconda3/lib/python3.6/site-packages/ipykernel_launcher.py:1: SettingWithCopyWarning: \n",
      "A value is trying to be set on a copy of a slice from a DataFrame.\n",
      "Try using .loc[row_indexer,col_indexer] = value instead\n",
      "\n",
      "See the caveats in the documentation: http://pandas.pydata.org/pandas-docs/stable/indexing.html#indexing-view-versus-copy\n",
      "  \"\"\"Entry point for launching an IPython kernel.\n"
     ]
    },
    {
     "data": {
      "text/html": [
       "<div>\n",
       "<style scoped>\n",
       "    .dataframe tbody tr th:only-of-type {\n",
       "        vertical-align: middle;\n",
       "    }\n",
       "\n",
       "    .dataframe tbody tr th {\n",
       "        vertical-align: top;\n",
       "    }\n",
       "\n",
       "    .dataframe thead th {\n",
       "        text-align: right;\n",
       "    }\n",
       "</style>\n",
       "<table border=\"1\" class=\"dataframe\">\n",
       "  <thead>\n",
       "    <tr style=\"text-align: right;\">\n",
       "      <th></th>\n",
       "      <th>ensemble_name</th>\n",
       "      <th>p_value</th>\n",
       "      <th>median_r</th>\n",
       "      <th>median_sl</th>\n",
       "      <th>sum</th>\n",
       "      <th>gene_symbol</th>\n",
       "    </tr>\n",
       "  </thead>\n",
       "  <tbody>\n",
       "    <tr>\n",
       "      <th>2</th>\n",
       "      <td>ENSG00000138668.17-HNRNPD</td>\n",
       "      <td>0.000039</td>\n",
       "      <td>35.138298</td>\n",
       "      <td>25.373630</td>\n",
       "      <td>60.511928</td>\n",
       "      <td>HNRNPD</td>\n",
       "    </tr>\n",
       "    <tr>\n",
       "      <th>17</th>\n",
       "      <td>ENSG00000067182.6-TNFRSF1A</td>\n",
       "      <td>0.000211</td>\n",
       "      <td>34.266740</td>\n",
       "      <td>45.816780</td>\n",
       "      <td>80.083519</td>\n",
       "      <td>TNFRSF1A</td>\n",
       "    </tr>\n",
       "    <tr>\n",
       "      <th>34</th>\n",
       "      <td>ENSG00000145623.11-OSMR</td>\n",
       "      <td>0.000344</td>\n",
       "      <td>4.848177</td>\n",
       "      <td>7.763813</td>\n",
       "      <td>12.611990</td>\n",
       "      <td>OSMR</td>\n",
       "    </tr>\n",
       "    <tr>\n",
       "      <th>36</th>\n",
       "      <td>ENSG00000250742.1-RP11-834C11.4</td>\n",
       "      <td>0.000388</td>\n",
       "      <td>30.731413</td>\n",
       "      <td>13.888525</td>\n",
       "      <td>44.619938</td>\n",
       "      <td>RP11-834C11.4</td>\n",
       "    </tr>\n",
       "    <tr>\n",
       "      <th>37</th>\n",
       "      <td>ENSG00000164379.5-FOXQ1</td>\n",
       "      <td>0.000397</td>\n",
       "      <td>6.644775</td>\n",
       "      <td>19.918736</td>\n",
       "      <td>26.563511</td>\n",
       "      <td>FOXQ1</td>\n",
       "    </tr>\n",
       "    <tr>\n",
       "      <th>40</th>\n",
       "      <td>ENSG00000196937.9-FAM3C</td>\n",
       "      <td>0.000437</td>\n",
       "      <td>13.300779</td>\n",
       "      <td>17.102736</td>\n",
       "      <td>30.403516</td>\n",
       "      <td>FAM3C</td>\n",
       "    </tr>\n",
       "    <tr>\n",
       "      <th>54</th>\n",
       "      <td>ENSG00000115053.14-NCL</td>\n",
       "      <td>0.000620</td>\n",
       "      <td>91.403944</td>\n",
       "      <td>64.435945</td>\n",
       "      <td>155.839889</td>\n",
       "      <td>NCL</td>\n",
       "    </tr>\n",
       "    <tr>\n",
       "      <th>59</th>\n",
       "      <td>ENSG00000132002.6-DNAJB1</td>\n",
       "      <td>0.000680</td>\n",
       "      <td>35.312594</td>\n",
       "      <td>51.167024</td>\n",
       "      <td>86.479618</td>\n",
       "      <td>DNAJB1</td>\n",
       "    </tr>\n",
       "    <tr>\n",
       "      <th>69</th>\n",
       "      <td>ENSG00000156804.6-FBXO32</td>\n",
       "      <td>0.000780</td>\n",
       "      <td>3.914194</td>\n",
       "      <td>9.061693</td>\n",
       "      <td>12.975887</td>\n",
       "      <td>FBXO32</td>\n",
       "    </tr>\n",
       "    <tr>\n",
       "      <th>71</th>\n",
       "      <td>ENSG00000188010.11-MORN2</td>\n",
       "      <td>0.000797</td>\n",
       "      <td>18.670163</td>\n",
       "      <td>12.358586</td>\n",
       "      <td>31.028749</td>\n",
       "      <td>MORN2</td>\n",
       "    </tr>\n",
       "    <tr>\n",
       "      <th>73</th>\n",
       "      <td>ENSG00000100196.9-KDELR3</td>\n",
       "      <td>0.000816</td>\n",
       "      <td>11.541883</td>\n",
       "      <td>18.634033</td>\n",
       "      <td>30.175916</td>\n",
       "      <td>KDELR3</td>\n",
       "    </tr>\n",
       "    <tr>\n",
       "      <th>74</th>\n",
       "      <td>ENSG00000265241.5-RBM8A</td>\n",
       "      <td>0.000816</td>\n",
       "      <td>25.461202</td>\n",
       "      <td>21.336574</td>\n",
       "      <td>46.797777</td>\n",
       "      <td>RBM8A</td>\n",
       "    </tr>\n",
       "    <tr>\n",
       "      <th>76</th>\n",
       "      <td>ENSG00000197712.10-FAM114A1</td>\n",
       "      <td>0.000834</td>\n",
       "      <td>7.882948</td>\n",
       "      <td>11.112316</td>\n",
       "      <td>18.995263</td>\n",
       "      <td>FAM114A1</td>\n",
       "    </tr>\n",
       "    <tr>\n",
       "      <th>78</th>\n",
       "      <td>ENSG00000096746.16-HNRNPH3</td>\n",
       "      <td>0.000853</td>\n",
       "      <td>23.703999</td>\n",
       "      <td>18.607410</td>\n",
       "      <td>42.311409</td>\n",
       "      <td>HNRNPH3</td>\n",
       "    </tr>\n",
       "    <tr>\n",
       "      <th>80</th>\n",
       "      <td>ENSG00000221869.4-CEBPD</td>\n",
       "      <td>0.000853</td>\n",
       "      <td>38.265957</td>\n",
       "      <td>68.069068</td>\n",
       "      <td>106.335025</td>\n",
       "      <td>CEBPD</td>\n",
       "    </tr>\n",
       "    <tr>\n",
       "      <th>86</th>\n",
       "      <td>ENSG00000033327.11-GAB2</td>\n",
       "      <td>0.000892</td>\n",
       "      <td>11.386207</td>\n",
       "      <td>18.446567</td>\n",
       "      <td>29.832774</td>\n",
       "      <td>GAB2</td>\n",
       "    </tr>\n",
       "    <tr>\n",
       "      <th>87</th>\n",
       "      <td>ENSG00000117868.14-ESYT2</td>\n",
       "      <td>0.000892</td>\n",
       "      <td>14.593624</td>\n",
       "      <td>19.091201</td>\n",
       "      <td>33.684825</td>\n",
       "      <td>ESYT2</td>\n",
       "    </tr>\n",
       "    <tr>\n",
       "      <th>88</th>\n",
       "      <td>ENSG00000153317.13-ASAP1</td>\n",
       "      <td>0.000892</td>\n",
       "      <td>5.188509</td>\n",
       "      <td>7.682727</td>\n",
       "      <td>12.871236</td>\n",
       "      <td>ASAP1</td>\n",
       "    </tr>\n",
       "    <tr>\n",
       "      <th>90</th>\n",
       "      <td>ENSG00000027697.11-IFNGR1</td>\n",
       "      <td>0.000913</td>\n",
       "      <td>17.280034</td>\n",
       "      <td>25.644430</td>\n",
       "      <td>42.924465</td>\n",
       "      <td>IFNGR1</td>\n",
       "    </tr>\n",
       "    <tr>\n",
       "      <th>91</th>\n",
       "      <td>ENSG00000171311.11-EXOSC1</td>\n",
       "      <td>0.000913</td>\n",
       "      <td>10.642372</td>\n",
       "      <td>7.397618</td>\n",
       "      <td>18.039989</td>\n",
       "      <td>EXOSC1</td>\n",
       "    </tr>\n",
       "    <tr>\n",
       "      <th>97</th>\n",
       "      <td>ENSG00000161011.18-SQSTM1</td>\n",
       "      <td>0.000954</td>\n",
       "      <td>24.721964</td>\n",
       "      <td>36.198827</td>\n",
       "      <td>60.920790</td>\n",
       "      <td>SQSTM1</td>\n",
       "    </tr>\n",
       "    <tr>\n",
       "      <th>102</th>\n",
       "      <td>ENSG00000038274.15-MAT2B</td>\n",
       "      <td>0.000998</td>\n",
       "      <td>12.429693</td>\n",
       "      <td>17.332488</td>\n",
       "      <td>29.762181</td>\n",
       "      <td>MAT2B</td>\n",
       "    </tr>\n",
       "  </tbody>\n",
       "</table>\n",
       "</div>"
      ],
      "text/plain": [
       "                       ensemble_name   p_value   median_r  median_sl  \\\n",
       "2          ENSG00000138668.17-HNRNPD  0.000039  35.138298  25.373630   \n",
       "17        ENSG00000067182.6-TNFRSF1A  0.000211  34.266740  45.816780   \n",
       "34           ENSG00000145623.11-OSMR  0.000344   4.848177   7.763813   \n",
       "36   ENSG00000250742.1-RP11-834C11.4  0.000388  30.731413  13.888525   \n",
       "37           ENSG00000164379.5-FOXQ1  0.000397   6.644775  19.918736   \n",
       "40           ENSG00000196937.9-FAM3C  0.000437  13.300779  17.102736   \n",
       "54            ENSG00000115053.14-NCL  0.000620  91.403944  64.435945   \n",
       "59          ENSG00000132002.6-DNAJB1  0.000680  35.312594  51.167024   \n",
       "69          ENSG00000156804.6-FBXO32  0.000780   3.914194   9.061693   \n",
       "71          ENSG00000188010.11-MORN2  0.000797  18.670163  12.358586   \n",
       "73          ENSG00000100196.9-KDELR3  0.000816  11.541883  18.634033   \n",
       "74           ENSG00000265241.5-RBM8A  0.000816  25.461202  21.336574   \n",
       "76       ENSG00000197712.10-FAM114A1  0.000834   7.882948  11.112316   \n",
       "78        ENSG00000096746.16-HNRNPH3  0.000853  23.703999  18.607410   \n",
       "80           ENSG00000221869.4-CEBPD  0.000853  38.265957  68.069068   \n",
       "86           ENSG00000033327.11-GAB2  0.000892  11.386207  18.446567   \n",
       "87          ENSG00000117868.14-ESYT2  0.000892  14.593624  19.091201   \n",
       "88          ENSG00000153317.13-ASAP1  0.000892   5.188509   7.682727   \n",
       "90         ENSG00000027697.11-IFNGR1  0.000913  17.280034  25.644430   \n",
       "91         ENSG00000171311.11-EXOSC1  0.000913  10.642372   7.397618   \n",
       "97         ENSG00000161011.18-SQSTM1  0.000954  24.721964  36.198827   \n",
       "102         ENSG00000038274.15-MAT2B  0.000998  12.429693  17.332488   \n",
       "\n",
       "            sum    gene_symbol  \n",
       "2     60.511928         HNRNPD  \n",
       "17    80.083519       TNFRSF1A  \n",
       "34    12.611990           OSMR  \n",
       "36    44.619938  RP11-834C11.4  \n",
       "37    26.563511          FOXQ1  \n",
       "40    30.403516          FAM3C  \n",
       "54   155.839889            NCL  \n",
       "59    86.479618         DNAJB1  \n",
       "69    12.975887         FBXO32  \n",
       "71    31.028749          MORN2  \n",
       "73    30.175916         KDELR3  \n",
       "74    46.797777          RBM8A  \n",
       "76    18.995263       FAM114A1  \n",
       "78    42.311409        HNRNPH3  \n",
       "80   106.335025          CEBPD  \n",
       "86    29.832774           GAB2  \n",
       "87    33.684825          ESYT2  \n",
       "88    12.871236          ASAP1  \n",
       "90    42.924465         IFNGR1  \n",
       "91    18.039989         EXOSC1  \n",
       "97    60.920790         SQSTM1  \n",
       "102   29.762181          MAT2B  "
      ]
     },
     "execution_count": 185,
     "metadata": {},
     "output_type": "execute_result"
    }
   ],
   "source": [
    "new_ds['gene_symbol']=names\n",
    "new_ds\n",
    "#new_ds.to_csv('genes_r_vs_sl.csv', sep='\\t')"
   ]
  },
  {
   "cell_type": "code",
   "execution_count": 186,
   "metadata": {},
   "outputs": [],
   "source": [
    "column=(dataset_result[0])\n",
    "#column=list(dataset_result[0])"
   ]
  },
  {
   "cell_type": "code",
   "execution_count": 187,
   "metadata": {},
   "outputs": [
    {
     "name": "stderr",
     "output_type": "stream",
     "text": [
      "/home/lalli/anaconda3/lib/python3.6/site-packages/ipykernel_launcher.py:2: SettingWithCopyWarning: \n",
      "A value is trying to be set on a copy of a slice from a DataFrame.\n",
      "Try using .loc[row_indexer,col_indexer] = value instead\n",
      "\n",
      "See the caveats in the documentation: http://pandas.pydata.org/pandas-docs/stable/indexing.html#indexing-view-versus-copy\n",
      "  \n"
     ]
    },
    {
     "data": {
      "text/plain": [
       "(111, 104)"
      ]
     },
     "execution_count": 187,
     "metadata": {},
     "output_type": "execute_result"
    }
   ],
   "source": [
    "pivoteddf_ss_selected=pivoteddf_ss[column]\n",
    "pivoteddf_ss_selected[\"label\"]=0\n",
    "pivoteddf_ss_selected.shape"
   ]
  },
  {
   "cell_type": "raw",
   "metadata": {},
   "source": [
    "pivoteddf_r_selected=pivoteddf_r[column]\n",
    "pivoteddf_r_selected[\"label\"]=1\n",
    "pivoteddf_r_selected.shape"
   ]
  },
  {
   "cell_type": "code",
   "execution_count": 188,
   "metadata": {},
   "outputs": [
    {
     "name": "stderr",
     "output_type": "stream",
     "text": [
      "/home/lalli/anaconda3/lib/python3.6/site-packages/ipykernel_launcher.py:2: SettingWithCopyWarning: \n",
      "A value is trying to be set on a copy of a slice from a DataFrame.\n",
      "Try using .loc[row_indexer,col_indexer] = value instead\n",
      "\n",
      "See the caveats in the documentation: http://pandas.pydata.org/pandas-docs/stable/indexing.html#indexing-view-versus-copy\n",
      "  \n"
     ]
    },
    {
     "data": {
      "text/plain": [
       "(19, 104)"
      ]
     },
     "execution_count": 188,
     "metadata": {},
     "output_type": "execute_result"
    }
   ],
   "source": [
    "pivoteddf_sl_selected=pivoteddf_sl[column]\n",
    "pivoteddf_sl_selected[\"label\"]=1\n",
    "pivoteddf_sl_selected.shape"
   ]
  },
  {
   "cell_type": "code",
   "execution_count": 189,
   "metadata": {},
   "outputs": [],
   "source": [
    "concatenated=pd.concat([pivoteddf_sl_selected, pivoteddf_ss_selected])"
   ]
  },
  {
   "cell_type": "raw",
   "metadata": {},
   "source": [
    "concatenated=pd.concat([pivoteddf_r_selected, pivoteddf_ss_selected])"
   ]
  },
  {
   "cell_type": "raw",
   "metadata": {},
   "source": [
    "concatenated=pd.concat([pivoteddf_r_selected, pivoteddf_sl_selected])"
   ]
  },
  {
   "cell_type": "code",
   "execution_count": 190,
   "metadata": {},
   "outputs": [],
   "source": [
    "X=concatenated[concatenated.columns[:-1]].values\n",
    "y=concatenated[concatenated.columns[-1]].values"
   ]
  },
  {
   "cell_type": "code",
   "execution_count": 191,
   "metadata": {},
   "outputs": [],
   "source": [
    "clf = RandomForestClassifier(n_estimators=10, max_depth=4, random_state=0)"
   ]
  },
  {
   "cell_type": "code",
   "execution_count": 192,
   "metadata": {},
   "outputs": [
    {
     "data": {
      "text/plain": [
       "RandomForestClassifier(bootstrap=True, class_weight=None, criterion='gini',\n",
       "            max_depth=4, max_features='auto', max_leaf_nodes=None,\n",
       "            min_impurity_decrease=0.0, min_impurity_split=None,\n",
       "            min_samples_leaf=1, min_samples_split=2,\n",
       "            min_weight_fraction_leaf=0.0, n_estimators=10, n_jobs=1,\n",
       "            oob_score=False, random_state=0, verbose=0, warm_start=False)"
      ]
     },
     "execution_count": 192,
     "metadata": {},
     "output_type": "execute_result"
    }
   ],
   "source": [
    "clf.fit(X, y)"
   ]
  },
  {
   "cell_type": "code",
   "execution_count": 193,
   "metadata": {},
   "outputs": [
    {
     "data": {
      "text/plain": [
       "array([1, 1, 1, 1, 1, 1, 1, 1, 1, 1, 1, 1, 1, 1, 1, 1, 1, 1, 1, 0, 0, 0,\n",
       "       0, 0, 0, 0, 0, 0, 0, 0, 1, 0, 0, 0, 0, 0, 0, 0, 0, 0, 0, 0, 0, 0,\n",
       "       0, 0, 0, 0, 0, 0, 0, 0, 0, 0, 0, 0, 0, 0, 0, 0, 0, 0, 0, 0, 0, 0,\n",
       "       0, 0, 0, 0, 0, 0, 0, 0, 0, 0, 0, 0, 0, 0, 0, 0, 0, 0, 0, 0, 0, 0,\n",
       "       0, 0, 0, 0, 0, 0, 0, 0, 0, 0, 0, 0, 0, 0, 0, 0, 0, 0, 0, 0, 0, 0,\n",
       "       0, 0, 0, 0, 0, 0, 0, 0, 0, 0, 0, 0, 0, 0, 0, 0, 0, 0, 0, 0])"
      ]
     },
     "execution_count": 193,
     "metadata": {},
     "output_type": "execute_result"
    }
   ],
   "source": [
    "clf.predict(X)"
   ]
  },
  {
   "cell_type": "code",
   "execution_count": 194,
   "metadata": {},
   "outputs": [],
   "source": [
    "rskf = RepeatedStratifiedKFold(n_splits=5, n_repeats=20, random_state=36851234)"
   ]
  },
  {
   "cell_type": "code",
   "execution_count": 195,
   "metadata": {},
   "outputs": [
    {
     "name": "stderr",
     "output_type": "stream",
     "text": [
      "/home/lalli/anaconda3/lib/python3.6/site-packages/sklearn/metrics/classification.py:1135: UndefinedMetricWarning: Precision is ill-defined and being set to 0.0 due to no predicted samples.\n",
      "  'precision', 'predicted', average, warn_for)\n",
      "/home/lalli/anaconda3/lib/python3.6/site-packages/sklearn/metrics/classification.py:1135: UndefinedMetricWarning: Precision is ill-defined and being set to 0.0 due to no predicted samples.\n",
      "  'precision', 'predicted', average, warn_for)\n",
      "/home/lalli/anaconda3/lib/python3.6/site-packages/sklearn/metrics/classification.py:1135: UndefinedMetricWarning: Precision is ill-defined and being set to 0.0 due to no predicted samples.\n",
      "  'precision', 'predicted', average, warn_for)\n",
      "/home/lalli/anaconda3/lib/python3.6/site-packages/sklearn/metrics/classification.py:1135: UndefinedMetricWarning: Precision is ill-defined and being set to 0.0 due to no predicted samples.\n",
      "  'precision', 'predicted', average, warn_for)\n",
      "/home/lalli/anaconda3/lib/python3.6/site-packages/sklearn/metrics/classification.py:1135: UndefinedMetricWarning: Precision is ill-defined and being set to 0.0 due to no predicted samples.\n",
      "  'precision', 'predicted', average, warn_for)\n",
      "/home/lalli/anaconda3/lib/python3.6/site-packages/sklearn/metrics/classification.py:1135: UndefinedMetricWarning: Precision is ill-defined and being set to 0.0 due to no predicted samples.\n",
      "  'precision', 'predicted', average, warn_for)\n",
      "/home/lalli/anaconda3/lib/python3.6/site-packages/sklearn/metrics/classification.py:1135: UndefinedMetricWarning: Precision is ill-defined and being set to 0.0 due to no predicted samples.\n",
      "  'precision', 'predicted', average, warn_for)\n",
      "/home/lalli/anaconda3/lib/python3.6/site-packages/sklearn/metrics/classification.py:1135: UndefinedMetricWarning: Precision is ill-defined and being set to 0.0 due to no predicted samples.\n",
      "  'precision', 'predicted', average, warn_for)\n",
      "/home/lalli/anaconda3/lib/python3.6/site-packages/sklearn/metrics/classification.py:1135: UndefinedMetricWarning: Precision is ill-defined and being set to 0.0 due to no predicted samples.\n",
      "  'precision', 'predicted', average, warn_for)\n",
      "/home/lalli/anaconda3/lib/python3.6/site-packages/sklearn/metrics/classification.py:1135: UndefinedMetricWarning: Precision is ill-defined and being set to 0.0 due to no predicted samples.\n",
      "  'precision', 'predicted', average, warn_for)\n",
      "/home/lalli/anaconda3/lib/python3.6/site-packages/sklearn/metrics/classification.py:1135: UndefinedMetricWarning: Precision is ill-defined and being set to 0.0 due to no predicted samples.\n",
      "  'precision', 'predicted', average, warn_for)\n",
      "/home/lalli/anaconda3/lib/python3.6/site-packages/sklearn/metrics/classification.py:1135: UndefinedMetricWarning: Precision is ill-defined and being set to 0.0 due to no predicted samples.\n",
      "  'precision', 'predicted', average, warn_for)\n",
      "/home/lalli/anaconda3/lib/python3.6/site-packages/sklearn/metrics/classification.py:1135: UndefinedMetricWarning: Precision is ill-defined and being set to 0.0 due to no predicted samples.\n",
      "  'precision', 'predicted', average, warn_for)\n",
      "/home/lalli/anaconda3/lib/python3.6/site-packages/sklearn/metrics/classification.py:1135: UndefinedMetricWarning: Precision is ill-defined and being set to 0.0 due to no predicted samples.\n",
      "  'precision', 'predicted', average, warn_for)\n",
      "/home/lalli/anaconda3/lib/python3.6/site-packages/sklearn/metrics/classification.py:1135: UndefinedMetricWarning: Precision is ill-defined and being set to 0.0 due to no predicted samples.\n",
      "  'precision', 'predicted', average, warn_for)\n",
      "/home/lalli/anaconda3/lib/python3.6/site-packages/sklearn/metrics/classification.py:1135: UndefinedMetricWarning: Precision is ill-defined and being set to 0.0 due to no predicted samples.\n",
      "  'precision', 'predicted', average, warn_for)\n",
      "/home/lalli/anaconda3/lib/python3.6/site-packages/sklearn/metrics/classification.py:1135: UndefinedMetricWarning: Precision is ill-defined and being set to 0.0 due to no predicted samples.\n",
      "  'precision', 'predicted', average, warn_for)\n",
      "/home/lalli/anaconda3/lib/python3.6/site-packages/sklearn/metrics/classification.py:1135: UndefinedMetricWarning: Precision is ill-defined and being set to 0.0 due to no predicted samples.\n",
      "  'precision', 'predicted', average, warn_for)\n",
      "/home/lalli/anaconda3/lib/python3.6/site-packages/sklearn/metrics/classification.py:1135: UndefinedMetricWarning: Precision is ill-defined and being set to 0.0 due to no predicted samples.\n",
      "  'precision', 'predicted', average, warn_for)\n",
      "/home/lalli/anaconda3/lib/python3.6/site-packages/sklearn/metrics/classification.py:1135: UndefinedMetricWarning: Precision is ill-defined and being set to 0.0 due to no predicted samples.\n",
      "  'precision', 'predicted', average, warn_for)\n",
      "/home/lalli/anaconda3/lib/python3.6/site-packages/sklearn/metrics/classification.py:1135: UndefinedMetricWarning: Precision is ill-defined and being set to 0.0 due to no predicted samples.\n",
      "  'precision', 'predicted', average, warn_for)\n",
      "/home/lalli/anaconda3/lib/python3.6/site-packages/sklearn/metrics/classification.py:1135: UndefinedMetricWarning: Precision is ill-defined and being set to 0.0 due to no predicted samples.\n",
      "  'precision', 'predicted', average, warn_for)\n",
      "/home/lalli/anaconda3/lib/python3.6/site-packages/sklearn/metrics/classification.py:1135: UndefinedMetricWarning: Precision is ill-defined and being set to 0.0 due to no predicted samples.\n",
      "  'precision', 'predicted', average, warn_for)\n",
      "/home/lalli/anaconda3/lib/python3.6/site-packages/sklearn/metrics/classification.py:1135: UndefinedMetricWarning: Precision is ill-defined and being set to 0.0 due to no predicted samples.\n",
      "  'precision', 'predicted', average, warn_for)\n",
      "/home/lalli/anaconda3/lib/python3.6/site-packages/sklearn/metrics/classification.py:1135: UndefinedMetricWarning: Precision is ill-defined and being set to 0.0 due to no predicted samples.\n",
      "  'precision', 'predicted', average, warn_for)\n",
      "/home/lalli/anaconda3/lib/python3.6/site-packages/sklearn/metrics/classification.py:1135: UndefinedMetricWarning: Precision is ill-defined and being set to 0.0 due to no predicted samples.\n",
      "  'precision', 'predicted', average, warn_for)\n",
      "/home/lalli/anaconda3/lib/python3.6/site-packages/sklearn/metrics/classification.py:1135: UndefinedMetricWarning: Precision is ill-defined and being set to 0.0 due to no predicted samples.\n",
      "  'precision', 'predicted', average, warn_for)\n",
      "/home/lalli/anaconda3/lib/python3.6/site-packages/sklearn/metrics/classification.py:1135: UndefinedMetricWarning: Precision is ill-defined and being set to 0.0 due to no predicted samples.\n",
      "  'precision', 'predicted', average, warn_for)\n",
      "/home/lalli/anaconda3/lib/python3.6/site-packages/sklearn/metrics/classification.py:1135: UndefinedMetricWarning: Precision is ill-defined and being set to 0.0 due to no predicted samples.\n",
      "  'precision', 'predicted', average, warn_for)\n",
      "/home/lalli/anaconda3/lib/python3.6/site-packages/sklearn/metrics/classification.py:1135: UndefinedMetricWarning: Precision is ill-defined and being set to 0.0 due to no predicted samples.\n",
      "  'precision', 'predicted', average, warn_for)\n",
      "/home/lalli/anaconda3/lib/python3.6/site-packages/sklearn/metrics/classification.py:1135: UndefinedMetricWarning: Precision is ill-defined and being set to 0.0 due to no predicted samples.\n",
      "  'precision', 'predicted', average, warn_for)\n",
      "/home/lalli/anaconda3/lib/python3.6/site-packages/sklearn/metrics/classification.py:1135: UndefinedMetricWarning: Precision is ill-defined and being set to 0.0 due to no predicted samples.\n",
      "  'precision', 'predicted', average, warn_for)\n",
      "/home/lalli/anaconda3/lib/python3.6/site-packages/sklearn/metrics/classification.py:1135: UndefinedMetricWarning: Precision is ill-defined and being set to 0.0 due to no predicted samples.\n",
      "  'precision', 'predicted', average, warn_for)\n",
      "/home/lalli/anaconda3/lib/python3.6/site-packages/sklearn/metrics/classification.py:1135: UndefinedMetricWarning: Precision is ill-defined and being set to 0.0 due to no predicted samples.\n",
      "  'precision', 'predicted', average, warn_for)\n",
      "/home/lalli/anaconda3/lib/python3.6/site-packages/sklearn/metrics/classification.py:1135: UndefinedMetricWarning: Precision is ill-defined and being set to 0.0 due to no predicted samples.\n",
      "  'precision', 'predicted', average, warn_for)\n"
     ]
    },
    {
     "name": "stderr",
     "output_type": "stream",
     "text": [
      "/home/lalli/anaconda3/lib/python3.6/site-packages/sklearn/metrics/classification.py:1135: UndefinedMetricWarning: Precision is ill-defined and being set to 0.0 due to no predicted samples.\n",
      "  'precision', 'predicted', average, warn_for)\n",
      "/home/lalli/anaconda3/lib/python3.6/site-packages/sklearn/metrics/classification.py:1135: UndefinedMetricWarning: Precision is ill-defined and being set to 0.0 due to no predicted samples.\n",
      "  'precision', 'predicted', average, warn_for)\n",
      "/home/lalli/anaconda3/lib/python3.6/site-packages/sklearn/metrics/classification.py:1135: UndefinedMetricWarning: Precision is ill-defined and being set to 0.0 due to no predicted samples.\n",
      "  'precision', 'predicted', average, warn_for)\n",
      "/home/lalli/anaconda3/lib/python3.6/site-packages/sklearn/metrics/classification.py:1135: UndefinedMetricWarning: Precision is ill-defined and being set to 0.0 due to no predicted samples.\n",
      "  'precision', 'predicted', average, warn_for)\n",
      "/home/lalli/anaconda3/lib/python3.6/site-packages/sklearn/metrics/classification.py:1135: UndefinedMetricWarning: Precision is ill-defined and being set to 0.0 due to no predicted samples.\n",
      "  'precision', 'predicted', average, warn_for)\n",
      "/home/lalli/anaconda3/lib/python3.6/site-packages/sklearn/metrics/classification.py:1135: UndefinedMetricWarning: Precision is ill-defined and being set to 0.0 due to no predicted samples.\n",
      "  'precision', 'predicted', average, warn_for)\n",
      "/home/lalli/anaconda3/lib/python3.6/site-packages/sklearn/metrics/classification.py:1135: UndefinedMetricWarning: Precision is ill-defined and being set to 0.0 due to no predicted samples.\n",
      "  'precision', 'predicted', average, warn_for)\n",
      "/home/lalli/anaconda3/lib/python3.6/site-packages/sklearn/metrics/classification.py:1135: UndefinedMetricWarning: Precision is ill-defined and being set to 0.0 due to no predicted samples.\n",
      "  'precision', 'predicted', average, warn_for)\n",
      "/home/lalli/anaconda3/lib/python3.6/site-packages/sklearn/metrics/classification.py:1135: UndefinedMetricWarning: Precision is ill-defined and being set to 0.0 due to no predicted samples.\n",
      "  'precision', 'predicted', average, warn_for)\n",
      "/home/lalli/anaconda3/lib/python3.6/site-packages/sklearn/metrics/classification.py:1135: UndefinedMetricWarning: Precision is ill-defined and being set to 0.0 due to no predicted samples.\n",
      "  'precision', 'predicted', average, warn_for)\n",
      "/home/lalli/anaconda3/lib/python3.6/site-packages/sklearn/metrics/classification.py:1135: UndefinedMetricWarning: Precision is ill-defined and being set to 0.0 due to no predicted samples.\n",
      "  'precision', 'predicted', average, warn_for)\n",
      "/home/lalli/anaconda3/lib/python3.6/site-packages/sklearn/metrics/classification.py:1135: UndefinedMetricWarning: Precision is ill-defined and being set to 0.0 due to no predicted samples.\n",
      "  'precision', 'predicted', average, warn_for)\n",
      "/home/lalli/anaconda3/lib/python3.6/site-packages/sklearn/metrics/classification.py:1135: UndefinedMetricWarning: Precision is ill-defined and being set to 0.0 due to no predicted samples.\n",
      "  'precision', 'predicted', average, warn_for)\n",
      "/home/lalli/anaconda3/lib/python3.6/site-packages/sklearn/metrics/classification.py:1135: UndefinedMetricWarning: Precision is ill-defined and being set to 0.0 due to no predicted samples.\n",
      "  'precision', 'predicted', average, warn_for)\n",
      "/home/lalli/anaconda3/lib/python3.6/site-packages/sklearn/metrics/classification.py:1135: UndefinedMetricWarning: Precision is ill-defined and being set to 0.0 due to no predicted samples.\n",
      "  'precision', 'predicted', average, warn_for)\n",
      "/home/lalli/anaconda3/lib/python3.6/site-packages/sklearn/metrics/classification.py:1135: UndefinedMetricWarning: Precision is ill-defined and being set to 0.0 due to no predicted samples.\n",
      "  'precision', 'predicted', average, warn_for)\n",
      "/home/lalli/anaconda3/lib/python3.6/site-packages/sklearn/metrics/classification.py:1135: UndefinedMetricWarning: Precision is ill-defined and being set to 0.0 due to no predicted samples.\n",
      "  'precision', 'predicted', average, warn_for)\n",
      "/home/lalli/anaconda3/lib/python3.6/site-packages/sklearn/metrics/classification.py:1135: UndefinedMetricWarning: Precision is ill-defined and being set to 0.0 due to no predicted samples.\n",
      "  'precision', 'predicted', average, warn_for)\n",
      "/home/lalli/anaconda3/lib/python3.6/site-packages/sklearn/metrics/classification.py:1135: UndefinedMetricWarning: Precision is ill-defined and being set to 0.0 due to no predicted samples.\n",
      "  'precision', 'predicted', average, warn_for)\n",
      "/home/lalli/anaconda3/lib/python3.6/site-packages/sklearn/metrics/classification.py:1135: UndefinedMetricWarning: Precision is ill-defined and being set to 0.0 due to no predicted samples.\n",
      "  'precision', 'predicted', average, warn_for)\n",
      "/home/lalli/anaconda3/lib/python3.6/site-packages/sklearn/metrics/classification.py:1135: UndefinedMetricWarning: Precision is ill-defined and being set to 0.0 due to no predicted samples.\n",
      "  'precision', 'predicted', average, warn_for)\n",
      "/home/lalli/anaconda3/lib/python3.6/site-packages/sklearn/metrics/classification.py:1135: UndefinedMetricWarning: Precision is ill-defined and being set to 0.0 due to no predicted samples.\n",
      "  'precision', 'predicted', average, warn_for)\n"
     ]
    }
   ],
   "source": [
    "accuracy=[]\n",
    "precision=[]\n",
    "recall=[]\n",
    "\n",
    "for train_index, test_index in (rskf.split(X, y)) :\n",
    "    #print(\"TRAIN:\", train_index, \"TEST:\", test_index)\n",
    "    X_train, X_test = X[train_index], X[test_index] \n",
    "    y_train, y_test = y[train_index], y[test_index]\n",
    "    clf = RandomForestClassifier(n_estimators=200, max_depth=3, random_state=0)\n",
    "    #clf = svm.SVC(kernel='rbf')\n",
    "    clf.fit(X_train, y_train)\n",
    "    y_predict=clf.predict(X_test)\n",
    "    \n",
    "    accuracy.append(accuracy_score(y_test, y_predict))\n",
    "    precision.append(precision_score(y_test, y_predict))\n",
    "    recall.append(recall_score(y_test, y_predict))"
   ]
  },
  {
   "cell_type": "code",
   "execution_count": 196,
   "metadata": {},
   "outputs": [
    {
     "data": {
      "text/plain": [
       "0.8733299145299145"
      ]
     },
     "execution_count": 196,
     "metadata": {},
     "output_type": "execute_result"
    }
   ],
   "source": [
    "np.mean(accuracy) #accuratezza\n",
    "#print(accuracy_score(y_test, y_predict))"
   ]
  },
  {
   "cell_type": "code",
   "execution_count": 197,
   "metadata": {},
   "outputs": [
    {
     "data": {
      "text/plain": [
       "0.43"
      ]
     },
     "execution_count": 197,
     "metadata": {},
     "output_type": "execute_result"
    }
   ],
   "source": [
    "np.mean(precision)"
   ]
  },
  {
   "cell_type": "code",
   "execution_count": 198,
   "metadata": {},
   "outputs": [
    {
     "data": {
      "text/plain": [
       "0.13083333333333333"
      ]
     },
     "execution_count": 198,
     "metadata": {},
     "output_type": "execute_result"
    }
   ],
   "source": [
    "np.mean(recall)"
   ]
  },
  {
   "cell_type": "code",
   "execution_count": null,
   "metadata": {},
   "outputs": [],
   "source": [
    "#common_genes_clintab\n",
    "dset1=pd.read_csv (\"clintab_GMQL/genes_res_vs_sl.csv\", delimiter='\\t', index_col=0)\n",
    "dset2=pd.read_csv (\"clintab_GMQL/genes_res_vs_ss.csv\", delimiter='\\t', index_col=0)\n",
    "dset3=pd.read_csv (\"clintab_GMQL/genes_sl_vs_ss.csv\", delimiter='\\t', index_col=0)\n",
    "\n",
    "lista1=set(dset1['gene_symbol'])\n",
    "lista2=set(dset2['gene_symbol'])\n",
    "lista3=set(dset3['gene_symbol'])\n",
    "\n",
    "lista1.intersection(lista2)\n",
    "\n",
    "def remove_duplicates():\n",
    "    t = [lista1]\n",
    "    t2 = [lista2]\n",
    "    for t in t2:\n",
    "        t.append(t.remove())\n",
    "    return t"
   ]
  },
  {
   "cell_type": "code",
   "execution_count": 6,
   "metadata": {},
   "outputs": [],
   "source": [
    "dset1=pd.read_csv(\"geni_Res_SenL.csv\", delimiter=',')\n",
    "dset2=pd.read_csv(\"geni_Res_SenS.csv\", delimiter=',')\n",
    "dset3=pd.read_csv(\"geni_SenL_SenS.csv\", delimiter=',')"
   ]
  },
  {
   "cell_type": "code",
   "execution_count": 7,
   "metadata": {},
   "outputs": [],
   "source": [
    "lista1=set(dset1['gene_symbol'])\n",
    "lista2=set(dset2['gene_symbol'])\n",
    "lista3=set(dset3['gene_symbol'])"
   ]
  },
  {
   "cell_type": "code",
   "execution_count": 10,
   "metadata": {},
   "outputs": [
    {
     "data": {
      "text/plain": [
       "{'EPAS1', 'RPL36', 'RPS24'}"
      ]
     },
     "execution_count": 10,
     "metadata": {},
     "output_type": "execute_result"
    }
   ],
   "source": [
    "lista2.intersection(lista3)"
   ]
  },
  {
   "cell_type": "code",
   "execution_count": null,
   "metadata": {},
   "outputs": [],
   "source": []
  },
  {
   "cell_type": "code",
   "execution_count": null,
   "metadata": {},
   "outputs": [],
   "source": []
  }
 ],
 "metadata": {
  "kernelspec": {
   "display_name": "Python 3",
   "language": "python",
   "name": "python3"
  },
  "language_info": {
   "codemirror_mode": {
    "name": "ipython",
    "version": 3
   },
   "file_extension": ".py",
   "mimetype": "text/x-python",
   "name": "python",
   "nbconvert_exporter": "python",
   "pygments_lexer": "ipython3",
   "version": "3.6.5"
  }
 },
 "nbformat": 4,
 "nbformat_minor": 2
}
