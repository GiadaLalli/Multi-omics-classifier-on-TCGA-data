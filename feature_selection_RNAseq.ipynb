{
 "cells": [
  {
   "cell_type": "code",
   "execution_count": 43,
   "metadata": {},
   "outputs": [],
   "source": [
    "from matplotlib import pyplot as plt\n",
    "from pandas.tools.plotting import table\n",
    "import subprocess\n",
    "%matplotlib inline\n",
    "import re\n",
    "from functools import reduce\n",
    "from tqdm import tqdm\n",
    "import pandas as pd\n",
    "import os\n",
    "import collections\n",
    "import scipy.stats\n",
    "import numpy as np\n",
    "import scipy\n",
    "import csv\n",
    "import math\n",
    "from scipy import interp\n",
    "from sklearn.feature_selection import SelectKBest\n",
    "from sklearn.feature_selection import chi2\n",
    "from sklearn.feature_selection import VarianceThreshold\n",
    "from sklearn.ensemble import RandomForestClassifier, AdaBoostClassifier\n",
    "from sklearn.model_selection import RepeatedStratifiedKFold\n",
    "from sklearn.linear_model import LogisticRegression\n",
    "from sklearn.metrics import accuracy_score, auc\n",
    "from sklearn import svm\n",
    "from sklearn.metrics import accuracy_score, roc_curve, auc, precision_recall_curve\n",
    "from sklearn.metrics import accuracy_score, precision_score, recall_score, confusion_matrix\n",
    "from sklearn.tree import DecisionTreeClassifier\n",
    "from sklearn.model_selection import StratifiedKFold\n",
    "from sklearn.decomposition import PCA\n",
    "from sklearn.preprocessing import StandardScaler\n",
    "from sklearn.preprocessing import MinMaxScaler\n",
    "from sklearn.neighbors import KNeighborsClassifier  \n",
    "from sklearn.metrics import classification_report, confusion_matrix  \n",
    "from sklearn.model_selection import GridSearchCV\n",
    "from matplotlib import pyplot as plt\n",
    "from sklearn.manifold import TSNE\n",
    "import subprocess\n",
    "from mpl_toolkits.mplot3d import Axes3D\n",
    "%matplotlib inline\n",
    "import re\n",
    "import seaborn as sns\n",
    "from functools import reduce\n",
    "from sklearn.model_selection import LeaveOneOut\n",
    "from sklearn.datasets import make_blobs\n",
    "from sklearn.preprocessing import StandardScaler\n",
    "from sklearn.svm import SVC\n",
    "from sklearn.model_selection import train_test_split\n",
    "from sklearn.metrics import accuracy_score, f1_score, precision_score, recall_score, classification_report, confusion_matrix\n",
    "from sklearn.datasets import make_classification\n",
    "from sklearn.ensemble import ExtraTreesClassifier\n",
    "from sklearn.utils.multiclass import unique_labels\n",
    "import statsmodels.api as sm"
   ]
  },
  {
   "cell_type": "code",
   "execution_count": 44,
   "metadata": {},
   "outputs": [],
   "source": [
    "dset=pd.read_csv (\"clintab_GMQL/gencode.gene.info.v22.tsv\", delimiter='\\t')\n",
    "gruppo=dset.groupby(['gene_type'])\n",
    "proteingroup=gruppo.get_group('protein_coding')\n",
    "lista1=set(proteingroup['gene_id'])\n",
    "#len(proteingroup)"
   ]
  },
  {
   "cell_type": "code",
   "execution_count": 45,
   "metadata": {},
   "outputs": [],
   "source": [
    "dset_rna_res=pd.read_csv(\"clintab_GMQL/gene_exprs/res/res_new.csv\", delimiter='\\t')\n",
    "dset_rna_senl=pd.read_csv(\"clintab_GMQL/gene_exprs/sl_32/sl_new.csv\", delimiter='\\t')\n",
    "dset_rna_sens=pd.read_csv(\"clintab_GMQL/gene_exprs/ss_32/ss_new.csv\", delimiter='\\t')"
   ]
  },
  {
   "cell_type": "code",
   "execution_count": 46,
   "metadata": {},
   "outputs": [
    {
     "data": {
      "text/html": [
       "<div>\n",
       "<style scoped>\n",
       "    .dataframe tbody tr th:only-of-type {\n",
       "        vertical-align: middle;\n",
       "    }\n",
       "\n",
       "    .dataframe tbody tr th {\n",
       "        vertical-align: top;\n",
       "    }\n",
       "\n",
       "    .dataframe thead th {\n",
       "        text-align: right;\n",
       "    }\n",
       "</style>\n",
       "<table border=\"1\" class=\"dataframe\">\n",
       "  <thead>\n",
       "    <tr style=\"text-align: right;\">\n",
       "      <th></th>\n",
       "      <th>patient</th>\n",
       "      <th>chrom</th>\n",
       "      <th>start</th>\n",
       "      <th>stop</th>\n",
       "      <th>ensemble_id</th>\n",
       "      <th>entrez_id</th>\n",
       "      <th>gene_symbol</th>\n",
       "      <th>fpkm_uq</th>\n",
       "      <th>fpkm</th>\n",
       "      <th>genes</th>\n",
       "    </tr>\n",
       "  </thead>\n",
       "  <tbody>\n",
       "    <tr>\n",
       "      <th>8</th>\n",
       "      <td>R_00000</td>\n",
       "      <td>chr1</td>\n",
       "      <td>69090</td>\n",
       "      <td>70008</td>\n",
       "      <td>ENSG00000186092.4</td>\n",
       "      <td>79501.0</td>\n",
       "      <td>OR4F5</td>\n",
       "      <td>0.000000</td>\n",
       "      <td>0.000000</td>\n",
       "      <td>ENSG00000186092.4-OR4F5</td>\n",
       "    </tr>\n",
       "    <tr>\n",
       "      <th>18</th>\n",
       "      <td>R_00000</td>\n",
       "      <td>chr1</td>\n",
       "      <td>182392</td>\n",
       "      <td>184158</td>\n",
       "      <td>ENSG00000279928.1</td>\n",
       "      <td>NaN</td>\n",
       "      <td>FO538757.3</td>\n",
       "      <td>0.000000</td>\n",
       "      <td>0.000000</td>\n",
       "      <td>ENSG00000279928.1-FO538757.3</td>\n",
       "    </tr>\n",
       "    <tr>\n",
       "      <th>19</th>\n",
       "      <td>R_00000</td>\n",
       "      <td>chr1</td>\n",
       "      <td>184922</td>\n",
       "      <td>200322</td>\n",
       "      <td>ENSG00000279457.2</td>\n",
       "      <td>NaN</td>\n",
       "      <td>FO538757.2</td>\n",
       "      <td>85509.848376</td>\n",
       "      <td>3.315533</td>\n",
       "      <td>ENSG00000279457.2-FO538757.2</td>\n",
       "    </tr>\n",
       "    <tr>\n",
       "      <th>29</th>\n",
       "      <td>R_00000</td>\n",
       "      <td>chr1</td>\n",
       "      <td>450739</td>\n",
       "      <td>451678</td>\n",
       "      <td>ENSG00000278566.1</td>\n",
       "      <td>729759.0</td>\n",
       "      <td>OR4F29</td>\n",
       "      <td>0.000000</td>\n",
       "      <td>0.000000</td>\n",
       "      <td>ENSG00000278566.1-OR4F29</td>\n",
       "    </tr>\n",
       "    <tr>\n",
       "      <th>49</th>\n",
       "      <td>R_00000</td>\n",
       "      <td>chr1</td>\n",
       "      <td>685715</td>\n",
       "      <td>686654</td>\n",
       "      <td>ENSG00000273547.1</td>\n",
       "      <td>81399.0</td>\n",
       "      <td>OR4F16</td>\n",
       "      <td>0.000000</td>\n",
       "      <td>0.000000</td>\n",
       "      <td>ENSG00000273547.1-OR4F16</td>\n",
       "    </tr>\n",
       "  </tbody>\n",
       "</table>\n",
       "</div>"
      ],
      "text/plain": [
       "    patient chrom   start    stop        ensemble_id  entrez_id gene_symbol  \\\n",
       "8   R_00000  chr1   69090   70008  ENSG00000186092.4    79501.0       OR4F5   \n",
       "18  R_00000  chr1  182392  184158  ENSG00000279928.1        NaN  FO538757.3   \n",
       "19  R_00000  chr1  184922  200322  ENSG00000279457.2        NaN  FO538757.2   \n",
       "29  R_00000  chr1  450739  451678  ENSG00000278566.1   729759.0      OR4F29   \n",
       "49  R_00000  chr1  685715  686654  ENSG00000273547.1    81399.0      OR4F16   \n",
       "\n",
       "         fpkm_uq      fpkm                         genes  \n",
       "8       0.000000  0.000000       ENSG00000186092.4-OR4F5  \n",
       "18      0.000000  0.000000  ENSG00000279928.1-FO538757.3  \n",
       "19  85509.848376  3.315533  ENSG00000279457.2-FO538757.2  \n",
       "29      0.000000  0.000000      ENSG00000278566.1-OR4F29  \n",
       "49      0.000000  0.000000      ENSG00000273547.1-OR4F16  "
      ]
     },
     "execution_count": 46,
     "metadata": {},
     "output_type": "execute_result"
    }
   ],
   "source": [
    "dset_res = dset_rna_res[dset_rna_res.ensemble_id.isin(lista1)]\n",
    "protein_coding_res=pd.DataFrame(dset_res)\n",
    "protein_coding_res['genes'] = protein_coding_res['ensemble_id']+'-'+ protein_coding_res['gene_symbol']\n",
    "protein_coding_res.head()"
   ]
  },
  {
   "cell_type": "code",
   "execution_count": 47,
   "metadata": {},
   "outputs": [],
   "source": [
    "dset_senl = dset_rna_senl[dset_rna_senl.ensemble_id.isin(lista1)]\n",
    "protein_coding_senl=pd.DataFrame(dset_senl)\n",
    "protein_coding_senl['genes'] = protein_coding_senl['ensemble_id']+'-'+ protein_coding_senl['gene_symbol']"
   ]
  },
  {
   "cell_type": "code",
   "execution_count": 48,
   "metadata": {},
   "outputs": [],
   "source": [
    "dset_sens = dset_rna_sens[dset_rna_sens.ensemble_id.isin(lista1)]\n",
    "protein_coding_sens=pd.DataFrame(dset_sens)\n",
    "protein_coding_sens['genes'] = protein_coding_sens['ensemble_id']+'-'+ protein_coding_sens['gene_symbol']"
   ]
  },
  {
   "cell_type": "code",
   "execution_count": 49,
   "metadata": {},
   "outputs": [
    {
     "data": {
      "text/plain": [
       "(60, 19814)"
      ]
     },
     "execution_count": 49,
     "metadata": {},
     "output_type": "execute_result"
    }
   ],
   "source": [
    "resdf=protein_coding_res.pivot(index=\"patient\", columns=\"genes\", values=\"fpkm\")\n",
    "genes = resdf.columns.tolist()\n",
    "#resdf.head()\n",
    "resdf.shape"
   ]
  },
  {
   "cell_type": "code",
   "execution_count": 50,
   "metadata": {},
   "outputs": [
    {
     "data": {
      "text/plain": [
       "(34, 19814)"
      ]
     },
     "execution_count": 50,
     "metadata": {},
     "output_type": "execute_result"
    }
   ],
   "source": [
    "senldf=protein_coding_senl.pivot(index=\"patient\", columns=\"genes\", values=\"fpkm\")\n",
    "senldf = senldf[genes]\n",
    "#senldf.head()\n",
    "senldf.shape"
   ]
  },
  {
   "cell_type": "code",
   "execution_count": 51,
   "metadata": {},
   "outputs": [
    {
     "data": {
      "text/plain": [
       "(107, 19814)"
      ]
     },
     "execution_count": 51,
     "metadata": {},
     "output_type": "execute_result"
    }
   ],
   "source": [
    "sensdf=protein_coding_sens.pivot(index=\"patient\", columns=\"genes\", values=\"fpkm\")\n",
    "sensdf = sensdf[genes]\n",
    "#sensdf.head()\n",
    "sensdf.shape"
   ]
  },
  {
   "cell_type": "code",
   "execution_count": 76,
   "metadata": {},
   "outputs": [],
   "source": [
    "resdf_median = resdf.median(0)\n",
    "senldf_median = senldf.median(0)\n",
    "sensdf_median = sensdf.median(0)"
   ]
  },
  {
   "cell_type": "code",
   "execution_count": 77,
   "metadata": {},
   "outputs": [
    {
     "data": {
      "text/plain": [
       "(19814,)"
      ]
     },
     "execution_count": 77,
     "metadata": {},
     "output_type": "execute_result"
    }
   ],
   "source": [
    "resdf_median.shape"
   ]
  },
  {
   "cell_type": "code",
   "execution_count": 78,
   "metadata": {},
   "outputs": [
    {
     "name": "stdout",
     "output_type": "stream",
     "text": [
      "19814 19814 19814\n"
     ]
    }
   ],
   "source": [
    "print(len(resdf_median), len(senldf_median), len(sensdf_median))"
   ]
  },
  {
   "cell_type": "code",
   "execution_count": 79,
   "metadata": {},
   "outputs": [
    {
     "name": "stderr",
     "output_type": "stream",
     "text": [
      "100%|██████████| 19814/19814 [00:08<00:00, 2264.31it/s]\n"
     ]
    },
    {
     "data": {
      "text/html": [
       "<div>\n",
       "<style scoped>\n",
       "    .dataframe tbody tr th:only-of-type {\n",
       "        vertical-align: middle;\n",
       "    }\n",
       "\n",
       "    .dataframe tbody tr th {\n",
       "        vertical-align: top;\n",
       "    }\n",
       "\n",
       "    .dataframe thead th {\n",
       "        text-align: right;\n",
       "    }\n",
       "</style>\n",
       "<table border=\"1\" class=\"dataframe\">\n",
       "  <thead>\n",
       "    <tr style=\"text-align: right;\">\n",
       "      <th></th>\n",
       "      <th>gene</th>\n",
       "      <th>resistant_median</th>\n",
       "      <th>sensitive_short_median</th>\n",
       "      <th>mannwhiteney_pvalue</th>\n",
       "    </tr>\n",
       "  </thead>\n",
       "  <tbody>\n",
       "    <tr>\n",
       "      <th>0</th>\n",
       "      <td>ENSG00000000003.13-TSPAN6</td>\n",
       "      <td>15.537437</td>\n",
       "      <td>15.924936</td>\n",
       "      <td>0.362456</td>\n",
       "    </tr>\n",
       "    <tr>\n",
       "      <th>1</th>\n",
       "      <td>ENSG00000000005.5-TNMD</td>\n",
       "      <td>0.038791</td>\n",
       "      <td>0.067985</td>\n",
       "      <td>0.023603</td>\n",
       "    </tr>\n",
       "    <tr>\n",
       "      <th>2</th>\n",
       "      <td>ENSG00000000419.11-DPM1</td>\n",
       "      <td>42.847159</td>\n",
       "      <td>43.144585</td>\n",
       "      <td>0.329259</td>\n",
       "    </tr>\n",
       "    <tr>\n",
       "      <th>3</th>\n",
       "      <td>ENSG00000000457.12-SCYL3</td>\n",
       "      <td>1.939755</td>\n",
       "      <td>2.014650</td>\n",
       "      <td>0.203584</td>\n",
       "    </tr>\n",
       "    <tr>\n",
       "      <th>4</th>\n",
       "      <td>ENSG00000000460.15-C1orf112</td>\n",
       "      <td>1.415162</td>\n",
       "      <td>1.640842</td>\n",
       "      <td>0.044616</td>\n",
       "    </tr>\n",
       "  </tbody>\n",
       "</table>\n",
       "</div>"
      ],
      "text/plain": [
       "                          gene  resistant_median  sensitive_short_median  \\\n",
       "0    ENSG00000000003.13-TSPAN6         15.537437               15.924936   \n",
       "1       ENSG00000000005.5-TNMD          0.038791                0.067985   \n",
       "2      ENSG00000000419.11-DPM1         42.847159               43.144585   \n",
       "3     ENSG00000000457.12-SCYL3          1.939755                2.014650   \n",
       "4  ENSG00000000460.15-C1orf112          1.415162                1.640842   \n",
       "\n",
       "   mannwhiteney_pvalue  \n",
       "0             0.362456  \n",
       "1             0.023603  \n",
       "2             0.329259  \n",
       "3             0.203584  \n",
       "4             0.044616  "
      ]
     },
     "execution_count": 79,
     "metadata": {},
     "output_type": "execute_result"
    }
   ],
   "source": [
    "pvalues = []\n",
    "for gene in tqdm(genes):\n",
    "    try:\n",
    "        gene_pvalue = scipy.stats.mannwhitneyu(sensdf[gene],resdf[gene]).pvalue\n",
    "    except Exception:\n",
    "        gene_pvalue = 1\n",
    "    pvalues.append(gene_pvalue)\n",
    "       \n",
    "pvalues = pd.DataFrame({\n",
    "    \"gene\": genes,\n",
    "    \"resistant_median\": resdf_median.values,\n",
    "    #\"sensitive_long_median\": senldf_median.values,\n",
    "    \"sensitive_short_median\": sensdf_median.values,\n",
    "    \"mannwhiteney_pvalue\": pvalues\n",
    "})\n",
    "\n",
    "pvalues.head()"
   ]
  },
  {
   "cell_type": "markdown",
   "metadata": {},
   "source": [
    "## Bonferroni con len(pvalues)"
   ]
  },
  {
   "cell_type": "code",
   "execution_count": 32,
   "metadata": {},
   "outputs": [
    {
     "name": "stderr",
     "output_type": "stream",
     "text": [
      "19814it [00:55, 355.69it/s]"
     ]
    },
    {
     "name": "stdout",
     "output_type": "stream",
     "text": [
      "19814\n"
     ]
    },
    {
     "name": "stderr",
     "output_type": "stream",
     "text": [
      "\n"
     ]
    }
   ],
   "source": [
    "p_value_corr =[]\n",
    "\n",
    "for index, value in tqdm(pvalues['gene'].iteritems()): \n",
    "        \n",
    "        somma=len(pvalues)\n",
    "        p_value=pvalues[pvalues['gene']==value]['mannwhiteney_pvalue'].iloc[0]\n",
    "        p_value_corr.append(somma*p_value)\n",
    "        #print(p_value_corr)\n",
    "print(len(p_value_corr))"
   ]
  },
  {
   "cell_type": "code",
   "execution_count": 33,
   "metadata": {},
   "outputs": [],
   "source": [
    "id_name=[]\n",
    "gene_name=[]\n",
    "\n",
    "for x in [\"-\".join(x.strip().split(\"-\")[:1])  for x in (pvalues['gene'])]:\n",
    "    id_name.append(x)   \n",
    "for x in [\"-\".join(x.strip().split(\"-\")[1:])  for x in (pvalues['gene'])]:\n",
    "    gene_name.append(x) \n",
    "    \n",
    "pvalues['ensemble_id']=id_name\n",
    "pvalues['gene_symbol']=gene_name\n",
    "pvalues=pd.DataFrame(pvalues)"
   ]
  },
  {
   "cell_type": "code",
   "execution_count": 34,
   "metadata": {},
   "outputs": [],
   "source": [
    "pvalues['p_value_corr']=p_value_corr\n",
    "#pvalues.head()"
   ]
  },
  {
   "cell_type": "code",
   "execution_count": 35,
   "metadata": {},
   "outputs": [
    {
     "name": "stdout",
     "output_type": "stream",
     "text": [
      "1\n"
     ]
    }
   ],
   "source": [
    "threshold = 0.05\n",
    "\n",
    "significant_genes_corr = pvalues[(pvalues.p_value_corr < threshold)].copy()\n",
    "significant_genes_corr = significant_genes_corr.sort_values(\"mannwhiteney_pvalue\", ascending=True)\n",
    "print(significant_genes_corr.shape[0])"
   ]
  },
  {
   "cell_type": "code",
   "execution_count": 36,
   "metadata": {},
   "outputs": [
    {
     "data": {
      "text/html": [
       "<div>\n",
       "<style scoped>\n",
       "    .dataframe tbody tr th:only-of-type {\n",
       "        vertical-align: middle;\n",
       "    }\n",
       "\n",
       "    .dataframe tbody tr th {\n",
       "        vertical-align: top;\n",
       "    }\n",
       "\n",
       "    .dataframe thead th {\n",
       "        text-align: right;\n",
       "    }\n",
       "</style>\n",
       "<table border=\"1\" class=\"dataframe\">\n",
       "  <thead>\n",
       "    <tr style=\"text-align: right;\">\n",
       "      <th></th>\n",
       "      <th>gene</th>\n",
       "      <th>sensitive_long_median</th>\n",
       "      <th>sensitive_short_median</th>\n",
       "      <th>mannwhiteney_pvalue</th>\n",
       "      <th>ensemble_id</th>\n",
       "      <th>gene_symbol</th>\n",
       "      <th>p_value_corr</th>\n",
       "    </tr>\n",
       "  </thead>\n",
       "  <tbody>\n",
       "    <tr>\n",
       "      <th>10886</th>\n",
       "      <td>ENSG00000163554.10-SPTA1</td>\n",
       "      <td>0.0</td>\n",
       "      <td>0.00689</td>\n",
       "      <td>0.000002</td>\n",
       "      <td>ENSG00000163554.10</td>\n",
       "      <td>SPTA1</td>\n",
       "      <td>0.046536</td>\n",
       "    </tr>\n",
       "  </tbody>\n",
       "</table>\n",
       "</div>"
      ],
      "text/plain": [
       "                           gene  sensitive_long_median  \\\n",
       "10886  ENSG00000163554.10-SPTA1                    0.0   \n",
       "\n",
       "       sensitive_short_median  mannwhiteney_pvalue         ensemble_id  \\\n",
       "10886                 0.00689             0.000002  ENSG00000163554.10   \n",
       "\n",
       "      gene_symbol  p_value_corr  \n",
       "10886       SPTA1      0.046536  "
      ]
     },
     "execution_count": 36,
     "metadata": {},
     "output_type": "execute_result"
    }
   ],
   "source": [
    "significant_genes_corr.head()"
   ]
  },
  {
   "cell_type": "markdown",
   "metadata": {},
   "source": [
    "## Bonferroni con len(num_patients)"
   ]
  },
  {
   "cell_type": "code",
   "execution_count": 84,
   "metadata": {},
   "outputs": [
    {
     "name": "stdout",
     "output_type": "stream",
     "text": [
      "58\n"
     ]
    }
   ],
   "source": [
    "threshold = 0.0005\n",
    "\n",
    "significant_genes = pvalues[(pvalues.mannwhiteney_pvalue < threshold)].copy()\n",
    "significant_genes = significant_genes.sort_values(\"mannwhiteney_pvalue\", ascending=True)\n",
    "print(significant_genes.shape[0])"
   ]
  },
  {
   "cell_type": "code",
   "execution_count": 85,
   "metadata": {},
   "outputs": [],
   "source": [
    "id_name=[]\n",
    "gene_name=[]\n",
    "\n",
    "for x in [\"-\".join(x.strip().split(\"-\")[:1])  for x in (significant_genes['gene'])]:\n",
    "    id_name.append(x)   \n",
    "for x in [\"-\".join(x.strip().split(\"-\")[1:])  for x in (significant_genes['gene'])]:\n",
    "    gene_name.append(x) \n",
    "    \n",
    "significant_genes['ensemble_id']=id_name\n",
    "significant_genes['gene_symbol']=gene_name\n",
    "significant_genes=pd.DataFrame(significant_genes)"
   ]
  },
  {
   "cell_type": "code",
   "execution_count": 86,
   "metadata": {},
   "outputs": [
    {
     "data": {
      "text/html": [
       "<div>\n",
       "<style scoped>\n",
       "    .dataframe tbody tr th:only-of-type {\n",
       "        vertical-align: middle;\n",
       "    }\n",
       "\n",
       "    .dataframe tbody tr th {\n",
       "        vertical-align: top;\n",
       "    }\n",
       "\n",
       "    .dataframe thead th {\n",
       "        text-align: right;\n",
       "    }\n",
       "</style>\n",
       "<table border=\"1\" class=\"dataframe\">\n",
       "  <thead>\n",
       "    <tr style=\"text-align: right;\">\n",
       "      <th></th>\n",
       "      <th>gene</th>\n",
       "      <th>resistant_median</th>\n",
       "      <th>sensitive_short_median</th>\n",
       "      <th>mannwhiteney_pvalue</th>\n",
       "      <th>ensemble_id</th>\n",
       "      <th>gene_symbol</th>\n",
       "    </tr>\n",
       "  </thead>\n",
       "  <tbody>\n",
       "    <tr>\n",
       "      <th>6158</th>\n",
       "      <td>ENSG00000130255.11-RPL36</td>\n",
       "      <td>311.832565</td>\n",
       "      <td>183.251963</td>\n",
       "      <td>0.000006</td>\n",
       "      <td>ENSG00000130255.11</td>\n",
       "      <td>RPL36</td>\n",
       "    </tr>\n",
       "    <tr>\n",
       "      <th>14675</th>\n",
       "      <td>ENSG00000182253.13-SYNM</td>\n",
       "      <td>0.305599</td>\n",
       "      <td>0.510293</td>\n",
       "      <td>0.000017</td>\n",
       "      <td>ENSG00000182253.13</td>\n",
       "      <td>SYNM</td>\n",
       "    </tr>\n",
       "    <tr>\n",
       "      <th>1887</th>\n",
       "      <td>ENSG00000090861.14-AARS</td>\n",
       "      <td>20.941002</td>\n",
       "      <td>27.409527</td>\n",
       "      <td>0.000019</td>\n",
       "      <td>ENSG00000090861.14</td>\n",
       "      <td>AARS</td>\n",
       "    </tr>\n",
       "    <tr>\n",
       "      <th>18171</th>\n",
       "      <td>ENSG00000233927.4-RPS28</td>\n",
       "      <td>314.732910</td>\n",
       "      <td>197.475554</td>\n",
       "      <td>0.000021</td>\n",
       "      <td>ENSG00000233927.4</td>\n",
       "      <td>RPS28</td>\n",
       "    </tr>\n",
       "    <tr>\n",
       "      <th>603</th>\n",
       "      <td>ENSG00000044574.7-HSPA5</td>\n",
       "      <td>107.221321</td>\n",
       "      <td>142.558129</td>\n",
       "      <td>0.000041</td>\n",
       "      <td>ENSG00000044574.7</td>\n",
       "      <td>HSPA5</td>\n",
       "    </tr>\n",
       "  </tbody>\n",
       "</table>\n",
       "</div>"
      ],
      "text/plain": [
       "                           gene  resistant_median  sensitive_short_median  \\\n",
       "6158   ENSG00000130255.11-RPL36        311.832565              183.251963   \n",
       "14675   ENSG00000182253.13-SYNM          0.305599                0.510293   \n",
       "1887    ENSG00000090861.14-AARS         20.941002               27.409527   \n",
       "18171   ENSG00000233927.4-RPS28        314.732910              197.475554   \n",
       "603     ENSG00000044574.7-HSPA5        107.221321              142.558129   \n",
       "\n",
       "       mannwhiteney_pvalue         ensemble_id gene_symbol  \n",
       "6158              0.000006  ENSG00000130255.11       RPL36  \n",
       "14675             0.000017  ENSG00000182253.13        SYNM  \n",
       "1887              0.000019  ENSG00000090861.14        AARS  \n",
       "18171             0.000021   ENSG00000233927.4       RPS28  \n",
       "603               0.000041   ENSG00000044574.7       HSPA5  "
      ]
     },
     "execution_count": 86,
     "metadata": {},
     "output_type": "execute_result"
    }
   ],
   "source": [
    "significant_genes.head()"
   ]
  },
  {
   "cell_type": "code",
   "execution_count": 87,
   "metadata": {},
   "outputs": [],
   "source": [
    "#significant_genes.to_csv('new_data/gene_exprs/r_sl_pv2.csv', sep=',', header=True, index=False)\n",
    "significant_genes.to_csv('new_data/gene_exprs/r_ss_pv2.csv', sep=',', header=True, index=False)\n",
    "#significant_genes.to_csv('new_data/gene_exprs/sl_ss_pv2.csv', sep=',', header=True, index=False)"
   ]
  },
  {
   "cell_type": "raw",
   "metadata": {},
   "source": [
    "n_res=len(protein_coding_res['patient'].unique())\n",
    "n_sens=len(protein_coding_sens['patient'].unique())\n",
    "n_senl=len(protein_coding_senl['patient'].unique())"
   ]
  },
  {
   "cell_type": "raw",
   "metadata": {},
   "source": [
    "p_value_corr =[]\n",
    "\n",
    "for index, value in tqdm(significant_genes['gene'].iteritems()): \n",
    "        \n",
    "        somma=n_res+n_senl\n",
    "        p_value=pvalues[pvalues['gene']==value]['mannwhiteney_pvalue'].iloc[0]\n",
    "        p_value_corr.append(somma*p_value)\n",
    "        #print(p_value_corr)\n",
    "print(len(p_value_corr))"
   ]
  },
  {
   "cell_type": "raw",
   "metadata": {},
   "source": [
    "significant_genes['p_value_corr']=p_value_corr"
   ]
  },
  {
   "cell_type": "raw",
   "metadata": {},
   "source": [
    "threshold = 0.05\n",
    "\n",
    "significant_genes_corr = significant_genes[(significant_genes.p_value_corr < threshold)].copy()\n",
    "significant_genes_corr = significant_genes_corr.sort_values(\"mannwhiteney_pvalue\", ascending=True)\n",
    "print(significant_genes_corr.shape[0])\n",
    "#significant_genes_corr.to_csv('new_data/gene_exprs/sl_ss_bonf_ge.csv', sep=',', header=True, index=False)\n",
    "#significant_genes_corr.to_csv('new_data/gene_exprs/r_ss_bonf_ge.csv', sep=',', header=True, index=False)\n",
    "#significant_genes_corr.to_csv('new_data/gene_exprs/r_sl_bonf_ge.csv', sep=',', header=True, index=False)"
   ]
  },
  {
   "cell_type": "code",
   "execution_count": null,
   "metadata": {},
   "outputs": [],
   "source": [
    "significant_genes_corr.head()"
   ]
  },
  {
   "cell_type": "code",
   "execution_count": null,
   "metadata": {},
   "outputs": [],
   "source": [
    "listageni=significant_genes_corr['gene'].values\n",
    "#listageni"
   ]
  },
  {
   "cell_type": "markdown",
   "metadata": {},
   "source": [
    "## Plot"
   ]
  },
  {
   "cell_type": "code",
   "execution_count": null,
   "metadata": {
    "scrolled": true
   },
   "outputs": [],
   "source": [
    "for g in listageni:\n",
    "\n",
    "    boxplot1=pd.DataFrame(resdf, columns=[g])\n",
    "    boxplot2=pd.DataFrame(senldf, columns=[g])\n",
    "    fig, ax= plt.subplots()\n",
    "    boxplot3=pd.concat([boxplot1, boxplot2], axis=1)\n",
    "    ax.set_title('Res vs Senl gene: '+ g, fontsize = 10)\n",
    "\n",
    "    boxplot_tot=boxplot3.boxplot(fontsize = 10)\n",
    "    \n",
    "    #print(boxplot3)\n",
    "    #plt.savefig('new_data/gene_exprs/boxplot/res_sl/boxplot{}.png'.format(g))"
   ]
  },
  {
   "cell_type": "code",
   "execution_count": null,
   "metadata": {},
   "outputs": [],
   "source": [
    "sns.set(style=\"whitegrid\", font_scale=1.5)\n",
    "\n",
    "for g in listageni[:]:\n",
    "    data = pd.DataFrame(columns=[\"Values\", \"Class\"])\n",
    "    for row in resdf[g]:\n",
    "        data = data.append({\"Values\":row,\"Class\":\"Res\"}, ignore_index=True)\n",
    "    for row in senldf[g]:\n",
    "        data = data.append({\"Values\":row,\"Class\":\"SenL\"}, ignore_index=True)\n",
    "    \n",
    "    plt.figure()\n",
    "    sns.violinplot(data=data, x=\"Class\", y=\"Values\", palette=\"muted\", saturation=0.75, alpha=0.7)\n",
    "    plt.title(g)\n",
    "    #plt.savefig('new_data/gene_exprs/violinplot/res_sl/violinplot{}.png'.format(g))"
   ]
  },
  {
   "cell_type": "markdown",
   "metadata": {},
   "source": [
    "## Standard deviation"
   ]
  },
  {
   "cell_type": "code",
   "execution_count": null,
   "metadata": {},
   "outputs": [],
   "source": [
    "r_std=resdf.std()\n",
    "sl_std=senldf.std()\n",
    "ss_std=sensdf.std()\n",
    "\n",
    "#print (r_std)"
   ]
  },
  {
   "cell_type": "code",
   "execution_count": null,
   "metadata": {},
   "outputs": [],
   "source": [
    "x=r_std.sort_values(axis=0, ascending=True, inplace=False, kind='quicksort', na_position='last')\n",
    "y=ss_std.sort_values(axis=0, ascending=True, inplace=False, kind='quicksort', na_position='last')\n",
    "z=sl_std.sort_values(axis=0, ascending=True, inplace=False, kind='quicksort', na_position='last')"
   ]
  },
  {
   "cell_type": "code",
   "execution_count": null,
   "metadata": {},
   "outputs": [],
   "source": [
    "res_std=x.to_frame()\n",
    "res_std['genes']=res_std.index\n",
    "res_std.index=np.arange(len(res_std))\n",
    "#res_std"
   ]
  },
  {
   "cell_type": "code",
   "execution_count": null,
   "metadata": {},
   "outputs": [],
   "source": [
    "sens_std=y.to_frame()\n",
    "sens_std['genes']=sens_std.index\n",
    "sens_std.index=np.arange(len(sens_std))\n",
    "#sens_std"
   ]
  },
  {
   "cell_type": "code",
   "execution_count": null,
   "metadata": {},
   "outputs": [],
   "source": [
    "senl_std=z.to_frame()\n",
    "senl_std['genes']=senl_std.index\n",
    "senl_std.index=np.arange(len(senl_std))\n",
    "#senl_std"
   ]
  },
  {
   "cell_type": "code",
   "execution_count": null,
   "metadata": {},
   "outputs": [],
   "source": [
    "threshold = 100.00\n",
    "\n",
    "significant_std =x[(x > threshold)].copy()\n",
    "significant_std = significant_std.sort_values(ascending=True)\n",
    "print(significant_std.shape[0])"
   ]
  },
  {
   "cell_type": "code",
   "execution_count": null,
   "metadata": {},
   "outputs": [],
   "source": [
    "w=significant_std.to_frame()"
   ]
  },
  {
   "cell_type": "code",
   "execution_count": null,
   "metadata": {},
   "outputs": [],
   "source": [
    "w['genes']=w.index\n",
    "w.index=np.arange(len(w))\n",
    "#w"
   ]
  },
  {
   "cell_type": "code",
   "execution_count": null,
   "metadata": {},
   "outputs": [],
   "source": [
    "#controllare quali sono i geni che risultano salvi tra boxplot, std, correzioni da test multiplo (qua\n",
    "#basterebbe anche solo Bonferroni ma se poi me ne salva troppo pochi è tutt'un niente), fare \n",
    "#l'intersezione per definire le features, creare un nuovo dset contenente:\n",
    "#solo le features, e la loro posizione (chrom, start, stop da dare a Sara)"
   ]
  },
  {
   "cell_type": "code",
   "execution_count": null,
   "metadata": {},
   "outputs": [],
   "source": [
    "lista1=set(w['genes'])\n",
    "lista2=set(significant_genes_corr ['gene'])"
   ]
  },
  {
   "cell_type": "code",
   "execution_count": null,
   "metadata": {},
   "outputs": [],
   "source": [
    "inters=lista1.intersection(lista2)"
   ]
  },
  {
   "cell_type": "code",
   "execution_count": null,
   "metadata": {},
   "outputs": [],
   "source": [
    "inters"
   ]
  },
  {
   "cell_type": "markdown",
   "metadata": {},
   "source": [
    "## Appartenenza geni-classe"
   ]
  },
  {
   "cell_type": "code",
   "execution_count": null,
   "metadata": {},
   "outputs": [],
   "source": [
    "gene_sl_ss=pd.read_csv(\"new_data/gene_exprs/sl_ss_bonf_ge.csv\", delimiter=',')\n",
    "gene_r_ss=pd.read_csv(\"new_data/gene_exprs/r_ss_bonf_ge.csv\", delimiter=',')\n",
    "gene_r_sl=pd.read_csv(\"new_data/gene_exprs/r_sl_bonf_ge.csv\", delimiter=',')"
   ]
  },
  {
   "cell_type": "code",
   "execution_count": null,
   "metadata": {},
   "outputs": [],
   "source": [
    "gene_sl_ss.head()"
   ]
  },
  {
   "cell_type": "code",
   "execution_count": null,
   "metadata": {},
   "outputs": [],
   "source": [
    "lista3=set(gene_sl_ss['gene'])\n",
    "lista4=set(gene_r_ss['gene'])\n",
    "lista5=set(gene_r_sl['gene'])"
   ]
  },
  {
   "cell_type": "code",
   "execution_count": null,
   "metadata": {},
   "outputs": [],
   "source": [
    "inters_=lista3.intersection(lista4)"
   ]
  },
  {
   "cell_type": "code",
   "execution_count": null,
   "metadata": {},
   "outputs": [],
   "source": [
    "inters_"
   ]
  },
  {
   "cell_type": "markdown",
   "metadata": {},
   "source": [
    "## Benjamini-Hochbergh"
   ]
  },
  {
   "cell_type": "code",
   "execution_count": 85,
   "metadata": {},
   "outputs": [],
   "source": [
    "p_sorted=pvalues.sort_values(by='mannwhiteney_pvalue')"
   ]
  },
  {
   "cell_type": "raw",
   "metadata": {},
   "source": [
    "p_sorted['mannwhiteney_pvalue'].get_values()"
   ]
  },
  {
   "cell_type": "code",
   "execution_count": 86,
   "metadata": {},
   "outputs": [],
   "source": [
    "a=p_sorted['mannwhiteney_pvalue'].get_values()"
   ]
  },
  {
   "cell_type": "code",
   "execution_count": 87,
   "metadata": {},
   "outputs": [
    {
     "data": {
      "text/plain": [
       "<enumerate at 0x7f1ec3a31fc0>"
      ]
     },
     "execution_count": 87,
     "metadata": {},
     "output_type": "execute_result"
    }
   ],
   "source": [
    "enumerate(a)"
   ]
  },
  {
   "cell_type": "code",
   "execution_count": 88,
   "metadata": {},
   "outputs": [],
   "source": [
    "num_total_tests=len(pvalues)"
   ]
  },
  {
   "cell_type": "code",
   "execution_count": 89,
   "metadata": {},
   "outputs": [],
   "source": [
    "def calc_benjamini_hochberg_corrections(p_values, num_total_tests):\n",
    "   \n",
    "    p_value_bh = []\n",
    "    for i, p_value in enumerate(p_values):\n",
    "        bh_value = p_value * num_total_tests / (i + 1)\n",
    "        p_value_bh.append(bh_value)\n",
    "    return (p_value_bh)"
   ]
  },
  {
   "cell_type": "code",
   "execution_count": 90,
   "metadata": {},
   "outputs": [],
   "source": [
    "p_value_corr_bh=calc_benjamini_hochberg_corrections(a, num_total_tests)"
   ]
  },
  {
   "cell_type": "code",
   "execution_count": 91,
   "metadata": {},
   "outputs": [],
   "source": [
    "p_sorted['p_value_corr_bh']=p_value_corr_bh"
   ]
  },
  {
   "cell_type": "code",
   "execution_count": 92,
   "metadata": {},
   "outputs": [
    {
     "data": {
      "text/html": [
       "<div>\n",
       "<style scoped>\n",
       "    .dataframe tbody tr th:only-of-type {\n",
       "        vertical-align: middle;\n",
       "    }\n",
       "\n",
       "    .dataframe tbody tr th {\n",
       "        vertical-align: top;\n",
       "    }\n",
       "\n",
       "    .dataframe thead th {\n",
       "        text-align: right;\n",
       "    }\n",
       "</style>\n",
       "<table border=\"1\" class=\"dataframe\">\n",
       "  <thead>\n",
       "    <tr style=\"text-align: right;\">\n",
       "      <th></th>\n",
       "      <th>gene</th>\n",
       "      <th>resistant_median</th>\n",
       "      <th>sensitive_long_median</th>\n",
       "      <th>mannwhiteney_pvalue</th>\n",
       "      <th>p_value_corr_bh</th>\n",
       "    </tr>\n",
       "  </thead>\n",
       "  <tbody>\n",
       "    <tr>\n",
       "      <th>1511</th>\n",
       "      <td>ENSG00000081026.17-MAGI3</td>\n",
       "      <td>2.004508</td>\n",
       "      <td>3.137310</td>\n",
       "      <td>0.000053</td>\n",
       "      <td>1.054464</td>\n",
       "    </tr>\n",
       "    <tr>\n",
       "      <th>7361</th>\n",
       "      <td>ENSG00000137393.9-RNF144B</td>\n",
       "      <td>8.484803</td>\n",
       "      <td>15.532160</td>\n",
       "      <td>0.000065</td>\n",
       "      <td>0.639372</td>\n",
       "    </tr>\n",
       "    <tr>\n",
       "      <th>6820</th>\n",
       "      <td>ENSG00000134504.11-KCTD1</td>\n",
       "      <td>6.369336</td>\n",
       "      <td>10.695657</td>\n",
       "      <td>0.000086</td>\n",
       "      <td>0.566977</td>\n",
       "    </tr>\n",
       "    <tr>\n",
       "      <th>9336</th>\n",
       "      <td>ENSG00000151812.13-SLC35F4</td>\n",
       "      <td>0.005034</td>\n",
       "      <td>0.015873</td>\n",
       "      <td>0.000091</td>\n",
       "      <td>0.452034</td>\n",
       "    </tr>\n",
       "    <tr>\n",
       "      <th>7359</th>\n",
       "      <td>ENSG00000137364.4-TPMT</td>\n",
       "      <td>10.070143</td>\n",
       "      <td>13.108867</td>\n",
       "      <td>0.000117</td>\n",
       "      <td>0.464476</td>\n",
       "    </tr>\n",
       "  </tbody>\n",
       "</table>\n",
       "</div>"
      ],
      "text/plain": [
       "                            gene  resistant_median  sensitive_long_median  \\\n",
       "1511    ENSG00000081026.17-MAGI3          2.004508               3.137310   \n",
       "7361   ENSG00000137393.9-RNF144B          8.484803              15.532160   \n",
       "6820    ENSG00000134504.11-KCTD1          6.369336              10.695657   \n",
       "9336  ENSG00000151812.13-SLC35F4          0.005034               0.015873   \n",
       "7359      ENSG00000137364.4-TPMT         10.070143              13.108867   \n",
       "\n",
       "      mannwhiteney_pvalue  p_value_corr_bh  \n",
       "1511             0.000053         1.054464  \n",
       "7361             0.000065         0.639372  \n",
       "6820             0.000086         0.566977  \n",
       "9336             0.000091         0.452034  \n",
       "7359             0.000117         0.464476  "
      ]
     },
     "execution_count": 92,
     "metadata": {},
     "output_type": "execute_result"
    }
   ],
   "source": [
    "p_sorted.head()"
   ]
  },
  {
   "cell_type": "code",
   "execution_count": 93,
   "metadata": {},
   "outputs": [
    {
     "name": "stdout",
     "output_type": "stream",
     "text": [
      "0\n"
     ]
    }
   ],
   "source": [
    "threshold = 0.05\n",
    "\n",
    "significant_genes_bh = p_sorted[(p_sorted.p_value_corr_bh < threshold)].copy()\n",
    "significant_genes_bh = significant_genes_bh.sort_values(\"p_value_corr_bh\", ascending=True)\n",
    "print(significant_genes_bh.shape[0])"
   ]
  },
  {
   "cell_type": "code",
   "execution_count": 50,
   "metadata": {},
   "outputs": [],
   "source": [
    "id_name=[]\n",
    "gene_name=[]\n",
    "\n",
    "for x in [\"-\".join(x.strip().split(\"-\")[:1])  for x in (significant_genes_bh['gene'])]:\n",
    "    id_name.append(x)   \n",
    "for x in [\"-\".join(x.strip().split(\"-\")[1:])  for x in (significant_genes_bh['gene'])]:\n",
    "    gene_name.append(x) \n",
    "    \n",
    "significant_genes_bh['ensemble_id']=id_name\n",
    "significant_genes_bh['gene_symbol']=gene_name\n",
    "significant_genes_bh=pd.DataFrame(significant_genes_bh)"
   ]
  },
  {
   "cell_type": "code",
   "execution_count": 51,
   "metadata": {},
   "outputs": [
    {
     "data": {
      "text/html": [
       "<div>\n",
       "<style scoped>\n",
       "    .dataframe tbody tr th:only-of-type {\n",
       "        vertical-align: middle;\n",
       "    }\n",
       "\n",
       "    .dataframe tbody tr th {\n",
       "        vertical-align: top;\n",
       "    }\n",
       "\n",
       "    .dataframe thead th {\n",
       "        text-align: right;\n",
       "    }\n",
       "</style>\n",
       "<table border=\"1\" class=\"dataframe\">\n",
       "  <thead>\n",
       "    <tr style=\"text-align: right;\">\n",
       "      <th></th>\n",
       "      <th>gene</th>\n",
       "      <th>sensitive_long_median</th>\n",
       "      <th>sensitive_short_median</th>\n",
       "      <th>mannwhiteney_pvalue</th>\n",
       "      <th>p_value_corr_bh</th>\n",
       "      <th>ensemble_id</th>\n",
       "      <th>gene_symbol</th>\n",
       "    </tr>\n",
       "  </thead>\n",
       "  <tbody>\n",
       "    <tr>\n",
       "      <th>10886</th>\n",
       "      <td>ENSG00000163554.10-SPTA1</td>\n",
       "      <td>0.0</td>\n",
       "      <td>0.00689</td>\n",
       "      <td>0.000002</td>\n",
       "      <td>0.046536</td>\n",
       "      <td>ENSG00000163554.10</td>\n",
       "      <td>SPTA1</td>\n",
       "    </tr>\n",
       "  </tbody>\n",
       "</table>\n",
       "</div>"
      ],
      "text/plain": [
       "                           gene  sensitive_long_median  \\\n",
       "10886  ENSG00000163554.10-SPTA1                    0.0   \n",
       "\n",
       "       sensitive_short_median  mannwhiteney_pvalue  p_value_corr_bh  \\\n",
       "10886                 0.00689             0.000002         0.046536   \n",
       "\n",
       "              ensemble_id gene_symbol  \n",
       "10886  ENSG00000163554.10       SPTA1  "
      ]
     },
     "execution_count": 51,
     "metadata": {},
     "output_type": "execute_result"
    }
   ],
   "source": [
    "significant_genes_bh"
   ]
  },
  {
   "cell_type": "code",
   "execution_count": null,
   "metadata": {},
   "outputs": [],
   "source": [
    "#significant_genes_bh.to_csv('new_data/gene_exprs/sl_ss_bh_ge.csv', sep=',', header=True, index=False)"
   ]
  },
  {
   "cell_type": "markdown",
   "metadata": {},
   "source": [
    "## FDR other method"
   ]
  },
  {
   "cell_type": "code",
   "execution_count": 52,
   "metadata": {},
   "outputs": [],
   "source": [
    "from statsmodels.stats.multitest import fdrcorrection"
   ]
  },
  {
   "cell_type": "code",
   "execution_count": 53,
   "metadata": {},
   "outputs": [
    {
     "data": {
      "text/html": [
       "<div>\n",
       "<style scoped>\n",
       "    .dataframe tbody tr th:only-of-type {\n",
       "        vertical-align: middle;\n",
       "    }\n",
       "\n",
       "    .dataframe tbody tr th {\n",
       "        vertical-align: top;\n",
       "    }\n",
       "\n",
       "    .dataframe thead th {\n",
       "        text-align: right;\n",
       "    }\n",
       "</style>\n",
       "<table border=\"1\" class=\"dataframe\">\n",
       "  <thead>\n",
       "    <tr style=\"text-align: right;\">\n",
       "      <th></th>\n",
       "      <th>gene</th>\n",
       "      <th>sensitive_long_median</th>\n",
       "      <th>sensitive_short_median</th>\n",
       "      <th>mannwhiteney_pvalue</th>\n",
       "      <th>p_value_corr_bh</th>\n",
       "    </tr>\n",
       "  </thead>\n",
       "  <tbody>\n",
       "    <tr>\n",
       "      <th>10886</th>\n",
       "      <td>ENSG00000163554.10-SPTA1</td>\n",
       "      <td>0.000000</td>\n",
       "      <td>0.006890</td>\n",
       "      <td>0.000002</td>\n",
       "      <td>0.345944</td>\n",
       "    </tr>\n",
       "    <tr>\n",
       "      <th>12805</th>\n",
       "      <td>ENSG00000171311.11-EXOSC1</td>\n",
       "      <td>10.670756</td>\n",
       "      <td>7.311312</td>\n",
       "      <td>0.000011</td>\n",
       "      <td>0.473731</td>\n",
       "    </tr>\n",
       "    <tr>\n",
       "      <th>4750</th>\n",
       "      <td>ENSG00000118242.14-MREG</td>\n",
       "      <td>8.046079</td>\n",
       "      <td>5.166310</td>\n",
       "      <td>0.000011</td>\n",
       "      <td>0.501786</td>\n",
       "    </tr>\n",
       "    <tr>\n",
       "      <th>8382</th>\n",
       "      <td>ENSG00000143919.13-CAMKMT</td>\n",
       "      <td>3.003575</td>\n",
       "      <td>1.978113</td>\n",
       "      <td>0.000018</td>\n",
       "      <td>0.489024</td>\n",
       "    </tr>\n",
       "    <tr>\n",
       "      <th>2870</th>\n",
       "      <td>ENSG00000104290.9-FZD3</td>\n",
       "      <td>5.618396</td>\n",
       "      <td>3.202372</td>\n",
       "      <td>0.000028</td>\n",
       "      <td>0.501030</td>\n",
       "    </tr>\n",
       "  </tbody>\n",
       "</table>\n",
       "</div>"
      ],
      "text/plain": [
       "                            gene  sensitive_long_median  \\\n",
       "10886   ENSG00000163554.10-SPTA1               0.000000   \n",
       "12805  ENSG00000171311.11-EXOSC1              10.670756   \n",
       "4750     ENSG00000118242.14-MREG               8.046079   \n",
       "8382   ENSG00000143919.13-CAMKMT               3.003575   \n",
       "2870      ENSG00000104290.9-FZD3               5.618396   \n",
       "\n",
       "       sensitive_short_median  mannwhiteney_pvalue  p_value_corr_bh  \n",
       "10886                0.006890             0.000002         0.345944  \n",
       "12805                7.311312             0.000011         0.473731  \n",
       "4750                 5.166310             0.000011         0.501786  \n",
       "8382                 1.978113             0.000018         0.489024  \n",
       "2870                 3.202372             0.000028         0.501030  "
      ]
     },
     "execution_count": 53,
     "metadata": {},
     "output_type": "execute_result"
    }
   ],
   "source": [
    "pvalues_FDR=pvalues['mannwhiteney_pvalue']\n",
    "p_corrected=fdrcorrection(pvalues_FDR, alpha=0.05, method='indep')\n",
    "w=p_corrected[1]\n",
    "\n",
    "p_sorted['p_value_corr_bh']=w\n",
    "p_sorted.head()"
   ]
  },
  {
   "cell_type": "code",
   "execution_count": 54,
   "metadata": {},
   "outputs": [
    {
     "name": "stdout",
     "output_type": "stream",
     "text": [
      "1\n"
     ]
    }
   ],
   "source": [
    "threshold = 0.05\n",
    "\n",
    "significant_genes_bh = p_sorted[(p_sorted.p_value_corr_bh < threshold)].copy()\n",
    "significant_genes_bh = significant_genes_bh.sort_values(\"p_value_corr_bh\", ascending=True)\n",
    "print(significant_genes_bh.shape[0])"
   ]
  },
  {
   "cell_type": "code",
   "execution_count": null,
   "metadata": {},
   "outputs": [],
   "source": []
  }
 ],
 "metadata": {
  "kernelspec": {
   "display_name": "Python 3",
   "language": "python",
   "name": "python3"
  },
  "language_info": {
   "codemirror_mode": {
    "name": "ipython",
    "version": 3
   },
   "file_extension": ".py",
   "mimetype": "text/x-python",
   "name": "python",
   "nbconvert_exporter": "python",
   "pygments_lexer": "ipython3",
   "version": "3.8.8"
  }
 },
 "nbformat": 4,
 "nbformat_minor": 2
}
