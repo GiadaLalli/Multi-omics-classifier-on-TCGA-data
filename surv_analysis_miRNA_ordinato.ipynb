{
 "cells": [
  {
   "cell_type": "code",
   "execution_count": 1,
   "metadata": {},
   "outputs": [],
   "source": [
    "import pandas as pd\n",
    "import numpy as np\n",
    "import scipy\n",
    "import csv\n",
    "import os\n",
    "import math\n",
    "import collections\n",
    "import scipy.stats\n",
    "import statsmodels.api as sm\n",
    "import subprocess\n",
    "import re\n",
    "import seaborn as sns\n",
    "\n",
    "from lifelines import CoxPHFitter\n",
    "from tqdm import tqdm\n",
    "\n",
    "from lifelines.utils import k_fold_cross_validation\n",
    "from matplotlib import pyplot as plt\n",
    "%matplotlib inline\n",
    "from sklearn.model_selection import train_test_split \n",
    "from statsmodels.stats.weightstats import ztest\n",
    "from scipy import interp\n",
    "from functools import reduce "
   ]
  },
  {
   "cell_type": "markdown",
   "metadata": {},
   "source": [
    "## Creazione dei dataset da Excel"
   ]
  },
  {
   "cell_type": "raw",
   "metadata": {},
   "source": [
    "string_ss=\"miRNA/ss_miRNA_32/files/\"\n",
    "string_sl=\"miRNA/sl_miRNA_32/files/\"\n",
    "string_res=\"miRNA/res_miRNA/files/\""
   ]
  },
  {
   "cell_type": "raw",
   "metadata": {},
   "source": [
    "path=\"clintab_GMQL/\"+string_res\n",
    "names=[]\n",
    "barcodes_res=[]\n",
    "filelist=os.listdir(path)\n",
    "filelist.sort()\n",
    "for file in filelist:\n",
    "\n",
    "    if file.endswith(\".meta\"):\n",
    "        tmp=pd.read_csv(path+file, sep='\\t', header=None, index_col=0)\n",
    "        tmp=tmp.T\n",
    "        if tmp['biospecimen__shared__bcr_patient_barcode'].values[0] in barcodes_res:\n",
    "            print(file)\n",
    "        else:\n",
    "            names.append(file[:11])\n",
    "            barcodes_res.append(tmp['biospecimen__shared__bcr_patient_barcode'].values[0])"
   ]
  },
  {
   "cell_type": "raw",
   "metadata": {},
   "source": [
    "file=pd.read_excel(\"TCGA-OV-Clinical-Table_S1.2.xlsx\", sheetname=\"KeyclinicalDAta\", index_col=0)\n",
    "file.head()"
   ]
  },
  {
   "cell_type": "raw",
   "metadata": {},
   "source": [
    "#Resistant\n",
    "pfs=[]\n",
    "pfi=[]\n",
    "ov_sur=[]\n",
    "evento=[]\n",
    "for t in barcodes_res:\n",
    "    x=file.loc[t]['PlatinumFreeInterval (mos)*']\n",
    "    pfi.append(x)\n",
    "    y=file.loc[t]['OverallSurvival(mos)']\n",
    "    ov_sur.append(y)\n",
    "    z=file.loc[t]['ProgressionFreeSurvival (mos)#']\n",
    "    pfs.append(z)\n",
    "    w=file.loc[t]['ProgressionFreeStatus']\n",
    "    if w == 'Recurred/Progressed':\n",
    "        evento.append(1)\n",
    "    else:\n",
    "        evento.append(0)"
   ]
  },
  {
   "cell_type": "raw",
   "metadata": {},
   "source": [
    "path=\"clintab_GMQL/\"+string_res\n",
    "\n",
    "col=['patient', 'chrom', 'start', 'stop', 'mirna_id', 'rpm', 'entrez_id', 'gene_symbol',  'pfs', 'pfi', 'os', 'event']\n",
    "r=[]\n",
    "for i in range(len(names)):\n",
    "    tmp=pd.read_csv(path+names[i], sep='\\t', header=None)\n",
    "    tmp=tmp.values\n",
    "    p='R_00'\n",
    "    if i < 10:\n",
    "        p=p+'00'+str(i)\n",
    "    elif i< 100:\n",
    "        p=p+'0'+str(i)\n",
    "    else:\n",
    "            p=p+str(i)\n",
    "    for j in range(tmp.shape[0]):\n",
    "        chrom=tmp[j][0].replace(\"chr\", \"\")\n",
    "        r.append([p, chrom, tmp[j][1]+1, tmp[j][2], tmp[j][4], tmp[j][6], tmp[j][8], tmp[j][9], pfs[i], pfi[i], ov_sur[i], evento[i]])\n",
    "        \n",
    "        \n",
    "\n",
    "df_res=pd.DataFrame(r)\n",
    "df_res.to_csv(path_or_buf ='clintab_GMQL/miRNA/res_surv_miRNA.csv', sep='\\t', header=col, index=False)\n",
    "df_res.head()"
   ]
  },
  {
   "cell_type": "raw",
   "metadata": {},
   "source": [
    "df_res.columns=col\n",
    "df_res.head()"
   ]
  },
  {
   "cell_type": "raw",
   "metadata": {},
   "source": [
    "path=\"clintab_GMQL/\"+string_ss\n",
    "names=[]\n",
    "barcodes_ss=[]\n",
    "filelist=os.listdir(path)\n",
    "filelist.sort()\n",
    "for file in filelist:\n",
    "\n",
    "    if file.endswith(\".meta\"):\n",
    "        tmp=pd.read_csv(path+file, sep='\\t', header=None, index_col=0)\n",
    "        tmp=tmp.T\n",
    "        if tmp['biospecimen__shared__bcr_patient_barcode'].values[0] in barcodes_ss:\n",
    "            print(file)\n",
    "        else:\n",
    "            names.append(file[:11])\n",
    "            barcodes_ss.append(tmp['biospecimen__shared__bcr_patient_barcode'].values[0])"
   ]
  },
  {
   "cell_type": "raw",
   "metadata": {},
   "source": [
    "file=pd.read_excel(\"TCGA-OV-Clinical-Table_S1.2.xlsx\", sheetname=\"KeyclinicalDAta\", index_col=0)"
   ]
  },
  {
   "cell_type": "raw",
   "metadata": {},
   "source": [
    "#sen_s\n",
    "pfs=[]\n",
    "pfi=[]\n",
    "ov_sur=[]\n",
    "evento=[]\n",
    "for t in barcodes_ss:\n",
    "    x=file.loc[t]['PlatinumFreeInterval (mos)*']\n",
    "    pfi.append(x)\n",
    "    y=file.loc[t]['OverallSurvival(mos)']\n",
    "    ov_sur.append(y)\n",
    "    z=file.loc[t]['ProgressionFreeSurvival (mos)#']\n",
    "    pfs.append(z)\n",
    "    w=file.loc[t]['ProgressionFreeStatus']\n",
    "    if w == 'Recurred/Progressed':\n",
    "        evento.append(1)\n",
    "    else:\n",
    "        evento.append(0)"
   ]
  },
  {
   "cell_type": "raw",
   "metadata": {},
   "source": [
    "path=\"clintab_GMQL/\"+string_ss\n",
    "\n",
    "col=['patient', 'chrom', 'start', 'stop', 'mirna_id', 'rpm', 'entrez_id', 'gene_symbol',  'pfs', 'pfi', 'os', 'event']\n",
    "ss=[]\n",
    "for i in range(len(names)):\n",
    "    tmp=pd.read_csv(path+names[i], sep='\\t', header=None)\n",
    "    tmp=tmp.values\n",
    "    p='SS_00'\n",
    "    if i < 10:\n",
    "        p=p+'00'+str(i)\n",
    "    elif i< 100:\n",
    "        p=p+'0'+str(i)\n",
    "    else:\n",
    "            p=p+str(i)\n",
    "    for j in range(tmp.shape[0]):\n",
    "        chrom=tmp[j][0].replace(\"chr\", \"\")\n",
    "        ss.append([p, chrom, tmp[j][1]+1, tmp[j][2], tmp[j][4], tmp[j][6], tmp[j][8], tmp[j][9], pfs[i], pfi[i], ov_sur[i], evento[i]])\n",
    "        \n",
    "        \n",
    "\n",
    "df_sens=pd.DataFrame(ss)\n",
    "df_sens.to_csv(path_or_buf ='clintab_GMQL/miRNA/ss_surv_miRNA.csv', sep='\\t', header=col, index=False)\n",
    "df_sens.head()"
   ]
  },
  {
   "cell_type": "raw",
   "metadata": {},
   "source": [
    "df_sens.columns=col\n",
    "df_sens.head()"
   ]
  },
  {
   "cell_type": "raw",
   "metadata": {},
   "source": [
    "path=\"clintab_GMQL/\"+string_sl\n",
    "names=[]\n",
    "barcodes_sl=[]\n",
    "filelist=os.listdir(path)\n",
    "filelist.sort()\n",
    "for file in filelist:\n",
    "\n",
    "    if file.endswith(\".meta\"):\n",
    "        tmp=pd.read_csv(path+file, sep='\\t', header=None, index_col=0)\n",
    "        tmp=tmp.T\n",
    "        if tmp['biospecimen__shared__bcr_patient_barcode'].values[0] in barcodes_sl:\n",
    "            print(file)\n",
    "        else:\n",
    "            names.append(file[:11])\n",
    "            barcodes_sl.append(tmp['biospecimen__shared__bcr_patient_barcode'].values[0])"
   ]
  },
  {
   "cell_type": "raw",
   "metadata": {},
   "source": [
    "file=pd.read_excel(\"TCGA-OV-Clinical-Table_S1.2.xlsx\", sheetname=\"KeyclinicalDAta\", index_col=0)"
   ]
  },
  {
   "cell_type": "raw",
   "metadata": {},
   "source": [
    "#Sens_Long\n",
    "pfs=[]\n",
    "pfi=[]\n",
    "ov_sur=[]\n",
    "evento=[]\n",
    "for t in barcodes_sl:\n",
    "    x=file.loc[t]['PlatinumFreeInterval (mos)*']\n",
    "    pfi.append(x)\n",
    "    y=file.loc[t]['OverallSurvival(mos)']\n",
    "    ov_sur.append(y)\n",
    "    z=file.loc[t]['ProgressionFreeSurvival (mos)#']\n",
    "    pfs.append(z)\n",
    "    w=file.loc[t]['ProgressionFreeStatus']\n",
    "    if w == 'Recurred/Progressed':\n",
    "        evento.append(1)\n",
    "    else:\n",
    "        evento.append(0)"
   ]
  },
  {
   "cell_type": "raw",
   "metadata": {},
   "source": [
    "path=\"clintab_GMQL/\"+string_sl\n",
    "\n",
    "col=['patient', 'chrom', 'start', 'stop', 'mirna_id', 'rpm', 'entrez_id', 'gene_symbol',  'pfs', 'pfi', 'os', 'event']\n",
    "sl=[]\n",
    "for i in range(len(names)):\n",
    "    tmp=pd.read_csv(path+names[i], sep='\\t', header=None)\n",
    "    tmp=tmp.values\n",
    "    p='SL_00'\n",
    "    if i < 10:\n",
    "        p=p+'00'+str(i)\n",
    "    elif i< 100:\n",
    "        p=p+'0'+str(i)\n",
    "    else:\n",
    "            p=p+str(i)\n",
    "    for j in range(tmp.shape[0]):\n",
    "        chrom=tmp[j][0].replace(\"chr\", \"\")\n",
    "        sl.append([p, chrom, tmp[j][1]+1, tmp[j][2], tmp[j][4], tmp[j][6], tmp[j][8], tmp[j][9], pfs[i], pfi[i], ov_sur[i], evento[i]])\n",
    "        \n",
    "\n",
    "df_senl=pd.DataFrame(sl)\n",
    "df_senl.to_csv(path_or_buf ='clintab_GMQL/miRNA/sl_surv_miRNA.csv', sep='\\t', header=col, index=False)\n",
    "df_senl.head()"
   ]
  },
  {
   "cell_type": "code",
   "execution_count": 2,
   "metadata": {},
   "outputs": [],
   "source": [
    "sens=pd.read_csv('clintab_GMQL/miRNA/ss_surv_miRNA.csv', sep='\\t')\n",
    "sens['class']=np.zeros(sens.shape[0], dtype=int)\n",
    "#sens.head()"
   ]
  },
  {
   "cell_type": "code",
   "execution_count": 3,
   "metadata": {},
   "outputs": [],
   "source": [
    "senl=pd.read_csv('clintab_GMQL/miRNA/sl_surv_miRNA.csv', sep='\\t')\n",
    "senl['class']=np.full(senl.shape[0], 2)\n",
    "#senl.head()"
   ]
  },
  {
   "cell_type": "code",
   "execution_count": 4,
   "metadata": {},
   "outputs": [],
   "source": [
    "res=pd.read_csv('clintab_GMQL/miRNA/res_surv_miRNA.csv', sep='\\t')\n",
    "res['class']=np.ones(res.shape[0], dtype=int)\n",
    "#res.head()"
   ]
  },
  {
   "cell_type": "code",
   "execution_count": 5,
   "metadata": {
    "scrolled": true
   },
   "outputs": [
    {
     "data": {
      "text/html": [
       "<div>\n",
       "<style scoped>\n",
       "    .dataframe tbody tr th:only-of-type {\n",
       "        vertical-align: middle;\n",
       "    }\n",
       "\n",
       "    .dataframe tbody tr th {\n",
       "        vertical-align: top;\n",
       "    }\n",
       "\n",
       "    .dataframe thead th {\n",
       "        text-align: right;\n",
       "    }\n",
       "</style>\n",
       "<table border=\"1\" class=\"dataframe\">\n",
       "  <thead>\n",
       "    <tr style=\"text-align: right;\">\n",
       "      <th></th>\n",
       "      <th>patient</th>\n",
       "      <th>chrom</th>\n",
       "      <th>start</th>\n",
       "      <th>stop</th>\n",
       "      <th>mirna_id</th>\n",
       "      <th>rpm</th>\n",
       "      <th>entrez_id</th>\n",
       "      <th>gene_symbol</th>\n",
       "      <th>pfs</th>\n",
       "      <th>pfi</th>\n",
       "      <th>os</th>\n",
       "      <th>event</th>\n",
       "      <th>class</th>\n",
       "    </tr>\n",
       "  </thead>\n",
       "  <tbody>\n",
       "    <tr>\n",
       "      <th>0</th>\n",
       "      <td>R_00000</td>\n",
       "      <td>1</td>\n",
       "      <td>17369</td>\n",
       "      <td>17436</td>\n",
       "      <td>hsa-mir-6859-1</td>\n",
       "      <td>0.0000</td>\n",
       "      <td>102466751.0</td>\n",
       "      <td>mir6859-1</td>\n",
       "      <td>5.934426</td>\n",
       "      <td>1.3</td>\n",
       "      <td>29.967213</td>\n",
       "      <td>1</td>\n",
       "      <td>1</td>\n",
       "    </tr>\n",
       "    <tr>\n",
       "      <th>1</th>\n",
       "      <td>R_00000</td>\n",
       "      <td>1</td>\n",
       "      <td>30366</td>\n",
       "      <td>30503</td>\n",
       "      <td>hsa-mir-1302-2</td>\n",
       "      <td>0.0000</td>\n",
       "      <td>100302278.0</td>\n",
       "      <td>mir1302-2</td>\n",
       "      <td>5.934426</td>\n",
       "      <td>1.3</td>\n",
       "      <td>29.967213</td>\n",
       "      <td>1</td>\n",
       "      <td>1</td>\n",
       "    </tr>\n",
       "    <tr>\n",
       "      <th>2</th>\n",
       "      <td>R_00000</td>\n",
       "      <td>1</td>\n",
       "      <td>187891</td>\n",
       "      <td>187958</td>\n",
       "      <td>hsa-mir-6859-2</td>\n",
       "      <td>0.0000</td>\n",
       "      <td>102465909.0</td>\n",
       "      <td>mir6859-2</td>\n",
       "      <td>5.934426</td>\n",
       "      <td>1.3</td>\n",
       "      <td>29.967213</td>\n",
       "      <td>1</td>\n",
       "      <td>1</td>\n",
       "    </tr>\n",
       "    <tr>\n",
       "      <th>3</th>\n",
       "      <td>R_00000</td>\n",
       "      <td>1</td>\n",
       "      <td>632325</td>\n",
       "      <td>632413</td>\n",
       "      <td>hsa-mir-6723</td>\n",
       "      <td>0.0000</td>\n",
       "      <td>102465432.0</td>\n",
       "      <td>mir6723</td>\n",
       "      <td>5.934426</td>\n",
       "      <td>1.3</td>\n",
       "      <td>29.967213</td>\n",
       "      <td>1</td>\n",
       "      <td>1</td>\n",
       "    </tr>\n",
       "    <tr>\n",
       "      <th>4</th>\n",
       "      <td>R_00000</td>\n",
       "      <td>1</td>\n",
       "      <td>1167104</td>\n",
       "      <td>1167198</td>\n",
       "      <td>hsa-mir-200b</td>\n",
       "      <td>616.4248</td>\n",
       "      <td>406984.0</td>\n",
       "      <td>mir200b</td>\n",
       "      <td>5.934426</td>\n",
       "      <td>1.3</td>\n",
       "      <td>29.967213</td>\n",
       "      <td>1</td>\n",
       "      <td>1</td>\n",
       "    </tr>\n",
       "  </tbody>\n",
       "</table>\n",
       "</div>"
      ],
      "text/plain": [
       "   patient chrom    start     stop        mirna_id       rpm    entrez_id  \\\n",
       "0  R_00000     1    17369    17436  hsa-mir-6859-1    0.0000  102466751.0   \n",
       "1  R_00000     1    30366    30503  hsa-mir-1302-2    0.0000  100302278.0   \n",
       "2  R_00000     1   187891   187958  hsa-mir-6859-2    0.0000  102465909.0   \n",
       "3  R_00000     1   632325   632413    hsa-mir-6723    0.0000  102465432.0   \n",
       "4  R_00000     1  1167104  1167198    hsa-mir-200b  616.4248     406984.0   \n",
       "\n",
       "  gene_symbol       pfs  pfi         os  event  class  \n",
       "0   mir6859-1  5.934426  1.3  29.967213      1      1  \n",
       "1   mir1302-2  5.934426  1.3  29.967213      1      1  \n",
       "2   mir6859-2  5.934426  1.3  29.967213      1      1  \n",
       "3     mir6723  5.934426  1.3  29.967213      1      1  \n",
       "4     mir200b  5.934426  1.3  29.967213      1      1  "
      ]
     },
     "execution_count": 5,
     "metadata": {},
     "output_type": "execute_result"
    }
   ],
   "source": [
    "sensitive=senl.append(sens, ignore_index=True)\n",
    "all_dset1=res.append(sensitive, ignore_index=True)\n",
    "\n",
    "all_dset1.head()"
   ]
  },
  {
   "cell_type": "code",
   "execution_count": 23,
   "metadata": {},
   "outputs": [],
   "source": [
    "chrom1=all_dset1.loc[all_dset1.chrom == '1']\n",
    "chrom_1=chrom1.pivot(index=\"patient\", columns=\"mirna_id\", values=\"rpm\")\n",
    "genes = chrom_1.columns.tolist()\n",
    "chrom_1.loc[:, (chrom_1 != 0.0).any(axis=0)]\n",
    "chr1=chrom_1.replace(0,np.nan).dropna(axis=1,how=\"any\")\n",
    "#chr1.head()"
   ]
  },
  {
   "cell_type": "code",
   "execution_count": 26,
   "metadata": {},
   "outputs": [],
   "source": [
    "y=chr1.copy()\n",
    "y=y.drop(['hsa-mir-181b-1', 'hsa-mir-1976', 'hsa-mir-200b', 'hsa-mir-214', 'hsa-mir-30e'], axis=1)"
   ]
  },
  {
   "cell_type": "code",
   "execution_count": 27,
   "metadata": {
    "scrolled": true
   },
   "outputs": [
    {
     "data": {
      "image/png": "[encoded data removed]",
      "text/plain": [
       "<Figure size 1440x1440 with 2 Axes>"
      ]
     },
     "metadata": {},
     "output_type": "display_data"
    }
   ],
   "source": [
    "import seaborn as sns\n",
    "corr = y.corr()\n",
    "mask = np.zeros_like(corr, dtype=np.bool)\n",
    "mask[np.triu_indices_from(mask)] = True\n",
    "f, ax = plt.subplots(figsize=(20, 20))\n",
    "cmap = sns.diverging_palette(220, 10, as_cmap=True)\n",
    "sns_plot=sns.heatmap(corr, mask=mask, cmap=cmap, vmax=1, center=0,\n",
    "            square=True, linewidths=.5, cbar_kws={\"shrink\": .5})\n",
    "#sns_plot.figure.savefig(\"miRNA_correlation_matrix_mildFDR.png\")"
   ]
  },
  {
   "cell_type": "code",
   "execution_count": null,
   "metadata": {},
   "outputs": [],
   "source": []
  },
  {
   "cell_type": "code",
   "execution_count": null,
   "metadata": {},
   "outputs": [],
   "source": []
  },
  {
   "cell_type": "markdown",
   "metadata": {},
   "source": [
    "## Significant features"
   ]
  },
  {
   "cell_type": "code",
   "execution_count": 35,
   "metadata": {},
   "outputs": [],
   "source": [
    "a=pd.read_csv(\"new_data/miRNA/res_sl_bh.csv\", delimiter=',')\n",
    "b=pd.read_csv(\"new_data/miRNA/res_ss_bh.csv\", delimiter=',')\n",
    "c=pd.read_csv(\"new_data/miRNA/sl_ss_bh.csv\", delimiter=',')"
   ]
  },
  {
   "cell_type": "code",
   "execution_count": 36,
   "metadata": {},
   "outputs": [],
   "source": [
    "tot=a.append(c, ignore_index=True, sort=True)\n",
    "all_genes=tot.append(b, ignore_index=True, sort=True)\n",
    "#all_genes.head()\n",
    "#all_genes.shape"
   ]
  },
  {
   "cell_type": "code",
   "execution_count": 37,
   "metadata": {},
   "outputs": [
    {
     "data": {
      "text/plain": [
       "(334, 1)"
      ]
     },
     "execution_count": 37,
     "metadata": {},
     "output_type": "execute_result"
    }
   ],
   "source": [
    "ciao = all_genes[all_genes.columns[0:1]] \n",
    "#ciao.head()\n",
    "ciao.shape"
   ]
  },
  {
   "cell_type": "markdown",
   "metadata": {},
   "source": [
    "### Dataset from list of significant genes"
   ]
  },
  {
   "cell_type": "code",
   "execution_count": 38,
   "metadata": {},
   "outputs": [
    {
     "data": {
      "text/plain": [
       "260"
      ]
     },
     "execution_count": 38,
     "metadata": {},
     "output_type": "execute_result"
    }
   ],
   "source": [
    "lista1=set(all_genes['gene'])\n",
    "len(lista1)"
   ]
  },
  {
   "cell_type": "code",
   "execution_count": 39,
   "metadata": {
    "scrolled": true
   },
   "outputs": [
    {
     "data": {
      "text/plain": [
       "(21320, 13)"
      ]
     },
     "execution_count": 39,
     "metadata": {},
     "output_type": "execute_result"
    }
   ],
   "source": [
    "dset_res = res[res.mirna_id.isin(lista1)]\n",
    "res1=pd.DataFrame(dset_res)\n",
    "#res1.head()\n",
    "res1.shape"
   ]
  },
  {
   "cell_type": "code",
   "execution_count": 40,
   "metadata": {},
   "outputs": [
    {
     "data": {
      "text/plain": [
       "(82, 260)"
      ]
     },
     "execution_count": 40,
     "metadata": {},
     "output_type": "execute_result"
    }
   ],
   "source": [
    "resdf=res1.pivot(index=\"patient\", columns=\"mirna_id\", values=\"rpm\")\n",
    "genes = resdf.columns.tolist()\n",
    "resdf.loc[:, (resdf != 0.0).any(axis=0)]\n",
    "#resdf.head()\n",
    "resdf.shape"
   ]
  },
  {
   "cell_type": "code",
   "execution_count": 41,
   "metadata": {},
   "outputs": [
    {
     "data": {
      "text/plain": [
       "(36920, 13)"
      ]
     },
     "execution_count": 41,
     "metadata": {},
     "output_type": "execute_result"
    }
   ],
   "source": [
    "dset_sens = sens[sens.mirna_id.isin(lista1)]\n",
    "sens1=pd.DataFrame(dset_sens)\n",
    "#sens1.head()\n",
    "sens1.shape"
   ]
  },
  {
   "cell_type": "code",
   "execution_count": 42,
   "metadata": {},
   "outputs": [
    {
     "data": {
      "text/plain": [
       "(142, 260)"
      ]
     },
     "execution_count": 42,
     "metadata": {},
     "output_type": "execute_result"
    }
   ],
   "source": [
    "sensdf=sens1.pivot(index=\"patient\", columns=\"mirna_id\", values=\"rpm\")\n",
    "sensdf = sensdf[genes]\n",
    "sensdf.loc[:, (sensdf != 0.0).any(axis=0)]\n",
    "#sensdf.head()\n",
    "sensdf.shape"
   ]
  },
  {
   "cell_type": "code",
   "execution_count": 43,
   "metadata": {},
   "outputs": [],
   "source": [
    "dset_senl = senl[senl.mirna_id.isin(lista1)]\n",
    "senl1=pd.DataFrame(dset_senl)\n",
    "#senl1.head()"
   ]
  },
  {
   "cell_type": "code",
   "execution_count": 44,
   "metadata": {},
   "outputs": [
    {
     "data": {
      "text/plain": [
       "(40, 260)"
      ]
     },
     "execution_count": 44,
     "metadata": {},
     "output_type": "execute_result"
    }
   ],
   "source": [
    "senldf=senl1.pivot(index=\"patient\", columns=\"mirna_id\", values=\"rpm\")\n",
    "senldf = senldf[genes]\n",
    "senldf.loc[:, (senldf != 0.0).any(axis=0)]\n",
    "#senldf.head()\n",
    "senldf.shape"
   ]
  },
  {
   "cell_type": "raw",
   "metadata": {},
   "source": [
    "sen= dset_sens.append(dset_senl)\n",
    "tot= sen.append(dset_res)\n",
    "df=tot[['patient', 'chrom', 'start', 'stop', 'rpm', 'mirna_id']]\n",
    "df.to_csv('new_data/miRNA/fin_miRNA.csv', sep='\\t', header=True, index=None)"
   ]
  },
  {
   "cell_type": "code",
   "execution_count": 45,
   "metadata": {},
   "outputs": [],
   "source": [
    "sen_conc=pd.concat([senldf, sensdf])\n",
    "all_conc=pd.concat([sen_conc, resdf])"
   ]
  },
  {
   "cell_type": "code",
   "execution_count": 46,
   "metadata": {},
   "outputs": [
    {
     "data": {
      "text/html": [
       "<div>\n",
       "<style scoped>\n",
       "    .dataframe tbody tr th:only-of-type {\n",
       "        vertical-align: middle;\n",
       "    }\n",
       "\n",
       "    .dataframe tbody tr th {\n",
       "        vertical-align: top;\n",
       "    }\n",
       "\n",
       "    .dataframe thead th {\n",
       "        text-align: right;\n",
       "    }\n",
       "</style>\n",
       "<table border=\"1\" class=\"dataframe\">\n",
       "  <thead>\n",
       "    <tr style=\"text-align: right;\">\n",
       "      <th>mirna_id</th>\n",
       "      <th>hsa-mir-1-1</th>\n",
       "      <th>hsa-mir-106b</th>\n",
       "      <th>hsa-mir-1180</th>\n",
       "      <th>hsa-mir-1185-2</th>\n",
       "      <th>hsa-mir-1193</th>\n",
       "      <th>hsa-mir-1226</th>\n",
       "      <th>hsa-mir-124-2</th>\n",
       "      <th>hsa-mir-1243</th>\n",
       "      <th>hsa-mir-1250</th>\n",
       "      <th>hsa-mir-1253</th>\n",
       "      <th>...</th>\n",
       "      <th>hsa-mir-7151</th>\n",
       "      <th>hsa-mir-760</th>\n",
       "      <th>hsa-mir-764</th>\n",
       "      <th>hsa-mir-7705</th>\n",
       "      <th>hsa-mir-7845</th>\n",
       "      <th>hsa-mir-7849</th>\n",
       "      <th>hsa-mir-877</th>\n",
       "      <th>hsa-mir-933</th>\n",
       "      <th>hsa-mir-934</th>\n",
       "      <th>hsa-mir-938</th>\n",
       "    </tr>\n",
       "    <tr>\n",
       "      <th>patient</th>\n",
       "      <th></th>\n",
       "      <th></th>\n",
       "      <th></th>\n",
       "      <th></th>\n",
       "      <th></th>\n",
       "      <th></th>\n",
       "      <th></th>\n",
       "      <th></th>\n",
       "      <th></th>\n",
       "      <th></th>\n",
       "      <th></th>\n",
       "      <th></th>\n",
       "      <th></th>\n",
       "      <th></th>\n",
       "      <th></th>\n",
       "      <th></th>\n",
       "      <th></th>\n",
       "      <th></th>\n",
       "      <th></th>\n",
       "      <th></th>\n",
       "      <th></th>\n",
       "    </tr>\n",
       "  </thead>\n",
       "  <tbody>\n",
       "    <tr>\n",
       "      <th>SL_00000</th>\n",
       "      <td>1.049559</td>\n",
       "      <td>1879.760407</td>\n",
       "      <td>282.331407</td>\n",
       "      <td>0.000000</td>\n",
       "      <td>0.0</td>\n",
       "      <td>113.352386</td>\n",
       "      <td>0.0</td>\n",
       "      <td>0.0</td>\n",
       "      <td>0.000000</td>\n",
       "      <td>0.0</td>\n",
       "      <td>...</td>\n",
       "      <td>0.000000</td>\n",
       "      <td>19.941624</td>\n",
       "      <td>0.0</td>\n",
       "      <td>0.0</td>\n",
       "      <td>2.099118</td>\n",
       "      <td>0.000000</td>\n",
       "      <td>30.437215</td>\n",
       "      <td>0.0</td>\n",
       "      <td>0.000000</td>\n",
       "      <td>0.0</td>\n",
       "    </tr>\n",
       "    <tr>\n",
       "      <th>SL_00001</th>\n",
       "      <td>0.000000</td>\n",
       "      <td>2763.277416</td>\n",
       "      <td>845.622901</td>\n",
       "      <td>0.000000</td>\n",
       "      <td>0.0</td>\n",
       "      <td>360.071687</td>\n",
       "      <td>0.0</td>\n",
       "      <td>0.0</td>\n",
       "      <td>0.000000</td>\n",
       "      <td>0.0</td>\n",
       "      <td>...</td>\n",
       "      <td>0.000000</td>\n",
       "      <td>125.479527</td>\n",
       "      <td>0.0</td>\n",
       "      <td>0.0</td>\n",
       "      <td>5.455632</td>\n",
       "      <td>0.000000</td>\n",
       "      <td>57.284132</td>\n",
       "      <td>0.0</td>\n",
       "      <td>0.000000</td>\n",
       "      <td>0.0</td>\n",
       "    </tr>\n",
       "    <tr>\n",
       "      <th>SL_00002</th>\n",
       "      <td>0.000000</td>\n",
       "      <td>1128.734369</td>\n",
       "      <td>99.946256</td>\n",
       "      <td>0.000000</td>\n",
       "      <td>0.0</td>\n",
       "      <td>89.173606</td>\n",
       "      <td>0.0</td>\n",
       "      <td>0.0</td>\n",
       "      <td>0.000000</td>\n",
       "      <td>0.0</td>\n",
       "      <td>...</td>\n",
       "      <td>0.000000</td>\n",
       "      <td>131.067246</td>\n",
       "      <td>0.0</td>\n",
       "      <td>0.0</td>\n",
       "      <td>3.590883</td>\n",
       "      <td>0.598481</td>\n",
       "      <td>22.742262</td>\n",
       "      <td>0.0</td>\n",
       "      <td>0.000000</td>\n",
       "      <td>0.0</td>\n",
       "    </tr>\n",
       "    <tr>\n",
       "      <th>SL_00003</th>\n",
       "      <td>0.000000</td>\n",
       "      <td>3126.448982</td>\n",
       "      <td>255.479578</td>\n",
       "      <td>0.000000</td>\n",
       "      <td>0.0</td>\n",
       "      <td>61.399788</td>\n",
       "      <td>0.0</td>\n",
       "      <td>0.0</td>\n",
       "      <td>0.000000</td>\n",
       "      <td>0.0</td>\n",
       "      <td>...</td>\n",
       "      <td>0.000000</td>\n",
       "      <td>86.100852</td>\n",
       "      <td>0.0</td>\n",
       "      <td>0.0</td>\n",
       "      <td>0.000000</td>\n",
       "      <td>0.000000</td>\n",
       "      <td>45.167660</td>\n",
       "      <td>0.0</td>\n",
       "      <td>1.411489</td>\n",
       "      <td>0.0</td>\n",
       "    </tr>\n",
       "    <tr>\n",
       "      <th>SL_00004</th>\n",
       "      <td>0.000000</td>\n",
       "      <td>1424.948386</td>\n",
       "      <td>192.455823</td>\n",
       "      <td>0.228028</td>\n",
       "      <td>0.0</td>\n",
       "      <td>29.871698</td>\n",
       "      <td>0.0</td>\n",
       "      <td>0.0</td>\n",
       "      <td>0.684085</td>\n",
       "      <td>0.0</td>\n",
       "      <td>...</td>\n",
       "      <td>0.912113</td>\n",
       "      <td>54.954803</td>\n",
       "      <td>0.0</td>\n",
       "      <td>0.0</td>\n",
       "      <td>1.596198</td>\n",
       "      <td>0.000000</td>\n",
       "      <td>32.836065</td>\n",
       "      <td>0.0</td>\n",
       "      <td>7.752960</td>\n",
       "      <td>0.0</td>\n",
       "    </tr>\n",
       "  </tbody>\n",
       "</table>\n",
       "<p>5 rows × 260 columns</p>\n",
       "</div>"
      ],
      "text/plain": [
       "mirna_id  hsa-mir-1-1  hsa-mir-106b  hsa-mir-1180  hsa-mir-1185-2  \\\n",
       "patient                                                             \n",
       "SL_00000     1.049559   1879.760407    282.331407        0.000000   \n",
       "SL_00001     0.000000   2763.277416    845.622901        0.000000   \n",
       "SL_00002     0.000000   1128.734369     99.946256        0.000000   \n",
       "SL_00003     0.000000   3126.448982    255.479578        0.000000   \n",
       "SL_00004     0.000000   1424.948386    192.455823        0.228028   \n",
       "\n",
       "mirna_id  hsa-mir-1193  hsa-mir-1226  hsa-mir-124-2  hsa-mir-1243  \\\n",
       "patient                                                             \n",
       "SL_00000           0.0    113.352386            0.0           0.0   \n",
       "SL_00001           0.0    360.071687            0.0           0.0   \n",
       "SL_00002           0.0     89.173606            0.0           0.0   \n",
       "SL_00003           0.0     61.399788            0.0           0.0   \n",
       "SL_00004           0.0     29.871698            0.0           0.0   \n",
       "\n",
       "mirna_id  hsa-mir-1250  hsa-mir-1253     ...       hsa-mir-7151  hsa-mir-760  \\\n",
       "patient                                  ...                                   \n",
       "SL_00000      0.000000           0.0     ...           0.000000    19.941624   \n",
       "SL_00001      0.000000           0.0     ...           0.000000   125.479527   \n",
       "SL_00002      0.000000           0.0     ...           0.000000   131.067246   \n",
       "SL_00003      0.000000           0.0     ...           0.000000    86.100852   \n",
       "SL_00004      0.684085           0.0     ...           0.912113    54.954803   \n",
       "\n",
       "mirna_id  hsa-mir-764  hsa-mir-7705  hsa-mir-7845  hsa-mir-7849  hsa-mir-877  \\\n",
       "patient                                                                        \n",
       "SL_00000          0.0           0.0      2.099118      0.000000    30.437215   \n",
       "SL_00001          0.0           0.0      5.455632      0.000000    57.284132   \n",
       "SL_00002          0.0           0.0      3.590883      0.598481    22.742262   \n",
       "SL_00003          0.0           0.0      0.000000      0.000000    45.167660   \n",
       "SL_00004          0.0           0.0      1.596198      0.000000    32.836065   \n",
       "\n",
       "mirna_id  hsa-mir-933  hsa-mir-934  hsa-mir-938  \n",
       "patient                                          \n",
       "SL_00000          0.0     0.000000          0.0  \n",
       "SL_00001          0.0     0.000000          0.0  \n",
       "SL_00002          0.0     0.000000          0.0  \n",
       "SL_00003          0.0     1.411489          0.0  \n",
       "SL_00004          0.0     7.752960          0.0  \n",
       "\n",
       "[5 rows x 260 columns]"
      ]
     },
     "execution_count": 46,
     "metadata": {},
     "output_type": "execute_result"
    }
   ],
   "source": [
    "#all_conc.shape\n",
    "all_conc.head()"
   ]
  },
  {
   "cell_type": "code",
   "execution_count": 47,
   "metadata": {},
   "outputs": [
    {
     "data": {
      "text/html": [
       "<div>\n",
       "<style scoped>\n",
       "    .dataframe tbody tr th:only-of-type {\n",
       "        vertical-align: middle;\n",
       "    }\n",
       "\n",
       "    .dataframe tbody tr th {\n",
       "        vertical-align: top;\n",
       "    }\n",
       "\n",
       "    .dataframe thead th {\n",
       "        text-align: right;\n",
       "    }\n",
       "</style>\n",
       "<table border=\"1\" class=\"dataframe\">\n",
       "  <thead>\n",
       "    <tr style=\"text-align: right;\">\n",
       "      <th>mirna_id</th>\n",
       "      <th>hsa-mir-106b</th>\n",
       "      <th>hsa-mir-1180</th>\n",
       "      <th>hsa-mir-1226</th>\n",
       "      <th>hsa-mir-128-1</th>\n",
       "      <th>hsa-mir-128-2</th>\n",
       "      <th>hsa-mir-1287</th>\n",
       "      <th>hsa-mir-1301</th>\n",
       "      <th>hsa-mir-1306</th>\n",
       "      <th>hsa-mir-1307</th>\n",
       "      <th>hsa-mir-130b</th>\n",
       "      <th>...</th>\n",
       "      <th>hsa-mir-501</th>\n",
       "      <th>hsa-mir-502</th>\n",
       "      <th>hsa-mir-532</th>\n",
       "      <th>hsa-mir-550a-1</th>\n",
       "      <th>hsa-mir-584</th>\n",
       "      <th>hsa-mir-589</th>\n",
       "      <th>hsa-mir-652</th>\n",
       "      <th>hsa-mir-675</th>\n",
       "      <th>hsa-mir-760</th>\n",
       "      <th>hsa-mir-877</th>\n",
       "    </tr>\n",
       "    <tr>\n",
       "      <th>patient</th>\n",
       "      <th></th>\n",
       "      <th></th>\n",
       "      <th></th>\n",
       "      <th></th>\n",
       "      <th></th>\n",
       "      <th></th>\n",
       "      <th></th>\n",
       "      <th></th>\n",
       "      <th></th>\n",
       "      <th></th>\n",
       "      <th></th>\n",
       "      <th></th>\n",
       "      <th></th>\n",
       "      <th></th>\n",
       "      <th></th>\n",
       "      <th></th>\n",
       "      <th></th>\n",
       "      <th></th>\n",
       "      <th></th>\n",
       "      <th></th>\n",
       "      <th></th>\n",
       "    </tr>\n",
       "  </thead>\n",
       "  <tbody>\n",
       "    <tr>\n",
       "      <th>SL_00000</th>\n",
       "      <td>1879.760407</td>\n",
       "      <td>282.331407</td>\n",
       "      <td>113.352386</td>\n",
       "      <td>47.230161</td>\n",
       "      <td>11.545150</td>\n",
       "      <td>24.139860</td>\n",
       "      <td>119.649741</td>\n",
       "      <td>121.748859</td>\n",
       "      <td>8138.281515</td>\n",
       "      <td>51.428398</td>\n",
       "      <td>...</td>\n",
       "      <td>219.357859</td>\n",
       "      <td>20.991183</td>\n",
       "      <td>1383.318937</td>\n",
       "      <td>7.346914</td>\n",
       "      <td>25.189419</td>\n",
       "      <td>101.807236</td>\n",
       "      <td>18.892064</td>\n",
       "      <td>115.451505</td>\n",
       "      <td>19.941624</td>\n",
       "      <td>30.437215</td>\n",
       "    </tr>\n",
       "    <tr>\n",
       "      <th>SL_00001</th>\n",
       "      <td>2763.277416</td>\n",
       "      <td>845.622901</td>\n",
       "      <td>360.071687</td>\n",
       "      <td>226.408712</td>\n",
       "      <td>84.562290</td>\n",
       "      <td>46.372869</td>\n",
       "      <td>124.570255</td>\n",
       "      <td>132.753703</td>\n",
       "      <td>12823.462126</td>\n",
       "      <td>279.146485</td>\n",
       "      <td>...</td>\n",
       "      <td>122.751711</td>\n",
       "      <td>18.185439</td>\n",
       "      <td>1903.106164</td>\n",
       "      <td>8.183447</td>\n",
       "      <td>40.007965</td>\n",
       "      <td>642.855259</td>\n",
       "      <td>34.552334</td>\n",
       "      <td>462.819416</td>\n",
       "      <td>125.479527</td>\n",
       "      <td>57.284132</td>\n",
       "    </tr>\n",
       "    <tr>\n",
       "      <th>SL_00002</th>\n",
       "      <td>1128.734369</td>\n",
       "      <td>99.946256</td>\n",
       "      <td>89.173606</td>\n",
       "      <td>85.582723</td>\n",
       "      <td>37.105796</td>\n",
       "      <td>46.681485</td>\n",
       "      <td>102.938659</td>\n",
       "      <td>58.052616</td>\n",
       "      <td>7761.096129</td>\n",
       "      <td>120.893077</td>\n",
       "      <td>...</td>\n",
       "      <td>135.855091</td>\n",
       "      <td>14.962014</td>\n",
       "      <td>1061.704545</td>\n",
       "      <td>12.568092</td>\n",
       "      <td>11.969612</td>\n",
       "      <td>402.178948</td>\n",
       "      <td>182.536576</td>\n",
       "      <td>83.787281</td>\n",
       "      <td>131.067246</td>\n",
       "      <td>22.742262</td>\n",
       "    </tr>\n",
       "    <tr>\n",
       "      <th>SL_00003</th>\n",
       "      <td>3126.448982</td>\n",
       "      <td>255.479578</td>\n",
       "      <td>61.399788</td>\n",
       "      <td>171.495960</td>\n",
       "      <td>75.514682</td>\n",
       "      <td>43.050426</td>\n",
       "      <td>252.656599</td>\n",
       "      <td>358.518303</td>\n",
       "      <td>20611.979452</td>\n",
       "      <td>55.753831</td>\n",
       "      <td>...</td>\n",
       "      <td>340.874686</td>\n",
       "      <td>38.110213</td>\n",
       "      <td>1401.608957</td>\n",
       "      <td>14.114894</td>\n",
       "      <td>14.114894</td>\n",
       "      <td>819.369586</td>\n",
       "      <td>208.194684</td>\n",
       "      <td>32.464256</td>\n",
       "      <td>86.100852</td>\n",
       "      <td>45.167660</td>\n",
       "    </tr>\n",
       "    <tr>\n",
       "      <th>SL_00004</th>\n",
       "      <td>1424.948386</td>\n",
       "      <td>192.455823</td>\n",
       "      <td>29.871698</td>\n",
       "      <td>315.819093</td>\n",
       "      <td>239.885694</td>\n",
       "      <td>75.705371</td>\n",
       "      <td>79.809879</td>\n",
       "      <td>54.042690</td>\n",
       "      <td>4068.707641</td>\n",
       "      <td>50.394238</td>\n",
       "      <td>...</td>\n",
       "      <td>84.826500</td>\n",
       "      <td>11.629440</td>\n",
       "      <td>894.782760</td>\n",
       "      <td>10.261270</td>\n",
       "      <td>157.795533</td>\n",
       "      <td>148.674404</td>\n",
       "      <td>104.892984</td>\n",
       "      <td>19.838456</td>\n",
       "      <td>54.954803</td>\n",
       "      <td>32.836065</td>\n",
       "    </tr>\n",
       "  </tbody>\n",
       "</table>\n",
       "<p>5 rows × 44 columns</p>\n",
       "</div>"
      ],
      "text/plain": [
       "mirna_id  hsa-mir-106b  hsa-mir-1180  hsa-mir-1226  hsa-mir-128-1  \\\n",
       "patient                                                             \n",
       "SL_00000   1879.760407    282.331407    113.352386      47.230161   \n",
       "SL_00001   2763.277416    845.622901    360.071687     226.408712   \n",
       "SL_00002   1128.734369     99.946256     89.173606      85.582723   \n",
       "SL_00003   3126.448982    255.479578     61.399788     171.495960   \n",
       "SL_00004   1424.948386    192.455823     29.871698     315.819093   \n",
       "\n",
       "mirna_id  hsa-mir-128-2  hsa-mir-1287  hsa-mir-1301  hsa-mir-1306  \\\n",
       "patient                                                             \n",
       "SL_00000      11.545150     24.139860    119.649741    121.748859   \n",
       "SL_00001      84.562290     46.372869    124.570255    132.753703   \n",
       "SL_00002      37.105796     46.681485    102.938659     58.052616   \n",
       "SL_00003      75.514682     43.050426    252.656599    358.518303   \n",
       "SL_00004     239.885694     75.705371     79.809879     54.042690   \n",
       "\n",
       "mirna_id  hsa-mir-1307  hsa-mir-130b     ...       hsa-mir-501  hsa-mir-502  \\\n",
       "patient                                  ...                                  \n",
       "SL_00000   8138.281515     51.428398     ...        219.357859    20.991183   \n",
       "SL_00001  12823.462126    279.146485     ...        122.751711    18.185439   \n",
       "SL_00002   7761.096129    120.893077     ...        135.855091    14.962014   \n",
       "SL_00003  20611.979452     55.753831     ...        340.874686    38.110213   \n",
       "SL_00004   4068.707641     50.394238     ...         84.826500    11.629440   \n",
       "\n",
       "mirna_id  hsa-mir-532  hsa-mir-550a-1  hsa-mir-584  hsa-mir-589  hsa-mir-652  \\\n",
       "patient                                                                        \n",
       "SL_00000  1383.318937        7.346914    25.189419   101.807236    18.892064   \n",
       "SL_00001  1903.106164        8.183447    40.007965   642.855259    34.552334   \n",
       "SL_00002  1061.704545       12.568092    11.969612   402.178948   182.536576   \n",
       "SL_00003  1401.608957       14.114894    14.114894   819.369586   208.194684   \n",
       "SL_00004   894.782760       10.261270   157.795533   148.674404   104.892984   \n",
       "\n",
       "mirna_id  hsa-mir-675  hsa-mir-760  hsa-mir-877  \n",
       "patient                                          \n",
       "SL_00000   115.451505    19.941624    30.437215  \n",
       "SL_00001   462.819416   125.479527    57.284132  \n",
       "SL_00002    83.787281   131.067246    22.742262  \n",
       "SL_00003    32.464256    86.100852    45.167660  \n",
       "SL_00004    19.838456    54.954803    32.836065  \n",
       "\n",
       "[5 rows x 44 columns]"
      ]
     },
     "execution_count": 47,
     "metadata": {},
     "output_type": "execute_result"
    }
   ],
   "source": [
    "all_conc=all_conc.replace(0,np.nan).dropna(axis=1,how=\"any\")\n",
    "all_conc.head()"
   ]
  },
  {
   "cell_type": "markdown",
   "metadata": {},
   "source": [
    "### Adding pfs, class, event, overall survival, pfi"
   ]
  },
  {
   "cell_type": "code",
   "execution_count": 48,
   "metadata": {},
   "outputs": [],
   "source": [
    "lista2=set(all_dset1['pfs'])\n",
    "lista3=set(all_dset1['event'])\n",
    "lista4=set(all_dset1['pfi'])\n",
    "lista5=set(all_dset1['os'])"
   ]
  },
  {
   "cell_type": "code",
   "execution_count": 49,
   "metadata": {},
   "outputs": [],
   "source": [
    "gr=all_dset1.groupby(['patient'])"
   ]
  },
  {
   "cell_type": "code",
   "execution_count": 50,
   "metadata": {
    "scrolled": true
   },
   "outputs": [],
   "source": [
    "pfs=[]\n",
    "e=[]\n",
    "os=[]\n",
    "pfi=[]\n",
    "#classes=[]\n",
    "for p in gr.groups.keys():\n",
    "    g=gr.get_group(p)\n",
    "    pfs.append(g['pfs'].unique()[0])\n",
    "    e.append(g['event'].unique()[0])\n",
    "    os.append(g['os'].unique()[0])\n",
    "    pfi.append(g['pfi'].unique()[0])\n",
    "    #classes.append(g['class'].unique()[0])\n",
    "   "
   ]
  },
  {
   "cell_type": "code",
   "execution_count": 51,
   "metadata": {},
   "outputs": [
    {
     "data": {
      "text/html": [
       "<div>\n",
       "<style scoped>\n",
       "    .dataframe tbody tr th:only-of-type {\n",
       "        vertical-align: middle;\n",
       "    }\n",
       "\n",
       "    .dataframe tbody tr th {\n",
       "        vertical-align: top;\n",
       "    }\n",
       "\n",
       "    .dataframe thead th {\n",
       "        text-align: right;\n",
       "    }\n",
       "</style>\n",
       "<table border=\"1\" class=\"dataframe\">\n",
       "  <thead>\n",
       "    <tr style=\"text-align: right;\">\n",
       "      <th>mirna_id</th>\n",
       "      <th>hsa-mir-106b</th>\n",
       "      <th>hsa-mir-1180</th>\n",
       "      <th>hsa-mir-1226</th>\n",
       "      <th>hsa-mir-128-1</th>\n",
       "      <th>hsa-mir-128-2</th>\n",
       "      <th>hsa-mir-1287</th>\n",
       "      <th>hsa-mir-1301</th>\n",
       "      <th>hsa-mir-1306</th>\n",
       "      <th>hsa-mir-1307</th>\n",
       "      <th>hsa-mir-130b</th>\n",
       "      <th>...</th>\n",
       "      <th>hsa-mir-584</th>\n",
       "      <th>hsa-mir-589</th>\n",
       "      <th>hsa-mir-652</th>\n",
       "      <th>hsa-mir-675</th>\n",
       "      <th>hsa-mir-760</th>\n",
       "      <th>hsa-mir-877</th>\n",
       "      <th>pfs</th>\n",
       "      <th>event</th>\n",
       "      <th>ov_sur</th>\n",
       "      <th>pfi</th>\n",
       "    </tr>\n",
       "    <tr>\n",
       "      <th>patient</th>\n",
       "      <th></th>\n",
       "      <th></th>\n",
       "      <th></th>\n",
       "      <th></th>\n",
       "      <th></th>\n",
       "      <th></th>\n",
       "      <th></th>\n",
       "      <th></th>\n",
       "      <th></th>\n",
       "      <th></th>\n",
       "      <th></th>\n",
       "      <th></th>\n",
       "      <th></th>\n",
       "      <th></th>\n",
       "      <th></th>\n",
       "      <th></th>\n",
       "      <th></th>\n",
       "      <th></th>\n",
       "      <th></th>\n",
       "      <th></th>\n",
       "      <th></th>\n",
       "    </tr>\n",
       "  </thead>\n",
       "  <tbody>\n",
       "    <tr>\n",
       "      <th>SL_00000</th>\n",
       "      <td>1879.760407</td>\n",
       "      <td>282.331407</td>\n",
       "      <td>113.352386</td>\n",
       "      <td>47.230161</td>\n",
       "      <td>11.545150</td>\n",
       "      <td>24.139860</td>\n",
       "      <td>119.649741</td>\n",
       "      <td>121.748859</td>\n",
       "      <td>8138.281515</td>\n",
       "      <td>51.428398</td>\n",
       "      <td>...</td>\n",
       "      <td>25.189419</td>\n",
       "      <td>101.807236</td>\n",
       "      <td>18.892064</td>\n",
       "      <td>115.451505</td>\n",
       "      <td>19.941624</td>\n",
       "      <td>30.437215</td>\n",
       "      <td>5.934426</td>\n",
       "      <td>1</td>\n",
       "      <td>29.967213</td>\n",
       "      <td>1.300000</td>\n",
       "    </tr>\n",
       "    <tr>\n",
       "      <th>SL_00001</th>\n",
       "      <td>2763.277416</td>\n",
       "      <td>845.622901</td>\n",
       "      <td>360.071687</td>\n",
       "      <td>226.408712</td>\n",
       "      <td>84.562290</td>\n",
       "      <td>46.372869</td>\n",
       "      <td>124.570255</td>\n",
       "      <td>132.753703</td>\n",
       "      <td>12823.462126</td>\n",
       "      <td>279.146485</td>\n",
       "      <td>...</td>\n",
       "      <td>40.007965</td>\n",
       "      <td>642.855259</td>\n",
       "      <td>34.552334</td>\n",
       "      <td>462.819416</td>\n",
       "      <td>125.479527</td>\n",
       "      <td>57.284132</td>\n",
       "      <td>7.967213</td>\n",
       "      <td>1</td>\n",
       "      <td>19.934426</td>\n",
       "      <td>1.900546</td>\n",
       "    </tr>\n",
       "    <tr>\n",
       "      <th>SL_00002</th>\n",
       "      <td>1128.734369</td>\n",
       "      <td>99.946256</td>\n",
       "      <td>89.173606</td>\n",
       "      <td>85.582723</td>\n",
       "      <td>37.105796</td>\n",
       "      <td>46.681485</td>\n",
       "      <td>102.938659</td>\n",
       "      <td>58.052616</td>\n",
       "      <td>7761.096129</td>\n",
       "      <td>120.893077</td>\n",
       "      <td>...</td>\n",
       "      <td>11.969612</td>\n",
       "      <td>402.178948</td>\n",
       "      <td>182.536576</td>\n",
       "      <td>83.787281</td>\n",
       "      <td>131.067246</td>\n",
       "      <td>22.742262</td>\n",
       "      <td>10.491803</td>\n",
       "      <td>1</td>\n",
       "      <td>30.131148</td>\n",
       "      <td>5.125137</td>\n",
       "    </tr>\n",
       "    <tr>\n",
       "      <th>SL_00003</th>\n",
       "      <td>3126.448982</td>\n",
       "      <td>255.479578</td>\n",
       "      <td>61.399788</td>\n",
       "      <td>171.495960</td>\n",
       "      <td>75.514682</td>\n",
       "      <td>43.050426</td>\n",
       "      <td>252.656599</td>\n",
       "      <td>358.518303</td>\n",
       "      <td>20611.979452</td>\n",
       "      <td>55.753831</td>\n",
       "      <td>...</td>\n",
       "      <td>14.114894</td>\n",
       "      <td>819.369586</td>\n",
       "      <td>208.194684</td>\n",
       "      <td>32.464256</td>\n",
       "      <td>86.100852</td>\n",
       "      <td>45.167660</td>\n",
       "      <td>11.049180</td>\n",
       "      <td>1</td>\n",
       "      <td>18.622951</td>\n",
       "      <td>3.600000</td>\n",
       "    </tr>\n",
       "    <tr>\n",
       "      <th>SL_00004</th>\n",
       "      <td>1424.948386</td>\n",
       "      <td>192.455823</td>\n",
       "      <td>29.871698</td>\n",
       "      <td>315.819093</td>\n",
       "      <td>239.885694</td>\n",
       "      <td>75.705371</td>\n",
       "      <td>79.809879</td>\n",
       "      <td>54.042690</td>\n",
       "      <td>4068.707641</td>\n",
       "      <td>50.394238</td>\n",
       "      <td>...</td>\n",
       "      <td>157.795533</td>\n",
       "      <td>148.674404</td>\n",
       "      <td>104.892984</td>\n",
       "      <td>19.838456</td>\n",
       "      <td>54.954803</td>\n",
       "      <td>32.836065</td>\n",
       "      <td>9.049180</td>\n",
       "      <td>1</td>\n",
       "      <td>41.934426</td>\n",
       "      <td>1.900000</td>\n",
       "    </tr>\n",
       "  </tbody>\n",
       "</table>\n",
       "<p>5 rows × 48 columns</p>\n",
       "</div>"
      ],
      "text/plain": [
       "mirna_id  hsa-mir-106b  hsa-mir-1180  hsa-mir-1226  hsa-mir-128-1  \\\n",
       "patient                                                             \n",
       "SL_00000   1879.760407    282.331407    113.352386      47.230161   \n",
       "SL_00001   2763.277416    845.622901    360.071687     226.408712   \n",
       "SL_00002   1128.734369     99.946256     89.173606      85.582723   \n",
       "SL_00003   3126.448982    255.479578     61.399788     171.495960   \n",
       "SL_00004   1424.948386    192.455823     29.871698     315.819093   \n",
       "\n",
       "mirna_id  hsa-mir-128-2  hsa-mir-1287  hsa-mir-1301  hsa-mir-1306  \\\n",
       "patient                                                             \n",
       "SL_00000      11.545150     24.139860    119.649741    121.748859   \n",
       "SL_00001      84.562290     46.372869    124.570255    132.753703   \n",
       "SL_00002      37.105796     46.681485    102.938659     58.052616   \n",
       "SL_00003      75.514682     43.050426    252.656599    358.518303   \n",
       "SL_00004     239.885694     75.705371     79.809879     54.042690   \n",
       "\n",
       "mirna_id  hsa-mir-1307  hsa-mir-130b    ...     hsa-mir-584  hsa-mir-589  \\\n",
       "patient                                 ...                                \n",
       "SL_00000   8138.281515     51.428398    ...       25.189419   101.807236   \n",
       "SL_00001  12823.462126    279.146485    ...       40.007965   642.855259   \n",
       "SL_00002   7761.096129    120.893077    ...       11.969612   402.178948   \n",
       "SL_00003  20611.979452     55.753831    ...       14.114894   819.369586   \n",
       "SL_00004   4068.707641     50.394238    ...      157.795533   148.674404   \n",
       "\n",
       "mirna_id  hsa-mir-652  hsa-mir-675  hsa-mir-760  hsa-mir-877        pfs  \\\n",
       "patient                                                                   \n",
       "SL_00000    18.892064   115.451505    19.941624    30.437215   5.934426   \n",
       "SL_00001    34.552334   462.819416   125.479527    57.284132   7.967213   \n",
       "SL_00002   182.536576    83.787281   131.067246    22.742262  10.491803   \n",
       "SL_00003   208.194684    32.464256    86.100852    45.167660  11.049180   \n",
       "SL_00004   104.892984    19.838456    54.954803    32.836065   9.049180   \n",
       "\n",
       "mirna_id  event     ov_sur       pfi  \n",
       "patient                               \n",
       "SL_00000      1  29.967213  1.300000  \n",
       "SL_00001      1  19.934426  1.900546  \n",
       "SL_00002      1  30.131148  5.125137  \n",
       "SL_00003      1  18.622951  3.600000  \n",
       "SL_00004      1  41.934426  1.900000  \n",
       "\n",
       "[5 rows x 48 columns]"
      ]
     },
     "execution_count": 51,
     "metadata": {},
     "output_type": "execute_result"
    }
   ],
   "source": [
    "all_conc['pfs']=pfs\n",
    "all_conc['event']=e\n",
    "all_conc['ov_sur']=os\n",
    "all_conc['pfi']=pfi\n",
    "#all_conc['class']=classes\n",
    "\n",
    "all_conc.head()"
   ]
  },
  {
   "cell_type": "raw",
   "metadata": {},
   "source": [
    "for i in range(all_conc.shape[0]):\n",
    "    for j in range(all_conc.shape[1]):\n",
    "        if np.isnan(all_conc.iloc[i][j]):\n",
    "            print('yes, in ', all_conc.index[i], ' and ', all_conc.columns[j])"
   ]
  },
  {
   "cell_type": "code",
   "execution_count": null,
   "metadata": {},
   "outputs": [],
   "source": [
    "y=all_conc.copy()\n",
    "y=y.drop(['ov_sur', 'pfi', 'pfs', 'event', 'hsa-mir-16-2', 'hsa-mir-181d', 'hsa-mir-222', 'hsa-mir-500a',\n",
    "         'hsa-mir-500b', 'hsa-mir-501', 'hsa-mir-502', 'hsa-mir-128-2', 'hsa-mir-23b'], axis=1)\n",
    "#x.head()"
   ]
  },
  {
   "cell_type": "code",
   "execution_count": null,
   "metadata": {},
   "outputs": [],
   "source": [
    "import seaborn as sns\n",
    "corr = y.corr()\n",
    "mask = np.zeros_like(corr, dtype=np.bool)\n",
    "mask[np.triu_indices_from(mask)] = True\n",
    "f, ax = plt.subplots(figsize=(30, 30))\n",
    "cmap = sns.diverging_palette(220, 10, as_cmap=True)\n",
    "sns_plot=sns.heatmap(corr, mask=mask, cmap=cmap, vmax=1, center=0,\n",
    "            square=True, linewidths=.5, cbar_kws={\"shrink\": .5})\n",
    "sns_plot.figure.savefig(\"miRNA_correlation_matrix_mildFDR.png\")"
   ]
  },
  {
   "cell_type": "code",
   "execution_count": 52,
   "metadata": {},
   "outputs": [],
   "source": [
    "x=all_conc.copy()\n",
    "x=x.drop(['ov_sur', 'pfi', 'hsa-mir-16-2', 'hsa-mir-181d', 'hsa-mir-222', 'hsa-mir-500a', 'hsa-mir-500b', 'hsa-mir-501', \n",
    "          'hsa-mir-502', 'hsa-mir-128-2', 'hsa-mir-23b', 'hsa-mir-1226','hsa-mir-1287','hsa-mir-183','hsa-mir-652',\n",
    "          'hsa-mir-29a','hsa-mir-1301','hsa-mir-589','hsa-mir-584','hsa-mir-296','hsa-mir-3200','hsa-mir-877','hsa-mir-1306',\n",
    "          'hsa-mir-423','hsa-mir-185','hsa-mir-345','hsa-mir-4758','hsa-mir-338','hsa-mir-16-1','hsa-mir-675','hsa-mir-342',\n",
    "          'hsa-mir-106b','hsa-mir-128-1','hsa-mir-181c'], axis=1)"
   ]
  },
  {
   "cell_type": "code",
   "execution_count": 24,
   "metadata": {},
   "outputs": [
    {
     "name": "stderr",
     "output_type": "stream",
     "text": [
      "/home/lalli/anaconda3/lib/python3.6/site-packages/ipykernel_launcher.py:5: SettingWithCopyWarning: \n",
      "A value is trying to be set on a copy of a slice from a DataFrame.\n",
      "Try using .loc[row_indexer,col_indexer] = value instead\n",
      "\n",
      "See the caveats in the documentation: http://pandas.pydata.org/pandas-docs/stable/indexing.html#indexing-view-versus-copy\n",
      "  \"\"\"\n",
      "/home/lalli/anaconda3/lib/python3.6/site-packages/ipykernel_launcher.py:6: SettingWithCopyWarning: \n",
      "A value is trying to be set on a copy of a slice from a DataFrame.\n",
      "Try using .loc[row_indexer,col_indexer] = value instead\n",
      "\n",
      "See the caveats in the documentation: http://pandas.pydata.org/pandas-docs/stable/indexing.html#indexing-view-versus-copy\n",
      "  \n"
     ]
    }
   ],
   "source": [
    "from sklearn.model_selection import train_test_split\n",
    "x_new=x.copy()\n",
    "x_new=x_new.drop('pfs', axis=1)\n",
    "X_train, X_test, y_train, y_test = train_test_split(x_new, x['pfs'], test_size=0.2)\n",
    "X_train['pfs']= y_train\n",
    "X_test['pfs']= y_test"
   ]
  },
  {
   "cell_type": "code",
   "execution_count": 25,
   "metadata": {},
   "outputs": [
    {
     "name": "stdout",
     "output_type": "stream",
     "text": [
      "\r\n",
      "Iteration 1: norm_delta = 0.33484, step_size = 0.9500, ll = -836.62637, newton_decrement = 9.49719, seconds_since_start = 0.0\r\n",
      "Iteration 2: norm_delta = 0.06394, step_size = 0.9500, ll = -828.34870, newton_decrement = 0.42406, seconds_since_start = 0.0\r\n",
      "Iteration 3: norm_delta = 0.00678, step_size = 0.9500, ll = -827.91445, newton_decrement = 0.00445, seconds_since_start = 0.0\r\n",
      "Iteration 4: norm_delta = 0.00040, step_size = 1.0000, ll = -827.91005, newton_decrement = 0.00001, seconds_since_start = 0.1\r\n",
      "Iteration 5: norm_delta = 0.00000, step_size = 1.0000, ll = -827.91004, newton_decrement = 0.00000, seconds_since_start = 0.1Convergence completed after 5 iterations.\n"
     ]
    },
    {
     "data": {
      "text/plain": [
       "<lifelines.CoxPHFitter: fitted with 211 observations, 28 censored>"
      ]
     },
     "execution_count": 25,
     "metadata": {},
     "output_type": "execute_result"
    }
   ],
   "source": [
    "cph = CoxPHFitter(penalizer=0.1)\n",
    "cph.fit(X_train, 'pfs', event_col='event', show_progress=True)"
   ]
  },
  {
   "cell_type": "code",
   "execution_count": 26,
   "metadata": {},
   "outputs": [],
   "source": [
    "res=[]\n",
    "sens=[]\n",
    "senl=[]\n",
    "\n",
    "for p in X_test.index:\n",
    "    if 'R' in p:\n",
    "        res.append(p)\n",
    "    elif 'SS' in p:\n",
    "        sens.append(p)\n",
    "    else:\n",
    "        senl.append(p)"
   ]
  },
  {
   "cell_type": "code",
   "execution_count": 29,
   "metadata": {},
   "outputs": [
    {
     "data": {
      "image/png": "[encoded data removed]",
      "text/plain": [
       "<Figure size 432x288 with 1 Axes>"
      ]
     },
     "metadata": {},
     "output_type": "display_data"
    }
   ],
   "source": [
    "plt.plot(cph.predict_survival_function(X_test.loc[senl]))\n",
    "plt.xlabel('Progression Free Survival')\n",
    "plt.ylabel('Probability of Survival')\n",
    "plt.title('Sensitive Long Class\\nmiRNA')\n",
    "plt.show()"
   ]
  },
  {
   "cell_type": "raw",
   "metadata": {},
   "source": [
    "for i in range(x.shape[0]):\n",
    "    for j in range(x.shape[1]):\n",
    "        if np.isnan(x.iloc[i][j]):\n",
    "            print('yes, in ', x.index[i], ' and ', x.columns[j])"
   ]
  },
  {
   "cell_type": "code",
   "execution_count": 53,
   "metadata": {},
   "outputs": [
    {
     "name": "stdout",
     "output_type": "stream",
     "text": [
      "StandardScaler(copy=True, with_mean=True, with_std=True)\n",
      "[2.32849108e+02 9.21358483e+03 7.08400734e+01 2.44378899e+02\n",
      " 4.39496858e+03 8.78791670e+02 4.44774109e+02 6.67207686e+01\n",
      " 1.05177998e+03 1.92550522e+03 1.06985446e+01 5.84768450e+01\n",
      " 2.07771982e+01 8.67424242e-01]\n"
     ]
    }
   ],
   "source": [
    "from sklearn.preprocessing import StandardScaler\n",
    "\n",
    "scaler = StandardScaler()\n",
    "print(scaler.fit(x))\n",
    "StandardScaler(copy=True, with_mean=True, with_std=True)\n",
    "print(scaler.mean_)\n",
    "df_scal=scaler.transform(x)\n",
    "df_scal=pd.DataFrame(df_scal, columns=x.columns)\n",
    "#print(df_scal)"
   ]
  },
  {
   "cell_type": "raw",
   "metadata": {},
   "source": [
    "#all_conc.to_csv('all_conc_miRNA.csv', sep=',', header=True, index=True)"
   ]
  },
  {
   "cell_type": "raw",
   "metadata": {},
   "source": [
    "x=all_conc.copy()\n",
    "x=x.drop(['class'], axis=1)\n",
    "x_all=x.values\n",
    "y_all=all_conc['class']\n",
    "x.head()\n",
    "#x=pd.DataFrame(x)"
   ]
  },
  {
   "cell_type": "code",
   "execution_count": 54,
   "metadata": {},
   "outputs": [
    {
     "name": "stdout",
     "output_type": "stream",
     "text": [
      "Iteration 21: norm_delta = 0.00000, step_size = 1.0000, ll = -1202.48609, newton_decrement = 0.00000, seconds_since_start = 0.5Convergence completed after 21 iterations.\n",
      "<lifelines.CoxPHFitter: fitted with 264 observations, 0 censored>\n",
      "      duration col = 'pfs'\n",
      "         event col = 'event'\n",
      "         penalizer = 0.0001\n",
      "number of subjects = 264\n",
      "  number of events = 264\n",
      "partial log-likelihood = -1202.49\n",
      "  time fit was run = 2019-10-16 09:02:08 UTC\n",
      "\n",
      "---\n",
      "                coef exp(coef)  se(coef)  coef lower 95%  coef upper 95% exp(coef) lower 95% exp(coef) upper 95%\n",
      "mirna_id                                                                                                        \n",
      "hsa-mir-1180    0.11      1.11      0.07           -0.04            0.25                0.96                1.29\n",
      "hsa-mir-1307    0.01      1.01      0.07           -0.14            0.15                0.87                1.16\n",
      "hsa-mir-130b    0.05      1.05      0.07           -0.09            0.18                0.92                1.20\n",
      "hsa-mir-148b   -0.01      0.99      0.07           -0.15            0.13                0.86                1.13\n",
      "hsa-mir-181a-2  0.06      1.06      0.07           -0.07            0.19                0.93                1.21\n",
      "hsa-mir-200a    0.07      1.08      0.07           -0.07            0.21                0.94                1.24\n",
      "hsa-mir-221     0.07      1.07      0.08           -0.09            0.23                0.91                1.26\n",
      "hsa-mir-224    -0.16      0.86      0.07           -0.29           -0.02                0.75                0.98\n",
      "hsa-mir-27b     0.04      1.04      0.07           -0.10            0.17                0.91                1.19\n",
      "hsa-mir-532     0.04      1.04      0.05           -0.06            0.14                0.94                1.15\n",
      "hsa-mir-550a-1  0.02      1.02      0.07           -0.11            0.16                0.90                1.17\n",
      "hsa-mir-760     0.04      1.04      0.09           -0.13            0.20                0.87                1.23\n",
      "\n",
      "                   z    p  -log2(p)\n",
      "mirna_id                           \n",
      "hsa-mir-1180    1.41 0.16      2.67\n",
      "hsa-mir-1307    0.08 0.94      0.09\n",
      "hsa-mir-130b    0.68 0.50      1.01\n",
      "hsa-mir-148b   -0.15 0.88      0.19\n",
      "hsa-mir-181a-2  0.95 0.34      1.54\n",
      "hsa-mir-200a    1.04 0.30      1.75\n",
      "hsa-mir-221     0.84 0.40      1.31\n",
      "hsa-mir-224    -2.24 0.03      5.31\n",
      "hsa-mir-27b     0.58 0.56      0.82\n",
      "hsa-mir-532     0.76 0.45      1.16\n",
      "hsa-mir-550a-1  0.35 0.72      0.47\n",
      "hsa-mir-760     0.41 0.68      0.55\n",
      "---\n",
      "Concordance = 0.59\n",
      "Log-likelihood ratio test = 18.54 on 12 df, -log2(p)=3.32\n"
     ]
    },
    {
     "data": {
      "text/plain": [
       "(232, 1)"
      ]
     },
     "execution_count": 54,
     "metadata": {},
     "output_type": "execute_result"
    }
   ],
   "source": [
    "cph = CoxPHFitter(penalizer=0.0001)\n",
    "cph.fit(df_scal, duration_col='pfs', event_col='event', show_progress=True, step_size=0.050)\n",
    "cph.print_summary()\n",
    "cph.baseline_cumulative_hazard_.shape"
   ]
  },
  {
   "cell_type": "code",
   "execution_count": 56,
   "metadata": {},
   "outputs": [
    {
     "data": {
      "text/plain": [
       "<matplotlib.axes._subplots.AxesSubplot at 0x7f6e009bbc18>"
      ]
     },
     "execution_count": 56,
     "metadata": {},
     "output_type": "execute_result"
    },
    {
     "data": {
      "image/png": "[encoded data removed]",
      "text/plain": [
       "<Figure size 576x576 with 1 Axes>"
      ]
     },
     "metadata": {},
     "output_type": "display_data"
    }
   ],
   "source": [
    "plt.rcParams[\"figure.figsize\"] = [8, 8]\n",
    "cph.plot()"
   ]
  },
  {
   "cell_type": "code",
   "execution_count": null,
   "metadata": {},
   "outputs": [],
   "source": [
    "k_fold = k_fold_cross_validation(cph, df_scal, duration_col='pfs', event_col='event', k=5, predictor='predict_median')"
   ]
  },
  {
   "cell_type": "code",
   "execution_count": null,
   "metadata": {},
   "outputs": [],
   "source": [
    "w=np.mean(k_fold)\n",
    "w\n",
    "#k_fold"
   ]
  },
  {
   "cell_type": "code",
   "execution_count": null,
   "metadata": {},
   "outputs": [],
   "source": [
    "k_fold"
   ]
  },
  {
   "cell_type": "code",
   "execution_count": null,
   "metadata": {},
   "outputs": [],
   "source": []
  },
  {
   "cell_type": "code",
   "execution_count": null,
   "metadata": {},
   "outputs": [],
   "source": []
  },
  {
   "cell_type": "code",
   "execution_count": null,
   "metadata": {},
   "outputs": [],
   "source": []
  },
  {
   "cell_type": "code",
   "execution_count": null,
   "metadata": {},
   "outputs": [],
   "source": []
  },
  {
   "cell_type": "markdown",
   "metadata": {},
   "source": [
    "## Prove"
   ]
  },
  {
   "cell_type": "code",
   "execution_count": null,
   "metadata": {},
   "outputs": [],
   "source": [
    "cph.fit(all_conc, duration_col='pfs', event_col='event', show_progress=True)\n",
    "\n",
    "cph.plot_covariate_groups('ENSG00000135443.7', [0, 1, 2], cmap='coolwarm')"
   ]
  },
  {
   "cell_type": "code",
   "execution_count": null,
   "metadata": {},
   "outputs": [],
   "source": [
    "#prediction(?)\n",
    "\n",
    "from lifelines import WeibullAFTFitter\n",
    "aft_with_elastic_penalty = WeibullAFTFitter(penalizer=4.0, l1_ratio=1.0)\n",
    "aft_with_elastic_penalty.fit(all_conc, 'pfs', 'event')\n",
    "aft_with_elastic_penalty.predict_median(all_conc)\n",
    "\n",
    "aft_with_elastic_penalty.print_summary()"
   ]
  },
  {
   "cell_type": "code",
   "execution_count": null,
   "metadata": {},
   "outputs": [],
   "source": [
    "#Model selection for AFT models\n",
    "from lifelines import LogLogisticAFTFitter, WeibullAFTFitter, LogNormalAFTFitter\n",
    "\n",
    "llf = LogLogisticAFTFitter().fit(all_conc, 'pfs', 'event')\n",
    "lnf = LogNormalAFTFitter().fit(all_conc, 'pfs', 'event')\n",
    "wf = WeibullAFTFitter().fit(all_conc, 'pfs', 'event')\n",
    "\n",
    "print(llf.log_likelihood_) \n",
    "print(lnf.log_likelihood_)  \n",
    "print(wf.log_likelihood_)   \n",
    "\n",
    "\n",
    "# with some heterogeneity in the ancillary parameters\n",
    "#ancillary_df = all_conc[['class']]\n",
    "#llf = LogLogisticAFTFitter().fit(all_conc, 'pfs', 'event', ancillary_df=ancillary_df)\n",
    "#lnf = LogNormalAFTFitter().fit(all_conc, 'pfs', 'event', ancillary_df=ancillary_df)\n",
    "#wf = WeibullAFTFitter().fit(all_conc, 'pfs', 'event', ancillary_df=ancillary_df)\n",
    "\n",
    "#print(llf.log_likelihood_) \n",
    "#print(lnf.log_likelihood_) \n",
    "#print(wf.log_likelihood_)  "
   ]
  },
  {
   "cell_type": "raw",
   "metadata": {},
   "source": [
    "from lifelines import WeibullAFTFitter\n",
    "fig, ax = plt.subplots(nrows=1, ncols=2, figsize=(10, 4))\n",
    "\n",
    "times = np.arange(0, 100)\n",
    "wft_model_rho = WeibullAFTFitter().fit(all_conc, 'pfs', 'event', ancillary_df=True, timeline=times)\n",
    "wft_model_rho.plot_covariate_groups('class', range(0, 1, 2), cmap='coolwarm', ax=ax[0])\n",
    "ax[0].set_title(\"Modelling rho_\")"
   ]
  },
  {
   "cell_type": "raw",
   "metadata": {},
   "source": [
    "cph.predict_partial_hazard(all_conc)\n",
    "\n",
    "cph.predict_survival_function(all_conc, times=['5., 25., 50.'])\n",
    "\n",
    "cph.predict_median(all_conc)"
   ]
  },
  {
   "cell_type": "code",
   "execution_count": null,
   "metadata": {},
   "outputs": [],
   "source": [
    "all_conc['ENSG00000135443.7']"
   ]
  },
  {
   "cell_type": "code",
   "execution_count": null,
   "metadata": {},
   "outputs": [],
   "source": [
    "cph.check_assumptions(all_conc, p_value_threshold=0.05, show_plots=True)"
   ]
  },
  {
   "cell_type": "code",
   "execution_count": null,
   "metadata": {},
   "outputs": [],
   "source": []
  },
  {
   "cell_type": "code",
   "execution_count": null,
   "metadata": {},
   "outputs": [],
   "source": []
  },
  {
   "cell_type": "code",
   "execution_count": null,
   "metadata": {},
   "outputs": [],
   "source": []
  },
  {
   "cell_type": "code",
   "execution_count": null,
   "metadata": {},
   "outputs": [],
   "source": []
  },
  {
   "cell_type": "code",
   "execution_count": null,
   "metadata": {},
   "outputs": [],
   "source": []
  },
  {
   "cell_type": "code",
   "execution_count": null,
   "metadata": {},
   "outputs": [],
   "source": []
  },
  {
   "cell_type": "code",
   "execution_count": null,
   "metadata": {},
   "outputs": [],
   "source": []
  },
  {
   "cell_type": "code",
   "execution_count": null,
   "metadata": {},
   "outputs": [],
   "source": []
  },
  {
   "cell_type": "code",
   "execution_count": null,
   "metadata": {},
   "outputs": [],
   "source": []
  },
  {
   "cell_type": "code",
   "execution_count": null,
   "metadata": {},
   "outputs": [],
   "source": []
  },
  {
   "cell_type": "code",
   "execution_count": null,
   "metadata": {},
   "outputs": [],
   "source": []
  },
  {
   "cell_type": "code",
   "execution_count": null,
   "metadata": {},
   "outputs": [],
   "source": []
  },
  {
   "cell_type": "code",
   "execution_count": null,
   "metadata": {},
   "outputs": [],
   "source": []
  },
  {
   "cell_type": "code",
   "execution_count": null,
   "metadata": {},
   "outputs": [],
   "source": []
  },
  {
   "cell_type": "code",
   "execution_count": null,
   "metadata": {},
   "outputs": [],
   "source": []
  },
  {
   "cell_type": "code",
   "execution_count": null,
   "metadata": {},
   "outputs": [],
   "source": []
  },
  {
   "cell_type": "code",
   "execution_count": null,
   "metadata": {},
   "outputs": [],
   "source": []
  },
  {
   "cell_type": "code",
   "execution_count": null,
   "metadata": {},
   "outputs": [],
   "source": []
  },
  {
   "cell_type": "code",
   "execution_count": null,
   "metadata": {},
   "outputs": [],
   "source": []
  }
 ],
 "metadata": {
  "kernelspec": {
   "display_name": "Python 3",
   "language": "python",
   "name": "python3"
  },
  "language_info": {
   "codemirror_mode": {
    "name": "ipython",
    "version": 3
   },
   "file_extension": ".py",
   "mimetype": "text/x-python",
   "name": "python",
   "nbconvert_exporter": "python",
   "pygments_lexer": "ipython3",
   "version": "3.8.8"
  }
 },
 "nbformat": 4,
 "nbformat_minor": 2
}
