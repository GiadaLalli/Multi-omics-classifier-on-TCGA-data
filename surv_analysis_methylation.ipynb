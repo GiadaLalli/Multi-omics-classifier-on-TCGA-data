{
 "cells": [
  {
   "cell_type": "code",
   "execution_count": 60,
   "metadata": {},
   "outputs": [],
   "source": [
    "from lifelines import CoxPHFitter\n",
    "from tqdm import tqdm\n",
    "import pandas as pd\n",
    "import numpy as np\n",
    "import scipy\n",
    "import csv\n",
    "import os\n",
    "import math\n",
    "from lifelines.utils import k_fold_cross_validation\n",
    "from matplotlib import pyplot as plt\n",
    "%matplotlib inline\n",
    "import collections\n",
    "import scipy.stats\n",
    "import statsmodels.api as sm\n",
    "from sklearn.model_selection import train_test_split \n",
    "from statsmodels.stats.weightstats import ztest\n",
    "from scipy import interp\n",
    "import subprocess\n",
    "import re\n",
    "import seaborn as sns\n",
    "from functools import reduce"
   ]
  },
  {
   "cell_type": "markdown",
   "metadata": {},
   "source": [
    "## Creazione dei dataset da Excel"
   ]
  },
  {
   "cell_type": "raw",
   "metadata": {},
   "source": [
    "string_ss=\"methylation/ss_32m/files/\"\n",
    "string_sl=\"methylation/sl_32m/files/\"\n",
    "string_res=\"methylation/res/files/\""
   ]
  },
  {
   "cell_type": "raw",
   "metadata": {},
   "source": [
    "path=\"clintab_GMQL/\"+string_res\n",
    "names=[]\n",
    "barcodes_res=[]\n",
    "filelist=os.listdir(path)\n",
    "filelist.sort()\n",
    "for file in filelist:\n",
    "\n",
    "    if file.endswith(\".meta\"):\n",
    "        tmp=pd.read_csv(path+file, sep='\\t', header=None, index_col=0)\n",
    "        tmp=tmp.T\n",
    "        if tmp['biospecimen__shared__bcr_patient_barcode'].values[0] in barcodes_res:\n",
    "            print(file)\n",
    "        else:\n",
    "            names.append(file[:11])\n",
    "            barcodes_res.append(tmp['biospecimen__shared__bcr_patient_barcode'].values[0])"
   ]
  },
  {
   "cell_type": "raw",
   "metadata": {},
   "source": [
    "file=pd.read_excel(\"TCGA-OV-Clinical-Table_S1.2.xlsx\", sheetname=\"KeyclinicalDAta\", index_col=0)\n",
    "file.head()"
   ]
  },
  {
   "cell_type": "raw",
   "metadata": {},
   "source": [
    "#Resistant\n",
    "pfs=[]\n",
    "pfi=[]\n",
    "ov_sur=[]\n",
    "evento=[]\n",
    "for t in barcodes_res:\n",
    "    x=file.loc[t]['PlatinumFreeInterval (mos)*']\n",
    "    pfi.append(x)\n",
    "    y=file.loc[t]['OverallSurvival(mos)']\n",
    "    ov_sur.append(y)\n",
    "    z=file.loc[t]['ProgressionFreeSurvival (mos)#']\n",
    "    pfs.append(z)\n",
    "    w=file.loc[t]['ProgressionFreeStatus']\n",
    "    if w == 'Recurred/Progressed':\n",
    "        evento.append(1)\n",
    "    else:\n",
    "        evento.append(0)"
   ]
  },
  {
   "cell_type": "raw",
   "metadata": {},
   "source": [
    "path=\"clintab_GMQL/\"+string_res\n",
    "\n",
    "col=['patient', 'chrom', 'start', 'stop', 'beta_value', 'gene_symbol', 'gene_type', 'ensemble_transcript_id', 'feature_type', 'pfs', 'pfi', 'os', 'event']\n",
    "r=[]\n",
    "for i in range(len(names)):\n",
    "    tmp=pd.read_csv(path+names[i], sep='\\t', header=None)\n",
    "    tmp=tmp.values\n",
    "    p='R_00'\n",
    "    if i < 10:\n",
    "        p=p+'00'+str(i)\n",
    "    elif i< 100:\n",
    "        p=p+'0'+str(i)\n",
    "    else:\n",
    "            p=p+str(i)\n",
    "    for j in range(tmp.shape[0]):\n",
    "        chrom=tmp[j][0].replace(\"chr\", \"\")\n",
    "        r.append([p, chrom, tmp[j][1]+1, tmp[j][2], tmp[j][5], tmp[j][6], tmp[j][8], tmp[j][9], tmp[j][17], pfs[i], pfi[i], ov_sur[i], evento[i]])\n",
    "        \n",
    "        \n",
    "\n",
    "df_res=pd.DataFrame(r)\n",
    "df_res.to_csv(path_or_buf ='clintab_GMQL/methylation/res_surv_meth.csv', sep='\\t', header=col, index=False)\n",
    "df_res.head()"
   ]
  },
  {
   "cell_type": "raw",
   "metadata": {},
   "source": [
    "df_res.columns=col\n",
    "df_res.head()"
   ]
  },
  {
   "cell_type": "raw",
   "metadata": {},
   "source": [
    "path=\"clintab_GMQL/\"+string_ss\n",
    "names=[]\n",
    "barcodes_ss=[]\n",
    "filelist=os.listdir(path)\n",
    "filelist.sort()\n",
    "for file in filelist:\n",
    "\n",
    "    if file.endswith(\".meta\"):\n",
    "        tmp=pd.read_csv(path+file, sep='\\t', header=None, index_col=0)\n",
    "        tmp=tmp.T\n",
    "        if tmp['biospecimen__shared__bcr_patient_barcode'].values[0] in barcodes_ss:\n",
    "            print(file)\n",
    "        else:\n",
    "            names.append(file[:11])\n",
    "            barcodes_ss.append(tmp['biospecimen__shared__bcr_patient_barcode'].values[0])"
   ]
  },
  {
   "cell_type": "raw",
   "metadata": {},
   "source": [
    "file=pd.read_excel(\"TCGA-OV-Clinical-Table_S1.2.xlsx\", sheetname=\"KeyclinicalDAta\", index_col=0)"
   ]
  },
  {
   "cell_type": "raw",
   "metadata": {},
   "source": [
    "#sen_s\n",
    "pfs=[]\n",
    "pfi=[]\n",
    "ov_sur=[]\n",
    "evento=[]\n",
    "for t in barcodes_ss:\n",
    "    x=file.loc[t]['PlatinumFreeInterval (mos)*']\n",
    "    pfi.append(x)\n",
    "    y=file.loc[t]['OverallSurvival(mos)']\n",
    "    ov_sur.append(y)\n",
    "    z=file.loc[t]['ProgressionFreeSurvival (mos)#']\n",
    "    pfs.append(z)\n",
    "    w=file.loc[t]['ProgressionFreeStatus']\n",
    "    if w == 'Recurred/Progressed':\n",
    "        evento.append(1)\n",
    "    else:\n",
    "        evento.append(0)"
   ]
  },
  {
   "cell_type": "raw",
   "metadata": {},
   "source": [
    "path=\"clintab_GMQL/\"+string_ss\n",
    "\n",
    "col=['patient', 'chrom', 'start', 'stop', 'beta_value', 'gene_symbol', 'gene_type', 'ensemble_transcript_id', 'feature_type', 'pfs', 'pfi', 'os', 'event']\n",
    "ss=[]\n",
    "for i in range(len(names)):\n",
    "    tmp=pd.read_csv(path+names[i], sep='\\t', header=None)\n",
    "    tmp=tmp.values\n",
    "    p='SS_00'\n",
    "    if i < 10:\n",
    "        p=p+'00'+str(i)\n",
    "    elif i< 100:\n",
    "        p=p+'0'+str(i)\n",
    "    else:\n",
    "            p=p+str(i)\n",
    "    for j in range(tmp.shape[0]):\n",
    "        chrom=tmp[j][0].replace(\"chr\", \"\")\n",
    "        ss.append([p, chrom, tmp[j][1]+1, tmp[j][2], tmp[j][5], tmp[j][6], tmp[j][8], tmp[j][9], tmp[j][17], pfs[i], pfi[i], ov_sur[i], evento[i]])\n",
    "        \n",
    "        \n",
    "\n",
    "df_sens=pd.DataFrame(ss)\n",
    "df_sens.to_csv(path_or_buf ='clintab_GMQL/methylation/ss_surv_meth.csv', sep='\\t', header=col, index=False)\n",
    "df_sens.head()"
   ]
  },
  {
   "cell_type": "raw",
   "metadata": {},
   "source": [
    "df_sens.columns=col\n",
    "df_sens.head()"
   ]
  },
  {
   "cell_type": "raw",
   "metadata": {},
   "source": [
    "path=\"clintab_GMQL/\"+string_sl\n",
    "names=[]\n",
    "barcodes_sl=[]\n",
    "filelist=os.listdir(path)\n",
    "filelist.sort()\n",
    "for file in filelist:\n",
    "\n",
    "    if file.endswith(\".meta\"):\n",
    "        tmp=pd.read_csv(path+file, sep='\\t', header=None, index_col=0)\n",
    "        tmp=tmp.T\n",
    "        if tmp['biospecimen__shared__bcr_patient_barcode'].values[0] in barcodes_sl:\n",
    "            print(file)\n",
    "        else:\n",
    "            names.append(file[:11])\n",
    "            barcodes_sl.append(tmp['biospecimen__shared__bcr_patient_barcode'].values[0])"
   ]
  },
  {
   "cell_type": "raw",
   "metadata": {},
   "source": [
    "file=pd.read_excel(\"TCGA-OV-Clinical-Table_S1.2.xlsx\", sheetname=\"KeyclinicalDAta\", index_col=0)"
   ]
  },
  {
   "cell_type": "raw",
   "metadata": {},
   "source": [
    "#Sens_Long\n",
    "pfs=[]\n",
    "pfi=[]\n",
    "ov_sur=[]\n",
    "evento=[]\n",
    "for t in barcodes_sl:\n",
    "    x=file.loc[t]['PlatinumFreeInterval (mos)*']\n",
    "    pfi.append(x)\n",
    "    y=file.loc[t]['OverallSurvival(mos)']\n",
    "    ov_sur.append(y)\n",
    "    z=file.loc[t]['ProgressionFreeSurvival (mos)#']\n",
    "    pfs.append(z)\n",
    "    w=file.loc[t]['ProgressionFreeStatus']\n",
    "    if w == 'Recurred/Progressed':\n",
    "        evento.append(1)\n",
    "    else:\n",
    "        evento.append(0)"
   ]
  },
  {
   "cell_type": "raw",
   "metadata": {},
   "source": [
    "path=\"clintab_GMQL/\"+string_sl\n",
    "\n",
    "col=['patient', 'chrom', 'start', 'stop', 'beta_value', 'gene_symbol', 'gene_type', 'ensemble_transcript_id', 'feature_type', 'pfs', 'pfi', 'os', 'event']\n",
    "sl=[]\n",
    "for i in range(len(names)):\n",
    "    tmp=pd.read_csv(path+names[i], sep='\\t', header=None)\n",
    "    tmp=tmp.values\n",
    "    p='SL_00'\n",
    "    if i < 10:\n",
    "        p=p+'00'+str(i)\n",
    "    elif i< 100:\n",
    "        p=p+'0'+str(i)\n",
    "    else:\n",
    "            p=p+str(i)\n",
    "    for j in range(tmp.shape[0]):\n",
    "        chrom=tmp[j][0].replace(\"chr\", \"\")\n",
    "        sl.append([p, chrom, tmp[j][1]+1, tmp[j][2], tmp[j][5], tmp[j][6], tmp[j][8], tmp[j][9], tmp[j][17], pfs[i], pfi[i], ov_sur[i], evento[i]])\n",
    "        \n",
    "\n",
    "df_senl=pd.DataFrame(sl)\n",
    "df_senl.to_csv(path_or_buf ='clintab_GMQL/methylation/sl_surv_meth.csv', sep='\\t', header=col, index=False)\n",
    "df_senl.head()"
   ]
  },
  {
   "cell_type": "code",
   "execution_count": 61,
   "metadata": {},
   "outputs": [
    {
     "data": {
      "text/html": [
       "<div>\n",
       "<style scoped>\n",
       "    .dataframe tbody tr th:only-of-type {\n",
       "        vertical-align: middle;\n",
       "    }\n",
       "\n",
       "    .dataframe tbody tr th {\n",
       "        vertical-align: top;\n",
       "    }\n",
       "\n",
       "    .dataframe thead th {\n",
       "        text-align: right;\n",
       "    }\n",
       "</style>\n",
       "<table border=\"1\" class=\"dataframe\">\n",
       "  <thead>\n",
       "    <tr style=\"text-align: right;\">\n",
       "      <th></th>\n",
       "      <th>patient</th>\n",
       "      <th>chrom</th>\n",
       "      <th>start</th>\n",
       "      <th>stop</th>\n",
       "      <th>beta_value</th>\n",
       "      <th>gene_symbol</th>\n",
       "      <th>gene_type</th>\n",
       "      <th>ensemble_transcript_id</th>\n",
       "      <th>feature_type</th>\n",
       "      <th>pfs</th>\n",
       "      <th>pfi</th>\n",
       "      <th>os</th>\n",
       "      <th>event</th>\n",
       "      <th>class</th>\n",
       "    </tr>\n",
       "  </thead>\n",
       "  <tbody>\n",
       "    <tr>\n",
       "      <th>0</th>\n",
       "      <td>SS_00000</td>\n",
       "      <td>1</td>\n",
       "      <td>924805</td>\n",
       "      <td>924806</td>\n",
       "      <td>0.010496</td>\n",
       "      <td>SAMD11</td>\n",
       "      <td>protein_coding</td>\n",
       "      <td>ENST00000342066.6|ENST00000420190.4|ENST000004...</td>\n",
       "      <td>Island</td>\n",
       "      <td>17.934426</td>\n",
       "      <td>14.0</td>\n",
       "      <td>28.655738</td>\n",
       "      <td>1</td>\n",
       "      <td>0</td>\n",
       "    </tr>\n",
       "    <tr>\n",
       "      <th>1</th>\n",
       "      <td>SS_00000</td>\n",
       "      <td>1</td>\n",
       "      <td>925937</td>\n",
       "      <td>925938</td>\n",
       "      <td>0.010450</td>\n",
       "      <td>SAMD11</td>\n",
       "      <td>protein_coding</td>\n",
       "      <td>ENST00000342066.6|ENST00000420190.4|ENST000004...</td>\n",
       "      <td>Island</td>\n",
       "      <td>17.934426</td>\n",
       "      <td>14.0</td>\n",
       "      <td>28.655738</td>\n",
       "      <td>1</td>\n",
       "      <td>0</td>\n",
       "    </tr>\n",
       "    <tr>\n",
       "      <th>2</th>\n",
       "      <td>SS_00000</td>\n",
       "      <td>1</td>\n",
       "      <td>959207</td>\n",
       "      <td>959208</td>\n",
       "      <td>0.012587</td>\n",
       "      <td>NOC2L</td>\n",
       "      <td>protein_coding</td>\n",
       "      <td>ENST00000327044.6|ENST00000469563.1|ENST000004...</td>\n",
       "      <td>Island</td>\n",
       "      <td>17.934426</td>\n",
       "      <td>14.0</td>\n",
       "      <td>28.655738</td>\n",
       "      <td>1</td>\n",
       "      <td>0</td>\n",
       "    </tr>\n",
       "    <tr>\n",
       "      <th>3</th>\n",
       "      <td>SS_00000</td>\n",
       "      <td>1</td>\n",
       "      <td>959574</td>\n",
       "      <td>959575</td>\n",
       "      <td>0.880483</td>\n",
       "      <td>NOC2L</td>\n",
       "      <td>protein_coding</td>\n",
       "      <td>ENST00000327044.6|ENST00000469563.1|ENST000004...</td>\n",
       "      <td>Island</td>\n",
       "      <td>17.934426</td>\n",
       "      <td>14.0</td>\n",
       "      <td>28.655738</td>\n",
       "      <td>1</td>\n",
       "      <td>0</td>\n",
       "    </tr>\n",
       "    <tr>\n",
       "      <th>4</th>\n",
       "      <td>SS_00000</td>\n",
       "      <td>1</td>\n",
       "      <td>966645</td>\n",
       "      <td>966646</td>\n",
       "      <td>0.012630</td>\n",
       "      <td>PLEKHN1</td>\n",
       "      <td>protein_coding</td>\n",
       "      <td>ENST00000379407.6|ENST00000379409.5|ENST000003...</td>\n",
       "      <td>Island</td>\n",
       "      <td>17.934426</td>\n",
       "      <td>14.0</td>\n",
       "      <td>28.655738</td>\n",
       "      <td>1</td>\n",
       "      <td>0</td>\n",
       "    </tr>\n",
       "  </tbody>\n",
       "</table>\n",
       "</div>"
      ],
      "text/plain": [
       "    patient chrom   start    stop  beta_value gene_symbol       gene_type  \\\n",
       "0  SS_00000     1  924805  924806    0.010496      SAMD11  protein_coding   \n",
       "1  SS_00000     1  925937  925938    0.010450      SAMD11  protein_coding   \n",
       "2  SS_00000     1  959207  959208    0.012587       NOC2L  protein_coding   \n",
       "3  SS_00000     1  959574  959575    0.880483       NOC2L  protein_coding   \n",
       "4  SS_00000     1  966645  966646    0.012630     PLEKHN1  protein_coding   \n",
       "\n",
       "                              ensemble_transcript_id feature_type        pfs  \\\n",
       "0  ENST00000342066.6|ENST00000420190.4|ENST000004...       Island  17.934426   \n",
       "1  ENST00000342066.6|ENST00000420190.4|ENST000004...       Island  17.934426   \n",
       "2  ENST00000327044.6|ENST00000469563.1|ENST000004...       Island  17.934426   \n",
       "3  ENST00000327044.6|ENST00000469563.1|ENST000004...       Island  17.934426   \n",
       "4  ENST00000379407.6|ENST00000379409.5|ENST000003...       Island  17.934426   \n",
       "\n",
       "    pfi         os  event  class  \n",
       "0  14.0  28.655738      1      0  \n",
       "1  14.0  28.655738      1      0  \n",
       "2  14.0  28.655738      1      0  \n",
       "3  14.0  28.655738      1      0  \n",
       "4  14.0  28.655738      1      0  "
      ]
     },
     "execution_count": 61,
     "metadata": {},
     "output_type": "execute_result"
    }
   ],
   "source": [
    "sens=pd.read_csv('clintab_GMQL/methylation/ss_surv_meth.csv', sep='\\t')\n",
    "sens['class']=np.zeros(sens.shape[0], dtype=int)\n",
    "sens.head()"
   ]
  },
  {
   "cell_type": "code",
   "execution_count": 62,
   "metadata": {},
   "outputs": [],
   "source": [
    "senl=pd.read_csv('clintab_GMQL/methylation/sl_surv_meth.csv', sep='\\t')\n",
    "senl['class']=np.full(senl.shape[0], 2)\n",
    "#senl.head()"
   ]
  },
  {
   "cell_type": "code",
   "execution_count": 63,
   "metadata": {},
   "outputs": [],
   "source": [
    "res=pd.read_csv('clintab_GMQL/methylation/res_surv_meth.csv', sep='\\t')\n",
    "res['class']=np.ones(res.shape[0], dtype=int)\n",
    "#res.head()"
   ]
  },
  {
   "cell_type": "code",
   "execution_count": 64,
   "metadata": {
    "scrolled": true
   },
   "outputs": [],
   "source": [
    "sensitive=senl.append(sens, ignore_index=True)\n",
    "all_dset1=res.append(sensitive, ignore_index=True)\n",
    "\n",
    "#all_dset1.head()"
   ]
  },
  {
   "cell_type": "markdown",
   "metadata": {},
   "source": [
    "## Significant features"
   ]
  },
  {
   "cell_type": "code",
   "execution_count": 65,
   "metadata": {},
   "outputs": [],
   "source": [
    "a=pd.read_csv(\"new_data/methylation/res_sl_meth_pv2.csv\", delimiter=',')\n",
    "b=pd.read_csv(\"new_data/methylation/res_ss_meth_pv2.csv\", delimiter=',')\n",
    "c=pd.read_csv(\"new_data/methylation/sl_ss_meth_pv2.csv\", delimiter=',')"
   ]
  },
  {
   "cell_type": "code",
   "execution_count": 66,
   "metadata": {},
   "outputs": [],
   "source": [
    "lana=b.append(c, ignore_index=True, sort=True)\n",
    "all_genes=a.append(lana, ignore_index=True, sort=True)\n",
    "#all_genes.head()"
   ]
  },
  {
   "cell_type": "code",
   "execution_count": 67,
   "metadata": {},
   "outputs": [
    {
     "data": {
      "text/html": [
       "<div>\n",
       "<style scoped>\n",
       "    .dataframe tbody tr th:only-of-type {\n",
       "        vertical-align: middle;\n",
       "    }\n",
       "\n",
       "    .dataframe tbody tr th {\n",
       "        vertical-align: top;\n",
       "    }\n",
       "\n",
       "    .dataframe thead th {\n",
       "        text-align: right;\n",
       "    }\n",
       "</style>\n",
       "<table border=\"1\" class=\"dataframe\">\n",
       "  <thead>\n",
       "    <tr style=\"text-align: right;\">\n",
       "      <th></th>\n",
       "      <th>gene</th>\n",
       "    </tr>\n",
       "  </thead>\n",
       "  <tbody>\n",
       "    <tr>\n",
       "      <th>0</th>\n",
       "      <td>SKIV2L</td>\n",
       "    </tr>\n",
       "    <tr>\n",
       "      <th>1</th>\n",
       "      <td>MOCS1</td>\n",
       "    </tr>\n",
       "    <tr>\n",
       "      <th>2</th>\n",
       "      <td>LRRN4CL</td>\n",
       "    </tr>\n",
       "    <tr>\n",
       "      <th>3</th>\n",
       "      <td>THRSP</td>\n",
       "    </tr>\n",
       "    <tr>\n",
       "      <th>4</th>\n",
       "      <td>HSPB2</td>\n",
       "    </tr>\n",
       "  </tbody>\n",
       "</table>\n",
       "</div>"
      ],
      "text/plain": [
       "      gene\n",
       "0   SKIV2L\n",
       "1    MOCS1\n",
       "2  LRRN4CL\n",
       "3    THRSP\n",
       "4    HSPB2"
      ]
     },
     "execution_count": 67,
     "metadata": {},
     "output_type": "execute_result"
    }
   ],
   "source": [
    "ciao = all_genes[all_genes.columns[0:1]] \n",
    "ciao.head()"
   ]
  },
  {
   "cell_type": "markdown",
   "metadata": {},
   "source": [
    "### Dataset from list of significant genes"
   ]
  },
  {
   "cell_type": "code",
   "execution_count": 68,
   "metadata": {},
   "outputs": [],
   "source": [
    "lista1=set(all_genes['gene'])\n",
    "#lista1=new_f\n",
    "#len(lista1)"
   ]
  },
  {
   "cell_type": "code",
   "execution_count": 69,
   "metadata": {},
   "outputs": [],
   "source": [
    "dset_res = res[res.gene_symbol.isin(lista1)]\n",
    "res1=pd.DataFrame(dset_res)\n",
    "#res1.head()"
   ]
  },
  {
   "cell_type": "code",
   "execution_count": 70,
   "metadata": {},
   "outputs": [],
   "source": [
    "resdf= res1.groupby(['gene_symbol', 'patient'])['beta_value'].median().unstack(level = 0)\n",
    "#resdf.head()"
   ]
  },
  {
   "cell_type": "code",
   "execution_count": 71,
   "metadata": {},
   "outputs": [],
   "source": [
    "dset_sens = sens[sens.gene_symbol.isin(lista1)]\n",
    "sens1=pd.DataFrame(dset_sens)\n",
    "#sens1.head()"
   ]
  },
  {
   "cell_type": "code",
   "execution_count": 72,
   "metadata": {},
   "outputs": [],
   "source": [
    "sensdf= sens1.groupby(['gene_symbol', 'patient'])['beta_value'].median().unstack(level = 0)\n",
    "#sensdf.head()"
   ]
  },
  {
   "cell_type": "code",
   "execution_count": 73,
   "metadata": {},
   "outputs": [],
   "source": [
    "dset_senl = senl[senl.gene_symbol.isin(lista1)]\n",
    "senl1=pd.DataFrame(dset_senl)\n",
    "#senl1.head()"
   ]
  },
  {
   "cell_type": "code",
   "execution_count": 74,
   "metadata": {},
   "outputs": [],
   "source": [
    "senldf= senl1.groupby(['gene_symbol', 'patient'])['beta_value'].median().unstack(level = 0)\n",
    "#senldf.head()"
   ]
  },
  {
   "cell_type": "raw",
   "metadata": {},
   "source": [
    "sen= dset_sens.append(dset_senl)\n",
    "tot= sen.append(dset_res)\n",
    "df=tot[['patient', 'chrom', 'start', 'stop', 'gene_symbol', 'beta_value']]\n",
    "df.to_csv('new_data/methylation/fin_meth_bonf.csv', sep='\\t', header=True, index=True)\n",
    "df.head()"
   ]
  },
  {
   "cell_type": "code",
   "execution_count": 75,
   "metadata": {},
   "outputs": [],
   "source": [
    "sen_conc=pd.concat([senldf, sensdf])\n",
    "all_conc=pd.concat([sen_conc, resdf])"
   ]
  },
  {
   "cell_type": "code",
   "execution_count": 76,
   "metadata": {},
   "outputs": [
    {
     "data": {
      "text/html": [
       "<div>\n",
       "<style scoped>\n",
       "    .dataframe tbody tr th:only-of-type {\n",
       "        vertical-align: middle;\n",
       "    }\n",
       "\n",
       "    .dataframe tbody tr th {\n",
       "        vertical-align: top;\n",
       "    }\n",
       "\n",
       "    .dataframe thead th {\n",
       "        text-align: right;\n",
       "    }\n",
       "</style>\n",
       "<table border=\"1\" class=\"dataframe\">\n",
       "  <thead>\n",
       "    <tr style=\"text-align: right;\">\n",
       "      <th>gene_symbol</th>\n",
       "      <th>AGO1</th>\n",
       "      <th>ALPK3</th>\n",
       "      <th>CATIP-AS2</th>\n",
       "      <th>CBLN4</th>\n",
       "      <th>CRYAB</th>\n",
       "      <th>CTC-543D15.3</th>\n",
       "      <th>CTPS1</th>\n",
       "      <th>FBXO48</th>\n",
       "      <th>GHSR</th>\n",
       "      <th>HSPB2</th>\n",
       "      <th>...</th>\n",
       "      <th>RP11-886P16.10</th>\n",
       "      <th>SEMA3G</th>\n",
       "      <th>SKIV2L</th>\n",
       "      <th>SLC2A14</th>\n",
       "      <th>TGM1</th>\n",
       "      <th>THRSP</th>\n",
       "      <th>TRAPPC4</th>\n",
       "      <th>VDAC3</th>\n",
       "      <th>VPS37B</th>\n",
       "      <th>ZNF560</th>\n",
       "    </tr>\n",
       "    <tr>\n",
       "      <th>patient</th>\n",
       "      <th></th>\n",
       "      <th></th>\n",
       "      <th></th>\n",
       "      <th></th>\n",
       "      <th></th>\n",
       "      <th></th>\n",
       "      <th></th>\n",
       "      <th></th>\n",
       "      <th></th>\n",
       "      <th></th>\n",
       "      <th></th>\n",
       "      <th></th>\n",
       "      <th></th>\n",
       "      <th></th>\n",
       "      <th></th>\n",
       "      <th></th>\n",
       "      <th></th>\n",
       "      <th></th>\n",
       "      <th></th>\n",
       "      <th></th>\n",
       "      <th></th>\n",
       "    </tr>\n",
       "  </thead>\n",
       "  <tbody>\n",
       "    <tr>\n",
       "      <th>SL_00000</th>\n",
       "      <td>0.016051</td>\n",
       "      <td>0.944771</td>\n",
       "      <td>0.926125</td>\n",
       "      <td>0.272748</td>\n",
       "      <td>0.064485</td>\n",
       "      <td>0.925017</td>\n",
       "      <td>0.274870</td>\n",
       "      <td>0.036465</td>\n",
       "      <td>0.665635</td>\n",
       "      <td>0.507872</td>\n",
       "      <td>...</td>\n",
       "      <td>0.025097</td>\n",
       "      <td>0.959752</td>\n",
       "      <td>0.932630</td>\n",
       "      <td>0.614379</td>\n",
       "      <td>0.761385</td>\n",
       "      <td>0.169713</td>\n",
       "      <td>0.031782</td>\n",
       "      <td>0.275955</td>\n",
       "      <td>0.483716</td>\n",
       "      <td>0.936046</td>\n",
       "    </tr>\n",
       "    <tr>\n",
       "      <th>SL_00001</th>\n",
       "      <td>0.012651</td>\n",
       "      <td>0.558569</td>\n",
       "      <td>0.897421</td>\n",
       "      <td>0.225941</td>\n",
       "      <td>0.370748</td>\n",
       "      <td>0.678537</td>\n",
       "      <td>0.270869</td>\n",
       "      <td>0.023453</td>\n",
       "      <td>0.629792</td>\n",
       "      <td>0.793318</td>\n",
       "      <td>...</td>\n",
       "      <td>0.019223</td>\n",
       "      <td>0.985533</td>\n",
       "      <td>0.923757</td>\n",
       "      <td>0.766650</td>\n",
       "      <td>0.904406</td>\n",
       "      <td>0.967065</td>\n",
       "      <td>0.029116</td>\n",
       "      <td>0.270904</td>\n",
       "      <td>0.305452</td>\n",
       "      <td>0.638086</td>\n",
       "    </tr>\n",
       "    <tr>\n",
       "      <th>SL_00002</th>\n",
       "      <td>0.018730</td>\n",
       "      <td>0.957683</td>\n",
       "      <td>0.948455</td>\n",
       "      <td>0.130589</td>\n",
       "      <td>0.233246</td>\n",
       "      <td>0.924222</td>\n",
       "      <td>0.063129</td>\n",
       "      <td>0.036404</td>\n",
       "      <td>0.064935</td>\n",
       "      <td>0.754209</td>\n",
       "      <td>...</td>\n",
       "      <td>0.021861</td>\n",
       "      <td>0.956035</td>\n",
       "      <td>0.946057</td>\n",
       "      <td>0.766249</td>\n",
       "      <td>0.768642</td>\n",
       "      <td>0.979199</td>\n",
       "      <td>0.024556</td>\n",
       "      <td>0.456719</td>\n",
       "      <td>0.453627</td>\n",
       "      <td>0.933475</td>\n",
       "    </tr>\n",
       "    <tr>\n",
       "      <th>SL_00003</th>\n",
       "      <td>0.019855</td>\n",
       "      <td>0.927138</td>\n",
       "      <td>0.952317</td>\n",
       "      <td>0.383354</td>\n",
       "      <td>0.385329</td>\n",
       "      <td>0.213985</td>\n",
       "      <td>0.336583</td>\n",
       "      <td>0.038373</td>\n",
       "      <td>0.510115</td>\n",
       "      <td>0.648863</td>\n",
       "      <td>...</td>\n",
       "      <td>0.032079</td>\n",
       "      <td>0.948914</td>\n",
       "      <td>0.914845</td>\n",
       "      <td>0.299647</td>\n",
       "      <td>0.727130</td>\n",
       "      <td>0.720289</td>\n",
       "      <td>0.036748</td>\n",
       "      <td>0.450554</td>\n",
       "      <td>0.460353</td>\n",
       "      <td>0.067281</td>\n",
       "    </tr>\n",
       "    <tr>\n",
       "      <th>SL_00004</th>\n",
       "      <td>0.019843</td>\n",
       "      <td>0.928851</td>\n",
       "      <td>0.953204</td>\n",
       "      <td>0.243153</td>\n",
       "      <td>0.334772</td>\n",
       "      <td>0.550735</td>\n",
       "      <td>0.110536</td>\n",
       "      <td>0.037299</td>\n",
       "      <td>0.179736</td>\n",
       "      <td>0.674981</td>\n",
       "      <td>...</td>\n",
       "      <td>0.045006</td>\n",
       "      <td>0.945656</td>\n",
       "      <td>0.904755</td>\n",
       "      <td>0.503075</td>\n",
       "      <td>0.806280</td>\n",
       "      <td>0.946500</td>\n",
       "      <td>0.024663</td>\n",
       "      <td>0.429098</td>\n",
       "      <td>0.399994</td>\n",
       "      <td>0.071509</td>\n",
       "    </tr>\n",
       "  </tbody>\n",
       "</table>\n",
       "<p>5 rows × 31 columns</p>\n",
       "</div>"
      ],
      "text/plain": [
       "gene_symbol      AGO1     ALPK3  CATIP-AS2     CBLN4     CRYAB  CTC-543D15.3  \\\n",
       "patient                                                                        \n",
       "SL_00000     0.016051  0.944771   0.926125  0.272748  0.064485      0.925017   \n",
       "SL_00001     0.012651  0.558569   0.897421  0.225941  0.370748      0.678537   \n",
       "SL_00002     0.018730  0.957683   0.948455  0.130589  0.233246      0.924222   \n",
       "SL_00003     0.019855  0.927138   0.952317  0.383354  0.385329      0.213985   \n",
       "SL_00004     0.019843  0.928851   0.953204  0.243153  0.334772      0.550735   \n",
       "\n",
       "gene_symbol     CTPS1    FBXO48      GHSR     HSPB2    ...     RP11-886P16.10  \\\n",
       "patient                                                ...                      \n",
       "SL_00000     0.274870  0.036465  0.665635  0.507872    ...           0.025097   \n",
       "SL_00001     0.270869  0.023453  0.629792  0.793318    ...           0.019223   \n",
       "SL_00002     0.063129  0.036404  0.064935  0.754209    ...           0.021861   \n",
       "SL_00003     0.336583  0.038373  0.510115  0.648863    ...           0.032079   \n",
       "SL_00004     0.110536  0.037299  0.179736  0.674981    ...           0.045006   \n",
       "\n",
       "gene_symbol    SEMA3G    SKIV2L   SLC2A14      TGM1     THRSP   TRAPPC4  \\\n",
       "patient                                                                   \n",
       "SL_00000     0.959752  0.932630  0.614379  0.761385  0.169713  0.031782   \n",
       "SL_00001     0.985533  0.923757  0.766650  0.904406  0.967065  0.029116   \n",
       "SL_00002     0.956035  0.946057  0.766249  0.768642  0.979199  0.024556   \n",
       "SL_00003     0.948914  0.914845  0.299647  0.727130  0.720289  0.036748   \n",
       "SL_00004     0.945656  0.904755  0.503075  0.806280  0.946500  0.024663   \n",
       "\n",
       "gene_symbol     VDAC3    VPS37B    ZNF560  \n",
       "patient                                    \n",
       "SL_00000     0.275955  0.483716  0.936046  \n",
       "SL_00001     0.270904  0.305452  0.638086  \n",
       "SL_00002     0.456719  0.453627  0.933475  \n",
       "SL_00003     0.450554  0.460353  0.067281  \n",
       "SL_00004     0.429098  0.399994  0.071509  \n",
       "\n",
       "[5 rows x 31 columns]"
      ]
     },
     "execution_count": 76,
     "metadata": {},
     "output_type": "execute_result"
    }
   ],
   "source": [
    "all_conc.head()\n",
    "#all_conc.shape"
   ]
  },
  {
   "cell_type": "markdown",
   "metadata": {},
   "source": [
    "### Adding pfs, class, event, overall survival, pfi"
   ]
  },
  {
   "cell_type": "code",
   "execution_count": 77,
   "metadata": {},
   "outputs": [],
   "source": [
    "lista2=set(all_dset1['pfs'])\n",
    "lista3=set(all_dset1['event'])\n",
    "lista4=set(all_dset1['pfi'])\n",
    "lista5=set(all_dset1['os'])"
   ]
  },
  {
   "cell_type": "code",
   "execution_count": 78,
   "metadata": {},
   "outputs": [],
   "source": [
    "gr=all_dset1.groupby(['patient'])"
   ]
  },
  {
   "cell_type": "code",
   "execution_count": 79,
   "metadata": {
    "scrolled": true
   },
   "outputs": [],
   "source": [
    "pfs=[]\n",
    "e=[]\n",
    "os=[]\n",
    "pfi=[]\n",
    "classes=[]\n",
    "for p in gr.groups.keys():\n",
    "    g=gr.get_group(p)\n",
    "    pfs.append(g['pfs'].unique()[0])\n",
    "    e.append(g['event'].unique()[0])\n",
    "    os.append(g['os'].unique()[0])\n",
    "    pfi.append(g['pfi'].unique()[0])\n",
    "    classes.append(g['class'].unique()[0])\n",
    "   "
   ]
  },
  {
   "cell_type": "code",
   "execution_count": 80,
   "metadata": {},
   "outputs": [
    {
     "data": {
      "text/html": [
       "<div>\n",
       "<style scoped>\n",
       "    .dataframe tbody tr th:only-of-type {\n",
       "        vertical-align: middle;\n",
       "    }\n",
       "\n",
       "    .dataframe tbody tr th {\n",
       "        vertical-align: top;\n",
       "    }\n",
       "\n",
       "    .dataframe thead th {\n",
       "        text-align: right;\n",
       "    }\n",
       "</style>\n",
       "<table border=\"1\" class=\"dataframe\">\n",
       "  <thead>\n",
       "    <tr style=\"text-align: right;\">\n",
       "      <th>gene_symbol</th>\n",
       "      <th>AGO1</th>\n",
       "      <th>ALPK3</th>\n",
       "      <th>CATIP-AS2</th>\n",
       "      <th>CBLN4</th>\n",
       "      <th>CRYAB</th>\n",
       "      <th>CTC-543D15.3</th>\n",
       "      <th>CTPS1</th>\n",
       "      <th>FBXO48</th>\n",
       "      <th>GHSR</th>\n",
       "      <th>HSPB2</th>\n",
       "      <th>...</th>\n",
       "      <th>TGM1</th>\n",
       "      <th>THRSP</th>\n",
       "      <th>TRAPPC4</th>\n",
       "      <th>VDAC3</th>\n",
       "      <th>VPS37B</th>\n",
       "      <th>ZNF560</th>\n",
       "      <th>pfs</th>\n",
       "      <th>event</th>\n",
       "      <th>ov_sur</th>\n",
       "      <th>pfi</th>\n",
       "    </tr>\n",
       "    <tr>\n",
       "      <th>patient</th>\n",
       "      <th></th>\n",
       "      <th></th>\n",
       "      <th></th>\n",
       "      <th></th>\n",
       "      <th></th>\n",
       "      <th></th>\n",
       "      <th></th>\n",
       "      <th></th>\n",
       "      <th></th>\n",
       "      <th></th>\n",
       "      <th></th>\n",
       "      <th></th>\n",
       "      <th></th>\n",
       "      <th></th>\n",
       "      <th></th>\n",
       "      <th></th>\n",
       "      <th></th>\n",
       "      <th></th>\n",
       "      <th></th>\n",
       "      <th></th>\n",
       "      <th></th>\n",
       "    </tr>\n",
       "  </thead>\n",
       "  <tbody>\n",
       "    <tr>\n",
       "      <th>SL_00000</th>\n",
       "      <td>0.016051</td>\n",
       "      <td>0.944771</td>\n",
       "      <td>0.926125</td>\n",
       "      <td>0.272748</td>\n",
       "      <td>0.064485</td>\n",
       "      <td>0.925017</td>\n",
       "      <td>0.274870</td>\n",
       "      <td>0.036465</td>\n",
       "      <td>0.665635</td>\n",
       "      <td>0.507872</td>\n",
       "      <td>...</td>\n",
       "      <td>0.761385</td>\n",
       "      <td>0.169713</td>\n",
       "      <td>0.031782</td>\n",
       "      <td>0.275955</td>\n",
       "      <td>0.483716</td>\n",
       "      <td>0.936046</td>\n",
       "      <td>5.901639</td>\n",
       "      <td>1</td>\n",
       "      <td>68.098361</td>\n",
       "      <td>-1.8</td>\n",
       "    </tr>\n",
       "    <tr>\n",
       "      <th>SL_00001</th>\n",
       "      <td>0.012651</td>\n",
       "      <td>0.558569</td>\n",
       "      <td>0.897421</td>\n",
       "      <td>0.225941</td>\n",
       "      <td>0.370748</td>\n",
       "      <td>0.678537</td>\n",
       "      <td>0.270869</td>\n",
       "      <td>0.023453</td>\n",
       "      <td>0.629792</td>\n",
       "      <td>0.793318</td>\n",
       "      <td>...</td>\n",
       "      <td>0.904406</td>\n",
       "      <td>0.967065</td>\n",
       "      <td>0.029116</td>\n",
       "      <td>0.270904</td>\n",
       "      <td>0.305452</td>\n",
       "      <td>0.638086</td>\n",
       "      <td>8.295082</td>\n",
       "      <td>1</td>\n",
       "      <td>15.147541</td>\n",
       "      <td>4.3</td>\n",
       "    </tr>\n",
       "    <tr>\n",
       "      <th>SL_00002</th>\n",
       "      <td>0.018730</td>\n",
       "      <td>0.957683</td>\n",
       "      <td>0.948455</td>\n",
       "      <td>0.130589</td>\n",
       "      <td>0.233246</td>\n",
       "      <td>0.924222</td>\n",
       "      <td>0.063129</td>\n",
       "      <td>0.036404</td>\n",
       "      <td>0.064935</td>\n",
       "      <td>0.754209</td>\n",
       "      <td>...</td>\n",
       "      <td>0.768642</td>\n",
       "      <td>0.979199</td>\n",
       "      <td>0.024556</td>\n",
       "      <td>0.456719</td>\n",
       "      <td>0.453627</td>\n",
       "      <td>0.933475</td>\n",
       "      <td>10.590164</td>\n",
       "      <td>1</td>\n",
       "      <td>12.426230</td>\n",
       "      <td>5.2</td>\n",
       "    </tr>\n",
       "    <tr>\n",
       "      <th>SL_00003</th>\n",
       "      <td>0.019855</td>\n",
       "      <td>0.927138</td>\n",
       "      <td>0.952317</td>\n",
       "      <td>0.383354</td>\n",
       "      <td>0.385329</td>\n",
       "      <td>0.213985</td>\n",
       "      <td>0.336583</td>\n",
       "      <td>0.038373</td>\n",
       "      <td>0.510115</td>\n",
       "      <td>0.648863</td>\n",
       "      <td>...</td>\n",
       "      <td>0.727130</td>\n",
       "      <td>0.720289</td>\n",
       "      <td>0.036748</td>\n",
       "      <td>0.450554</td>\n",
       "      <td>0.460353</td>\n",
       "      <td>0.067281</td>\n",
       "      <td>5.967213</td>\n",
       "      <td>1</td>\n",
       "      <td>12.098361</td>\n",
       "      <td>-0.8</td>\n",
       "    </tr>\n",
       "    <tr>\n",
       "      <th>SL_00004</th>\n",
       "      <td>0.019843</td>\n",
       "      <td>0.928851</td>\n",
       "      <td>0.953204</td>\n",
       "      <td>0.243153</td>\n",
       "      <td>0.334772</td>\n",
       "      <td>0.550735</td>\n",
       "      <td>0.110536</td>\n",
       "      <td>0.037299</td>\n",
       "      <td>0.179736</td>\n",
       "      <td>0.674981</td>\n",
       "      <td>...</td>\n",
       "      <td>0.806280</td>\n",
       "      <td>0.946500</td>\n",
       "      <td>0.024663</td>\n",
       "      <td>0.429098</td>\n",
       "      <td>0.399994</td>\n",
       "      <td>0.071509</td>\n",
       "      <td>9.278689</td>\n",
       "      <td>1</td>\n",
       "      <td>91.409836</td>\n",
       "      <td>5.2</td>\n",
       "    </tr>\n",
       "  </tbody>\n",
       "</table>\n",
       "<p>5 rows × 35 columns</p>\n",
       "</div>"
      ],
      "text/plain": [
       "gene_symbol      AGO1     ALPK3  CATIP-AS2     CBLN4     CRYAB  CTC-543D15.3  \\\n",
       "patient                                                                        \n",
       "SL_00000     0.016051  0.944771   0.926125  0.272748  0.064485      0.925017   \n",
       "SL_00001     0.012651  0.558569   0.897421  0.225941  0.370748      0.678537   \n",
       "SL_00002     0.018730  0.957683   0.948455  0.130589  0.233246      0.924222   \n",
       "SL_00003     0.019855  0.927138   0.952317  0.383354  0.385329      0.213985   \n",
       "SL_00004     0.019843  0.928851   0.953204  0.243153  0.334772      0.550735   \n",
       "\n",
       "gene_symbol     CTPS1    FBXO48      GHSR     HSPB2 ...       TGM1     THRSP  \\\n",
       "patient                                             ...                        \n",
       "SL_00000     0.274870  0.036465  0.665635  0.507872 ...   0.761385  0.169713   \n",
       "SL_00001     0.270869  0.023453  0.629792  0.793318 ...   0.904406  0.967065   \n",
       "SL_00002     0.063129  0.036404  0.064935  0.754209 ...   0.768642  0.979199   \n",
       "SL_00003     0.336583  0.038373  0.510115  0.648863 ...   0.727130  0.720289   \n",
       "SL_00004     0.110536  0.037299  0.179736  0.674981 ...   0.806280  0.946500   \n",
       "\n",
       "gene_symbol   TRAPPC4     VDAC3    VPS37B    ZNF560        pfs  event  \\\n",
       "patient                                                                 \n",
       "SL_00000     0.031782  0.275955  0.483716  0.936046   5.901639      1   \n",
       "SL_00001     0.029116  0.270904  0.305452  0.638086   8.295082      1   \n",
       "SL_00002     0.024556  0.456719  0.453627  0.933475  10.590164      1   \n",
       "SL_00003     0.036748  0.450554  0.460353  0.067281   5.967213      1   \n",
       "SL_00004     0.024663  0.429098  0.399994  0.071509   9.278689      1   \n",
       "\n",
       "gene_symbol     ov_sur  pfi  \n",
       "patient                      \n",
       "SL_00000     68.098361 -1.8  \n",
       "SL_00001     15.147541  4.3  \n",
       "SL_00002     12.426230  5.2  \n",
       "SL_00003     12.098361 -0.8  \n",
       "SL_00004     91.409836  5.2  \n",
       "\n",
       "[5 rows x 35 columns]"
      ]
     },
     "execution_count": 80,
     "metadata": {},
     "output_type": "execute_result"
    }
   ],
   "source": [
    "all_conc['pfs']=pfs\n",
    "all_conc['event']=e\n",
    "all_conc['ov_sur']=os\n",
    "all_conc['pfi']=pfi\n",
    "#all_conc['class']=classes\n",
    "\n",
    "all_conc.head()"
   ]
  },
  {
   "cell_type": "code",
   "execution_count": 81,
   "metadata": {},
   "outputs": [],
   "source": [
    "#all_conc.to_csv('all_conc_meth.csv', sep=',', header=True, index=True)"
   ]
  },
  {
   "cell_type": "code",
   "execution_count": null,
   "metadata": {},
   "outputs": [],
   "source": [
    "x=all_conc.copy()\n",
    "#x=x.drop(['ov_sur', 'pfi', 'AGO1', 'ALPK3', 'CTC-543D15.3', 'FBXO48', 'LRRN4CL', 'MOCS1', 'PFN1P11', 'PLCE1', 'PLEKHB1', 'THRSP', 'RILP', 'RP11-886P16.10', 'SEMA3G', 'SKIV2L', 'TGM1', 'TRAPPC4', 'ZNF560', 'HSPB2'], axis=1)\n",
    "x=x.drop(['ov_sur', 'pfi', 'pfs', 'event'], axis=1) #questo serve per plottare la correlation matrix, quello sopra per SA\n",
    "x_all=x.values\n",
    "y_all= classes\n",
    "x.head()\n",
    "#x=pd.DataFrame(x)"
   ]
  },
  {
   "cell_type": "code",
   "execution_count": null,
   "metadata": {},
   "outputs": [],
   "source": [
    "import seaborn as sns\n",
    "corr = x.corr()\n",
    "mask = np.zeros_like(corr, dtype=np.bool)\n",
    "mask[np.triu_indices_from(mask)] = True\n",
    "f, ax = plt.subplots(figsize=(30, 30))\n",
    "cmap = sns.diverging_palette(220, 10, as_cmap=True)\n",
    "sns.heatmap(corr, mask=mask, cmap=cmap, vmax=1, center=0,\n",
    "            square=True, linewidths=.5, cbar_kws={\"shrink\": .5})"
   ]
  },
  {
   "cell_type": "code",
   "execution_count": null,
   "metadata": {},
   "outputs": [],
   "source": [
    "no_nan=corr.fillna(value=0)"
   ]
  },
  {
   "cell_type": "code",
   "execution_count": null,
   "metadata": {},
   "outputs": [],
   "source": [
    "finito=False\n",
    "new_f=[]\n",
    "feat=list(no_nan.columns)\n",
    "\n",
    "while finito==False:\n",
    "    f=feat[0]\n",
    "\n",
    "    for r2 in no_nan.columns:\n",
    "        if r2 != f and no_nan[f][r2] >= 0.7:\n",
    "            if r2 in feat:\n",
    "                feat.remove(r2)\n",
    "    \n",
    "    new_f.append(f)\n",
    "    feat.remove(f)\n",
    "    \n",
    "    if len(feat) == 0:\n",
    "        finito=True"
   ]
  },
  {
   "cell_type": "code",
   "execution_count": null,
   "metadata": {},
   "outputs": [],
   "source": [
    "len(new_f)"
   ]
  },
  {
   "cell_type": "code",
   "execution_count": 82,
   "metadata": {},
   "outputs": [
    {
     "data": {
      "text/html": [
       "<div>\n",
       "<style scoped>\n",
       "    .dataframe tbody tr th:only-of-type {\n",
       "        vertical-align: middle;\n",
       "    }\n",
       "\n",
       "    .dataframe tbody tr th {\n",
       "        vertical-align: top;\n",
       "    }\n",
       "\n",
       "    .dataframe thead th {\n",
       "        text-align: right;\n",
       "    }\n",
       "</style>\n",
       "<table border=\"1\" class=\"dataframe\">\n",
       "  <thead>\n",
       "    <tr style=\"text-align: right;\">\n",
       "      <th>gene_symbol</th>\n",
       "      <th>CRYAB</th>\n",
       "      <th>PTGIR</th>\n",
       "      <th>SLC2A14</th>\n",
       "      <th>THRSP</th>\n",
       "      <th>VPS37B</th>\n",
       "      <th>pfs</th>\n",
       "      <th>event</th>\n",
       "    </tr>\n",
       "    <tr>\n",
       "      <th>patient</th>\n",
       "      <th></th>\n",
       "      <th></th>\n",
       "      <th></th>\n",
       "      <th></th>\n",
       "      <th></th>\n",
       "      <th></th>\n",
       "      <th></th>\n",
       "    </tr>\n",
       "  </thead>\n",
       "  <tbody>\n",
       "    <tr>\n",
       "      <th>SL_00000</th>\n",
       "      <td>0.064485</td>\n",
       "      <td>0.961949</td>\n",
       "      <td>0.614379</td>\n",
       "      <td>0.169713</td>\n",
       "      <td>0.483716</td>\n",
       "      <td>5.901639</td>\n",
       "      <td>1</td>\n",
       "    </tr>\n",
       "    <tr>\n",
       "      <th>SL_00001</th>\n",
       "      <td>0.370748</td>\n",
       "      <td>0.954986</td>\n",
       "      <td>0.766650</td>\n",
       "      <td>0.967065</td>\n",
       "      <td>0.305452</td>\n",
       "      <td>8.295082</td>\n",
       "      <td>1</td>\n",
       "    </tr>\n",
       "    <tr>\n",
       "      <th>SL_00002</th>\n",
       "      <td>0.233246</td>\n",
       "      <td>0.971213</td>\n",
       "      <td>0.766249</td>\n",
       "      <td>0.979199</td>\n",
       "      <td>0.453627</td>\n",
       "      <td>10.590164</td>\n",
       "      <td>1</td>\n",
       "    </tr>\n",
       "    <tr>\n",
       "      <th>SL_00003</th>\n",
       "      <td>0.385329</td>\n",
       "      <td>0.945789</td>\n",
       "      <td>0.299647</td>\n",
       "      <td>0.720289</td>\n",
       "      <td>0.460353</td>\n",
       "      <td>5.967213</td>\n",
       "      <td>1</td>\n",
       "    </tr>\n",
       "    <tr>\n",
       "      <th>SL_00004</th>\n",
       "      <td>0.334772</td>\n",
       "      <td>0.948281</td>\n",
       "      <td>0.503075</td>\n",
       "      <td>0.946500</td>\n",
       "      <td>0.399994</td>\n",
       "      <td>9.278689</td>\n",
       "      <td>1</td>\n",
       "    </tr>\n",
       "  </tbody>\n",
       "</table>\n",
       "</div>"
      ],
      "text/plain": [
       "gene_symbol     CRYAB     PTGIR   SLC2A14     THRSP    VPS37B        pfs  \\\n",
       "patient                                                                    \n",
       "SL_00000     0.064485  0.961949  0.614379  0.169713  0.483716   5.901639   \n",
       "SL_00001     0.370748  0.954986  0.766650  0.967065  0.305452   8.295082   \n",
       "SL_00002     0.233246  0.971213  0.766249  0.979199  0.453627  10.590164   \n",
       "SL_00003     0.385329  0.945789  0.299647  0.720289  0.460353   5.967213   \n",
       "SL_00004     0.334772  0.948281  0.503075  0.946500  0.399994   9.278689   \n",
       "\n",
       "gene_symbol  event  \n",
       "patient             \n",
       "SL_00000         1  \n",
       "SL_00001         1  \n",
       "SL_00002         1  \n",
       "SL_00003         1  \n",
       "SL_00004         1  "
      ]
     },
     "execution_count": 82,
     "metadata": {},
     "output_type": "execute_result"
    }
   ],
   "source": [
    "#x.head()\n",
    "y=all_conc.copy()\n",
    "#y=y.drop(['ov_sur', 'pfi', 'AGO1', 'ALPK3', 'CTC-543D15.3', 'FBXO48', 'LRRN4CL', 'MOCS1', 'PFN1P11', 'PLCE1', 'PLEKHB1', 'THRSP', 'RILP', 'RP11-886P16.10', 'SEMA3G', 'SKIV2L', 'TGM1', 'TRAPPC4', 'ZNF560', 'KRT73-AS1'], axis=1)\n",
    "y=y.drop(['ov_sur', 'pfi', 'CTC-543D15.3', 'VDAC3','ALPK3','TGM1','TRAPPC4','AGO1','RP11-886P16.10','PLEKHB1','MPG','PFN1P11',\n",
    "          'GHSR','MKNK1','CTPS1','RILP','ZNF560','SEMA3G','CBLN4','LRRN4CL','PLCE1','SKIV2L','FBXO48','HSPB2','KRT73-AS1',\n",
    "          'MOCS1','OLFM2', 'CATIP-AS2'], axis=1) \n",
    "y_all=y.values\n",
    "#['SKIV2L', 'RILP', 'PLEKHB1']\n",
    "#\n",
    "y.head()"
   ]
  },
  {
   "cell_type": "code",
   "execution_count": 83,
   "metadata": {},
   "outputs": [],
   "source": [
    "x=y.dropna(axis=1, how='any', thresh=None, subset=None, inplace=False)"
   ]
  },
  {
   "cell_type": "code",
   "execution_count": 25,
   "metadata": {},
   "outputs": [
    {
     "name": "stderr",
     "output_type": "stream",
     "text": [
      "/home/lalli/anaconda3/lib/python3.6/site-packages/ipykernel_launcher.py:5: SettingWithCopyWarning: \n",
      "A value is trying to be set on a copy of a slice from a DataFrame.\n",
      "Try using .loc[row_indexer,col_indexer] = value instead\n",
      "\n",
      "See the caveats in the documentation: http://pandas.pydata.org/pandas-docs/stable/indexing.html#indexing-view-versus-copy\n",
      "  \"\"\"\n",
      "/home/lalli/anaconda3/lib/python3.6/site-packages/ipykernel_launcher.py:6: SettingWithCopyWarning: \n",
      "A value is trying to be set on a copy of a slice from a DataFrame.\n",
      "Try using .loc[row_indexer,col_indexer] = value instead\n",
      "\n",
      "See the caveats in the documentation: http://pandas.pydata.org/pandas-docs/stable/indexing.html#indexing-view-versus-copy\n",
      "  \n"
     ]
    }
   ],
   "source": [
    "from sklearn.model_selection import train_test_split\n",
    "x_new=x.copy()\n",
    "x_new=x_new.drop('pfs', axis=1)\n",
    "X_train, X_test, y_train, y_test = train_test_split(x_new, x['pfs'], test_size=0.2)\n",
    "X_train['pfs']= y_train\n",
    "X_test['pfs']= y_test"
   ]
  },
  {
   "cell_type": "code",
   "execution_count": 26,
   "metadata": {},
   "outputs": [
    {
     "name": "stdout",
     "output_type": "stream",
     "text": [
      "\r",
      "Iteration 1: norm_delta = 0.40899, step_size = 0.9500, ll = -876.67812, newton_decrement = 6.96372, seconds_since_start = 0.0\r",
      "Iteration 2: norm_delta = 0.02835, step_size = 0.9500, ll = -869.67386, newton_decrement = 0.03389, seconds_since_start = 0.1\r",
      "Iteration 3: norm_delta = 0.00149, step_size = 0.9500, ll = -869.63898, newton_decrement = 0.00009, seconds_since_start = 0.1\r",
      "Iteration 4: norm_delta = 0.00007, step_size = 1.0000, ll = -869.63883, newton_decrement = 0.00000, seconds_since_start = 0.1\r",
      "Iteration 5: norm_delta = 0.00000, step_size = 1.0000, ll = -869.63882, newton_decrement = 0.00000, seconds_since_start = 0.1Convergence completed after 5 iterations.\n"
     ]
    },
    {
     "data": {
      "text/plain": [
       "<lifelines.CoxPHFitter: fitted with 217 observations, 25 censored>"
      ]
     },
     "execution_count": 26,
     "metadata": {},
     "output_type": "execute_result"
    }
   ],
   "source": [
    "cph = CoxPHFitter(penalizer=0.1)\n",
    "cph.fit(X_train, 'pfs', event_col='event', show_progress=True)"
   ]
  },
  {
   "cell_type": "code",
   "execution_count": 27,
   "metadata": {},
   "outputs": [],
   "source": [
    "res=[]\n",
    "sens=[]\n",
    "senl=[]\n",
    "\n",
    "for p in X_test.index:\n",
    "    if 'R' in p:\n",
    "        res.append(p)\n",
    "    elif 'SS' in p:\n",
    "        sens.append(p)\n",
    "    else:\n",
    "        senl.append(p)"
   ]
  },
  {
   "cell_type": "code",
   "execution_count": 31,
   "metadata": {},
   "outputs": [
    {
     "data": {
      "image/png": "[encoded data removed]",
      "text/plain": [
       "<Figure size 432x288 with 1 Axes>"
      ]
     },
     "metadata": {},
     "output_type": "display_data"
    }
   ],
   "source": [
    "plt.plot(cph.predict_survival_function(X_test.loc[res]))\n",
    "plt.xlabel('Progression Free Survival')\n",
    "plt.ylabel('Probability of Survival')\n",
    "plt.title('Resistant Class\\nmethylation')\n",
    "plt.show()"
   ]
  },
  {
   "cell_type": "code",
   "execution_count": 84,
   "metadata": {
    "scrolled": true
   },
   "outputs": [
    {
     "name": "stdout",
     "output_type": "stream",
     "text": [
      "StandardScaler(copy=True, with_mean=True, with_std=True)\n",
      "[ 0.22676951  0.89836326  0.37378662  0.45404347  0.29164143 20.53266635\n",
      "  0.87132353]\n",
      "gene_symbol     CRYAB     PTGIR   SLC2A14     THRSP    VPS37B       pfs  \\\n",
      "0           -1.340180  0.847690  0.927412 -0.979552  1.321001 -0.854900   \n",
      "1            1.189004  0.754874  1.514373  1.767421  0.094982 -0.715049   \n",
      "2            0.053483  0.971200  1.512826  1.809225  1.114066 -0.580946   \n",
      "3            1.309417  0.632254 -0.285784  0.917249  1.160327 -0.851068   \n",
      "4            0.891907  0.665477  0.498370  1.696573  0.745204 -0.657577   \n",
      "5            1.833463  0.992160  0.984119  1.127616  1.227466 -0.906625   \n",
      "6            1.450227  0.617984  1.133902 -0.612588 -0.183158 -0.625009   \n",
      "7            0.836824 -0.656618  0.745408  0.612835  0.486838 -0.628840   \n",
      "8            2.130809  0.898232  0.909859  1.788494  1.021548 -0.657577   \n",
      "9            0.203476  0.485166  0.893213 -0.640032  0.913804 -0.632672   \n",
      "10          -0.332748 -0.162758       NaN  0.048410  1.182218 -0.569452   \n",
      "11           1.889460  0.087925 -0.529479  1.794715 -1.496526 -0.921951   \n",
      "12           0.089747  0.591791  1.105298  1.649229  1.130902 -0.471748   \n",
      "13           1.021733  0.300045  0.593641 -0.655602  1.042937 -0.628840   \n",
      "14           0.372512  0.199686 -1.378437  1.553109  0.962811 -0.653745   \n",
      "15           1.413384  0.750798  1.225456  0.873674  1.114068 -0.749533   \n",
      "16          -0.543281 -0.340660  0.954260 -0.770856  1.178282 -1.107780   \n",
      "17           0.084997  0.812539 -1.168405  0.009905  0.818359 -0.676734   \n",
      "18           1.342642  0.522881  0.879811  1.321539  1.199457 -0.797427   \n",
      "19           2.037809  0.631967  1.411823  1.754144 -0.594957 -0.661408   \n",
      "20          -1.326872  0.512754 -1.420319  1.661957 -0.648144 -0.429602   \n",
      "21           1.813870  0.047795  1.091638  0.347721 -0.833125 -0.544547   \n",
      "22           0.368271  0.733068  1.340179 -0.074890  0.353750 -0.646082   \n",
      "23           0.165597 -0.535753 -1.250848  1.639709 -0.038643 -0.527305   \n",
      "24           0.432889  0.260821  1.355604 -0.534110  1.009213 -0.743786   \n",
      "25           0.041052 -1.245945 -0.190676  0.502649 -0.952769 -0.862563   \n",
      "26           0.280182 -0.060270  0.698704 -0.409711  0.551594 -0.893215   \n",
      "27          -1.095621  0.725683 -0.275004 -0.356928  0.228385 -0.586694   \n",
      "28          -0.736649 -0.079918  0.526183 -1.339016 -1.520368 -0.657577   \n",
      "29          -0.523424 -0.921506 -1.376732 -0.211678  0.964666 -0.852984   \n",
      "..                ...       ...       ...       ...       ...       ...   \n",
      "242         -1.089218  0.290894 -1.258576 -1.418723 -0.283740  0.139378   \n",
      "243         -0.323294 -1.129629 -0.762594 -0.703512 -1.441848 -0.439180   \n",
      "244          0.016451 -0.492648 -0.458140 -0.572030 -0.527787  0.369269   \n",
      "245         -1.429934  1.120962 -0.480766 -1.246754  0.488996 -0.013882   \n",
      "246          1.855743  0.249834  1.592507  1.683177 -1.732989  0.097232   \n",
      "247          0.882205  0.628061  0.929681 -0.120438  1.304145  0.401837   \n",
      "248         -1.481319 -5.234866 -1.412533 -1.434478 -0.545713 -0.483243   \n",
      "249          0.461886  0.190497 -0.323397 -1.261653 -0.720650 -0.395118   \n",
      "250         -1.178285  0.181529 -0.722987 -0.467113  0.398516 -0.017714   \n",
      "251         -1.050198  0.386000  1.240733 -0.986699  0.230525 -0.299330   \n",
      "252         -0.490679 -1.556367 -1.263825 -1.218553 -0.450202 -0.337645   \n",
      "253          1.106032 -0.057208 -0.914139  1.073470 -0.111985 -0.579031   \n",
      "254         -0.388703  0.102458 -0.899101  1.369677  0.989733  0.551266   \n",
      "255         -0.920153 -1.821131 -0.782455 -0.614567 -1.337547 -0.297414   \n",
      "256          0.431460  0.633189 -0.984738 -0.423830  0.621125 -0.565620   \n",
      "257          0.549911 -0.303046  0.180352  1.073358  0.727014 -0.531137   \n",
      "258          1.004372 -2.200784  0.793652  0.311679 -1.385098  0.509120   \n",
      "259          1.562777  0.127265  0.944929 -0.040680  1.014792 -0.320403   \n",
      "260         -1.012288  0.592476  0.999675 -0.783504  0.649166 -0.452591   \n",
      "261          0.511530  0.401837  1.065594  0.015911  1.184417 -0.100091   \n",
      "262         -0.357237  0.122389  0.727834 -0.232699 -0.230951 -0.575199   \n",
      "263         -0.564721 -0.157470 -1.262595 -0.581694  0.841078 -0.331898   \n",
      "264         -1.027871  0.713785 -0.100028 -0.997203  1.085222  0.041675   \n",
      "265         -1.119244  0.667774  0.566611 -1.251915  0.553023 -0.341477   \n",
      "266          2.031184 -0.371089 -1.113714  0.112702 -1.571039  0.009107   \n",
      "267         -1.552258  0.047140  0.932306 -0.955333 -1.887967 -0.023461   \n",
      "268         -1.423940 -3.488438  0.108124 -1.318892 -1.508226 -0.261015   \n",
      "269         -0.878288  0.706941  0.438801 -0.680179  1.103961 -0.686313   \n",
      "270          1.152522  0.670019 -1.422144  1.809923  0.926394  0.361606   \n",
      "271         -1.319419  0.740644  0.250070 -0.926960 -0.468837  0.028264   \n",
      "\n",
      "gene_symbol     event  \n",
      "0            0.384291  \n",
      "1            0.384291  \n",
      "2            0.384291  \n",
      "3            0.384291  \n",
      "4            0.384291  \n",
      "5            0.384291  \n",
      "6            0.384291  \n",
      "7            0.384291  \n",
      "8            0.384291  \n",
      "9            0.384291  \n",
      "10           0.384291  \n",
      "11           0.384291  \n",
      "12           0.384291  \n",
      "13           0.384291  \n",
      "14           0.384291  \n",
      "15           0.384291  \n",
      "16           0.384291  \n",
      "17           0.384291  \n",
      "18           0.384291  \n",
      "19           0.384291  \n",
      "20           0.384291  \n",
      "21           0.384291  \n",
      "22           0.384291  \n",
      "23           0.384291  \n",
      "24           0.384291  \n",
      "25           0.384291  \n",
      "26           0.384291  \n",
      "27           0.384291  \n",
      "28           0.384291  \n",
      "29           0.384291  \n",
      "..                ...  \n",
      "242         -2.602197  \n",
      "243          0.384291  \n",
      "244          0.384291  \n",
      "245          0.384291  \n",
      "246          0.384291  \n",
      "247         -2.602197  \n",
      "248          0.384291  \n",
      "249          0.384291  \n",
      "250          0.384291  \n",
      "251          0.384291  \n",
      "252          0.384291  \n",
      "253          0.384291  \n",
      "254          0.384291  \n",
      "255          0.384291  \n",
      "256         -2.602197  \n",
      "257          0.384291  \n",
      "258          0.384291  \n",
      "259          0.384291  \n",
      "260          0.384291  \n",
      "261          0.384291  \n",
      "262          0.384291  \n",
      "263          0.384291  \n",
      "264          0.384291  \n",
      "265          0.384291  \n",
      "266          0.384291  \n",
      "267          0.384291  \n",
      "268          0.384291  \n",
      "269         -2.602197  \n",
      "270          0.384291  \n",
      "271          0.384291  \n",
      "\n",
      "[272 rows x 7 columns]\n"
     ]
    }
   ],
   "source": [
    "from sklearn.preprocessing import StandardScaler\n",
    "\n",
    "scaler = StandardScaler()\n",
    "print(scaler.fit(y))\n",
    "StandardScaler(copy=True, with_mean=True, with_std=True)\n",
    "print(scaler.mean_)\n",
    "df_scal=scaler.transform(y)\n",
    "df_scal=pd.DataFrame(df_scal, columns=y.columns)\n",
    "print(df_scal)"
   ]
  },
  {
   "cell_type": "code",
   "execution_count": 85,
   "metadata": {},
   "outputs": [],
   "source": [
    "df_s=df_scal.dropna(axis=1, how='any', thresh=None, subset=None, inplace=False)"
   ]
  },
  {
   "cell_type": "raw",
   "metadata": {
    "scrolled": true
   },
   "source": [
    "for i in range(all_conc.shape[0]):\n",
    "    for j in range(all_conc.shape[1]):\n",
    "        if np.isnan(all_conc.iloc[i][j]):\n",
    "            print('yes, in ', all_conc.index[i], ' and ', all_conc.columns[j])"
   ]
  },
  {
   "cell_type": "code",
   "execution_count": 86,
   "metadata": {
    "scrolled": true
   },
   "outputs": [
    {
     "name": "stdout",
     "output_type": "stream",
     "text": [
      "\r",
      "Iteration 1: norm_delta = 0.41928, step_size = 0.5000, ll = -1256.50031, newton_decrement = 11.30804, seconds_since_start = 0.0\r",
      "Iteration 2: norm_delta = 0.21635, step_size = 0.5000, ll = -1248.00009, newton_decrement = 2.96212, seconds_since_start = 0.0\r",
      "Iteration 3: norm_delta = 0.11089, step_size = 0.5000, ll = -1245.77416, newton_decrement = 0.76818, seconds_since_start = 0.1\r",
      "Iteration 4: norm_delta = 0.05628, step_size = 0.6000, ll = -1245.19733, newton_decrement = 0.19633, seconds_since_start = 0.1\r",
      "Iteration 5: norm_delta = 0.02277, step_size = 0.7200, ll = -1245.03225, newton_decrement = 0.03198, seconds_since_start = 0.1\r",
      "Iteration 6: norm_delta = 0.00642, step_size = 0.8640, ll = -1245.00275, newton_decrement = 0.00254, seconds_since_start = 0.1\r",
      "Iteration 7: norm_delta = 0.00088, step_size = 1.0000, ll = -1245.00025, newton_decrement = 0.00005, seconds_since_start = 0.1\r",
      "Iteration 8: norm_delta = 0.00000, step_size = 1.0000, ll = -1245.00021, newton_decrement = 0.00000, seconds_since_start = 0.1Convergence completed after 8 iterations.\n",
      "<lifelines.CoxPHFitter: fitted with 272 observations, 0 censored>\n",
      "      duration col = 'pfs'\n",
      "         event col = 'event'\n",
      "         penalizer = 0.0001\n",
      "number of subjects = 272\n",
      "  number of events = 272\n",
      "partial log-likelihood = -1245.00\n",
      "  time fit was run = 2019-10-16 10:52:43 UTC\n",
      "\n",
      "---\n",
      "             coef exp(coef)  se(coef)  coef lower 95%  coef upper 95% exp(coef) lower 95% exp(coef) upper 95%\n",
      "gene_symbol                                                                                                  \n",
      "CRYAB        0.29      1.33      0.08            0.13            0.44                1.14                1.55\n",
      "PTGIR       -0.13      0.88      0.07           -0.27            0.01                0.77                1.01\n",
      "THRSP       -0.19      0.82      0.08           -0.35           -0.04                0.71                0.96\n",
      "VPS37B       0.22      1.24      0.07            0.08            0.35                1.09                1.42\n",
      "\n",
      "                z      p  -log2(p)\n",
      "gene_symbol                       \n",
      "CRYAB        3.67 <0.005     11.98\n",
      "PTGIR       -1.82   0.07      3.85\n",
      "THRSP       -2.49   0.01      6.28\n",
      "VPS37B       3.15 <0.005      9.28\n",
      "---\n",
      "Concordance = 0.58\n",
      "Log-likelihood ratio test = 23.00 on 4 df, -log2(p)=12.95\n"
     ]
    },
    {
     "data": {
      "text/plain": [
       "<matplotlib.axes._subplots.AxesSubplot at 0x7f3912034ac8>"
      ]
     },
     "execution_count": 86,
     "metadata": {},
     "output_type": "execute_result"
    },
    {
     "data": {
      "image/png": "[encoded data removed]",
      "text/plain": [
       "<Figure size 432x288 with 1 Axes>"
      ]
     },
     "metadata": {},
     "output_type": "display_data"
    }
   ],
   "source": [
    "cph = CoxPHFitter(penalizer=0.0001)\n",
    "cph.fit(df_s, duration_col='pfs', event_col='event', show_progress=True, step_size=0.5)\n",
    "cph.print_summary()\n",
    "cph.baseline_cumulative_hazard_.shape\n",
    "cph.plot()"
   ]
  },
  {
   "cell_type": "code",
   "execution_count": 58,
   "metadata": {},
   "outputs": [],
   "source": [
    "k_fold = k_fold_cross_validation(cph, df_s, duration_col='pfs', event_col='event', k=5, predictor='predict_median')"
   ]
  },
  {
   "cell_type": "code",
   "execution_count": null,
   "metadata": {},
   "outputs": [],
   "source": [
    "w=np.mean(k_fold)\n",
    "w\n",
    "#k_fold"
   ]
  },
  {
   "cell_type": "code",
   "execution_count": null,
   "metadata": {},
   "outputs": [],
   "source": [
    "k_fold"
   ]
  },
  {
   "cell_type": "code",
   "execution_count": 90,
   "metadata": {},
   "outputs": [
    {
     "data": {
      "text/plain": [
       "<matplotlib.axes._subplots.AxesSubplot at 0x7f38cdaffc50>"
      ]
     },
     "execution_count": 90,
     "metadata": {},
     "output_type": "execute_result"
    },
    {
     "data": {
      "image/png": "[encoded data removed]",
      "text/plain": [
       "<Figure size 576x576 with 1 Axes>"
      ]
     },
     "metadata": {},
     "output_type": "display_data"
    }
   ],
   "source": [
    "plt.rcParams[\"figure.figsize\"] = [8, 8]\n",
    "cph.plot()"
   ]
  },
  {
   "cell_type": "code",
   "execution_count": null,
   "metadata": {},
   "outputs": [],
   "source": [
    " \n"
   ]
  },
  {
   "cell_type": "code",
   "execution_count": null,
   "metadata": {},
   "outputs": [],
   "source": []
  },
  {
   "cell_type": "code",
   "execution_count": null,
   "metadata": {},
   "outputs": [],
   "source": []
  },
  {
   "cell_type": "code",
   "execution_count": null,
   "metadata": {},
   "outputs": [],
   "source": []
  },
  {
   "cell_type": "code",
   "execution_count": null,
   "metadata": {},
   "outputs": [],
   "source": []
  },
  {
   "cell_type": "markdown",
   "metadata": {},
   "source": [
    "## Prove"
   ]
  },
  {
   "cell_type": "code",
   "execution_count": null,
   "metadata": {},
   "outputs": [],
   "source": [
    "cph.fit(all_conc, duration_col='pfs', event_col='event', show_progress=True)\n",
    "\n",
    "cph.plot_covariate_groups('ENSG00000135443.7', [0, 1, 2], cmap='coolwarm')"
   ]
  },
  {
   "cell_type": "code",
   "execution_count": null,
   "metadata": {},
   "outputs": [],
   "source": [
    "#prediction(?)\n",
    "\n",
    "from lifelines import WeibullAFTFitter\n",
    "aft_with_elastic_penalty = WeibullAFTFitter(penalizer=4.0, l1_ratio=1.0)\n",
    "aft_with_elastic_penalty.fit(all_conc, 'pfs', 'event')\n",
    "aft_with_elastic_penalty.predict_median(all_conc)\n",
    "\n",
    "aft_with_elastic_penalty.print_summary()"
   ]
  },
  {
   "cell_type": "code",
   "execution_count": null,
   "metadata": {},
   "outputs": [],
   "source": [
    "#Model selection for AFT models\n",
    "from lifelines import LogLogisticAFTFitter, WeibullAFTFitter, LogNormalAFTFitter\n",
    "\n",
    "llf = LogLogisticAFTFitter().fit(all_conc, 'pfs', 'event')\n",
    "lnf = LogNormalAFTFitter().fit(all_conc, 'pfs', 'event')\n",
    "wf = WeibullAFTFitter().fit(all_conc, 'pfs', 'event')\n",
    "\n",
    "print(llf.log_likelihood_) \n",
    "print(lnf.log_likelihood_)  \n",
    "print(wf.log_likelihood_)   \n",
    "\n",
    "\n",
    "# with some heterogeneity in the ancillary parameters\n",
    "#ancillary_df = all_conc[['class']]\n",
    "#llf = LogLogisticAFTFitter().fit(all_conc, 'pfs', 'event', ancillary_df=ancillary_df)\n",
    "#lnf = LogNormalAFTFitter().fit(all_conc, 'pfs', 'event', ancillary_df=ancillary_df)\n",
    "#wf = WeibullAFTFitter().fit(all_conc, 'pfs', 'event', ancillary_df=ancillary_df)\n",
    "\n",
    "#print(llf.log_likelihood_) \n",
    "#print(lnf.log_likelihood_) \n",
    "#print(wf.log_likelihood_)  "
   ]
  },
  {
   "cell_type": "raw",
   "metadata": {},
   "source": [
    "from lifelines import WeibullAFTFitter\n",
    "fig, ax = plt.subplots(nrows=1, ncols=2, figsize=(10, 4))\n",
    "\n",
    "times = np.arange(0, 100)\n",
    "wft_model_rho = WeibullAFTFitter().fit(all_conc, 'pfs', 'event', ancillary_df=True, timeline=times)\n",
    "wft_model_rho.plot_covariate_groups('class', range(0, 1, 2), cmap='coolwarm', ax=ax[0])\n",
    "ax[0].set_title(\"Modelling rho_\")"
   ]
  },
  {
   "cell_type": "raw",
   "metadata": {},
   "source": [
    "cph.predict_partial_hazard(all_conc)\n",
    "\n",
    "cph.predict_survival_function(all_conc, times=['5., 25., 50.'])\n",
    "\n",
    "cph.predict_median(all_conc)"
   ]
  },
  {
   "cell_type": "code",
   "execution_count": null,
   "metadata": {},
   "outputs": [],
   "source": [
    "all_conc['ENSG00000135443.7']"
   ]
  },
  {
   "cell_type": "code",
   "execution_count": null,
   "metadata": {},
   "outputs": [],
   "source": [
    "cph.check_assumptions(all_conc, p_value_threshold=0.05, show_plots=True)"
   ]
  },
  {
   "cell_type": "code",
   "execution_count": null,
   "metadata": {},
   "outputs": [],
   "source": []
  },
  {
   "cell_type": "code",
   "execution_count": null,
   "metadata": {},
   "outputs": [],
   "source": []
  },
  {
   "cell_type": "code",
   "execution_count": null,
   "metadata": {},
   "outputs": [],
   "source": []
  },
  {
   "cell_type": "code",
   "execution_count": null,
   "metadata": {},
   "outputs": [],
   "source": []
  },
  {
   "cell_type": "code",
   "execution_count": null,
   "metadata": {},
   "outputs": [],
   "source": []
  },
  {
   "cell_type": "code",
   "execution_count": null,
   "metadata": {},
   "outputs": [],
   "source": []
  },
  {
   "cell_type": "code",
   "execution_count": null,
   "metadata": {},
   "outputs": [],
   "source": []
  },
  {
   "cell_type": "code",
   "execution_count": null,
   "metadata": {},
   "outputs": [],
   "source": []
  },
  {
   "cell_type": "code",
   "execution_count": null,
   "metadata": {},
   "outputs": [],
   "source": []
  },
  {
   "cell_type": "code",
   "execution_count": null,
   "metadata": {},
   "outputs": [],
   "source": []
  },
  {
   "cell_type": "code",
   "execution_count": null,
   "metadata": {},
   "outputs": [],
   "source": []
  },
  {
   "cell_type": "code",
   "execution_count": null,
   "metadata": {},
   "outputs": [],
   "source": []
  },
  {
   "cell_type": "code",
   "execution_count": null,
   "metadata": {},
   "outputs": [],
   "source": []
  },
  {
   "cell_type": "code",
   "execution_count": null,
   "metadata": {},
   "outputs": [],
   "source": []
  },
  {
   "cell_type": "code",
   "execution_count": null,
   "metadata": {},
   "outputs": [],
   "source": []
  },
  {
   "cell_type": "code",
   "execution_count": null,
   "metadata": {},
   "outputs": [],
   "source": []
  },
  {
   "cell_type": "code",
   "execution_count": null,
   "metadata": {},
   "outputs": [],
   "source": []
  },
  {
   "cell_type": "code",
   "execution_count": null,
   "metadata": {},
   "outputs": [],
   "source": []
  },
  {
   "cell_type": "code",
   "execution_count": null,
   "metadata": {},
   "outputs": [],
   "source": []
  }
 ],
 "metadata": {
  "kernelspec": {
   "display_name": "Python 3",
   "language": "python",
   "name": "python3"
  },
  "language_info": {
   "codemirror_mode": {
    "name": "ipython",
    "version": 3
   },
   "file_extension": ".py",
   "mimetype": "text/x-python",
   "name": "python",
   "nbconvert_exporter": "python",
   "pygments_lexer": "ipython3",
   "version": "3.6.5"
  }
 },
 "nbformat": 4,
 "nbformat_minor": 2
}
