{
 "cells": [
  {
   "cell_type": "code",
   "execution_count": 1,
   "metadata": {},
   "outputs": [],
   "source": [
    "#Import Libraries\n",
    "import subprocess\n",
    "import re\n",
    "import pandas as pd\n",
    "import os\n",
    "import collections\n",
    "import scipy.stats\n",
    "import numpy as np\n",
    "import scipy\n",
    "import csv\n",
    "import math\n",
    "import seaborn as sns\n",
    "import statsmodels.api as sm\n",
    "\n",
    "from functools import reduce\n",
    "from tqdm import tqdm\n",
    "from matplotlib import pyplot as plt\n",
    "%matplotlib inline\n",
    "from pandas.tools.plotting import table\n",
    "from scipy import interp\n",
    "from sklearn import svm\n",
    "from sklearn.svm import SVC\n",
    "from sklearn.datasets import make_blobs, make_classification\n",
    "\n",
    "\n",
    "from sklearn.feature_selection import SelectKBest, chi2, VarianceThreshold\n",
    "from sklearn.model_selection import RepeatedStratifiedKFold, StratifiedKFold, GridSearchCV, LeaveOneOut, train_test_split, StratifiedShuffleSplit\n",
    "from sklearn.metrics import accuracy_score, precision_score, recall_score, confusion_matrix, auc, roc_curve, precision_recall_curve, f1_score, classification_report\n",
    "from sklearn.preprocessing import StandardScaler, MinMaxScaler\n",
    "from sklearn.ensemble import RandomForestClassifier, AdaBoostClassifier, ExtraTreesClassifier\n",
    "from sklearn.linear_model import LogisticRegression\n",
    "from sklearn.neighbors import KNeighborsClassifier  \n",
    "from sklearn.tree import DecisionTreeClassifier\n",
    "from sklearn.utils.multiclass import unique_labels\n",
    "from sklearn.decomposition import PCA\n",
    "from sklearn.manifold import TSNE\n",
    "from mpl_toolkits.mplot3d import Axes3D"
   ]
  },
  {
   "cell_type": "code",
   "execution_count": 2,
   "metadata": {},
   "outputs": [],
   "source": [
    "mirTarBase=pd.read_csv('miRtarbase1.csv', sep='\\t', header=None)\n",
    "TarBase = mirTarBase[0].values\n",
    "lista=[]\n",
    "\n",
    "for x in TarBase:\n",
    "    \n",
    "    lista.append(x.lower())"
   ]
  },
  {
   "cell_type": "code",
   "execution_count": 3,
   "metadata": {},
   "outputs": [],
   "source": [
    "T_Base=[]\n",
    "\n",
    "for x in [\"-\".join(x.strip().split(\"-\")[:3])  for x in lista]:\n",
    "    T_Base.append(x) "
   ]
  },
  {
   "cell_type": "code",
   "execution_count": 4,
   "metadata": {},
   "outputs": [],
   "source": [
    "giada=set(T_Base)"
   ]
  },
  {
   "cell_type": "code",
   "execution_count": 5,
   "metadata": {},
   "outputs": [],
   "source": [
    "r_ss=pd.read_csv('new_data/gene_exprs/R_SS_last.csv', sep=',')\n",
    "r_sl=pd.read_csv('new_data/gene_exprs/R_SL_last.csv', sep=',')\n",
    "sl_ss=pd.read_csv('new_data/gene_exprs/SS_SL_last.csv', sep=',')\n",
    "r_stot=pd.read_csv('new_data/gene_exprs/R_Stot_last.csv', sep=',')"
   ]
  },
  {
   "cell_type": "code",
   "execution_count": 6,
   "metadata": {},
   "outputs": [],
   "source": [
    "dsets=pd.concat([r_ss, r_sl, sl_ss, r_stot])"
   ]
  },
  {
   "cell_type": "code",
   "execution_count": 7,
   "metadata": {
    "collapsed": true
   },
   "outputs": [
    {
     "data": {
      "text/plain": [
       "set"
      ]
     },
     "execution_count": 7,
     "metadata": {},
     "output_type": "execute_result"
    }
   ],
   "source": [
    "ent_id=set(dsets['entrez_id'])\n",
    "type(ent_id)"
   ]
  },
  {
   "cell_type": "code",
   "execution_count": 8,
   "metadata": {},
   "outputs": [],
   "source": [
    "ent_set=set(mirTarBase[1])"
   ]
  },
  {
   "cell_type": "code",
   "execution_count": 9,
   "metadata": {},
   "outputs": [],
   "source": [
    "intersect=ent_id.intersection(ent_set)"
   ]
  },
  {
   "cell_type": "code",
   "execution_count": 22,
   "metadata": {},
   "outputs": [
    {
     "data": {
      "text/plain": [
       "{38.0,\n",
       " 780.0,\n",
       " 2034.0,\n",
       " 2122.0,\n",
       " 3280.0,\n",
       " 3309.0,\n",
       " 3459.0,\n",
       " 3791.0,\n",
       " 5139.0,\n",
       " 6135.0,\n",
       " 7855.0,\n",
       " 7976.0,\n",
       " 10525.0,\n",
       " 23492.0,\n",
       " 51726.0,\n",
       " 113612.0,\n",
       " 255488.0}"
      ]
     },
     "execution_count": 22,
     "metadata": {},
     "output_type": "execute_result"
    }
   ],
   "source": [
    "intersect"
   ]
  },
  {
   "cell_type": "code",
   "execution_count": 21,
   "metadata": {},
   "outputs": [
    {
     "data": {
      "text/plain": [
       "[255488.0,\n",
       " 3459.0,\n",
       " 23492.0,\n",
       " 38.0,\n",
       " 7976.0,\n",
       " 2122.0,\n",
       " 780.0,\n",
       " 113612.0,\n",
       " 51726.0,\n",
       " 3309.0,\n",
       " 3280.0,\n",
       " 7855.0,\n",
       " 3791.0,\n",
       " 5139.0,\n",
       " 2034.0,\n",
       " 6135.0,\n",
       " 10525.0]"
      ]
     },
     "execution_count": 21,
     "metadata": {},
     "output_type": "execute_result"
    }
   ],
   "source": [
    "geni=list(intersect)\n",
    "geni"
   ]
  },
  {
   "cell_type": "code",
   "execution_count": 29,
   "metadata": {},
   "outputs": [],
   "source": [
    "ds = dsets[dsets.entrez_id.isin(geni)]\n",
    "dset_geni=pd.DataFrame(ds)"
   ]
  },
  {
   "cell_type": "code",
   "execution_count": 43,
   "metadata": {},
   "outputs": [
    {
     "data": {
      "text/plain": [
       "array(['RPL11', 'EPAS1', 'KDR', 'DDR1', 'HSPA5', 'HYOU1', 'FZD5', 'MECOM',\n",
       "       'DNAJB11', 'HES1', 'RNF144B', 'FZD3', 'PDE3A', 'CYP2U1', 'IFNGR1',\n",
       "       'ACAT1', 'CBX7'], dtype=object)"
      ]
     },
     "execution_count": 43,
     "metadata": {},
     "output_type": "execute_result"
    }
   ],
   "source": [
    "x=dset_geni[['entrez_id', 'gene_symbol']]\n",
    "x['gene_symbol'].unique()\n",
    "#x['entrez_id'].unique()\n",
    "#x.head()"
   ]
  },
  {
   "cell_type": "code",
   "execution_count": 11,
   "metadata": {},
   "outputs": [],
   "source": [
    "r_ss_=pd.read_csv('new_data/miRNA/SS_R_last.csv', sep=',')\n",
    "r_sl_=pd.read_csv('new_data/miRNA/SL_R_last.csv', sep=',')\n",
    "sl_ss_=pd.read_csv('new_data/miRNA/SS_SL_last.csv', sep=',')\n",
    "r_stot_=pd.read_csv('new_data/miRNA/Stot_R_last.csv', sep=',')"
   ]
  },
  {
   "cell_type": "code",
   "execution_count": 12,
   "metadata": {},
   "outputs": [],
   "source": [
    "dsets_=pd.concat([r_ss_, r_sl_, sl_ss_, r_stot_])"
   ]
  },
  {
   "cell_type": "code",
   "execution_count": 13,
   "metadata": {
    "collapsed": true
   },
   "outputs": [
    {
     "data": {
      "text/html": [
       "<div>\n",
       "<style scoped>\n",
       "    .dataframe tbody tr th:only-of-type {\n",
       "        vertical-align: middle;\n",
       "    }\n",
       "\n",
       "    .dataframe tbody tr th {\n",
       "        vertical-align: top;\n",
       "    }\n",
       "\n",
       "    .dataframe thead th {\n",
       "        text-align: right;\n",
       "    }\n",
       "</style>\n",
       "<table border=\"1\" class=\"dataframe\">\n",
       "  <thead>\n",
       "    <tr style=\"text-align: right;\">\n",
       "      <th></th>\n",
       "      <th>patient</th>\n",
       "      <th>chrom</th>\n",
       "      <th>start</th>\n",
       "      <th>stop</th>\n",
       "      <th>mirna_id</th>\n",
       "      <th>rpm</th>\n",
       "      <th>entrez_id</th>\n",
       "      <th>gene_symbol</th>\n",
       "    </tr>\n",
       "  </thead>\n",
       "  <tbody>\n",
       "    <tr>\n",
       "      <th>0</th>\n",
       "      <td>SS_00000</td>\n",
       "      <td>chr2</td>\n",
       "      <td>87629754</td>\n",
       "      <td>87629834</td>\n",
       "      <td>hsa-mir-4435-1</td>\n",
       "      <td>0.470089</td>\n",
       "      <td>100616499.0</td>\n",
       "      <td>mir4435-1</td>\n",
       "    </tr>\n",
       "    <tr>\n",
       "      <th>1</th>\n",
       "      <td>SS_00000</td>\n",
       "      <td>chr7</td>\n",
       "      <td>44881747</td>\n",
       "      <td>44881800</td>\n",
       "      <td>hsa-mir-4657</td>\n",
       "      <td>0.000000</td>\n",
       "      <td>100616393.0</td>\n",
       "      <td>mir4657</td>\n",
       "    </tr>\n",
       "    <tr>\n",
       "      <th>2</th>\n",
       "      <td>SS_00000</td>\n",
       "      <td>chr8</td>\n",
       "      <td>93916021</td>\n",
       "      <td>93916119</td>\n",
       "      <td>hsa-mir-378d-2</td>\n",
       "      <td>0.000000</td>\n",
       "      <td>100616169.0</td>\n",
       "      <td>mir378d2</td>\n",
       "    </tr>\n",
       "    <tr>\n",
       "      <th>3</th>\n",
       "      <td>SS_00000</td>\n",
       "      <td>chr9</td>\n",
       "      <td>20502264</td>\n",
       "      <td>20502342</td>\n",
       "      <td>hsa-mir-4474</td>\n",
       "      <td>0.000000</td>\n",
       "      <td>100616441.0</td>\n",
       "      <td>mir4474</td>\n",
       "    </tr>\n",
       "    <tr>\n",
       "      <th>4</th>\n",
       "      <td>SS_00000</td>\n",
       "      <td>chr9</td>\n",
       "      <td>134850741</td>\n",
       "      <td>134850807</td>\n",
       "      <td>hsa-mir-3689f</td>\n",
       "      <td>0.000000</td>\n",
       "      <td>100616212.0</td>\n",
       "      <td>mir3689f</td>\n",
       "    </tr>\n",
       "  </tbody>\n",
       "</table>\n",
       "</div>"
      ],
      "text/plain": [
       "    patient chrom      start       stop        mirna_id       rpm  \\\n",
       "0  SS_00000  chr2   87629754   87629834  hsa-mir-4435-1  0.470089   \n",
       "1  SS_00000  chr7   44881747   44881800    hsa-mir-4657  0.000000   \n",
       "2  SS_00000  chr8   93916021   93916119  hsa-mir-378d-2  0.000000   \n",
       "3  SS_00000  chr9   20502264   20502342    hsa-mir-4474  0.000000   \n",
       "4  SS_00000  chr9  134850741  134850807   hsa-mir-3689f  0.000000   \n",
       "\n",
       "     entrez_id gene_symbol  \n",
       "0  100616499.0   mir4435-1  \n",
       "1  100616393.0     mir4657  \n",
       "2  100616169.0    mir378d2  \n",
       "3  100616441.0     mir4474  \n",
       "4  100616212.0    mir3689f  "
      ]
     },
     "execution_count": 13,
     "metadata": {},
     "output_type": "execute_result"
    }
   ],
   "source": [
    "dsets_.head()"
   ]
  },
  {
   "cell_type": "code",
   "execution_count": 14,
   "metadata": {},
   "outputs": [
    {
     "data": {
      "text/plain": [
       "set"
      ]
     },
     "execution_count": 14,
     "metadata": {},
     "output_type": "execute_result"
    }
   ],
   "source": [
    "mi_id=set(dsets_['mirna_id'])\n",
    "type(mi_id)"
   ]
  },
  {
   "cell_type": "code",
   "execution_count": 15,
   "metadata": {},
   "outputs": [],
   "source": [
    "intersect_=mi_id.intersection(giada)"
   ]
  },
  {
   "cell_type": "code",
   "execution_count": 16,
   "metadata": {},
   "outputs": [
    {
     "data": {
      "text/plain": [
       "{'hsa-mir-1180',\n",
       " 'hsa-mir-181c',\n",
       " 'hsa-mir-208a',\n",
       " 'hsa-mir-501',\n",
       " 'hsa-mir-548j',\n",
       " 'hsa-mir-656',\n",
       " 'hsa-mir-760'}"
      ]
     },
     "execution_count": 16,
     "metadata": {},
     "output_type": "execute_result"
    }
   ],
   "source": [
    "intersect_"
   ]
  },
  {
   "cell_type": "code",
   "execution_count": null,
   "metadata": {},
   "outputs": [],
   "source": []
  },
  {
   "cell_type": "code",
   "execution_count": null,
   "metadata": {},
   "outputs": [],
   "source": []
  },
  {
   "cell_type": "code",
   "execution_count": null,
   "metadata": {},
   "outputs": [],
   "source": []
  },
  {
   "cell_type": "code",
   "execution_count": null,
   "metadata": {},
   "outputs": [],
   "source": []
  },
  {
   "cell_type": "code",
   "execution_count": null,
   "metadata": {},
   "outputs": [],
   "source": []
  },
  {
   "cell_type": "code",
   "execution_count": null,
   "metadata": {},
   "outputs": [],
   "source": []
  },
  {
   "cell_type": "code",
   "execution_count": null,
   "metadata": {},
   "outputs": [],
   "source": []
  },
  {
   "cell_type": "code",
   "execution_count": null,
   "metadata": {},
   "outputs": [],
   "source": []
  },
  {
   "cell_type": "code",
   "execution_count": null,
   "metadata": {},
   "outputs": [],
   "source": []
  },
  {
   "cell_type": "raw",
   "metadata": {},
   "source": [
    "#common_genes_clintab\n",
    "dset1=pd.read_csv (\"significant_genes_res_sl_meth.csv\", delimiter=',')\n",
    "dset2=pd.read_csv (\"significant_genes_res_ss_meth.csv\", delimiter=',')\n",
    "dset3=pd.read_csv (\"significant_genes_sl_ss_meth.csv\", delimiter=',')\n",
    "\n",
    "lista1=set(dset1['gene'])\n",
    "lista2=set(dset2['gene'])\n",
    "lista3=set(dset3['gene'])\n",
    "\n",
    "#lista1.intersection(lista2)\n",
    "\n",
    "#def remove_duplicates():\n",
    "#    t = [lista1]\n",
    "#    t2 = [lista2]\n",
    "#    for t in t2:\n",
    "#        t.append(t.remove())\n",
    "#    return t"
   ]
  },
  {
   "cell_type": "raw",
   "metadata": {},
   "source": [
    "x=lista1.intersection(lista2)\n",
    "y=lista1.intersection(lista3)\n",
    "z=lista2.intersection(lista3)"
   ]
  },
  {
   "cell_type": "raw",
   "metadata": {},
   "source": [
    "print(y)"
   ]
  },
  {
   "cell_type": "raw",
   "metadata": {},
   "source": [
    "ge=pd.read_csv('fin_ge.csv', sep='\\t')\n",
    "meth=pd.read_csv('fin_meth_b.csv', sep='\\t')\n",
    "miRNA=pd.read_csv('fin_miRNA.csv', sep='\\t')\n",
    "sm=pd.read_csv('fin_sm.csv', sep='\\t')"
   ]
  }
 ],
 "metadata": {
  "kernelspec": {
   "display_name": "Python 3",
   "language": "python",
   "name": "python3"
  },
  "language_info": {
   "codemirror_mode": {
    "name": "ipython",
    "version": 3
   },
   "file_extension": ".py",
   "mimetype": "text/x-python",
   "name": "python",
   "nbconvert_exporter": "python",
   "pygments_lexer": "ipython3",
   "version": "3.6.5"
  }
 },
 "nbformat": 4,
 "nbformat_minor": 2
}
