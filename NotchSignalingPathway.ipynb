{
 "cells": [
  {
   "cell_type": "code",
   "execution_count": 69,
   "metadata": {},
   "outputs": [],
   "source": [
    "#Import Libraries\n",
    "import subprocess\n",
    "import re\n",
    "import pandas as pd\n",
    "import os\n",
    "import collections\n",
    "import scipy.stats\n",
    "import numpy as np\n",
    "import scipy\n",
    "import csv\n",
    "import math\n",
    "import time\n",
    "import seaborn as sns\n",
    "import statsmodels.api as sm\n",
    "import joblib\n",
    "import random\n",
    "import extra_funcs_TO\n",
    "\n",
    "from functools import reduce\n",
    "from tqdm import tqdm\n",
    "from matplotlib import pyplot as plt\n",
    "%matplotlib inline\n",
    "from pandas.tools.plotting import table\n",
    "from scipy import interp\n",
    "from sklearn import svm\n",
    "from sklearn.svm import SVC\n",
    "from sklearn.datasets import make_blobs, make_classification\n",
    "\n",
    "\n",
    "from sklearn.feature_selection import SelectKBest, chi2, VarianceThreshold\n",
    "from sklearn.model_selection import RepeatedStratifiedKFold, StratifiedKFold, GridSearchCV, LeaveOneOut, train_test_split, StratifiedShuffleSplit, cross_validate\n",
    "from sklearn.metrics import accuracy_score, precision_score, recall_score, confusion_matrix, auc, roc_curve, precision_recall_curve, f1_score, classification_report, make_scorer, balanced_accuracy_score, roc_auc_score, matthews_corrcoef\n",
    "from sklearn.preprocessing import StandardScaler, MinMaxScaler\n",
    "from sklearn.ensemble import RandomForestClassifier, AdaBoostClassifier, ExtraTreesClassifier\n",
    "from sklearn.linear_model import LogisticRegression\n",
    "from sklearn.neighbors import KNeighborsClassifier  \n",
    "from sklearn.tree import DecisionTreeClassifier\n",
    "from sklearn.utils.multiclass import unique_labels\n",
    "from sklearn.decomposition import PCA\n",
    "from sklearn.manifold import TSNE\n",
    "from sklearn.pipeline import Pipeline\n",
    "from mpl_toolkits.mplot3d import Axes3D"
   ]
  },
  {
   "cell_type": "markdown",
   "metadata": {},
   "source": [
    "## Gene_Exprs, in particular PC"
   ]
  },
  {
   "cell_type": "code",
   "execution_count": 70,
   "metadata": {},
   "outputs": [],
   "source": [
    "dset=pd.read_csv (\"clintab_GMQL/gencode.gene.info.v22.tsv\", delimiter='\\t')\n",
    "gruppo=dset.groupby(['gene_type'])\n",
    "proteingroup=gruppo.get_group('protein_coding')\n",
    "lista1=set(proteingroup['gene_id'])\n",
    "#len(proteingroup)"
   ]
  },
  {
   "cell_type": "code",
   "execution_count": 71,
   "metadata": {},
   "outputs": [],
   "source": [
    "dset_rna_res=pd.read_csv(\"clintab_GMQL/gene_exprs/res/res_new.csv\", delimiter='\\t')\n",
    "dset_rna_senl=pd.read_csv(\"clintab_GMQL/gene_exprs/sl_32/sl_new.csv\", delimiter='\\t')\n",
    "dset_rna_sens=pd.read_csv(\"clintab_GMQL/gene_exprs/ss_32/ss_new.csv\", delimiter='\\t')"
   ]
  },
  {
   "cell_type": "code",
   "execution_count": 72,
   "metadata": {},
   "outputs": [
    {
     "data": {
      "text/plain": [
       "list"
      ]
     },
     "execution_count": 72,
     "metadata": {},
     "output_type": "execute_result"
    }
   ],
   "source": [
    "#24 geni\n",
    "lista=['ADAM12','BCCIP','BID','BLM','BMPR1B','CA9','CTBP2','CUZD1','DLL1','ELAVL1','FGFR2','FURIN',\n",
    "       'GHSR','HTRA1','IQGAP1','PARK2','RECK','RNASET2','STOML2','TNFSF10','TPM2','UNC45A','UNC93A','URI1']\n",
    "type(lista)"
   ]
  },
  {
   "cell_type": "markdown",
   "metadata": {},
   "source": [
    "lista=['BID','CA9','CTBP2','DLL1','ELAVL1','HTRA1', 'RNASET2','URI1']\n",
    "type(lista)"
   ]
  },
  {
   "cell_type": "code",
   "execution_count": 73,
   "metadata": {},
   "outputs": [],
   "source": [
    "dset_res = dset_rna_res[dset_rna_res.ensemble_id.isin(lista1)]\n",
    "protein_coding_res=pd.DataFrame(dset_res)\n",
    "resistant=protein_coding_res[protein_coding_res.gene_symbol.isin(lista)]\n",
    "res=pd.DataFrame(resistant)\n",
    "#res.head(25)"
   ]
  },
  {
   "cell_type": "code",
   "execution_count": 74,
   "metadata": {},
   "outputs": [],
   "source": [
    "dset_senl = dset_rna_senl[dset_rna_senl.ensemble_id.isin(lista1)]\n",
    "protein_coding_senl=pd.DataFrame(dset_senl)\n",
    "sensitive_l=protein_coding_senl[protein_coding_senl.gene_symbol.isin(lista)]\n",
    "senl=pd.DataFrame(sensitive_l)\n",
    "#senl.head()"
   ]
  },
  {
   "cell_type": "code",
   "execution_count": 75,
   "metadata": {},
   "outputs": [],
   "source": [
    "dset_sens = dset_rna_sens[dset_rna_sens.ensemble_id.isin(lista1)]\n",
    "protein_coding_sens=pd.DataFrame(dset_sens)\n",
    "sensitive_s=protein_coding_sens[protein_coding_sens.gene_symbol.isin(lista)]\n",
    "sens=pd.DataFrame(sensitive_s)\n",
    "#sens.head(9)"
   ]
  },
  {
   "cell_type": "code",
   "execution_count": 76,
   "metadata": {},
   "outputs": [],
   "source": [
    "resdf=res.pivot(index=\"patient\", columns=\"gene_symbol\", values=\"fpkm\")\n",
    "genes = resdf.columns.tolist()\n",
    "senldf=senl.pivot(index=\"patient\", columns=\"gene_symbol\", values=\"fpkm\")\n",
    "genes = senldf.columns.tolist()\n",
    "sensdf=sens.pivot(index=\"patient\", columns=\"gene_symbol\", values=\"fpkm\")\n",
    "genes = sensdf.columns.tolist()"
   ]
  },
  {
   "cell_type": "raw",
   "metadata": {},
   "source": [
    "resdf=res.pivot(index=\"gene_symbol\", columns=\"patient\", values=\"fpkm\")\n",
    "genes = resdf.columns.tolist()\n",
    "resdf.head(1)\n",
    "senldf=senl.pivot(index=\"gene_symbol\", columns=\"patient\", values=\"fpkm\")\n",
    "genes = senldf.columns.tolist()\n",
    "#senldf.head()\n",
    "#senldf.shape\n",
    "sensdf=sens.pivot(index=\"gene_symbol\", columns=\"patient\", values=\"fpkm\")\n",
    "genes = sensdf.columns.tolist()\n",
    "sensdf.head()\n",
    "#sensdf.shape"
   ]
  },
  {
   "cell_type": "code",
   "execution_count": 77,
   "metadata": {},
   "outputs": [],
   "source": [
    "def pearson(A):\n",
    "    Pearson=np.corrcoef(A)\n",
    "    \n",
    "    Pearson=np.nan_to_num(Pearson)\n",
    "    return Pearson\n",
    "\n",
    "#resdf_pearson=pearson(resdf.values)\n",
    "resdf_pearson=pearson(resdf.values.transpose())\n",
    "resdf_pearson_df=pd.DataFrame(resdf_pearson, index=resdf.columns, columns=resdf.columns)"
   ]
  },
  {
   "cell_type": "code",
   "execution_count": 64,
   "metadata": {
    "collapsed": true
   },
   "outputs": [
    {
     "data": {
      "text/html": [
       "<div>\n",
       "<style scoped>\n",
       "    .dataframe tbody tr th:only-of-type {\n",
       "        vertical-align: middle;\n",
       "    }\n",
       "\n",
       "    .dataframe tbody tr th {\n",
       "        vertical-align: top;\n",
       "    }\n",
       "\n",
       "    .dataframe thead th {\n",
       "        text-align: right;\n",
       "    }\n",
       "</style>\n",
       "<table border=\"1\" class=\"dataframe\">\n",
       "  <thead>\n",
       "    <tr style=\"text-align: right;\">\n",
       "      <th>gene_symbol</th>\n",
       "      <th>ADAM12</th>\n",
       "      <th>BCCIP</th>\n",
       "      <th>BID</th>\n",
       "      <th>BLM</th>\n",
       "      <th>BMPR1B</th>\n",
       "      <th>CA9</th>\n",
       "      <th>CTBP2</th>\n",
       "      <th>CUZD1</th>\n",
       "      <th>DLL1</th>\n",
       "      <th>ELAVL1</th>\n",
       "      <th>...</th>\n",
       "      <th>IQGAP1</th>\n",
       "      <th>PARK2</th>\n",
       "      <th>RECK</th>\n",
       "      <th>RNASET2</th>\n",
       "      <th>STOML2</th>\n",
       "      <th>TNFSF10</th>\n",
       "      <th>TPM2</th>\n",
       "      <th>UNC45A</th>\n",
       "      <th>UNC93A</th>\n",
       "      <th>URI1</th>\n",
       "    </tr>\n",
       "    <tr>\n",
       "      <th>gene_symbol</th>\n",
       "      <th></th>\n",
       "      <th></th>\n",
       "      <th></th>\n",
       "      <th></th>\n",
       "      <th></th>\n",
       "      <th></th>\n",
       "      <th></th>\n",
       "      <th></th>\n",
       "      <th></th>\n",
       "      <th></th>\n",
       "      <th></th>\n",
       "      <th></th>\n",
       "      <th></th>\n",
       "      <th></th>\n",
       "      <th></th>\n",
       "      <th></th>\n",
       "      <th></th>\n",
       "      <th></th>\n",
       "      <th></th>\n",
       "      <th></th>\n",
       "      <th></th>\n",
       "    </tr>\n",
       "  </thead>\n",
       "  <tbody>\n",
       "    <tr>\n",
       "      <th>ADAM12</th>\n",
       "      <td>1.000000</td>\n",
       "      <td>-0.439356</td>\n",
       "      <td>0.094588</td>\n",
       "      <td>0.026163</td>\n",
       "      <td>-0.098068</td>\n",
       "      <td>-0.051021</td>\n",
       "      <td>-0.157479</td>\n",
       "      <td>-0.171009</td>\n",
       "      <td>0.181662</td>\n",
       "      <td>-0.157972</td>\n",
       "      <td>...</td>\n",
       "      <td>0.474745</td>\n",
       "      <td>-0.061461</td>\n",
       "      <td>0.668700</td>\n",
       "      <td>-0.251248</td>\n",
       "      <td>-0.321399</td>\n",
       "      <td>0.073363</td>\n",
       "      <td>0.336798</td>\n",
       "      <td>0.046189</td>\n",
       "      <td>-0.084362</td>\n",
       "      <td>-0.181572</td>\n",
       "    </tr>\n",
       "    <tr>\n",
       "      <th>BCCIP</th>\n",
       "      <td>-0.439356</td>\n",
       "      <td>1.000000</td>\n",
       "      <td>-0.081106</td>\n",
       "      <td>0.259518</td>\n",
       "      <td>0.152621</td>\n",
       "      <td>-0.072202</td>\n",
       "      <td>0.397248</td>\n",
       "      <td>0.251869</td>\n",
       "      <td>0.137811</td>\n",
       "      <td>0.320861</td>\n",
       "      <td>...</td>\n",
       "      <td>-0.246077</td>\n",
       "      <td>0.096452</td>\n",
       "      <td>-0.283042</td>\n",
       "      <td>0.029934</td>\n",
       "      <td>0.195738</td>\n",
       "      <td>-0.188175</td>\n",
       "      <td>-0.226606</td>\n",
       "      <td>-0.045214</td>\n",
       "      <td>0.076845</td>\n",
       "      <td>0.055534</td>\n",
       "    </tr>\n",
       "    <tr>\n",
       "      <th>BID</th>\n",
       "      <td>0.094588</td>\n",
       "      <td>-0.081106</td>\n",
       "      <td>1.000000</td>\n",
       "      <td>-0.131366</td>\n",
       "      <td>-0.271782</td>\n",
       "      <td>-0.170474</td>\n",
       "      <td>-0.006583</td>\n",
       "      <td>-0.197302</td>\n",
       "      <td>-0.196437</td>\n",
       "      <td>-0.204571</td>\n",
       "      <td>...</td>\n",
       "      <td>0.028639</td>\n",
       "      <td>-0.045874</td>\n",
       "      <td>0.033207</td>\n",
       "      <td>-0.126839</td>\n",
       "      <td>0.073371</td>\n",
       "      <td>0.019079</td>\n",
       "      <td>0.144197</td>\n",
       "      <td>0.063128</td>\n",
       "      <td>-0.124015</td>\n",
       "      <td>0.140201</td>\n",
       "    </tr>\n",
       "    <tr>\n",
       "      <th>BLM</th>\n",
       "      <td>0.026163</td>\n",
       "      <td>0.259518</td>\n",
       "      <td>-0.131366</td>\n",
       "      <td>1.000000</td>\n",
       "      <td>0.006580</td>\n",
       "      <td>-0.181977</td>\n",
       "      <td>0.076560</td>\n",
       "      <td>0.018889</td>\n",
       "      <td>0.149627</td>\n",
       "      <td>0.379730</td>\n",
       "      <td>...</td>\n",
       "      <td>0.245571</td>\n",
       "      <td>-0.193306</td>\n",
       "      <td>-0.124008</td>\n",
       "      <td>-0.085318</td>\n",
       "      <td>0.088043</td>\n",
       "      <td>-0.000636</td>\n",
       "      <td>-0.076403</td>\n",
       "      <td>0.246899</td>\n",
       "      <td>0.055728</td>\n",
       "      <td>-0.013940</td>\n",
       "    </tr>\n",
       "    <tr>\n",
       "      <th>BMPR1B</th>\n",
       "      <td>-0.098068</td>\n",
       "      <td>0.152621</td>\n",
       "      <td>-0.271782</td>\n",
       "      <td>0.006580</td>\n",
       "      <td>1.000000</td>\n",
       "      <td>-0.022639</td>\n",
       "      <td>0.135211</td>\n",
       "      <td>0.087922</td>\n",
       "      <td>0.185115</td>\n",
       "      <td>0.013732</td>\n",
       "      <td>...</td>\n",
       "      <td>0.101217</td>\n",
       "      <td>0.382123</td>\n",
       "      <td>-0.024554</td>\n",
       "      <td>0.016244</td>\n",
       "      <td>0.082205</td>\n",
       "      <td>-0.119537</td>\n",
       "      <td>-0.020107</td>\n",
       "      <td>-0.135737</td>\n",
       "      <td>-0.039664</td>\n",
       "      <td>-0.093882</td>\n",
       "    </tr>\n",
       "  </tbody>\n",
       "</table>\n",
       "<p>5 rows × 24 columns</p>\n",
       "</div>"
      ],
      "text/plain": [
       "gene_symbol    ADAM12     BCCIP       BID       BLM    BMPR1B       CA9  \\\n",
       "gene_symbol                                                               \n",
       "ADAM12       1.000000 -0.439356  0.094588  0.026163 -0.098068 -0.051021   \n",
       "BCCIP       -0.439356  1.000000 -0.081106  0.259518  0.152621 -0.072202   \n",
       "BID          0.094588 -0.081106  1.000000 -0.131366 -0.271782 -0.170474   \n",
       "BLM          0.026163  0.259518 -0.131366  1.000000  0.006580 -0.181977   \n",
       "BMPR1B      -0.098068  0.152621 -0.271782  0.006580  1.000000 -0.022639   \n",
       "\n",
       "gene_symbol     CTBP2     CUZD1      DLL1    ELAVL1    ...       IQGAP1  \\\n",
       "gene_symbol                                            ...                \n",
       "ADAM12      -0.157479 -0.171009  0.181662 -0.157972    ...     0.474745   \n",
       "BCCIP        0.397248  0.251869  0.137811  0.320861    ...    -0.246077   \n",
       "BID         -0.006583 -0.197302 -0.196437 -0.204571    ...     0.028639   \n",
       "BLM          0.076560  0.018889  0.149627  0.379730    ...     0.245571   \n",
       "BMPR1B       0.135211  0.087922  0.185115  0.013732    ...     0.101217   \n",
       "\n",
       "gene_symbol     PARK2      RECK   RNASET2    STOML2   TNFSF10      TPM2  \\\n",
       "gene_symbol                                                               \n",
       "ADAM12      -0.061461  0.668700 -0.251248 -0.321399  0.073363  0.336798   \n",
       "BCCIP        0.096452 -0.283042  0.029934  0.195738 -0.188175 -0.226606   \n",
       "BID         -0.045874  0.033207 -0.126839  0.073371  0.019079  0.144197   \n",
       "BLM         -0.193306 -0.124008 -0.085318  0.088043 -0.000636 -0.076403   \n",
       "BMPR1B       0.382123 -0.024554  0.016244  0.082205 -0.119537 -0.020107   \n",
       "\n",
       "gene_symbol    UNC45A    UNC93A      URI1  \n",
       "gene_symbol                                \n",
       "ADAM12       0.046189 -0.084362 -0.181572  \n",
       "BCCIP       -0.045214  0.076845  0.055534  \n",
       "BID          0.063128 -0.124015  0.140201  \n",
       "BLM          0.246899  0.055728 -0.013940  \n",
       "BMPR1B      -0.135737 -0.039664 -0.093882  \n",
       "\n",
       "[5 rows x 24 columns]"
      ]
     },
     "execution_count": 64,
     "metadata": {},
     "output_type": "execute_result"
    }
   ],
   "source": [
    "#resdf.values.transpose()\n",
    "resdf_pearson_df.head()"
   ]
  },
  {
   "cell_type": "raw",
   "metadata": {},
   "source": [
    "resdf_pearson_df=pd.DataFrame(resdf_pearson, index=resdf.index)\n",
    "resdf_pearson_df"
   ]
  },
  {
   "cell_type": "code",
   "execution_count": 78,
   "metadata": {},
   "outputs": [],
   "source": [
    "for i in range(resdf_pearson.shape[0]):\n",
    "    for j in range(resdf_pearson.shape[1]):\n",
    "        if resdf_pearson[i,j]<abs(0.3):\n",
    "            resdf_pearson[i,j]=0"
   ]
  },
  {
   "cell_type": "raw",
   "metadata": {},
   "source": [
    "resdf_pearson_df=pd.DataFrame(resdf_pearson, index=resdf.index, columns=resdf.index)"
   ]
  },
  {
   "cell_type": "code",
   "execution_count": 67,
   "metadata": {
    "collapsed": true
   },
   "outputs": [
    {
     "data": {
      "text/html": [
       "<div>\n",
       "<style scoped>\n",
       "    .dataframe tbody tr th:only-of-type {\n",
       "        vertical-align: middle;\n",
       "    }\n",
       "\n",
       "    .dataframe tbody tr th {\n",
       "        vertical-align: top;\n",
       "    }\n",
       "\n",
       "    .dataframe thead th {\n",
       "        text-align: right;\n",
       "    }\n",
       "</style>\n",
       "<table border=\"1\" class=\"dataframe\">\n",
       "  <thead>\n",
       "    <tr style=\"text-align: right;\">\n",
       "      <th>gene_symbol</th>\n",
       "      <th>ADAM12</th>\n",
       "      <th>BCCIP</th>\n",
       "      <th>BID</th>\n",
       "      <th>BLM</th>\n",
       "      <th>BMPR1B</th>\n",
       "      <th>CA9</th>\n",
       "      <th>CTBP2</th>\n",
       "      <th>CUZD1</th>\n",
       "      <th>DLL1</th>\n",
       "      <th>ELAVL1</th>\n",
       "      <th>...</th>\n",
       "      <th>IQGAP1</th>\n",
       "      <th>PARK2</th>\n",
       "      <th>RECK</th>\n",
       "      <th>RNASET2</th>\n",
       "      <th>STOML2</th>\n",
       "      <th>TNFSF10</th>\n",
       "      <th>TPM2</th>\n",
       "      <th>UNC45A</th>\n",
       "      <th>UNC93A</th>\n",
       "      <th>URI1</th>\n",
       "    </tr>\n",
       "    <tr>\n",
       "      <th>gene_symbol</th>\n",
       "      <th></th>\n",
       "      <th></th>\n",
       "      <th></th>\n",
       "      <th></th>\n",
       "      <th></th>\n",
       "      <th></th>\n",
       "      <th></th>\n",
       "      <th></th>\n",
       "      <th></th>\n",
       "      <th></th>\n",
       "      <th></th>\n",
       "      <th></th>\n",
       "      <th></th>\n",
       "      <th></th>\n",
       "      <th></th>\n",
       "      <th></th>\n",
       "      <th></th>\n",
       "      <th></th>\n",
       "      <th></th>\n",
       "      <th></th>\n",
       "      <th></th>\n",
       "    </tr>\n",
       "  </thead>\n",
       "  <tbody>\n",
       "    <tr>\n",
       "      <th>ADAM12</th>\n",
       "      <td>1.0</td>\n",
       "      <td>0.000000</td>\n",
       "      <td>0.0</td>\n",
       "      <td>0.000000</td>\n",
       "      <td>0.000000</td>\n",
       "      <td>0.0</td>\n",
       "      <td>0.000000</td>\n",
       "      <td>0.000000</td>\n",
       "      <td>0.181662</td>\n",
       "      <td>0.000000</td>\n",
       "      <td>...</td>\n",
       "      <td>0.474745</td>\n",
       "      <td>0.000000</td>\n",
       "      <td>0.6687</td>\n",
       "      <td>0.0</td>\n",
       "      <td>0.000000</td>\n",
       "      <td>0.0</td>\n",
       "      <td>0.336798</td>\n",
       "      <td>0.000000</td>\n",
       "      <td>0.0</td>\n",
       "      <td>0.000000</td>\n",
       "    </tr>\n",
       "    <tr>\n",
       "      <th>BCCIP</th>\n",
       "      <td>0.0</td>\n",
       "      <td>1.000000</td>\n",
       "      <td>0.0</td>\n",
       "      <td>0.259518</td>\n",
       "      <td>0.152621</td>\n",
       "      <td>0.0</td>\n",
       "      <td>0.397248</td>\n",
       "      <td>0.251869</td>\n",
       "      <td>0.137811</td>\n",
       "      <td>0.320861</td>\n",
       "      <td>...</td>\n",
       "      <td>0.000000</td>\n",
       "      <td>0.000000</td>\n",
       "      <td>0.0000</td>\n",
       "      <td>0.0</td>\n",
       "      <td>0.195738</td>\n",
       "      <td>0.0</td>\n",
       "      <td>0.000000</td>\n",
       "      <td>0.000000</td>\n",
       "      <td>0.0</td>\n",
       "      <td>0.000000</td>\n",
       "    </tr>\n",
       "    <tr>\n",
       "      <th>BID</th>\n",
       "      <td>0.0</td>\n",
       "      <td>0.000000</td>\n",
       "      <td>1.0</td>\n",
       "      <td>0.000000</td>\n",
       "      <td>0.000000</td>\n",
       "      <td>0.0</td>\n",
       "      <td>0.000000</td>\n",
       "      <td>0.000000</td>\n",
       "      <td>0.000000</td>\n",
       "      <td>0.000000</td>\n",
       "      <td>...</td>\n",
       "      <td>0.000000</td>\n",
       "      <td>0.000000</td>\n",
       "      <td>0.0000</td>\n",
       "      <td>0.0</td>\n",
       "      <td>0.000000</td>\n",
       "      <td>0.0</td>\n",
       "      <td>0.144197</td>\n",
       "      <td>0.000000</td>\n",
       "      <td>0.0</td>\n",
       "      <td>0.140201</td>\n",
       "    </tr>\n",
       "    <tr>\n",
       "      <th>BLM</th>\n",
       "      <td>0.0</td>\n",
       "      <td>0.259518</td>\n",
       "      <td>0.0</td>\n",
       "      <td>1.000000</td>\n",
       "      <td>0.000000</td>\n",
       "      <td>0.0</td>\n",
       "      <td>0.000000</td>\n",
       "      <td>0.000000</td>\n",
       "      <td>0.149627</td>\n",
       "      <td>0.379730</td>\n",
       "      <td>...</td>\n",
       "      <td>0.245571</td>\n",
       "      <td>0.000000</td>\n",
       "      <td>0.0000</td>\n",
       "      <td>0.0</td>\n",
       "      <td>0.000000</td>\n",
       "      <td>0.0</td>\n",
       "      <td>0.000000</td>\n",
       "      <td>0.246899</td>\n",
       "      <td>0.0</td>\n",
       "      <td>0.000000</td>\n",
       "    </tr>\n",
       "    <tr>\n",
       "      <th>BMPR1B</th>\n",
       "      <td>0.0</td>\n",
       "      <td>0.152621</td>\n",
       "      <td>0.0</td>\n",
       "      <td>0.000000</td>\n",
       "      <td>1.000000</td>\n",
       "      <td>0.0</td>\n",
       "      <td>0.135211</td>\n",
       "      <td>0.000000</td>\n",
       "      <td>0.185115</td>\n",
       "      <td>0.000000</td>\n",
       "      <td>...</td>\n",
       "      <td>0.101217</td>\n",
       "      <td>0.382123</td>\n",
       "      <td>0.0000</td>\n",
       "      <td>0.0</td>\n",
       "      <td>0.000000</td>\n",
       "      <td>0.0</td>\n",
       "      <td>0.000000</td>\n",
       "      <td>0.000000</td>\n",
       "      <td>0.0</td>\n",
       "      <td>0.000000</td>\n",
       "    </tr>\n",
       "  </tbody>\n",
       "</table>\n",
       "<p>5 rows × 24 columns</p>\n",
       "</div>"
      ],
      "text/plain": [
       "gene_symbol  ADAM12     BCCIP  BID       BLM    BMPR1B  CA9     CTBP2  \\\n",
       "gene_symbol                                                             \n",
       "ADAM12          1.0  0.000000  0.0  0.000000  0.000000  0.0  0.000000   \n",
       "BCCIP           0.0  1.000000  0.0  0.259518  0.152621  0.0  0.397248   \n",
       "BID             0.0  0.000000  1.0  0.000000  0.000000  0.0  0.000000   \n",
       "BLM             0.0  0.259518  0.0  1.000000  0.000000  0.0  0.000000   \n",
       "BMPR1B          0.0  0.152621  0.0  0.000000  1.000000  0.0  0.135211   \n",
       "\n",
       "gene_symbol     CUZD1      DLL1    ELAVL1    ...       IQGAP1     PARK2  \\\n",
       "gene_symbol                                  ...                          \n",
       "ADAM12       0.000000  0.181662  0.000000    ...     0.474745  0.000000   \n",
       "BCCIP        0.251869  0.137811  0.320861    ...     0.000000  0.000000   \n",
       "BID          0.000000  0.000000  0.000000    ...     0.000000  0.000000   \n",
       "BLM          0.000000  0.149627  0.379730    ...     0.245571  0.000000   \n",
       "BMPR1B       0.000000  0.185115  0.000000    ...     0.101217  0.382123   \n",
       "\n",
       "gene_symbol    RECK  RNASET2    STOML2  TNFSF10      TPM2    UNC45A  UNC93A  \\\n",
       "gene_symbol                                                                   \n",
       "ADAM12       0.6687      0.0  0.000000      0.0  0.336798  0.000000     0.0   \n",
       "BCCIP        0.0000      0.0  0.195738      0.0  0.000000  0.000000     0.0   \n",
       "BID          0.0000      0.0  0.000000      0.0  0.144197  0.000000     0.0   \n",
       "BLM          0.0000      0.0  0.000000      0.0  0.000000  0.246899     0.0   \n",
       "BMPR1B       0.0000      0.0  0.000000      0.0  0.000000  0.000000     0.0   \n",
       "\n",
       "gene_symbol      URI1  \n",
       "gene_symbol            \n",
       "ADAM12       0.000000  \n",
       "BCCIP        0.000000  \n",
       "BID          0.140201  \n",
       "BLM          0.000000  \n",
       "BMPR1B       0.000000  \n",
       "\n",
       "[5 rows x 24 columns]"
      ]
     },
     "execution_count": 67,
     "metadata": {},
     "output_type": "execute_result"
    }
   ],
   "source": [
    "resdf_pearson_df.head()"
   ]
  },
  {
   "cell_type": "code",
   "execution_count": 79,
   "metadata": {},
   "outputs": [],
   "source": [
    "List=[('Source','Target','Weight')]\n",
    "for source in resdf_pearson_df.index.values:\n",
    "    for target in resdf_pearson_df.index.values:\n",
    "        if resdf_pearson_df[source][target]!=0:\n",
    "            List.append((target,source,resdf_pearson_df[source][target]))\n",
    "List1=pd.DataFrame(List)\n",
    "List1.to_csv(r'edge_list24_bis.csv', index=None, header=None)"
   ]
  },
  {
   "cell_type": "code",
   "execution_count": null,
   "metadata": {},
   "outputs": [],
   "source": [
    "import networkx as nx\n",
    "graph=nx.from_numpy_matrix(resdf_pearson)\n",
    "nx.draw(graph)"
   ]
  },
  {
   "cell_type": "code",
   "execution_count": null,
   "metadata": {},
   "outputs": [],
   "source": [
    "column=res['gene_symbol']\n",
    "column.head()"
   ]
  },
  {
   "cell_type": "code",
   "execution_count": 9,
   "metadata": {},
   "outputs": [],
   "source": [
    "sendf=pd.concat([senldf, sensdf])"
   ]
  },
  {
   "cell_type": "raw",
   "metadata": {},
   "source": [
    "resdf_median = resdf.median(0)\n",
    "senldf_median = senldf.median(0)\n",
    "sensdf_median = sensdf.median(0)"
   ]
  },
  {
   "cell_type": "code",
   "execution_count": 10,
   "metadata": {},
   "outputs": [],
   "source": [
    "resdf_median = resdf.median(0)\n",
    "sendf_median = sendf.median(0)"
   ]
  },
  {
   "cell_type": "raw",
   "metadata": {},
   "source": [
    "resdf_median.shape"
   ]
  },
  {
   "cell_type": "raw",
   "metadata": {
    "scrolled": false
   },
   "source": [
    "print(len(resdf_median), len(senldf_median), len(sensdf_median))"
   ]
  },
  {
   "cell_type": "code",
   "execution_count": 11,
   "metadata": {
    "scrolled": true
   },
   "outputs": [
    {
     "name": "stderr",
     "output_type": "stream",
     "text": [
      "100%|██████████| 8/8 [00:00<00:00, 1261.54it/s]\n"
     ]
    },
    {
     "data": {
      "text/html": [
       "<div>\n",
       "<style scoped>\n",
       "    .dataframe tbody tr th:only-of-type {\n",
       "        vertical-align: middle;\n",
       "    }\n",
       "\n",
       "    .dataframe tbody tr th {\n",
       "        vertical-align: top;\n",
       "    }\n",
       "\n",
       "    .dataframe thead th {\n",
       "        text-align: right;\n",
       "    }\n",
       "</style>\n",
       "<table border=\"1\" class=\"dataframe\">\n",
       "  <thead>\n",
       "    <tr style=\"text-align: right;\">\n",
       "      <th></th>\n",
       "      <th>gene</th>\n",
       "      <th>resistant_median</th>\n",
       "      <th>sensitive_median</th>\n",
       "      <th>mannwhiteney_pvalue</th>\n",
       "    </tr>\n",
       "  </thead>\n",
       "  <tbody>\n",
       "    <tr>\n",
       "      <th>0</th>\n",
       "      <td>BID</td>\n",
       "      <td>7.786911</td>\n",
       "      <td>8.287398</td>\n",
       "      <td>0.359774</td>\n",
       "    </tr>\n",
       "    <tr>\n",
       "      <th>1</th>\n",
       "      <td>CA9</td>\n",
       "      <td>6.021777</td>\n",
       "      <td>4.424864</td>\n",
       "      <td>0.389906</td>\n",
       "    </tr>\n",
       "    <tr>\n",
       "      <th>2</th>\n",
       "      <td>CTBP2</td>\n",
       "      <td>10.437666</td>\n",
       "      <td>10.767239</td>\n",
       "      <td>0.197859</td>\n",
       "    </tr>\n",
       "    <tr>\n",
       "      <th>3</th>\n",
       "      <td>DLL1</td>\n",
       "      <td>0.617823</td>\n",
       "      <td>0.708018</td>\n",
       "      <td>0.417608</td>\n",
       "    </tr>\n",
       "    <tr>\n",
       "      <th>4</th>\n",
       "      <td>ELAVL1</td>\n",
       "      <td>14.554354</td>\n",
       "      <td>14.532408</td>\n",
       "      <td>0.422787</td>\n",
       "    </tr>\n",
       "  </tbody>\n",
       "</table>\n",
       "</div>"
      ],
      "text/plain": [
       "     gene  resistant_median  sensitive_median  mannwhiteney_pvalue\n",
       "0     BID          7.786911          8.287398             0.359774\n",
       "1     CA9          6.021777          4.424864             0.389906\n",
       "2   CTBP2         10.437666         10.767239             0.197859\n",
       "3    DLL1          0.617823          0.708018             0.417608\n",
       "4  ELAVL1         14.554354         14.532408             0.422787"
      ]
     },
     "execution_count": 11,
     "metadata": {},
     "output_type": "execute_result"
    }
   ],
   "source": [
    "pvalues = []\n",
    "for gene in tqdm(genes):\n",
    "    try:\n",
    "        gene_pvalue = scipy.stats.mannwhitneyu(sendf[gene],resdf[gene]).pvalue\n",
    "    except Exception:\n",
    "        gene_pvalue = 1\n",
    "       \n",
    "    pvalues.append(gene_pvalue)\n",
    "       \n",
    "pvalues = pd.DataFrame({\n",
    "    \"gene\": genes,\n",
    "    \"resistant_median\": resdf_median.values,\n",
    "    \"sensitive_median\": sendf_median.values,\n",
    "    #\"sensitive_long_median\": senldf_median.values,\n",
    "    #\"sensitive_short_median\": sensdf_median.values,\n",
    "    \"mannwhiteney_pvalue\": pvalues\n",
    "})\n",
    "\n",
    "pvalues.head()"
   ]
  },
  {
   "cell_type": "code",
   "execution_count": 12,
   "metadata": {},
   "outputs": [
    {
     "data": {
      "text/plain": [
       "array(['BID', 'CA9', 'CTBP2', 'DLL1', 'ELAVL1', 'HTRA1', 'RNASET2',\n",
       "       'URI1'], dtype=object)"
      ]
     },
     "execution_count": 12,
     "metadata": {},
     "output_type": "execute_result"
    }
   ],
   "source": [
    "listageni=pvalues['gene'].values\n",
    "listageni"
   ]
  },
  {
   "cell_type": "code",
   "execution_count": null,
   "metadata": {},
   "outputs": [],
   "source": [
    "sns.set(style=\"whitegrid\", font_scale=1.5)\n",
    "data = pd.DataFrame(columns=[\"Values\", \"Class\", \"gene\"])\n",
    "\n",
    "for g in listageni[:]:\n",
    "    #data = pd.DataFrame(columns=[\"Values\", \"Class\", \"gene\"])\n",
    "    for row in resdf[g]:\n",
    "        data = data.append({\"Values\":row,\"Class\":\"Res\", \"gene\":g}, ignore_index=True)\n",
    "    for row in sendf[g]:\n",
    "        data = data.append({\"Values\":row,\"Class\":\"Sen\", \"gene\":g}, ignore_index=True)\n",
    "\n",
    "palette = [\"violet\", \"skyblue\"]   \n",
    "plt.figure()\n",
    "plt.xticks(rotation=\"vertical\")\n",
    "sns.violinplot(data=data[data[\"gene\"].isin(listageni)], x=\"gene\", y=\"Values\", hue=\"Class\", palette=palette, saturation=0.75, alpha=0.7, split=True)\n",
    "plt.legend(loc=\"upper left\")\n",
    "plt.figure()\n",
    "#plt.xticks(rotation=\"vertical\")\n",
    "#sns.violinplot(data=data[data[\"gene\"].isin(listageni[4:])], x=\"gene\", y=\"Values\", hue=\"Class\", palette=palette, saturation=0.75, alpha=0.7, split=True)\n",
    "#plt.legend(loc=\"upper left\")\n",
    "    #plt.title(g)\n",
    "#plt.savefig('enrichment/violinplot_tot.png'.format(g))"
   ]
  },
  {
   "cell_type": "code",
   "execution_count": 34,
   "metadata": {},
   "outputs": [
    {
     "data": {
      "image/png": "[encoded data removed]",
      "text/plain": [
       "<Figure size 432x288 with 1 Axes>"
      ]
     },
     "metadata": {},
     "output_type": "display_data"
    },
    {
     "data": {
      "image/png": "[encoded data removed]",
      "text/plain": [
       "<Figure size 432x288 with 1 Axes>"
      ]
     },
     "metadata": {},
     "output_type": "display_data"
    },
    {
     "data": {
      "image/png": "[encoded data removed]",
      "text/plain": [
       "<Figure size 432x288 with 1 Axes>"
      ]
     },
     "metadata": {},
     "output_type": "display_data"
    },
    {
     "data": {
      "image/png": "[encoded data removed]",
      "text/plain": [
       "<Figure size 432x288 with 1 Axes>"
      ]
     },
     "metadata": {},
     "output_type": "display_data"
    },
    {
     "data": {
      "image/png": "[encoded data removed]",
      "text/plain": [
       "<Figure size 432x288 with 1 Axes>"
      ]
     },
     "metadata": {},
     "output_type": "display_data"
    },
    {
     "data": {
      "image/png": "[encoded data removed]",
      "text/plain": [
       "<Figure size 432x288 with 1 Axes>"
      ]
     },
     "metadata": {},
     "output_type": "display_data"
    },
    {
     "data": {
      "image/png": "[encoded data removed]",
      "text/plain": [
       "<Figure size 432x288 with 1 Axes>"
      ]
     },
     "metadata": {},
     "output_type": "display_data"
    },
    {
     "data": {
      "image/png": "[encoded data removed]",
      "text/plain": [
       "<Figure size 432x288 with 1 Axes>"
      ]
     },
     "metadata": {},
     "output_type": "display_data"
    }
   ],
   "source": [
    "sns.set(style=\"whitegrid\", font_scale=1.5)\n",
    "#current_palette = sns.color_palette()\n",
    "#sns.palplot(current_palette)\n",
    "\n",
    "for g in listageni[:]:\n",
    "    data = pd.DataFrame(columns=[\"Values\", \"Class\"])\n",
    "    for row in resdf[g]:\n",
    "        data = data.append({\"Values\":row,\"Class\":\"Res\"}, ignore_index=True)\n",
    "    for row in sensdf[g]:\n",
    "        data = data.append({\"Values\":row,\"Class\":\"SenS\"}, ignore_index=True)\n",
    "    for row in senldf[g]:\n",
    "        data = data.append({\"Values\":row,\"Class\":\"SenL\"}, ignore_index=True)\n",
    "    for row in sendf[g]:\n",
    "        data = data.append({\"Values\":row,\"Class\":\"Sen\"}, ignore_index=True)\n",
    "\n",
    "        \n",
    "    palette = [\"blue\", \"orangered\", \"green\", \"red\"]\n",
    "    plt.figure()\n",
    "    sns.violinplot(data=data, x=\"Class\", y=\"Values\", palette=palette, saturation=0.75, alpha=0.7, split=True)\n",
    "    plt.title(g)\n",
    "    #plt.savefig('enrichment/violinplot{}.png'.format(g), figsize=(24,16))"
   ]
  },
  {
   "cell_type": "code",
   "execution_count": null,
   "metadata": {},
   "outputs": [],
   "source": [
    "res=senldf['CTBP2']\n",
    "sen=sensdf['CTBP2']"
   ]
  },
  {
   "cell_type": "code",
   "execution_count": null,
   "metadata": {},
   "outputs": [],
   "source": [
    "from scipy import stats\n",
    "stats.ttest_ind(res, sen, equal_var=False)"
   ]
  },
  {
   "cell_type": "code",
   "execution_count": null,
   "metadata": {},
   "outputs": [],
   "source": [
    "stats.ks_2samp(res, sen)"
   ]
  },
  {
   "cell_type": "code",
   "execution_count": null,
   "metadata": {},
   "outputs": [],
   "source": []
  },
  {
   "cell_type": "markdown",
   "metadata": {},
   "source": [
    "## miRNA"
   ]
  },
  {
   "cell_type": "code",
   "execution_count": null,
   "metadata": {},
   "outputs": [],
   "source": [
    "dset_res=pd.read_csv(\"clintab_GMQL/miRNA/res_miRNA/res_miRNA_new.csv\", delimiter='\\t')\n",
    "dset_senl=pd.read_csv(\"clintab_GMQL/miRNA/sl_miRNA_32/sl_miRNA_new.csv\", delimiter='\\t')\n",
    "dset_sens=pd.read_csv(\"clintab_GMQL/miRNA/ss_miRNA_32/ss_miRNA_new.csv\", delimiter='\\t')"
   ]
  },
  {
   "cell_type": "code",
   "execution_count": null,
   "metadata": {},
   "outputs": [],
   "source": [
    "lista=['hsa-mir-34a','hsa-mir-34c','hsa-mir-200b','hsa-mir-200c']\n",
    "type(lista)"
   ]
  },
  {
   "cell_type": "code",
   "execution_count": null,
   "metadata": {},
   "outputs": [],
   "source": [
    "ds_sens = dset_sens[dset_sens.mirna_id.isin(lista)]\n",
    "sens=pd.DataFrame(ds_sens)\n",
    "#sens.head()"
   ]
  },
  {
   "cell_type": "code",
   "execution_count": null,
   "metadata": {},
   "outputs": [],
   "source": [
    "ds_res = dset_res[dset_res.mirna_id.isin(lista)]\n",
    "res=pd.DataFrame(ds_res)\n",
    "res.head()"
   ]
  },
  {
   "cell_type": "code",
   "execution_count": null,
   "metadata": {},
   "outputs": [],
   "source": [
    "ds_senl = dset_senl[dset_senl.mirna_id.isin(lista)]\n",
    "senl=pd.DataFrame(ds_senl)\n",
    "#senl.head()"
   ]
  },
  {
   "cell_type": "code",
   "execution_count": null,
   "metadata": {},
   "outputs": [],
   "source": [
    "resdf=res.pivot(index=\"patient\", columns=\"mirna_id\", values=\"rpm\")\n",
    "genes = resdf.columns.tolist()\n",
    "senldf=senl.pivot(index=\"patient\", columns=\"mirna_id\", values=\"rpm\")\n",
    "genes = senldf.columns.tolist()\n",
    "sensdf=sens.pivot(index=\"patient\", columns=\"mirna_id\", values=\"rpm\")\n",
    "genes = sensdf.columns.tolist()"
   ]
  },
  {
   "cell_type": "code",
   "execution_count": null,
   "metadata": {},
   "outputs": [],
   "source": [
    "sendf=pd.concat([senldf, sensdf])"
   ]
  },
  {
   "cell_type": "code",
   "execution_count": null,
   "metadata": {},
   "outputs": [],
   "source": [
    "resdf_median = resdf.median(0)\n",
    "sendf_median = sendf.median(0)"
   ]
  },
  {
   "cell_type": "code",
   "execution_count": null,
   "metadata": {},
   "outputs": [],
   "source": [
    "pvalues = []\n",
    "for gene in tqdm(genes):\n",
    "    try:\n",
    "        gene_pvalue = scipy.stats.mannwhitneyu(sendf[gene],resdf[gene]).pvalue\n",
    "    except Exception:\n",
    "        gene_pvalue = 1\n",
    "       \n",
    "    pvalues.append(gene_pvalue)\n",
    "       \n",
    "pvalues = pd.DataFrame({\n",
    "    \"gene\": genes,\n",
    "    \"resistant_median\": resdf_median.values,\n",
    "    \"sensitive_median\": sendf_median.values,\n",
    "    #\"sensitive_long_median\": senldf_median.values,\n",
    "    #\"sensitive_short_median\": sensdf_median.values,\n",
    "    \"mannwhiteney_pvalue\": pvalues\n",
    "})\n",
    "\n",
    "pvalues.head()"
   ]
  },
  {
   "cell_type": "code",
   "execution_count": null,
   "metadata": {},
   "outputs": [],
   "source": [
    "listamirna=pvalues['gene'].values\n",
    "listamirna"
   ]
  },
  {
   "cell_type": "code",
   "execution_count": null,
   "metadata": {},
   "outputs": [],
   "source": [
    "sns.set(style=\"whitegrid\", font_scale=1.5)\n",
    "data = pd.DataFrame(columns=[\"Values\", \"Class\", \"gene\"])\n",
    "\n",
    "for g in listamirna[:]:\n",
    "    #data = pd.DataFrame(columns=[\"Values\", \"Class\", \"gene\"])\n",
    "    for row in resdf[g]:\n",
    "        data = data.append({\"Values\":row,\"Class\":\"Res\", \"gene\":g}, ignore_index=True)\n",
    "    for row in sendf[g]:\n",
    "        data = data.append({\"Values\":row,\"Class\":\"Sen\", \"gene\":g}, ignore_index=True)\n",
    "\n",
    "palette = [\"violet\", \"skyblue\"]   \n",
    "plt.figure()\n",
    "plt.xticks(rotation=\"vertical\")\n",
    "sns.violinplot(data=data[data[\"gene\"].isin(listamirna)], x=\"gene\", y=\"Values\", hue=\"Class\", palette=palette, saturation=0.75, alpha=0.7, split=True)\n",
    "plt.legend(loc=\"upper left\")\n",
    "plt.figure()\n",
    "#plt.xticks(rotation=\"vertical\")\n",
    "#sns.violinplot(data=data[data[\"gene\"].isin(listageni[4:])], x=\"gene\", y=\"Values\", hue=\"Class\", palette=palette, saturation=0.75, alpha=0.7, split=True)\n",
    "#plt.legend(loc=\"upper left\")\n",
    "    #plt.title(g)\n",
    "#plt.savefig('enrichment/violinplot_tot.png'.format(g))"
   ]
  },
  {
   "cell_type": "code",
   "execution_count": null,
   "metadata": {},
   "outputs": [],
   "source": [
    "sns.set(style=\"whitegrid\", font_scale=1.5)\n",
    "\n",
    "for g in listamirna[:]:\n",
    "    data = pd.DataFrame(columns=[\"Values\", \"Class\"])\n",
    "    for row in resdf[g]:\n",
    "        data = data.append({\"Values\":row,\"Class\":\"Res\"}, ignore_index=True)\n",
    "    for row in sendf[g]:\n",
    "        data = data.append({\"Values\":row,\"Class\":\"Sen\"}, ignore_index=True)\n",
    "    for row in sensdf[g]:\n",
    "        data = data.append({\"Values\":row,\"Class\":\"SenS\"}, ignore_index=True)\n",
    "    for row in senldf[g]:\n",
    "        data = data.append({\"Values\":row,\"Class\":\"SenL\"}, ignore_index=True)\n",
    "    \n",
    "    plt.figure()\n",
    "    sns.violinplot(data=data, x=\"Class\", y=\"Values\", palette=\"muted\", saturation=0.75, alpha=0.7, split=True)\n",
    "    plt.title(g)\n",
    "    #plt.savefig('enrichment/violinplot{}.png'.format(g), figsize=(24,16))"
   ]
  },
  {
   "cell_type": "code",
   "execution_count": null,
   "metadata": {},
   "outputs": [],
   "source": []
  },
  {
   "cell_type": "code",
   "execution_count": null,
   "metadata": {},
   "outputs": [],
   "source": []
  },
  {
   "cell_type": "code",
   "execution_count": null,
   "metadata": {},
   "outputs": [],
   "source": []
  },
  {
   "cell_type": "markdown",
   "metadata": {},
   "source": [
    "## Classification"
   ]
  },
  {
   "cell_type": "code",
   "execution_count": null,
   "metadata": {},
   "outputs": [],
   "source": [
    "res_selected=resdf[column]\n",
    "res_selected[\"label\"]=1\n",
    "res_selected.shape"
   ]
  },
  {
   "cell_type": "code",
   "execution_count": null,
   "metadata": {},
   "outputs": [],
   "source": [
    "senl_selected=senldf[column]\n",
    "senl_selected[\"label\"]=0\n",
    "senl_selected.shape"
   ]
  },
  {
   "cell_type": "code",
   "execution_count": null,
   "metadata": {},
   "outputs": [],
   "source": [
    "sens_selected=sensdf[column]\n",
    "sens_selected[\"label\"]=0\n",
    "sens_selected.shape"
   ]
  },
  {
   "cell_type": "code",
   "execution_count": null,
   "metadata": {},
   "outputs": [],
   "source": [
    "sen_selected=sendf[column]\n",
    "sen_selected[\"label\"]=0\n",
    "sen_selected.shape"
   ]
  },
  {
   "cell_type": "code",
   "execution_count": null,
   "metadata": {},
   "outputs": [],
   "source": [
    "#concatenated=pd.concat([res_selected, senl_selected])\n",
    "#concatenated=pd.concat([res_selected, sens_selected])\n",
    "#concatenated=pd.concat([senl_selected, sens_selected])\n",
    "concatenated=pd.concat([res_selected, sen_selected])"
   ]
  },
  {
   "cell_type": "code",
   "execution_count": null,
   "metadata": {},
   "outputs": [],
   "source": [
    "X=concatenated[concatenated.columns[:-1]].values\n",
    "y=concatenated[concatenated.columns[-1]].values"
   ]
  },
  {
   "cell_type": "code",
   "execution_count": null,
   "metadata": {
    "scrolled": true
   },
   "outputs": [],
   "source": [
    "precision=[]\n",
    "recall=[]\n",
    "\n",
    "#loo = LeaveOneOut()\n",
    "#loo.get_n_splits(X)\n",
    "rskf = RepeatedStratifiedKFold(n_splits=5, n_repeats=20, random_state=36851234)\n",
    "for train_index, test_index in (rskf.split(X, y)) :\n",
    "    #print(\"TRAIN:\", train_index, \"TEST:\", test_index)\n",
    "    X_train, X_test = X[train_index], X[test_index] \n",
    "    y_train, y_test = y[train_index], y[test_index]\n",
    "\n",
    "clf = svm.SVC(kernel='rbf', class_weight='balanced')\n",
    "tuned_parameters = [{'kernel': ['rbf'], 'gamma': [1e-3, 1e-4],\n",
    "                     'C': [1, 10, 100, 1000]},\n",
    "                    {'kernel': ['linear'], 'C': [1, 10, 100, 1000]}]\n",
    "\n",
    "scores = ['precision', 'recall']\n",
    "\n",
    "for score in scores:\n",
    "    print(\"# Tuning hyper-parameters for %s\" % score)\n",
    "    print()\n",
    "\n",
    "    clf = GridSearchCV(SVC(), tuned_parameters, cv=5,\n",
    "                       scoring='%s_macro' % score)\n",
    "    clf.fit(X_train, y_train)\n",
    "\n",
    "    print(\"Best parameters set found on development set:\")\n",
    "    print()\n",
    "    print(clf.best_params_)\n",
    "    print()\n",
    "    print(\"Grid scores on development set:\")\n",
    "    print()\n",
    "    means = clf.cv_results_['mean_test_score']\n",
    "    stds = clf.cv_results_['std_test_score']\n",
    "    for mean, std, params in zip(means, stds, clf.cv_results_['params']):\n",
    "        print(\"%0.3f (+/-%0.03f) for %r\"\n",
    "              % (mean, std * 2, params))\n",
    "    print()\n",
    "\n",
    "    print(\"Detailed classification report:\")\n",
    "    print()\n",
    "    print(\"The model is trained on the full development set.\")\n",
    "    print(\"The scores are computed on the full evaluation set.\")\n",
    "    print()\n",
    "    y_true, y_pred = y_test, clf.predict(X_test)\n",
    "    print(classification_report(y_true, y_pred))\n",
    "    print()\n",
    "\n",
    "    clf.fit(X_train, y_train)\n",
    "    y_predict=clf.predict(X_test)\n",
    "    \n",
    "    precision.append(precision_score(y_test, y_predict))\n",
    "    recall.append(recall_score(y_test, y_predict))"
   ]
  },
  {
   "cell_type": "code",
   "execution_count": null,
   "metadata": {
    "scrolled": true
   },
   "outputs": [],
   "source": [
    "#kf = RepeatedStratifiedKFold(n_splits=5, n_repeats=5, random_state=36851234)\n",
    "kf = StratifiedKFold(n_splits=10, random_state=36851234)\n",
    "recall=[]\n",
    "precision=[]\n",
    "accuracy=[]\n",
    "fscore=[]\n",
    "scores=['true_res', 'false_senl', 'true_senl', 'false_res', 'accuracy', 'precision', 'recall', 'f1_score']\n",
    "performance=pd.DataFrame(index=np.arange(10), columns=scores)\n",
    "i=0\n",
    "for train_index, test_index in kf.split(X, y):\n",
    "    x_train, x_test = X[train_index], X[test_index]\n",
    "    y_train, y_test = y[train_index], y[test_index]\n",
    "    \n",
    "    '''X=pd.DataFrame(x_train, columns=features)\n",
    "    model= RandomForestClassifier(n_estimators=200, max_depth=15, class_weight='balanced')\n",
    "    model.fit(X,y_train)\n",
    "    f=feat_importances.nlargest(15).index\n",
    "    x_train=X[f].values\n",
    "    X_t=pd.DataFrame(x_test, columns=features)\n",
    "    x_test=X_t[f]'''\n",
    "    \n",
    "    print('real')\n",
    "    print(y_test)\n",
    "    \n",
    "    clf = RandomForestClassifier(n_estimators=200, max_depth=15, class_weight='balanced')\n",
    "    #clf=KNeighborsClassifier(n_neighbors=3, metric='manhattan')\n",
    "    #clf = AdaBoostClassifier(n_estimators=200, base_estimator=DecisionTreeClassifier(max_depth=5),random_state=0)\n",
    "    #clf=LogisticRegression(random_state=0, solver='lbfgs',multi_class='multinomial')\n",
    "    #clf = svm.SVC(kernel='rbf', C=100, probability=True, gamma = 0.0001, class_weight='balanced', random_state=42)\n",
    "    \n",
    "    clf.fit(x_train, y_train)\n",
    "    y_pred=clf.predict(x_test)\n",
    "    print('predicted')\n",
    "    print(y_pred)\n",
    "    recall.append(recall_score(y_test, y_pred))\n",
    "    precision.append(precision_score(y_test, y_pred))\n",
    "    accuracy.append(accuracy_score(y_test, y_pred))\n",
    "    fscore.append(f1_score(y_test, y_pred))\n",
    "    performance.iloc[i]['accuracy']=accuracy_score(y_test, y_pred)\n",
    "    performance.iloc[i]['precision']=precision_score(y_test, y_pred)\n",
    "    performance.iloc[i]['recall']=recall_score(y_test, y_pred)\n",
    "    performance.iloc[i]['f1_score']=f1_score(y_test, y_pred)\n",
    "    c_matrix=confusion_matrix(y_test, y_pred)\n",
    "    performance.iloc[i]['true_sens']=c_matrix[0][0]\n",
    "    performance.iloc[i]['false_sens']=c_matrix[1][0]\n",
    "    performance.iloc[i]['true_res']=c_matrix[1][1]\n",
    "    performance.iloc[i]['false_res']=c_matrix[0][1]\n",
    "    print (i)\n",
    "    i=i+1"
   ]
  },
  {
   "cell_type": "code",
   "execution_count": null,
   "metadata": {
    "scrolled": true
   },
   "outputs": [],
   "source": [
    "print('Average precision: ', np.mean(precision))\n",
    "print('Average recall: ', np.mean(recall))\n",
    "print('Average accuracy: ', np.mean(accuracy))\n",
    "print('Average f1_score: ', np.mean(fscore))\n",
    "print('Standard_deviation precision: ', np.std(precision))\n",
    "print('Standard_deviation recall: ', np.std(recall))\n",
    "print('Standard_deviation accuracy: ', np.std(accuracy))\n",
    "print('Standard_deviation f1_score: ', np.std(fscore))"
   ]
  },
  {
   "cell_type": "code",
   "execution_count": null,
   "metadata": {},
   "outputs": [],
   "source": [
    "performance"
   ]
  },
  {
   "cell_type": "markdown",
   "metadata": {},
   "source": [
    "## Data visualization"
   ]
  },
  {
   "cell_type": "code",
   "execution_count": null,
   "metadata": {},
   "outputs": [],
   "source": [
    "def my_PCA(data, features, labels, i, j):\n",
    "    #x = data.loc[:, features].values\n",
    "    x = StandardScaler().fit_transform(data)\n",
    "    \n",
    "    pca= PCA(n_components=3)\n",
    "    p_comp=pca.fit_transform(x)\n",
    "    #p_comp = TSNE(n_components=2, perplexity=70, n_iter=2500).fit_transform(x)\n",
    "    p_comp=p_comp[:, [i,j]]\n",
    "\n",
    "    principalDf = pd.DataFrame(data = p_comp\n",
    "             , columns = ['principal component '+str(i), 'principal component '+str(j)])\n",
    "    finalDf= pd.concat([principalDf, pd.Series(labels)], axis=1)\n",
    "    \n",
    "    fig = plt.figure(figsize = (8,8))\n",
    "    ax = fig.add_subplot(1,1,1) \n",
    "    ax.set_xlabel('Principal Component '+str(i+1), fontsize = 15)\n",
    "    ax.set_ylabel('Principal Component '+str(j+1), fontsize = 15)\n",
    "    ax.set_title('2 Component PCA', fontsize = 20)\n",
    "    \n",
    "\n",
    "\n",
    "\n",
    "    targets = ['Sensitive_long', 'Sensitive_short']\n",
    "    colors = ['b', 'r']\n",
    "    for target, color in zip(targets,colors):\n",
    "        t=0\n",
    "        if target == 'Sensitive_short':\n",
    "            t=1\n",
    "        #if target == 'Sensitive_long':\n",
    "         #   t=2\n",
    "        indicesToKeep = finalDf[0] == t\n",
    "        ax.scatter(finalDf.loc[indicesToKeep, 'principal component '+str(i)]\n",
    "                   , finalDf.loc[indicesToKeep, 'principal component '+str(j)]\n",
    "                   , c = color\n",
    "                   , s = 50)\n",
    "    ax.legend(targets)\n",
    "    ax.grid()"
   ]
  },
  {
   "cell_type": "code",
   "execution_count": null,
   "metadata": {
    "scrolled": true
   },
   "outputs": [],
   "source": [
    "my_PCA(X, concatenated.columns, y, 0, 2)\n",
    "#plt.savefig('my_PCA_res_sens_12.png')\n",
    "my_PCA"
   ]
  },
  {
   "cell_type": "code",
   "execution_count": null,
   "metadata": {},
   "outputs": [],
   "source": [
    "# ROC curve\n",
    "classifier = RandomForestClassifier(n_estimators=200, max_depth=15, class_weight='balanced')\n",
    "#classifier = AdaBoostClassifier(n_estimators=200, base_estimator=DecisionTreeClassifier(max_depth=5),random_state=0)\n",
    "#classifier = svm.SVC(kernel='rbf', C=10, probability=True, gamma = 0.0001, class_weight='balanced', random_state=42)\n",
    "#classifier=KNeighborsClassifier(n_neighbors=3, metric='manhattan')\n",
    "#classifier= LogisticRegression(random_state=0, solver='lbfgs',multi_class='multinomial')\n",
    "#cv = RepeatedStratifiedKFold(n_splits=5, n_repeats=10, random_state=36851234)\n",
    "cv = StratifiedKFold(n_splits=10)\n",
    "\n",
    "tprs = []\n",
    "aucs = []\n",
    "mean_fpr = np.linspace(0, 1, 100)\n",
    "plt.figure(figsize=(10,10))\n",
    "i = 0\n",
    "for train, test in cv.split(X, y):\n",
    "    probas_ = classifier.fit(X[train], y[train]).predict_proba(X[test])\n",
    "    # Compute ROC curve and area the curve\n",
    "    fpr, tpr, thresholds = roc_curve(y[test], probas_[:, 1])\n",
    "    tprs.append(interp(mean_fpr, fpr, tpr))\n",
    "    tprs[-1][0] = 0.0\n",
    "    roc_auc = auc(fpr, tpr)\n",
    "    aucs.append(roc_auc)\n",
    "    plt.plot(fpr, tpr, lw=1, alpha=0.3,\n",
    "             label='ROC fold %d (AUC = %0.2f)' % (i, roc_auc))\n",
    "\n",
    "    i += 1\n",
    "plt.plot([0, 1], [0, 1], linestyle='--', lw=2, color='r',\n",
    "         label='Chance', alpha=.8)\n",
    "\n",
    "mean_tpr = np.mean(tprs, axis=0)\n",
    "mean_tpr[-1] = 1.0\n",
    "mean_auc = auc(mean_fpr, mean_tpr)\n",
    "std_auc = np.std(aucs)\n",
    "plt.plot(mean_fpr, mean_tpr, color='b',\n",
    "         label=r'Mean ROC (AUC = %0.2f $\\pm$ %0.2f)' % (mean_auc, std_auc),\n",
    "         lw=2, alpha=.8)\n",
    "\n",
    "std_tpr = np.std(tprs, axis=0)\n",
    "tprs_upper = np.minimum(mean_tpr + std_tpr, 1)\n",
    "tprs_lower = np.maximum(mean_tpr - std_tpr, 0)\n",
    "plt.fill_between(mean_fpr, tprs_lower, tprs_upper, color='grey', alpha=.2,\n",
    "                 label=r'$\\pm$ 1 std. dev.')\n",
    "\n",
    "\n",
    "plt.xlim([-0.05, 1.05])\n",
    "plt.ylim([-0.05, 1.05])\n",
    "plt.xlabel('False Positive Rate')\n",
    "plt.ylabel('True Positive Rate')\n",
    "plt.title('ROC curve AllSen vs Res, gene_exprs')\n",
    "#plt.legend(loc='upper center', bbox_to_anchor=(0.5, -0.05),\n",
    "          #fancybox=True, shadow=True, ncol=5)\n",
    "plt.legend(loc='lower right')\n",
    "plt.savefig('1.png')"
   ]
  },
  {
   "cell_type": "code",
   "execution_count": null,
   "metadata": {},
   "outputs": [],
   "source": [
    "k_fold = RepeatedStratifiedKFold(n_splits=5, n_repeats=10, random_state=36851234)\n",
    "y_real = []\n",
    "y_proba = []\n",
    "#predictor= RandomForestClassifier(n_estimators=200, max_depth=15, class_weight='balanced')\n",
    "#predictor = AdaBoostClassifier(n_estimators=200, base_estimator=DecisionTreeClassifier(max_depth=5),random_state=0)\n",
    "predictor = svm.SVC(kernel='rbf', C=100, probability=True, gamma = 0.0001, class_weight='balanced', random_state=42)\n",
    "#predictor = KNeighborsClassifier(n_neighbors=3, metric='manhattan')\n",
    "#predictor = LogisticRegression(random_state=0, solver='lbfgs',multi_class='multinomial')\n",
    "cv = RepeatedStratifiedKFold(n_splits=5, n_repeats=10, random_state=36851234)\n",
    "\n",
    "\n",
    "tprs = []\n",
    "aucs = []\n",
    "mean_fpr = np.linspace(0, 1, 100)\n",
    "plt.figure(figsize=(10,10))\n",
    "i = 0\n",
    "for train, test in cv.split(X, y):\n",
    "    probas_ = classifier.fit(X[train], y[train]).predict_proba(X[test])\n",
    "    # Compute ROC curve and area the curve\n",
    "    fpr, tpr, thresholds = roc_curve(y[test], probas_[:, 1])\n",
    "    tprs.append(interp(mean_fpr, fpr, tpr))\n",
    "    tprs[-1][0] = 0.0\n",
    "    roc_auc = auc(fpr, tpr)\n",
    "    aucs.append(roc_auc)\n",
    "    plt.plot(fpr, tpr, lw=1, alpha=0.3,\n",
    "             label='ROC fold %d (AUC = %0.2f)' % (i, roc_auc))\n",
    "\n",
    "    i += 1\n",
    "plt.plot([0, 1], [0, 1], linestyle='--', lw=2, color='r',\n",
    "         label='Chance', alpha=.8)\n",
    "\n",
    "mean_tpr = np.mean(tprs, axis=0)\n",
    "mean_tpr[-1] = 1.0\n",
    "mean_auc = auc(mean_fpr, mean_tpr)\n",
    "std_auc = np.std(aucs)\n",
    "plt.plot(mean_fpr, mean_tpr, color='b',\n",
    "         label=r'Mean ROC (AUC = %0.2f $\\pm$ %0.2f)' % (mean_auc, std_auc),\n",
    "         lw=2, alpha=.8)\n",
    "\n",
    "std_tpr = np.std(tprs, axis=0)\n",
    "tprs_upper = np.minimum(mean_tpr + std_tpr, 1)\n",
    "tprs_lower = np.maximum(mean_tpr - std_tpr, 0)\n",
    "plt.fill_between(mean_fpr, tprs_lower, tprs_upper, color='grey', alpha=.2,\n",
    "                 label=r'$\\pm$ 1 std. dev.')\n",
    "\n",
    "\n",
    "plt.xlim([-0.05, 1.05])\n",
    "plt.ylim([-0.05, 1.05])\n",
    "plt.xlabel('False Positive Rate')\n",
    "plt.ylabel('True Positive Rate')\n",
    "#plt.title('ROC curve Res vs Senl')\n",
    "\n",
    "#plt.legend(loc='upper center', bbox_to_anchor=(0.5, -0.05),\n",
    "         # fancybox=True, shadow=True, ncol=5)\n",
    "#plt.savefig('ROC_Res_vs_SenS.png')\n",
    "#predictor = AdaBoostClassifier(n_estimators=200, base_estimator=DecisionTreeClassifier(max_depth=5),random_state=0)\n",
    "precision_array = []\n",
    "threshold_array=[]\n",
    "recall_array = np.linspace(0, 1, 100)\n",
    "plt.figure(figsize=(10,10))\n",
    "for i, (train_index, test_index) in enumerate(k_fold.split(X, y)):\n",
    "    Xtrain, Xtest = X[train_index], X[test_index]\n",
    "    ytrain, ytest = y[train_index], y[test_index]\n",
    "    predictor.fit(Xtrain, ytrain)\n",
    "    pred_proba = predictor.predict_proba(Xtest)\n",
    "    precision_fold, recall_fold, thresh = precision_recall_curve(ytest, pred_proba[:,1])\n",
    "    precision_fold, recall_fold, thresh = precision_fold[::-1], recall_fold[::-1], thresh[::-1]  # reverse order of results\n",
    "    thresh = np.insert(thresh, 0, 1.0)\n",
    "    precision_array = interp(recall_array, recall_fold, precision_fold)\n",
    "    threshold_array = interp(recall_array, recall_fold, thresh)\n",
    "    pr_auc = auc(recall_array, precision_array)\n",
    "\n",
    "    lab_fold = 'Fold %d AUC=%.4f' % (i+1, pr_auc)\n",
    "    plt.plot(recall_fold, precision_fold, alpha=0.3, label=lab_fold)\n",
    "    y_real.append(ytest)\n",
    "    y_proba.append(pred_proba[:,1])\n",
    "    \n",
    "y_real = np.concatenate(y_real)\n",
    "y_proba = np.concatenate(y_proba)\n",
    "precision, recall, thr = precision_recall_curve(y_real, y_proba)\n",
    "lab = 'Overall AUC=%.4f' % (auc(recall, precision))\n",
    "\n",
    "plt.plot(recall, precision, lw=2,color='red', label=lab)\n",
    "\n",
    "plt.legend(loc='upper center', bbox_to_anchor=(0.5, -0.05),\n",
    "          fancybox=True, shadow=True, ncol=5)\n",
    "\n",
    "mean_precision = np.mean(precision_array)\n",
    "std_precision = np.std(precision_array)\n",
    "plt.fill_between(recall, precision + std_precision, precision - std_precision, alpha=0.3, linewidth=0, color='grey')\n",
    "#plt.show()\n",
    "#plt.title('PR curve Res vs SenS')\n",
    "#plt.savefig('PR curve Res vs Senl_RF.png')"
   ]
  },
  {
   "cell_type": "code",
   "execution_count": null,
   "metadata": {},
   "outputs": [],
   "source": [
    "def plot_confusion_matrix(y_true, y_pred, classes,\n",
    "                          normalize=False,\n",
    "                          title=None,\n",
    "                          cmap=plt.cm.Blues):\n",
    "    \"\"\"\n",
    "    This function prints and plots the confusion matrix.\n",
    "    Normalization can be applied by setting `normalize=True`.\n",
    "    \"\"\"\n",
    "    if not title:\n",
    "        if normalize:\n",
    "            title = 'Normalized confusion matrix'\n",
    "        else:\n",
    "            title = 'Confusion matrix, without normalization'\n",
    "\n",
    "    # Compute confusion matrix\n",
    "    cm = confusion_matrix(y_true, y_pred)\n",
    "    # Only use the labels that appear in the data\n",
    "    classes = classes[unique_labels(y_true, y_pred)]\n",
    "    if normalize:\n",
    "        cm = cm.astype('float') / cm.sum(axis=1)[:, np.newaxis]\n",
    "        print(\"Normalized confusion matrix\")\n",
    "    else:\n",
    "        print('Confusion matrix, without normalization')\n",
    "\n",
    "    print(cm)\n",
    "\n",
    "    fig, ax = plt.subplots()\n",
    "    im = ax.imshow(cm, interpolation='nearest', cmap=cmap)\n",
    "    ax.figure.colorbar(im, ax=ax)\n",
    "    # We want to show all ticks...\n",
    "    ax.set(xticks=np.arange(cm.shape[1]),\n",
    "           yticks=np.arange(cm.shape[0]),\n",
    "           # ... and label them with the respective list entries\n",
    "           xticklabels=classes, yticklabels=classes,\n",
    "           title=title,\n",
    "           ylabel='True label',\n",
    "           xlabel='Predicted label')\n",
    "\n",
    "    # Rotate the tick labels and set their alignment.\n",
    "    plt.setp(ax.get_xticklabels(), rotation=45, ha=\"right\",\n",
    "             rotation_mode=\"anchor\")\n",
    "\n",
    "    # Loop over data dimensions and create text annotations.\n",
    "    fmt = '.2f' if normalize else 'd'\n",
    "    thresh = cm.max() / 2.\n",
    "    for i in range(cm.shape[0]):\n",
    "        for j in range(cm.shape[1]):\n",
    "            ax.text(j, i, format(cm[i, j], fmt),\n",
    "                    ha=\"center\", va=\"center\",\n",
    "                    color=\"white\" if cm[i, j] > thresh else \"black\")\n",
    "    fig.tight_layout()\n",
    "    return ax"
   ]
  },
  {
   "cell_type": "code",
   "execution_count": null,
   "metadata": {},
   "outputs": [],
   "source": [
    "c_matrix=confusion_matrix(y_test, y_pred)\n",
    "c_matrix"
   ]
  },
  {
   "cell_type": "code",
   "execution_count": null,
   "metadata": {},
   "outputs": [],
   "source": []
  },
  {
   "cell_type": "code",
   "execution_count": null,
   "metadata": {},
   "outputs": [],
   "source": []
  },
  {
   "cell_type": "code",
   "execution_count": null,
   "metadata": {},
   "outputs": [],
   "source": []
  },
  {
   "cell_type": "code",
   "execution_count": null,
   "metadata": {},
   "outputs": [],
   "source": []
  },
  {
   "cell_type": "code",
   "execution_count": null,
   "metadata": {},
   "outputs": [],
   "source": []
  },
  {
   "cell_type": "code",
   "execution_count": null,
   "metadata": {},
   "outputs": [],
   "source": []
  },
  {
   "cell_type": "code",
   "execution_count": null,
   "metadata": {},
   "outputs": [],
   "source": []
  },
  {
   "cell_type": "code",
   "execution_count": null,
   "metadata": {},
   "outputs": [],
   "source": []
  },
  {
   "cell_type": "code",
   "execution_count": null,
   "metadata": {},
   "outputs": [],
   "source": []
  }
 ],
 "metadata": {
  "kernelspec": {
   "display_name": "Python 3.9.5 64-bit",
   "language": "python",
   "name": "python3"
  },
  "language_info": {
   "codemirror_mode": {
    "name": "ipython",
    "version": 3
   },
   "file_extension": ".py",
   "mimetype": "text/x-python",
   "name": "python",
   "nbconvert_exporter": "python",
   "pygments_lexer": "ipython3",
   "version": "3.9.5"
  },
  "vscode": {
   "interpreter": {
    "hash": "bf72a475517b0cff23003112adde97a2bc8e8ddb0d6183322be0a4a5437623a4"
   }
  }
 },
 "nbformat": 4,
 "nbformat_minor": 2
}
