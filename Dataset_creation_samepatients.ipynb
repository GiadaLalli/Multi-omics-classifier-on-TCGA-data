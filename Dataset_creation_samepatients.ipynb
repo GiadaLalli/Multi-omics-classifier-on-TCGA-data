{
 "cells": [
  {
   "cell_type": "code",
   "execution_count": 2,
   "metadata": {},
   "outputs": [],
   "source": [
    "import pandas as pd\n",
    "import os\n",
    "import collections\n",
    "import scipy.stats\n",
    "import numpy as np\n",
    "import scipy\n",
    "import csv\n",
    "import tqdm\n",
    "import math\n",
    "from matplotlib import pyplot as plt\n",
    "import subprocess\n",
    "%matplotlib inline\n",
    "import re\n",
    "from functools import reduce"
   ]
  },
  {
   "cell_type": "code",
   "execution_count": 234,
   "metadata": {},
   "outputs": [],
   "source": [
    "string_rna=\"senl32_seq/\"\n",
    "string_mirna=\"senl32_miRNA/\""
   ]
  },
  {
   "cell_type": "code",
   "execution_count": 235,
   "metadata": {
    "scrolled": true
   },
   "outputs": [],
   "source": [
    "path=\"GMQL_data/\"+string_rna\n",
    "names=[]\n",
    "barcodes=[]\n",
    "filelist=os.listdir(path)\n",
    "filelist.sort()\n",
    "for file in filelist:\n",
    "\n",
    "    if file.endswith(\".meta\"):\n",
    "        tmp=pd.read_csv(path+file, sep='\\t', header=None, index_col=0)\n",
    "        tmp=tmp.T\n",
    "        if tmp['biospecimen__shared__bcr_patient_barcode'].values[0] in barcodes:\n",
    "            print(file)\n",
    "        else:\n",
    "            names.append(file[:11])\n",
    "            barcodes.append(tmp['biospecimen__shared__bcr_patient_barcode'].values[0])"
   ]
  },
  {
   "cell_type": "code",
   "execution_count": 236,
   "metadata": {},
   "outputs": [
    {
     "data": {
      "text/plain": [
       "33"
      ]
     },
     "execution_count": 236,
     "metadata": {},
     "output_type": "execute_result"
    }
   ],
   "source": [
    "len(barcodes)"
   ]
  },
  {
   "cell_type": "code",
   "execution_count": 239,
   "metadata": {},
   "outputs": [],
   "source": [
    "barcodes=list(barcodes)"
   ]
  },
  {
   "cell_type": "code",
   "execution_count": 240,
   "metadata": {},
   "outputs": [
    {
     "data": {
      "text/plain": [
       "33"
      ]
     },
     "execution_count": 240,
     "metadata": {},
     "output_type": "execute_result"
    }
   ],
   "source": [
    "len(barcodes)"
   ]
  },
  {
   "cell_type": "code",
   "execution_count": 241,
   "metadata": {},
   "outputs": [],
   "source": [
    "path=\"GMQL_data/\"+string_mirna\n",
    "ids=[]\n",
    "\n",
    "filelist=os.listdir(path)\n",
    "filelist.sort()\n",
    "for file in filelist:\n",
    "\n",
    "    if file.endswith(\".meta\"):\n",
    "        tmp=pd.read_csv(path+file, sep='\\t', header=None, index_col=0)\n",
    "        tmp=tmp.T\n",
    "        barcode=tmp['biospecimen__shared__bcr_patient_barcode'].values[0]\n",
    "        ids.append(barcode)\n",
    "        #idx=barcodes.index(barcode)\n",
    "        #order[idx]=file[:11]\n",
    "        #notorder.append(file[:11])\n",
    "\n"
   ]
  },
  {
   "cell_type": "code",
   "execution_count": 242,
   "metadata": {},
   "outputs": [],
   "source": [
    "set1=set(barcodes)\n",
    "set2=set(ids)\n",
    "inters=set1.intersection(set2)\n",
    "\n",
    "barcodes=list(barcodes)\n",
    "for b in barcodes:\n",
    "    if b not in inters:\n",
    "        print(b+' not in index')\n",
    "        idx=barcodes.index(b)\n",
    "        n=names[idx]\n",
    "        names.remove(n)\n",
    "        barcodes.remove(b)"
   ]
  },
  {
   "cell_type": "code",
   "execution_count": 243,
   "metadata": {},
   "outputs": [
    {
     "data": {
      "text/plain": [
       "33"
      ]
     },
     "execution_count": 243,
     "metadata": {},
     "output_type": "execute_result"
    }
   ],
   "source": [
    "len(barcodes)"
   ]
  },
  {
   "cell_type": "code",
   "execution_count": 244,
   "metadata": {},
   "outputs": [
    {
     "data": {
      "text/plain": [
       "33"
      ]
     },
     "execution_count": 244,
     "metadata": {},
     "output_type": "execute_result"
    }
   ],
   "source": [
    "len(names)"
   ]
  },
  {
   "cell_type": "code",
   "execution_count": 245,
   "metadata": {},
   "outputs": [
    {
     "data": {
      "text/plain": [
       "33"
      ]
     },
     "execution_count": 245,
     "metadata": {},
     "output_type": "execute_result"
    }
   ],
   "source": [
    "len(inters)"
   ]
  },
  {
   "cell_type": "code",
   "execution_count": 246,
   "metadata": {},
   "outputs": [],
   "source": [
    "path=\"GMQL_data/\"+string_mirna\n",
    "barcodes=list(barcodes)\n",
    "notorder=[]\n",
    "order=np.empty(len(barcodes), dtype=\"<U30\")\n",
    "filelist=os.listdir(path)\n",
    "filelist.sort()\n",
    "for file in filelist:\n",
    "\n",
    "    if file.endswith(\".meta\"):\n",
    "        #print(file)\n",
    "        tmp=pd.read_csv(path+file, sep='\\t', header=None, index_col=0)\n",
    "        tmp=tmp.T\n",
    "        barcode=tmp['biospecimen__shared__bcr_patient_barcode'].values[0]\n",
    "        if barcode in barcodes:\n",
    "            #print(barcode)\n",
    "            idx=barcodes.index(barcode)\n",
    "            order[idx]=file[:11]\n",
    "            #print(idx)\n",
    "            #print(file[:11])\n",
    "            notorder.append(file[:11])\n"
   ]
  },
  {
   "cell_type": "code",
   "execution_count": 250,
   "metadata": {},
   "outputs": [
    {
     "data": {
      "text/html": [
       "<div>\n",
       "<style scoped>\n",
       "    .dataframe tbody tr th:only-of-type {\n",
       "        vertical-align: middle;\n",
       "    }\n",
       "\n",
       "    .dataframe tbody tr th {\n",
       "        vertical-align: top;\n",
       "    }\n",
       "\n",
       "    .dataframe thead th {\n",
       "        text-align: right;\n",
       "    }\n",
       "</style>\n",
       "<table border=\"1\" class=\"dataframe\">\n",
       "  <thead>\n",
       "    <tr style=\"text-align: right;\">\n",
       "      <th></th>\n",
       "      <th>0</th>\n",
       "      <th>1</th>\n",
       "      <th>2</th>\n",
       "      <th>3</th>\n",
       "      <th>4</th>\n",
       "      <th>5</th>\n",
       "      <th>6</th>\n",
       "      <th>7</th>\n",
       "    </tr>\n",
       "  </thead>\n",
       "  <tbody>\n",
       "    <tr>\n",
       "      <th>0</th>\n",
       "      <td>SL_00000</td>\n",
       "      <td>chr1</td>\n",
       "      <td>17368</td>\n",
       "      <td>17436</td>\n",
       "      <td>hsa-mir-6859-1</td>\n",
       "      <td>0.00000</td>\n",
       "      <td>102466751.0</td>\n",
       "      <td>mir6859-1</td>\n",
       "    </tr>\n",
       "    <tr>\n",
       "      <th>1</th>\n",
       "      <td>SL_00000</td>\n",
       "      <td>chr1</td>\n",
       "      <td>30365</td>\n",
       "      <td>30503</td>\n",
       "      <td>hsa-mir-1302-2</td>\n",
       "      <td>0.00000</td>\n",
       "      <td>100302278.0</td>\n",
       "      <td>mir1302-2</td>\n",
       "    </tr>\n",
       "    <tr>\n",
       "      <th>2</th>\n",
       "      <td>SL_00000</td>\n",
       "      <td>chr1</td>\n",
       "      <td>187890</td>\n",
       "      <td>187958</td>\n",
       "      <td>hsa-mir-6859-2</td>\n",
       "      <td>0.00000</td>\n",
       "      <td>102465909.0</td>\n",
       "      <td>mir6859-2</td>\n",
       "    </tr>\n",
       "    <tr>\n",
       "      <th>3</th>\n",
       "      <td>SL_00000</td>\n",
       "      <td>chr1</td>\n",
       "      <td>632324</td>\n",
       "      <td>632413</td>\n",
       "      <td>hsa-mir-6723</td>\n",
       "      <td>0.00000</td>\n",
       "      <td>102465432.0</td>\n",
       "      <td>mir6723</td>\n",
       "    </tr>\n",
       "    <tr>\n",
       "      <th>4</th>\n",
       "      <td>SL_00000</td>\n",
       "      <td>chr1</td>\n",
       "      <td>1167103</td>\n",
       "      <td>1167198</td>\n",
       "      <td>hsa-mir-200b</td>\n",
       "      <td>4098.11386</td>\n",
       "      <td>406984.0</td>\n",
       "      <td>mir200b</td>\n",
       "    </tr>\n",
       "  </tbody>\n",
       "</table>\n",
       "</div>"
      ],
      "text/plain": [
       "          0     1        2        3               4           5            6  \\\n",
       "0  SL_00000  chr1    17368    17436  hsa-mir-6859-1     0.00000  102466751.0   \n",
       "1  SL_00000  chr1    30365    30503  hsa-mir-1302-2     0.00000  100302278.0   \n",
       "2  SL_00000  chr1   187890   187958  hsa-mir-6859-2     0.00000  102465909.0   \n",
       "3  SL_00000  chr1   632324   632413    hsa-mir-6723     0.00000  102465432.0   \n",
       "4  SL_00000  chr1  1167103  1167198    hsa-mir-200b  4098.11386     406984.0   \n",
       "\n",
       "           7  \n",
       "0  mir6859-1  \n",
       "1  mir1302-2  \n",
       "2  mir6859-2  \n",
       "3    mir6723  \n",
       "4    mir200b  "
      ]
     },
     "execution_count": 250,
     "metadata": {},
     "output_type": "execute_result"
    }
   ],
   "source": [
    "path=\"GMQL_data/\"+string_mirna\n",
    "\n",
    "col=['patient', 'chrom', 'start', 'stop', 'mirna_id', 'rpm', 'entrez_id', 'gene_symbol']\n",
    "r=[]\n",
    "for i in range(len(order)):\n",
    "    tmp=pd.read_csv(path+order[i], sep='\\t', header=None)\n",
    "    tmp=tmp.values\n",
    "    for j in range(tmp.shape[0]):\n",
    "        p='SL_00'\n",
    "        if i < 10:\n",
    "            p=p+'00'+str(i)\n",
    "        elif i< 100:\n",
    "            p=p+'0'+str(i)\n",
    "        else:\n",
    "            p=p+str(i)\n",
    "        r.append([p, tmp[j][0], tmp[j][1], tmp[j][2], tmp[j][4], tmp[j][6], tmp[j][8], tmp[j][9]])\n",
    "data=pd.DataFrame(r)\n",
    "#data.to_csv(path_or_buf ='new_data/sens_mirna.csv', sep='\\t', header=col, index=False)\n",
    "data.head() #ci sono dei nan"
   ]
  },
  {
   "cell_type": "code",
   "execution_count": 252,
   "metadata": {},
   "outputs": [],
   "source": [
    "data.to_csv(path_or_buf ='new_data/senl32_mirna.csv', sep='\\t', header=col, index=False)"
   ]
  },
  {
   "cell_type": "code",
   "execution_count": 255,
   "metadata": {},
   "outputs": [
    {
     "data": {
      "text/html": [
       "<div>\n",
       "<style scoped>\n",
       "    .dataframe tbody tr th:only-of-type {\n",
       "        vertical-align: middle;\n",
       "    }\n",
       "\n",
       "    .dataframe tbody tr th {\n",
       "        vertical-align: top;\n",
       "    }\n",
       "\n",
       "    .dataframe thead th {\n",
       "        text-align: right;\n",
       "    }\n",
       "</style>\n",
       "<table border=\"1\" class=\"dataframe\">\n",
       "  <thead>\n",
       "    <tr style=\"text-align: right;\">\n",
       "      <th></th>\n",
       "      <th>0</th>\n",
       "      <th>1</th>\n",
       "      <th>2</th>\n",
       "      <th>3</th>\n",
       "      <th>4</th>\n",
       "      <th>5</th>\n",
       "      <th>6</th>\n",
       "      <th>7</th>\n",
       "      <th>8</th>\n",
       "    </tr>\n",
       "  </thead>\n",
       "  <tbody>\n",
       "    <tr>\n",
       "      <th>0</th>\n",
       "      <td>SL_00000</td>\n",
       "      <td>chr1</td>\n",
       "      <td>11868</td>\n",
       "      <td>14409</td>\n",
       "      <td>ENSG00000223972.5</td>\n",
       "      <td>100287102.0</td>\n",
       "      <td>DDX11L1</td>\n",
       "      <td>615.121533</td>\n",
       "      <td>0.027216</td>\n",
       "    </tr>\n",
       "    <tr>\n",
       "      <th>1</th>\n",
       "      <td>SL_00000</td>\n",
       "      <td>chr1</td>\n",
       "      <td>14403</td>\n",
       "      <td>29570</td>\n",
       "      <td>ENSG00000227232.5</td>\n",
       "      <td>653635.0</td>\n",
       "      <td>WASH7P</td>\n",
       "      <td>41077.916117</td>\n",
       "      <td>1.817473</td>\n",
       "    </tr>\n",
       "    <tr>\n",
       "      <th>2</th>\n",
       "      <td>SL_00000</td>\n",
       "      <td>chr1</td>\n",
       "      <td>17368</td>\n",
       "      <td>17436</td>\n",
       "      <td>ENSG00000278267.1</td>\n",
       "      <td>102465910.0</td>\n",
       "      <td>MIR6859-3</td>\n",
       "      <td>117709.837403</td>\n",
       "      <td>5.208017</td>\n",
       "    </tr>\n",
       "    <tr>\n",
       "      <th>3</th>\n",
       "      <td>SL_00000</td>\n",
       "      <td>chr1</td>\n",
       "      <td>29553</td>\n",
       "      <td>31109</td>\n",
       "      <td>ENSG00000243485.3</td>\n",
       "      <td>NaN</td>\n",
       "      <td>RP11-34P13.3</td>\n",
       "      <td>0.000000</td>\n",
       "      <td>0.000000</td>\n",
       "    </tr>\n",
       "    <tr>\n",
       "      <th>4</th>\n",
       "      <td>SL_00000</td>\n",
       "      <td>chr1</td>\n",
       "      <td>30365</td>\n",
       "      <td>30503</td>\n",
       "      <td>ENSG00000274890.1</td>\n",
       "      <td>100422831.0</td>\n",
       "      <td>MIR1302-9</td>\n",
       "      <td>0.000000</td>\n",
       "      <td>0.000000</td>\n",
       "    </tr>\n",
       "  </tbody>\n",
       "</table>\n",
       "</div>"
      ],
      "text/plain": [
       "          0     1      2      3                  4            5             6  \\\n",
       "0  SL_00000  chr1  11868  14409  ENSG00000223972.5  100287102.0       DDX11L1   \n",
       "1  SL_00000  chr1  14403  29570  ENSG00000227232.5     653635.0        WASH7P   \n",
       "2  SL_00000  chr1  17368  17436  ENSG00000278267.1  102465910.0     MIR6859-3   \n",
       "3  SL_00000  chr1  29553  31109  ENSG00000243485.3          NaN  RP11-34P13.3   \n",
       "4  SL_00000  chr1  30365  30503  ENSG00000274890.1  100422831.0     MIR1302-9   \n",
       "\n",
       "               7         8  \n",
       "0     615.121533  0.027216  \n",
       "1   41077.916117  1.817473  \n",
       "2  117709.837403  5.208017  \n",
       "3       0.000000  0.000000  \n",
       "4       0.000000  0.000000  "
      ]
     },
     "execution_count": 255,
     "metadata": {},
     "output_type": "execute_result"
    }
   ],
   "source": [
    "path=\"GMQL_data/\"+string_rna\n",
    "\n",
    "col=['patient', 'chrom', 'start', 'stop', 'ensemble_id', 'entrez_id', 'gene_symbol', 'fpkm_uq', 'fpkm']\n",
    "r=[]\n",
    "for i in range(len(names)):\n",
    "    tmp=pd.read_csv(path+names[i], sep='\\t', header=None)\n",
    "    tmp=tmp.values\n",
    "    for j in range(tmp.shape[0]):\n",
    "        p='SL_00'\n",
    "        if i < 10:\n",
    "            p=p+'00'+str(i)\n",
    "        elif i< 100:\n",
    "            p=p+'0'+str(i)\n",
    "        else:\n",
    "            p=p+str(i)\n",
    "        r.append([p, tmp[j][0], tmp[j][1], tmp[j][2], tmp[j][4], tmp[j][5], tmp[j][6], tmp[j][9], tmp[j][10]])\n",
    "data=pd.DataFrame(r)\n",
    "#data.to_csv(path_or_buf ='new_data/sens_rna_seq.csv', sep='\\t', header=col, index=False)\n",
    "data.head()"
   ]
  },
  {
   "cell_type": "code",
   "execution_count": 256,
   "metadata": {},
   "outputs": [],
   "source": [
    "data.to_csv(path_or_buf ='new_data/senl32_rna_seq.csv', sep='\\t', header=col, index=False)"
   ]
  },
  {
   "cell_type": "code",
   "execution_count": 257,
   "metadata": {},
   "outputs": [
    {
     "data": {
      "text/html": [
       "<div>\n",
       "<style scoped>\n",
       "    .dataframe tbody tr th:only-of-type {\n",
       "        vertical-align: middle;\n",
       "    }\n",
       "\n",
       "    .dataframe tbody tr th {\n",
       "        vertical-align: top;\n",
       "    }\n",
       "\n",
       "    .dataframe thead th {\n",
       "        text-align: right;\n",
       "    }\n",
       "</style>\n",
       "<table border=\"1\" class=\"dataframe\">\n",
       "  <thead>\n",
       "    <tr style=\"text-align: right;\">\n",
       "      <th></th>\n",
       "      <th>patient</th>\n",
       "      <th>chrom</th>\n",
       "      <th>start</th>\n",
       "      <th>stop</th>\n",
       "      <th>mirna_id</th>\n",
       "      <th>rpm</th>\n",
       "      <th>entrez_id</th>\n",
       "      <th>gene_symbol</th>\n",
       "    </tr>\n",
       "  </thead>\n",
       "  <tbody>\n",
       "    <tr>\n",
       "      <th>0</th>\n",
       "      <td>SL_00000</td>\n",
       "      <td>chr1</td>\n",
       "      <td>17368</td>\n",
       "      <td>17436</td>\n",
       "      <td>hsa-mir-6859-1</td>\n",
       "      <td>0.00000</td>\n",
       "      <td>102466751.0</td>\n",
       "      <td>mir6859-1</td>\n",
       "    </tr>\n",
       "    <tr>\n",
       "      <th>1</th>\n",
       "      <td>SL_00000</td>\n",
       "      <td>chr1</td>\n",
       "      <td>30365</td>\n",
       "      <td>30503</td>\n",
       "      <td>hsa-mir-1302-2</td>\n",
       "      <td>0.00000</td>\n",
       "      <td>100302278.0</td>\n",
       "      <td>mir1302-2</td>\n",
       "    </tr>\n",
       "    <tr>\n",
       "      <th>2</th>\n",
       "      <td>SL_00000</td>\n",
       "      <td>chr1</td>\n",
       "      <td>187890</td>\n",
       "      <td>187958</td>\n",
       "      <td>hsa-mir-6859-2</td>\n",
       "      <td>0.00000</td>\n",
       "      <td>102465909.0</td>\n",
       "      <td>mir6859-2</td>\n",
       "    </tr>\n",
       "    <tr>\n",
       "      <th>3</th>\n",
       "      <td>SL_00000</td>\n",
       "      <td>chr1</td>\n",
       "      <td>632324</td>\n",
       "      <td>632413</td>\n",
       "      <td>hsa-mir-6723</td>\n",
       "      <td>0.00000</td>\n",
       "      <td>102465432.0</td>\n",
       "      <td>mir6723</td>\n",
       "    </tr>\n",
       "    <tr>\n",
       "      <th>4</th>\n",
       "      <td>SL_00000</td>\n",
       "      <td>chr1</td>\n",
       "      <td>1167103</td>\n",
       "      <td>1167198</td>\n",
       "      <td>hsa-mir-200b</td>\n",
       "      <td>4098.11386</td>\n",
       "      <td>406984.0</td>\n",
       "      <td>mir200b</td>\n",
       "    </tr>\n",
       "  </tbody>\n",
       "</table>\n",
       "</div>"
      ],
      "text/plain": [
       "    patient chrom    start     stop        mirna_id         rpm    entrez_id  \\\n",
       "0  SL_00000  chr1    17368    17436  hsa-mir-6859-1     0.00000  102466751.0   \n",
       "1  SL_00000  chr1    30365    30503  hsa-mir-1302-2     0.00000  100302278.0   \n",
       "2  SL_00000  chr1   187890   187958  hsa-mir-6859-2     0.00000  102465909.0   \n",
       "3  SL_00000  chr1   632324   632413    hsa-mir-6723     0.00000  102465432.0   \n",
       "4  SL_00000  chr1  1167103  1167198    hsa-mir-200b  4098.11386     406984.0   \n",
       "\n",
       "  gene_symbol  \n",
       "0   mir6859-1  \n",
       "1   mir1302-2  \n",
       "2   mir6859-2  \n",
       "3     mir6723  \n",
       "4     mir200b  "
      ]
     },
     "execution_count": 257,
     "metadata": {},
     "output_type": "execute_result"
    }
   ],
   "source": [
    "res=pd.read_csv('new_data/senl32_mirna.csv', sep='\\t')\n",
    "res.head()"
   ]
  },
  {
   "cell_type": "code",
   "execution_count": 258,
   "metadata": {},
   "outputs": [],
   "source": [
    "col=['patient', 'chrom', 'start', 'stop', 'mirna_id', 'rpm', 'entrez_id', 'gene_symbol', 'fpkm']"
   ]
  },
  {
   "cell_type": "code",
   "execution_count": 165,
   "metadata": {},
   "outputs": [],
   "source": [
    "res.to_csv(path_or_buf ='new_data/senl_mirna.csv', sep='\\t', header=col, index=False)"
   ]
  },
  {
   "cell_type": "code",
   "execution_count": 259,
   "metadata": {},
   "outputs": [],
   "source": [
    "fpkm=np.empty(res.shape[0], dtype=float)\n",
    "for i in range(res.shape[0]):\n",
    "    rpm=res.iloc[i]['rpm']\n",
    "\n",
    "    start=res.iloc[i]['start']\n",
    "    stop=res.iloc[i]['stop']\n",
    "    fpkm[i]=rpm*100/(2*(stop-start))\n",
    "\n"
   ]
  },
  {
   "cell_type": "code",
   "execution_count": 260,
   "metadata": {},
   "outputs": [
    {
     "data": {
      "text/html": [
       "<div>\n",
       "<style scoped>\n",
       "    .dataframe tbody tr th:only-of-type {\n",
       "        vertical-align: middle;\n",
       "    }\n",
       "\n",
       "    .dataframe tbody tr th {\n",
       "        vertical-align: top;\n",
       "    }\n",
       "\n",
       "    .dataframe thead th {\n",
       "        text-align: right;\n",
       "    }\n",
       "</style>\n",
       "<table border=\"1\" class=\"dataframe\">\n",
       "  <thead>\n",
       "    <tr style=\"text-align: right;\">\n",
       "      <th></th>\n",
       "      <th>patient</th>\n",
       "      <th>chrom</th>\n",
       "      <th>start</th>\n",
       "      <th>stop</th>\n",
       "      <th>mirna_id</th>\n",
       "      <th>rpm</th>\n",
       "      <th>entrez_id</th>\n",
       "      <th>gene_symbol</th>\n",
       "      <th>fpkm</th>\n",
       "    </tr>\n",
       "  </thead>\n",
       "  <tbody>\n",
       "    <tr>\n",
       "      <th>0</th>\n",
       "      <td>SL_00000</td>\n",
       "      <td>chr1</td>\n",
       "      <td>17368</td>\n",
       "      <td>17436</td>\n",
       "      <td>hsa-mir-6859-1</td>\n",
       "      <td>0.00000</td>\n",
       "      <td>102466751.0</td>\n",
       "      <td>mir6859-1</td>\n",
       "      <td>0.000000</td>\n",
       "    </tr>\n",
       "    <tr>\n",
       "      <th>1</th>\n",
       "      <td>SL_00000</td>\n",
       "      <td>chr1</td>\n",
       "      <td>30365</td>\n",
       "      <td>30503</td>\n",
       "      <td>hsa-mir-1302-2</td>\n",
       "      <td>0.00000</td>\n",
       "      <td>100302278.0</td>\n",
       "      <td>mir1302-2</td>\n",
       "      <td>0.000000</td>\n",
       "    </tr>\n",
       "    <tr>\n",
       "      <th>2</th>\n",
       "      <td>SL_00000</td>\n",
       "      <td>chr1</td>\n",
       "      <td>187890</td>\n",
       "      <td>187958</td>\n",
       "      <td>hsa-mir-6859-2</td>\n",
       "      <td>0.00000</td>\n",
       "      <td>102465909.0</td>\n",
       "      <td>mir6859-2</td>\n",
       "      <td>0.000000</td>\n",
       "    </tr>\n",
       "    <tr>\n",
       "      <th>3</th>\n",
       "      <td>SL_00000</td>\n",
       "      <td>chr1</td>\n",
       "      <td>632324</td>\n",
       "      <td>632413</td>\n",
       "      <td>hsa-mir-6723</td>\n",
       "      <td>0.00000</td>\n",
       "      <td>102465432.0</td>\n",
       "      <td>mir6723</td>\n",
       "      <td>0.000000</td>\n",
       "    </tr>\n",
       "    <tr>\n",
       "      <th>4</th>\n",
       "      <td>SL_00000</td>\n",
       "      <td>chr1</td>\n",
       "      <td>1167103</td>\n",
       "      <td>1167198</td>\n",
       "      <td>hsa-mir-200b</td>\n",
       "      <td>4098.11386</td>\n",
       "      <td>406984.0</td>\n",
       "      <td>mir200b</td>\n",
       "      <td>2156.902032</td>\n",
       "    </tr>\n",
       "  </tbody>\n",
       "</table>\n",
       "</div>"
      ],
      "text/plain": [
       "    patient chrom    start     stop        mirna_id         rpm    entrez_id  \\\n",
       "0  SL_00000  chr1    17368    17436  hsa-mir-6859-1     0.00000  102466751.0   \n",
       "1  SL_00000  chr1    30365    30503  hsa-mir-1302-2     0.00000  100302278.0   \n",
       "2  SL_00000  chr1   187890   187958  hsa-mir-6859-2     0.00000  102465909.0   \n",
       "3  SL_00000  chr1   632324   632413    hsa-mir-6723     0.00000  102465432.0   \n",
       "4  SL_00000  chr1  1167103  1167198    hsa-mir-200b  4098.11386     406984.0   \n",
       "\n",
       "  gene_symbol         fpkm  \n",
       "0   mir6859-1     0.000000  \n",
       "1   mir1302-2     0.000000  \n",
       "2   mir6859-2     0.000000  \n",
       "3     mir6723     0.000000  \n",
       "4     mir200b  2156.902032  "
      ]
     },
     "execution_count": 260,
     "metadata": {},
     "output_type": "execute_result"
    }
   ],
   "source": [
    "res['fpkm']=fpkm\n",
    "res.head()"
   ]
  },
  {
   "cell_type": "code",
   "execution_count": 261,
   "metadata": {},
   "outputs": [],
   "source": [
    "res.to_csv(path_or_buf ='new_data/senl32_mirna.csv', sep='\\t', header=col, index=False)"
   ]
  },
  {
   "cell_type": "code",
   "execution_count": 140,
   "metadata": {},
   "outputs": [
    {
     "data": {
      "text/plain": [
       "531.7566921052631"
      ]
     },
     "execution_count": 140,
     "metadata": {},
     "output_type": "execute_result"
    }
   ],
   "source": [
    "rpm=res.iloc[4]['rpm']\n",
    "start=res.iloc[4]['start']\n",
    "stop=res.iloc[4]['stop']\n",
    "rpm*100/(2*(stop-start))"
   ]
  },
  {
   "cell_type": "code",
   "execution_count": null,
   "metadata": {},
   "outputs": [],
   "source": [
    "ciao=pd.read_csv('GMQL_data/sens_miRNA')"
   ]
  },
  {
   "cell_type": "code",
   "execution_count": null,
   "metadata": {},
   "outputs": [],
   "source": [
    "#Create matrices of lenghts of mirna genes\n",
    "miRNANormallength=MNoKirc.to_matrix(index_regs=['mirna_id', 'gene_symbol'], values_regs=['start','stop'])\n",
    "miRNACancerlength=MiRNAKirc.to_matrix(index_regs=['mirna_id', 'gene_symbol'], values_regs=['start','stop'])"
   ]
  },
  {
   "cell_type": "code",
   "execution_count": null,
   "metadata": {},
   "outputs": [],
   "source": [
    "#Normalize the mirna data creating fpkm also per mirna from rpm\n",
    "for i in range (0, 1744):\n",
    "    miRNANormal.get_values()[i]=(miRNANormal.get_values()[i](10*3))/(2*abs(miRNANormallength.get_values()[i,1]-miRNANormallength.get_values()[i,0]))\n",
    "    miRNACancer.get_values()[i]=(miRNACancer.get_values()[i](10*3))/(2*abs(miRNACancerlength.get_values()[i,1]-miRNACancerlength.get_values()[i,0]))"
   ]
  },
  {
   "cell_type": "code",
   "execution_count": null,
   "metadata": {},
   "outputs": [],
   "source": []
  },
  {
   "cell_type": "code",
   "execution_count": 6,
   "metadata": {},
   "outputs": [
    {
     "name": "stdout",
     "output_type": "stream",
     "text": [
      "S_00036.gdm.meta\n",
      "S_00043.gdm.meta\n",
      "S_00050.gdm.meta\n",
      "S_00059.gdm.meta\n"
     ]
    }
   ],
   "source": [
    "path=\"GMQL_data/res_files/\"\n",
    "names=[]\n",
    "barcodes=[]\n",
    "days=[]\n",
    "rec=[]\n",
    "filelist=os.listdir(path)\n",
    "filelist.sort()\n",
    "for file in filelist:\n",
    "\n",
    "    if file.endswith(\".meta\"):\n",
    "        tmp=pd.read_csv(path+file, sep='\\t', header=None, index_col=0)\n",
    "        tmp=tmp.T\n",
    "        if tmp['biospecimen__shared__bcr_patient_barcode'].values[0] in barcodes:\n",
    "            print(file)\n",
    "        else:\n",
    "            names.append(file[:11])\n",
    "            barcodes.append(tmp['biospecimen__shared__bcr_patient_barcode'].values[0])\n",
    "            if 'clinical__nte__days_to_new_tumor_event_after_initial_treatment' not in tmp.columns:\n",
    "                days.append('nan')\n",
    "            else:\n",
    "                days.append(tmp['clinical__nte__days_to_new_tumor_event_after_initial_treatment'].values[0])\n",
    "            if 'clinical__clin_shared__regimen_indication' not in tmp.columns:\n",
    "                rec.append('nan')\n",
    "            else:\n",
    "                rec.append(tmp['clinical__clin_shared__regimen_indication'].values[0])"
   ]
  },
  {
   "cell_type": "code",
   "execution_count": null,
   "metadata": {},
   "outputs": [],
   "source": [
    "#non va bene il metadato, devo usare l'excel"
   ]
  }
 ],
 "metadata": {
  "kernelspec": {
   "display_name": "Python 3",
   "language": "python",
   "name": "python3"
  },
  "language_info": {
   "codemirror_mode": {
    "name": "ipython",
    "version": 3
   },
   "file_extension": ".py",
   "mimetype": "text/x-python",
   "name": "python",
   "nbconvert_exporter": "python",
   "pygments_lexer": "ipython3",
   "version": "3.6.5"
  }
 },
 "nbformat": 4,
 "nbformat_minor": 2
}
